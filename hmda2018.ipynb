{
 "cells": [
  {
   "cell_type": "code",
   "execution_count": 1,
   "metadata": {},
   "outputs": [],
   "source": [
    "import pandas as pd\n",
    "import csv\n",
    "import glob\n",
    "import plotly.graph_objects as go\n",
    "import plotly_express as px"
   ]
  },
  {
   "cell_type": "code",
   "execution_count": 2,
   "metadata": {},
   "outputs": [],
   "source": [
    "### Column headers on the public_lar file data for 2018. Definitions: https://ffiec.cfpb.gov/documentation/2018/lar-data-fields/\n",
    "\n",
    "names = ['activity_year', 'lei', 'derived_msa_md', 'state_code', 'county_code', 'census_tract', 'conforming_loan_limit', 'derived_loan_product_type', 'derived_dwelling_category', 'derived_ethnicity', 'derived_race', 'derived_sex', 'action_taken', 'purchaser_type', 'preapproval', 'loan_type', 'loan_purpose', 'lien_status', 'reverse_mortgage', 'open_end_line_of_credit', 'business_or_commercial_purpose', 'loan_amount', 'loan_to_value_ratio', 'interest_rate', 'rate_spread', 'hoepa_status', 'total_loan_costs', 'total_points_and_fees', 'origination_charges', 'discount_points', 'lender_credits', 'loan_term', 'prepayment_penalty_term', 'intro_rate_period', 'negative_amortization', 'interest_only_payment', 'balloon_payment', 'other_nonamortizing_features', 'property_value', 'construction_method', 'occupancy_type', 'manufactured_home_secured_property_type', 'manufactured_home_land_property_interest', 'total_units', 'multifamily_affordable_units', 'income', 'debt_to_income_ratio', 'applicant_credit_score_type', 'co_applicant_credit_score_type', 'applicant_ethnicity_1', 'applicant_ethnicity_2', 'applicant_ethnicity_3', 'applicant_ethnicity_4', 'applicant_ethnicity_5', 'co_applicant_ethnicity_1', 'co_applicant_ethnicity_2', 'co_applicant_ethnicity_3', 'co_applicant_ethnicity_4', 'co_applicant_ethnicity_5', 'applicant_ethnicity_observed', 'co_applicant_ethnicity_observed', 'applicant_race_1', 'applicant_race_2', 'applicant_race_3', 'applicant_race_4', 'applicant_race_5', 'co_applicant_race_1', 'co_applicant_race_2', 'co_applicant_race_3', 'co_applicant_race_4', 'co_applicant_race_5', 'applicant_race_observed', 'co_applicant_race_observed', 'applicant_sex', 'co_applicant_sex', 'applicant_sex_observed', 'co_applicant_sex_observed', 'applicant_age', 'co_applicant_age', 'applicant_age_above_62', 'co_applicant_age_above_62', 'submission_of_application', 'initially_payable_to_institution', 'aus_1', 'aus_2', 'aus_3', 'aus_4', 'aus_5', 'denial_reason_1', 'denial_reason_2', 'denial_reason_3', 'denial_reason_4', 'tract_population', 'tract_minority_population_percent', 'ffiec_msa_md_median_family_income', 'tract_to_msa_income_percentage', 'tract_owner_occupied_units', 'tract_one_to_four_family_homes', 'tract_median_age_of_housing_units']"
   ]
  },
  {
   "cell_type": "code",
   "execution_count": 3,
   "metadata": {},
   "outputs": [],
   "source": [
    "### Setting variables for what we might want to filter by\n",
    "\n",
    "mo = ['MO']\n",
    "il = ['IL']\n",
    "stl = ['41180']\n",
    "stl_c = [29189]\n",
    "stl_city = [29510]\n",
    "sf = ['Single Family (1-4 Units):Site-Built', 'Single Family (1-4 Units):Manufactured']\n",
    "sf_old = [1]\n",
    "orig = [1]\n",
    "purchase = [1]\n",
    "refi = [31]\n",
    "refi_old = [3]\n",
    "impr = [2]\n",
    "cash_refi = [32]\n",
    "other_purp = [4]\n",
    "black_old = ['Black or African American']\n",
    "black_new = [3]\n",
    "white_old = ['White']\n",
    "white_new = [5]"
   ]
  },
  {
   "cell_type": "code",
   "execution_count": 148,
   "metadata": {},
   "outputs": [],
   "source": [
    "### Assigning bank names to LEIs for 2018 data\n",
    "\n",
    "banks = {'6BYL5QZYBDK8S7L73M02': 'US Bank', 'KB1H1DSPRFMYMCUFXT09': 'Wells Fargo', 'B4TYDEB6GKMZO031MB27': 'BOA', '7H6GLXDRUGQFU57RNE97': 'JP Morgan/Chase', '549300T67186NPGCHI50': 'First Community', '549300FGXN1K3HLB1R50': 'Quicken', '549300AQ3T62GXDU7D76': 'Guild Mortgage Company', '549300ZZME37MXI1EF14': 'DAS Acquisition', '7DMUJTL9FFTVIAG9H788': 'Commerce Bank', '549300LYRWPSYPK6S325': 'Freedom Mortgage Corp.', 'EQTWLK1G7ODGC2MGLV11': 'Regions Bank', '549300E2UX99HKDBR481': 'Broker Solutions, Inc.', '549300NB3SBC1KHAWB92': 'Gershman Investment Corp.', '549300L8JRY60EOROT34': 'FCB Banks', 'CKVBED0S4DMLKJJ5XH28': 'Stifel Bank & Trust', 'RVDPPPGHCGZ40J4VQ731': 'Pennymac Loan Services LLC', '254900HA4DQWAE0W3342': 'AmeriHome Mortgage Company LLC', 'AD6GFRVSDT01YPT1CS68': 'PNC', '549300CP7747DCRW6U68': 'Carrollton Bank', '549300YDBNK66R6ZES34': 'AB Employees CU', '5493003KZFGGEWCRH554': 'Ditech Financial LLC', '549300LXKO1O7CSK5J52': 'Flat Branch Mortgage, Inc.', '549300DX0B304LAKUN93': 'JLB Corp.', '549300DT7WZ1SOTNFJ62': 'First Bank', '549300O7SGM8FH65GQ47': 'Busey Bank', '5493004T9SQFCNRQ2L76': 'Delmar Financial Co.', 'SS1TRMSN6BRNMOREEV51': 'Flagstar Bank', '549300J7XKT2BI5WX213': 'Caliber Home Loans, Inc.', '549300HW662MN1WU8550': 'United Shore Financial Services LLC', '549300C1ICNCM0V37Y02': 'First State Bank of St. Charles, Missouri', '549300AG64NHILB7ZP05': 'Loan Depot LLC', '254900Q716E7IUMXGB91': 'The Home Loan Expert LLC', '549300DD5QQUHO6PCH70': 'Mortgage Research Center LLC', '549300VSL5DFXBM1II56': 'F&B Acquisition Group LLC', '549300LBCBNR1OT00651': 'Nationstar Mortgage LLC', '549300SP2BPE296CC590': 'The Bank of Edwardsville', '549300BRJZYHYKT4BJ84': 'Home Point Financial Corp.'}"
   ]
  },
  {
   "cell_type": "code",
   "execution_count": 4,
   "metadata": {},
   "outputs": [],
   "source": [
    "mo_07 = pd.read_csv('./data/public_lar/mo/hmda_2007_mo_all-records_labels.csv', low_memory=False)\n",
    "mo_08 = pd.read_csv('./data/public_lar/mo/hmda_2008_mo_all-records_labels.csv', low_memory=False)\n",
    "mo_09 = pd.read_csv('./data/public_lar/mo/hmda_2009_mo_all-records_labels.csv', low_memory=False)\n",
    "mo_10 = pd.read_csv('./data/public_lar/mo/hmda_2010_mo_all-records_labels.csv', low_memory=False)\n",
    "mo_11 = pd.read_csv('./data/public_lar/mo/hmda_2011_mo_all-records_labels.csv', low_memory=False)\n",
    "mo_12 = pd.read_csv('./data/public_lar/mo/hmda_2012_mo_all-records_labels.csv', low_memory=False)\n",
    "mo_13 = pd.read_csv('./data/public_lar/mo/hmda_2013_mo_all-records_labels.csv', low_memory=False)\n",
    "mo_14 = pd.read_csv('./data/public_lar/mo/hmda_2014_mo_all-records_labels.csv', low_memory=False)\n",
    "mo_15 = pd.read_csv('./data/public_lar/mo/hmda_2015_mo_all-records_labels.csv', low_memory=False)\n",
    "mo_16 = pd.read_csv('./data/public_lar/mo/hmda_2016_mo_all-records_labels.csv', low_memory=False)\n",
    "mo_17 = pd.read_csv('./data/public_lar/mo/hmda_2017_mo_all-records_labels.csv', low_memory=False)\n",
    "mo_18 = pd.read_csv('./data/public_lar/mo/missouri.csv', low_memory=False)"
   ]
  },
  {
   "cell_type": "code",
   "execution_count": 152,
   "metadata": {},
   "outputs": [],
   "source": [
    "mo_18['bank_name'] = mo_18['lei'].map(banks)"
   ]
  },
  {
   "cell_type": "code",
   "execution_count": 5,
   "metadata": {},
   "outputs": [],
   "source": [
    "il_07 = pd.read_csv('./data/public_lar/il/hmda_2007_il_all-records_labels.csv', low_memory=False)\n",
    "il_08 = pd.read_csv('./data/public_lar/il/hmda_2008_il_all-records_labels.csv', low_memory=False)\n",
    "il_09 = pd.read_csv('./data/public_lar/il/hmda_2009_il_all-records_labels.csv', low_memory=False)\n",
    "il_10 = pd.read_csv('./data/public_lar/il/hmda_2010_il_all-records_labels.csv', low_memory=False)\n",
    "il_11 = pd.read_csv('./data/public_lar/il/hmda_2011_il_all-records_labels.csv', low_memory=False)\n",
    "il_12 = pd.read_csv('./data/public_lar/il/hmda_2012_il_all-records_labels.csv', low_memory=False)\n",
    "il_13 = pd.read_csv('./data/public_lar/il/hmda_2013_il_all-records_labels.csv', low_memory=False)\n",
    "il_14 = pd.read_csv('./data/public_lar/il/hmda_2014_il_all-records_labels.csv', low_memory=False)\n",
    "il_15 = pd.read_csv('./data/public_lar/il/hmda_2015_il_all-records_labels.csv', low_memory=False)\n",
    "il_16 = pd.read_csv('./data/public_lar/il/hmda_2016_il_all-records_labels.csv', low_memory=False)\n",
    "il_17 = pd.read_csv('./data/public_lar/il/hmda_2017_il_all-records_labels.csv', low_memory=False)\n",
    "il_18 = pd.read_csv('./data/public_lar/il/illinois.csv', low_memory=False)"
   ]
  },
  {
   "cell_type": "code",
   "execution_count": 153,
   "metadata": {},
   "outputs": [],
   "source": [
    "il_18['bank_name'] = il_18['lei'].map(banks)"
   ]
  },
  {
   "cell_type": "code",
   "execution_count": 154,
   "metadata": {},
   "outputs": [],
   "source": [
    "orig07 = mo_07.loc[mo_07.action_taken == 1, 'action_taken'].count()\n",
    "orig08 = mo_08.loc[mo_08.action_taken == 1, 'action_taken'].count()\n",
    "orig09 = mo_09.loc[mo_09.action_taken == 1, 'action_taken'].count()\n",
    "orig10 = mo_10.loc[mo_10.action_taken == 1, 'action_taken'].count()\n",
    "orig11 = mo_11.loc[mo_11.action_taken == 1, 'action_taken'].count()\n",
    "orig12 = mo_12.loc[mo_12.action_taken == 1, 'action_taken'].count()\n",
    "orig13 = mo_13.loc[mo_13.action_taken == 1, 'action_taken'].count()\n",
    "orig14 = mo_14.loc[mo_14.action_taken == 1, 'action_taken'].count()\n",
    "orig15 = mo_15.loc[mo_15.action_taken == 1, 'action_taken'].count()\n",
    "orig16 = mo_16.loc[mo_16.action_taken == 1, 'action_taken'].count()\n",
    "orig17 = mo_17.loc[mo_17.action_taken == 1, 'action_taken'].count()\n",
    "orig18 = mo_18.loc[mo_18.action_taken == 1, 'action_taken'].count()"
   ]
  },
  {
   "cell_type": "code",
   "execution_count": 155,
   "metadata": {},
   "outputs": [],
   "source": [
    "orig_il07 = il_07.loc[il_07.action_taken == 1, 'action_taken'].count()\n",
    "orig_il08 = il_08.loc[il_08.action_taken == 1, 'action_taken'].count()\n",
    "orig_il09 = il_09.loc[il_09.action_taken == 1, 'action_taken'].count()\n",
    "orig_il10 = il_10.loc[il_10.action_taken == 1, 'action_taken'].count()\n",
    "orig_il11 = il_11.loc[il_11.action_taken == 1, 'action_taken'].count()\n",
    "orig_il12 = il_12.loc[il_12.action_taken == 1, 'action_taken'].count()\n",
    "orig_il13 = il_13.loc[il_13.action_taken == 1, 'action_taken'].count()\n",
    "orig_il14 = il_14.loc[il_14.action_taken == 1, 'action_taken'].count()\n",
    "orig_il15 = il_15.loc[il_15.action_taken == 1, 'action_taken'].count()\n",
    "orig_il16 = il_16.loc[il_16.action_taken == 1, 'action_taken'].count()\n",
    "orig_il17 = il_17.loc[il_17.action_taken == 1, 'action_taken'].count()\n",
    "orig_il18 = il_18.loc[il_18.action_taken == 1, 'action_taken'].count()"
   ]
  },
  {
   "cell_type": "code",
   "execution_count": 156,
   "metadata": {},
   "outputs": [],
   "source": [
    "### This is a basic count of records in each year file\n",
    "\n",
    "m07 = mo_07['as_of_year'].count()\n",
    "m08 = mo_08['as_of_year'].count()\n",
    "m09 = mo_09['as_of_year'].count()\n",
    "m10 = mo_10['as_of_year'].count()\n",
    "m11 = mo_11['as_of_year'].count()\n",
    "m12 = mo_12['as_of_year'].count()\n",
    "m13 = mo_13['as_of_year'].count()\n",
    "m14 = mo_14['as_of_year'].count()\n",
    "m15 = mo_15['as_of_year'].count()\n",
    "m16 = mo_16['as_of_year'].count()\n",
    "m17 = mo_17['as_of_year'].count()\n",
    "m18 = mo_18['activity_year'].count()"
   ]
  },
  {
   "cell_type": "code",
   "execution_count": 157,
   "metadata": {},
   "outputs": [],
   "source": [
    "### This is a basic count of records in each year file\n",
    "\n",
    "i07 = il_07['as_of_year'].count()\n",
    "i08 = il_08['as_of_year'].count()\n",
    "i09 = il_09['as_of_year'].count()\n",
    "i10 = il_10['as_of_year'].count()\n",
    "i11 = il_11['as_of_year'].count()\n",
    "i12 = il_12['as_of_year'].count()\n",
    "i13 = il_13['as_of_year'].count()\n",
    "i14 = il_14['as_of_year'].count()\n",
    "i15 = il_15['as_of_year'].count()\n",
    "i16 = il_16['as_of_year'].count()\n",
    "i17 = il_17['as_of_year'].count()\n",
    "i18 = il_18['activity_year'].count()"
   ]
  },
  {
   "cell_type": "code",
   "execution_count": 158,
   "metadata": {},
   "outputs": [],
   "source": [
    "count_headers = ['2007', '2008', '2009', '2010', '2011', '2012', '2013', '2014', '2015', '2016', '2017', '2018']\n",
    "mo_orig_counts = [orig07, orig08, orig09, orig10, orig11, orig12, orig13, orig14, orig15, orig16, orig17, orig18]\n",
    "il_orig_counts = [orig_il07, orig_il08, orig_il09, orig_il10, orig_il11, orig_il12, orig_il13, orig_il14, orig_il15, orig_il16, orig_il17, orig_il18]\n",
    "mo_orig_counts_df = pd.DataFrame([mo_orig_counts], columns=count_headers)\n",
    "il_orig_counts_df = pd.DataFrame([il_orig_counts], columns=count_headers)\n",
    "mo_orig_counts_df['state'] = 'missouri'\n",
    "il_orig_counts_df['state'] = 'illinois'"
   ]
  },
  {
   "cell_type": "code",
   "execution_count": 159,
   "metadata": {},
   "outputs": [],
   "source": [
    "final_orig_counts_df = pd.concat([mo_orig_counts_df, il_orig_counts_df])"
   ]
  },
  {
   "cell_type": "code",
   "execution_count": 160,
   "metadata": {},
   "outputs": [],
   "source": [
    "final_orig_counts = final_orig_counts_df.transpose()"
   ]
  },
  {
   "cell_type": "code",
   "execution_count": 161,
   "metadata": {},
   "outputs": [],
   "source": [
    "final_orig_counts = final_orig_counts.reset_index()"
   ]
  },
  {
   "cell_type": "code",
   "execution_count": 162,
   "metadata": {},
   "outputs": [],
   "source": [
    "final_orig_counts.columns = ['year', 'missouri', 'illinois']"
   ]
  },
  {
   "cell_type": "code",
   "execution_count": 163,
   "metadata": {},
   "outputs": [],
   "source": [
    "fig_orig_mo = px.line(final_orig_counts, x='year', y='missouri')"
   ]
  },
  {
   "cell_type": "code",
   "execution_count": 164,
   "metadata": {},
   "outputs": [
    {
     "data": {
      "application/vnd.plotly.v1+json": {
       "config": {
        "plotlyServerURL": "https://plot.ly"
       },
       "data": [
        {
         "hoverlabel": {
          "namelength": 0
         },
         "hovertemplate": "year=%{x}<br>missouri=%{y}",
         "legendgroup": "",
         "line": {
          "color": "#636efa",
          "dash": "solid"
         },
         "mode": "lines",
         "name": "",
         "showlegend": false,
         "type": "scatter",
         "x": [
          "2007",
          "2008",
          "2009",
          "2010",
          "2011",
          "2012",
          "2013",
          "2014",
          "2015",
          "2016",
          "2017",
          "2018",
          "state"
         ],
         "xaxis": "x",
         "y": [
          218490,
          169405,
          211924,
          182546,
          154134,
          204935,
          178486,
          120463,
          147519,
          165943,
          145419,
          147927,
          "missouri"
         ],
         "yaxis": "y"
        }
       ],
       "layout": {
        "height": 600,
        "legend": {
         "tracegroupgap": 0
        },
        "margin": {
         "t": 60
        },
        "template": {
         "data": {
          "bar": [
           {
            "error_x": {
             "color": "#2a3f5f"
            },
            "error_y": {
             "color": "#2a3f5f"
            },
            "marker": {
             "line": {
              "color": "#E5ECF6",
              "width": 0.5
             }
            },
            "type": "bar"
           }
          ],
          "barpolar": [
           {
            "marker": {
             "line": {
              "color": "#E5ECF6",
              "width": 0.5
             }
            },
            "type": "barpolar"
           }
          ],
          "carpet": [
           {
            "aaxis": {
             "endlinecolor": "#2a3f5f",
             "gridcolor": "white",
             "linecolor": "white",
             "minorgridcolor": "white",
             "startlinecolor": "#2a3f5f"
            },
            "baxis": {
             "endlinecolor": "#2a3f5f",
             "gridcolor": "white",
             "linecolor": "white",
             "minorgridcolor": "white",
             "startlinecolor": "#2a3f5f"
            },
            "type": "carpet"
           }
          ],
          "choropleth": [
           {
            "colorbar": {
             "outlinewidth": 0,
             "ticks": ""
            },
            "type": "choropleth"
           }
          ],
          "contour": [
           {
            "colorbar": {
             "outlinewidth": 0,
             "ticks": ""
            },
            "colorscale": [
             [
              0,
              "#0d0887"
             ],
             [
              0.1111111111111111,
              "#46039f"
             ],
             [
              0.2222222222222222,
              "#7201a8"
             ],
             [
              0.3333333333333333,
              "#9c179e"
             ],
             [
              0.4444444444444444,
              "#bd3786"
             ],
             [
              0.5555555555555556,
              "#d8576b"
             ],
             [
              0.6666666666666666,
              "#ed7953"
             ],
             [
              0.7777777777777778,
              "#fb9f3a"
             ],
             [
              0.8888888888888888,
              "#fdca26"
             ],
             [
              1,
              "#f0f921"
             ]
            ],
            "type": "contour"
           }
          ],
          "contourcarpet": [
           {
            "colorbar": {
             "outlinewidth": 0,
             "ticks": ""
            },
            "type": "contourcarpet"
           }
          ],
          "heatmap": [
           {
            "colorbar": {
             "outlinewidth": 0,
             "ticks": ""
            },
            "colorscale": [
             [
              0,
              "#0d0887"
             ],
             [
              0.1111111111111111,
              "#46039f"
             ],
             [
              0.2222222222222222,
              "#7201a8"
             ],
             [
              0.3333333333333333,
              "#9c179e"
             ],
             [
              0.4444444444444444,
              "#bd3786"
             ],
             [
              0.5555555555555556,
              "#d8576b"
             ],
             [
              0.6666666666666666,
              "#ed7953"
             ],
             [
              0.7777777777777778,
              "#fb9f3a"
             ],
             [
              0.8888888888888888,
              "#fdca26"
             ],
             [
              1,
              "#f0f921"
             ]
            ],
            "type": "heatmap"
           }
          ],
          "heatmapgl": [
           {
            "colorbar": {
             "outlinewidth": 0,
             "ticks": ""
            },
            "colorscale": [
             [
              0,
              "#0d0887"
             ],
             [
              0.1111111111111111,
              "#46039f"
             ],
             [
              0.2222222222222222,
              "#7201a8"
             ],
             [
              0.3333333333333333,
              "#9c179e"
             ],
             [
              0.4444444444444444,
              "#bd3786"
             ],
             [
              0.5555555555555556,
              "#d8576b"
             ],
             [
              0.6666666666666666,
              "#ed7953"
             ],
             [
              0.7777777777777778,
              "#fb9f3a"
             ],
             [
              0.8888888888888888,
              "#fdca26"
             ],
             [
              1,
              "#f0f921"
             ]
            ],
            "type": "heatmapgl"
           }
          ],
          "histogram": [
           {
            "marker": {
             "colorbar": {
              "outlinewidth": 0,
              "ticks": ""
             }
            },
            "type": "histogram"
           }
          ],
          "histogram2d": [
           {
            "colorbar": {
             "outlinewidth": 0,
             "ticks": ""
            },
            "colorscale": [
             [
              0,
              "#0d0887"
             ],
             [
              0.1111111111111111,
              "#46039f"
             ],
             [
              0.2222222222222222,
              "#7201a8"
             ],
             [
              0.3333333333333333,
              "#9c179e"
             ],
             [
              0.4444444444444444,
              "#bd3786"
             ],
             [
              0.5555555555555556,
              "#d8576b"
             ],
             [
              0.6666666666666666,
              "#ed7953"
             ],
             [
              0.7777777777777778,
              "#fb9f3a"
             ],
             [
              0.8888888888888888,
              "#fdca26"
             ],
             [
              1,
              "#f0f921"
             ]
            ],
            "type": "histogram2d"
           }
          ],
          "histogram2dcontour": [
           {
            "colorbar": {
             "outlinewidth": 0,
             "ticks": ""
            },
            "colorscale": [
             [
              0,
              "#0d0887"
             ],
             [
              0.1111111111111111,
              "#46039f"
             ],
             [
              0.2222222222222222,
              "#7201a8"
             ],
             [
              0.3333333333333333,
              "#9c179e"
             ],
             [
              0.4444444444444444,
              "#bd3786"
             ],
             [
              0.5555555555555556,
              "#d8576b"
             ],
             [
              0.6666666666666666,
              "#ed7953"
             ],
             [
              0.7777777777777778,
              "#fb9f3a"
             ],
             [
              0.8888888888888888,
              "#fdca26"
             ],
             [
              1,
              "#f0f921"
             ]
            ],
            "type": "histogram2dcontour"
           }
          ],
          "mesh3d": [
           {
            "colorbar": {
             "outlinewidth": 0,
             "ticks": ""
            },
            "type": "mesh3d"
           }
          ],
          "parcoords": [
           {
            "line": {
             "colorbar": {
              "outlinewidth": 0,
              "ticks": ""
             }
            },
            "type": "parcoords"
           }
          ],
          "scatter": [
           {
            "marker": {
             "colorbar": {
              "outlinewidth": 0,
              "ticks": ""
             }
            },
            "type": "scatter"
           }
          ],
          "scatter3d": [
           {
            "line": {
             "colorbar": {
              "outlinewidth": 0,
              "ticks": ""
             }
            },
            "marker": {
             "colorbar": {
              "outlinewidth": 0,
              "ticks": ""
             }
            },
            "type": "scatter3d"
           }
          ],
          "scattercarpet": [
           {
            "marker": {
             "colorbar": {
              "outlinewidth": 0,
              "ticks": ""
             }
            },
            "type": "scattercarpet"
           }
          ],
          "scattergeo": [
           {
            "marker": {
             "colorbar": {
              "outlinewidth": 0,
              "ticks": ""
             }
            },
            "type": "scattergeo"
           }
          ],
          "scattergl": [
           {
            "marker": {
             "colorbar": {
              "outlinewidth": 0,
              "ticks": ""
             }
            },
            "type": "scattergl"
           }
          ],
          "scattermapbox": [
           {
            "marker": {
             "colorbar": {
              "outlinewidth": 0,
              "ticks": ""
             }
            },
            "type": "scattermapbox"
           }
          ],
          "scatterpolar": [
           {
            "marker": {
             "colorbar": {
              "outlinewidth": 0,
              "ticks": ""
             }
            },
            "type": "scatterpolar"
           }
          ],
          "scatterpolargl": [
           {
            "marker": {
             "colorbar": {
              "outlinewidth": 0,
              "ticks": ""
             }
            },
            "type": "scatterpolargl"
           }
          ],
          "scatterternary": [
           {
            "marker": {
             "colorbar": {
              "outlinewidth": 0,
              "ticks": ""
             }
            },
            "type": "scatterternary"
           }
          ],
          "surface": [
           {
            "colorbar": {
             "outlinewidth": 0,
             "ticks": ""
            },
            "colorscale": [
             [
              0,
              "#0d0887"
             ],
             [
              0.1111111111111111,
              "#46039f"
             ],
             [
              0.2222222222222222,
              "#7201a8"
             ],
             [
              0.3333333333333333,
              "#9c179e"
             ],
             [
              0.4444444444444444,
              "#bd3786"
             ],
             [
              0.5555555555555556,
              "#d8576b"
             ],
             [
              0.6666666666666666,
              "#ed7953"
             ],
             [
              0.7777777777777778,
              "#fb9f3a"
             ],
             [
              0.8888888888888888,
              "#fdca26"
             ],
             [
              1,
              "#f0f921"
             ]
            ],
            "type": "surface"
           }
          ],
          "table": [
           {
            "cells": {
             "fill": {
              "color": "#EBF0F8"
             },
             "line": {
              "color": "white"
             }
            },
            "header": {
             "fill": {
              "color": "#C8D4E3"
             },
             "line": {
              "color": "white"
             }
            },
            "type": "table"
           }
          ]
         },
         "layout": {
          "annotationdefaults": {
           "arrowcolor": "#2a3f5f",
           "arrowhead": 0,
           "arrowwidth": 1
          },
          "colorscale": {
           "diverging": [
            [
             0,
             "#8e0152"
            ],
            [
             0.1,
             "#c51b7d"
            ],
            [
             0.2,
             "#de77ae"
            ],
            [
             0.3,
             "#f1b6da"
            ],
            [
             0.4,
             "#fde0ef"
            ],
            [
             0.5,
             "#f7f7f7"
            ],
            [
             0.6,
             "#e6f5d0"
            ],
            [
             0.7,
             "#b8e186"
            ],
            [
             0.8,
             "#7fbc41"
            ],
            [
             0.9,
             "#4d9221"
            ],
            [
             1,
             "#276419"
            ]
           ],
           "sequential": [
            [
             0,
             "#0d0887"
            ],
            [
             0.1111111111111111,
             "#46039f"
            ],
            [
             0.2222222222222222,
             "#7201a8"
            ],
            [
             0.3333333333333333,
             "#9c179e"
            ],
            [
             0.4444444444444444,
             "#bd3786"
            ],
            [
             0.5555555555555556,
             "#d8576b"
            ],
            [
             0.6666666666666666,
             "#ed7953"
            ],
            [
             0.7777777777777778,
             "#fb9f3a"
            ],
            [
             0.8888888888888888,
             "#fdca26"
            ],
            [
             1,
             "#f0f921"
            ]
           ],
           "sequentialminus": [
            [
             0,
             "#0d0887"
            ],
            [
             0.1111111111111111,
             "#46039f"
            ],
            [
             0.2222222222222222,
             "#7201a8"
            ],
            [
             0.3333333333333333,
             "#9c179e"
            ],
            [
             0.4444444444444444,
             "#bd3786"
            ],
            [
             0.5555555555555556,
             "#d8576b"
            ],
            [
             0.6666666666666666,
             "#ed7953"
            ],
            [
             0.7777777777777778,
             "#fb9f3a"
            ],
            [
             0.8888888888888888,
             "#fdca26"
            ],
            [
             1,
             "#f0f921"
            ]
           ]
          },
          "colorway": [
           "#636efa",
           "#EF553B",
           "#00cc96",
           "#ab63fa",
           "#FFA15A",
           "#19d3f3",
           "#FF6692",
           "#B6E880",
           "#FF97FF",
           "#FECB52"
          ],
          "font": {
           "color": "#2a3f5f"
          },
          "geo": {
           "bgcolor": "white",
           "lakecolor": "white",
           "landcolor": "#E5ECF6",
           "showlakes": true,
           "showland": true,
           "subunitcolor": "white"
          },
          "hoverlabel": {
           "align": "left"
          },
          "hovermode": "closest",
          "mapbox": {
           "style": "light"
          },
          "paper_bgcolor": "white",
          "plot_bgcolor": "#E5ECF6",
          "polar": {
           "angularaxis": {
            "gridcolor": "white",
            "linecolor": "white",
            "ticks": ""
           },
           "bgcolor": "#E5ECF6",
           "radialaxis": {
            "gridcolor": "white",
            "linecolor": "white",
            "ticks": ""
           }
          },
          "scene": {
           "xaxis": {
            "backgroundcolor": "#E5ECF6",
            "gridcolor": "white",
            "gridwidth": 2,
            "linecolor": "white",
            "showbackground": true,
            "ticks": "",
            "zerolinecolor": "white"
           },
           "yaxis": {
            "backgroundcolor": "#E5ECF6",
            "gridcolor": "white",
            "gridwidth": 2,
            "linecolor": "white",
            "showbackground": true,
            "ticks": "",
            "zerolinecolor": "white"
           },
           "zaxis": {
            "backgroundcolor": "#E5ECF6",
            "gridcolor": "white",
            "gridwidth": 2,
            "linecolor": "white",
            "showbackground": true,
            "ticks": "",
            "zerolinecolor": "white"
           }
          },
          "shapedefaults": {
           "line": {
            "color": "#2a3f5f"
           }
          },
          "ternary": {
           "aaxis": {
            "gridcolor": "white",
            "linecolor": "white",
            "ticks": ""
           },
           "baxis": {
            "gridcolor": "white",
            "linecolor": "white",
            "ticks": ""
           },
           "bgcolor": "#E5ECF6",
           "caxis": {
            "gridcolor": "white",
            "linecolor": "white",
            "ticks": ""
           }
          },
          "title": {
           "x": 0.05
          },
          "xaxis": {
           "automargin": true,
           "gridcolor": "white",
           "linecolor": "white",
           "ticks": "",
           "zerolinecolor": "white",
           "zerolinewidth": 2
          },
          "yaxis": {
           "automargin": true,
           "gridcolor": "white",
           "linecolor": "white",
           "ticks": "",
           "zerolinecolor": "white",
           "zerolinewidth": 2
          }
         }
        },
        "xaxis": {
         "anchor": "y",
         "domain": [
          0,
          0.98
         ],
         "title": {
          "text": "year"
         }
        },
        "yaxis": {
         "anchor": "x",
         "domain": [
          0,
          1
         ],
         "rangemode": "tozero",
         "title": {
          "text": "missouri"
         }
        }
       }
      },
      "text/html": [
       "<div>\n",
       "        \n",
       "        \n",
       "            <div id=\"c0b208fb-d988-4ba4-8d8b-ca4ec8bb7c14\" class=\"plotly-graph-div\" style=\"height:600px; width:100%;\"></div>\n",
       "            <script type=\"text/javascript\">\n",
       "                require([\"plotly\"], function(Plotly) {\n",
       "                    window.PLOTLYENV=window.PLOTLYENV || {};\n",
       "                    \n",
       "                if (document.getElementById(\"c0b208fb-d988-4ba4-8d8b-ca4ec8bb7c14\")) {\n",
       "                    Plotly.newPlot(\n",
       "                        'c0b208fb-d988-4ba4-8d8b-ca4ec8bb7c14',\n",
       "                        [{\"hoverlabel\": {\"namelength\": 0}, \"hovertemplate\": \"year=%{x}<br>missouri=%{y}\", \"legendgroup\": \"\", \"line\": {\"color\": \"#636efa\", \"dash\": \"solid\"}, \"mode\": \"lines\", \"name\": \"\", \"showlegend\": false, \"type\": \"scatter\", \"x\": [\"2007\", \"2008\", \"2009\", \"2010\", \"2011\", \"2012\", \"2013\", \"2014\", \"2015\", \"2016\", \"2017\", \"2018\", \"state\"], \"xaxis\": \"x\", \"y\": [218490, 169405, 211924, 182546, 154134, 204935, 178486, 120463, 147519, 165943, 145419, 147927, \"missouri\"], \"yaxis\": \"y\"}],\n",
       "                        {\"height\": 600, \"legend\": {\"tracegroupgap\": 0}, \"margin\": {\"t\": 60}, \"template\": {\"data\": {\"bar\": [{\"error_x\": {\"color\": \"#2a3f5f\"}, \"error_y\": {\"color\": \"#2a3f5f\"}, \"marker\": {\"line\": {\"color\": \"#E5ECF6\", \"width\": 0.5}}, \"type\": \"bar\"}], \"barpolar\": [{\"marker\": {\"line\": {\"color\": \"#E5ECF6\", \"width\": 0.5}}, \"type\": \"barpolar\"}], \"carpet\": [{\"aaxis\": {\"endlinecolor\": \"#2a3f5f\", \"gridcolor\": \"white\", \"linecolor\": \"white\", \"minorgridcolor\": \"white\", \"startlinecolor\": \"#2a3f5f\"}, \"baxis\": {\"endlinecolor\": \"#2a3f5f\", \"gridcolor\": \"white\", \"linecolor\": \"white\", \"minorgridcolor\": \"white\", \"startlinecolor\": \"#2a3f5f\"}, \"type\": \"carpet\"}], \"choropleth\": [{\"colorbar\": {\"outlinewidth\": 0, \"ticks\": \"\"}, \"type\": \"choropleth\"}], \"contour\": [{\"colorbar\": {\"outlinewidth\": 0, \"ticks\": \"\"}, \"colorscale\": [[0.0, \"#0d0887\"], [0.1111111111111111, \"#46039f\"], [0.2222222222222222, \"#7201a8\"], [0.3333333333333333, \"#9c179e\"], [0.4444444444444444, \"#bd3786\"], [0.5555555555555556, \"#d8576b\"], [0.6666666666666666, \"#ed7953\"], [0.7777777777777778, \"#fb9f3a\"], [0.8888888888888888, \"#fdca26\"], [1.0, \"#f0f921\"]], \"type\": \"contour\"}], \"contourcarpet\": [{\"colorbar\": {\"outlinewidth\": 0, \"ticks\": \"\"}, \"type\": \"contourcarpet\"}], \"heatmap\": [{\"colorbar\": {\"outlinewidth\": 0, \"ticks\": \"\"}, \"colorscale\": [[0.0, \"#0d0887\"], [0.1111111111111111, \"#46039f\"], [0.2222222222222222, \"#7201a8\"], [0.3333333333333333, \"#9c179e\"], [0.4444444444444444, \"#bd3786\"], [0.5555555555555556, \"#d8576b\"], [0.6666666666666666, \"#ed7953\"], [0.7777777777777778, \"#fb9f3a\"], [0.8888888888888888, \"#fdca26\"], [1.0, \"#f0f921\"]], \"type\": \"heatmap\"}], \"heatmapgl\": [{\"colorbar\": {\"outlinewidth\": 0, \"ticks\": \"\"}, \"colorscale\": [[0.0, \"#0d0887\"], [0.1111111111111111, \"#46039f\"], [0.2222222222222222, \"#7201a8\"], [0.3333333333333333, \"#9c179e\"], [0.4444444444444444, \"#bd3786\"], [0.5555555555555556, \"#d8576b\"], [0.6666666666666666, \"#ed7953\"], [0.7777777777777778, \"#fb9f3a\"], [0.8888888888888888, \"#fdca26\"], [1.0, \"#f0f921\"]], \"type\": \"heatmapgl\"}], \"histogram\": [{\"marker\": {\"colorbar\": {\"outlinewidth\": 0, \"ticks\": \"\"}}, \"type\": \"histogram\"}], \"histogram2d\": [{\"colorbar\": {\"outlinewidth\": 0, \"ticks\": \"\"}, \"colorscale\": [[0.0, \"#0d0887\"], [0.1111111111111111, \"#46039f\"], [0.2222222222222222, \"#7201a8\"], [0.3333333333333333, \"#9c179e\"], [0.4444444444444444, \"#bd3786\"], [0.5555555555555556, \"#d8576b\"], [0.6666666666666666, \"#ed7953\"], [0.7777777777777778, \"#fb9f3a\"], [0.8888888888888888, \"#fdca26\"], [1.0, \"#f0f921\"]], \"type\": \"histogram2d\"}], \"histogram2dcontour\": [{\"colorbar\": {\"outlinewidth\": 0, \"ticks\": \"\"}, \"colorscale\": [[0.0, \"#0d0887\"], [0.1111111111111111, \"#46039f\"], [0.2222222222222222, \"#7201a8\"], [0.3333333333333333, \"#9c179e\"], [0.4444444444444444, \"#bd3786\"], [0.5555555555555556, \"#d8576b\"], [0.6666666666666666, \"#ed7953\"], [0.7777777777777778, \"#fb9f3a\"], [0.8888888888888888, \"#fdca26\"], [1.0, \"#f0f921\"]], \"type\": \"histogram2dcontour\"}], \"mesh3d\": [{\"colorbar\": {\"outlinewidth\": 0, \"ticks\": \"\"}, \"type\": \"mesh3d\"}], \"parcoords\": [{\"line\": {\"colorbar\": {\"outlinewidth\": 0, \"ticks\": \"\"}}, \"type\": \"parcoords\"}], \"scatter\": [{\"marker\": {\"colorbar\": {\"outlinewidth\": 0, \"ticks\": \"\"}}, \"type\": \"scatter\"}], \"scatter3d\": [{\"line\": {\"colorbar\": {\"outlinewidth\": 0, \"ticks\": \"\"}}, \"marker\": {\"colorbar\": {\"outlinewidth\": 0, \"ticks\": \"\"}}, \"type\": \"scatter3d\"}], \"scattercarpet\": [{\"marker\": {\"colorbar\": {\"outlinewidth\": 0, \"ticks\": \"\"}}, \"type\": \"scattercarpet\"}], \"scattergeo\": [{\"marker\": {\"colorbar\": {\"outlinewidth\": 0, \"ticks\": \"\"}}, \"type\": \"scattergeo\"}], \"scattergl\": [{\"marker\": {\"colorbar\": {\"outlinewidth\": 0, \"ticks\": \"\"}}, \"type\": \"scattergl\"}], \"scattermapbox\": [{\"marker\": {\"colorbar\": {\"outlinewidth\": 0, \"ticks\": \"\"}}, \"type\": \"scattermapbox\"}], \"scatterpolar\": [{\"marker\": {\"colorbar\": {\"outlinewidth\": 0, \"ticks\": \"\"}}, \"type\": \"scatterpolar\"}], \"scatterpolargl\": [{\"marker\": {\"colorbar\": {\"outlinewidth\": 0, \"ticks\": \"\"}}, \"type\": \"scatterpolargl\"}], \"scatterternary\": [{\"marker\": {\"colorbar\": {\"outlinewidth\": 0, \"ticks\": \"\"}}, \"type\": \"scatterternary\"}], \"surface\": [{\"colorbar\": {\"outlinewidth\": 0, \"ticks\": \"\"}, \"colorscale\": [[0.0, \"#0d0887\"], [0.1111111111111111, \"#46039f\"], [0.2222222222222222, \"#7201a8\"], [0.3333333333333333, \"#9c179e\"], [0.4444444444444444, \"#bd3786\"], [0.5555555555555556, \"#d8576b\"], [0.6666666666666666, \"#ed7953\"], [0.7777777777777778, \"#fb9f3a\"], [0.8888888888888888, \"#fdca26\"], [1.0, \"#f0f921\"]], \"type\": \"surface\"}], \"table\": [{\"cells\": {\"fill\": {\"color\": \"#EBF0F8\"}, \"line\": {\"color\": \"white\"}}, \"header\": {\"fill\": {\"color\": \"#C8D4E3\"}, \"line\": {\"color\": \"white\"}}, \"type\": \"table\"}]}, \"layout\": {\"annotationdefaults\": {\"arrowcolor\": \"#2a3f5f\", \"arrowhead\": 0, \"arrowwidth\": 1}, \"colorscale\": {\"diverging\": [[0, \"#8e0152\"], [0.1, \"#c51b7d\"], [0.2, \"#de77ae\"], [0.3, \"#f1b6da\"], [0.4, \"#fde0ef\"], [0.5, \"#f7f7f7\"], [0.6, \"#e6f5d0\"], [0.7, \"#b8e186\"], [0.8, \"#7fbc41\"], [0.9, \"#4d9221\"], [1, \"#276419\"]], \"sequential\": [[0.0, \"#0d0887\"], [0.1111111111111111, \"#46039f\"], [0.2222222222222222, \"#7201a8\"], [0.3333333333333333, \"#9c179e\"], [0.4444444444444444, \"#bd3786\"], [0.5555555555555556, \"#d8576b\"], [0.6666666666666666, \"#ed7953\"], [0.7777777777777778, \"#fb9f3a\"], [0.8888888888888888, \"#fdca26\"], [1.0, \"#f0f921\"]], \"sequentialminus\": [[0.0, \"#0d0887\"], [0.1111111111111111, \"#46039f\"], [0.2222222222222222, \"#7201a8\"], [0.3333333333333333, \"#9c179e\"], [0.4444444444444444, \"#bd3786\"], [0.5555555555555556, \"#d8576b\"], [0.6666666666666666, \"#ed7953\"], [0.7777777777777778, \"#fb9f3a\"], [0.8888888888888888, \"#fdca26\"], [1.0, \"#f0f921\"]]}, \"colorway\": [\"#636efa\", \"#EF553B\", \"#00cc96\", \"#ab63fa\", \"#FFA15A\", \"#19d3f3\", \"#FF6692\", \"#B6E880\", \"#FF97FF\", \"#FECB52\"], \"font\": {\"color\": \"#2a3f5f\"}, \"geo\": {\"bgcolor\": \"white\", \"lakecolor\": \"white\", \"landcolor\": \"#E5ECF6\", \"showlakes\": true, \"showland\": true, \"subunitcolor\": \"white\"}, \"hoverlabel\": {\"align\": \"left\"}, \"hovermode\": \"closest\", \"mapbox\": {\"style\": \"light\"}, \"paper_bgcolor\": \"white\", \"plot_bgcolor\": \"#E5ECF6\", \"polar\": {\"angularaxis\": {\"gridcolor\": \"white\", \"linecolor\": \"white\", \"ticks\": \"\"}, \"bgcolor\": \"#E5ECF6\", \"radialaxis\": {\"gridcolor\": \"white\", \"linecolor\": \"white\", \"ticks\": \"\"}}, \"scene\": {\"xaxis\": {\"backgroundcolor\": \"#E5ECF6\", \"gridcolor\": \"white\", \"gridwidth\": 2, \"linecolor\": \"white\", \"showbackground\": true, \"ticks\": \"\", \"zerolinecolor\": \"white\"}, \"yaxis\": {\"backgroundcolor\": \"#E5ECF6\", \"gridcolor\": \"white\", \"gridwidth\": 2, \"linecolor\": \"white\", \"showbackground\": true, \"ticks\": \"\", \"zerolinecolor\": \"white\"}, \"zaxis\": {\"backgroundcolor\": \"#E5ECF6\", \"gridcolor\": \"white\", \"gridwidth\": 2, \"linecolor\": \"white\", \"showbackground\": true, \"ticks\": \"\", \"zerolinecolor\": \"white\"}}, \"shapedefaults\": {\"line\": {\"color\": \"#2a3f5f\"}}, \"ternary\": {\"aaxis\": {\"gridcolor\": \"white\", \"linecolor\": \"white\", \"ticks\": \"\"}, \"baxis\": {\"gridcolor\": \"white\", \"linecolor\": \"white\", \"ticks\": \"\"}, \"bgcolor\": \"#E5ECF6\", \"caxis\": {\"gridcolor\": \"white\", \"linecolor\": \"white\", \"ticks\": \"\"}}, \"title\": {\"x\": 0.05}, \"xaxis\": {\"automargin\": true, \"gridcolor\": \"white\", \"linecolor\": \"white\", \"ticks\": \"\", \"zerolinecolor\": \"white\", \"zerolinewidth\": 2}, \"yaxis\": {\"automargin\": true, \"gridcolor\": \"white\", \"linecolor\": \"white\", \"ticks\": \"\", \"zerolinecolor\": \"white\", \"zerolinewidth\": 2}}}, \"xaxis\": {\"anchor\": \"y\", \"domain\": [0.0, 0.98], \"title\": {\"text\": \"year\"}}, \"yaxis\": {\"anchor\": \"x\", \"domain\": [0.0, 1.0], \"rangemode\": \"tozero\", \"title\": {\"text\": \"missouri\"}}},\n",
       "                        {\"responsive\": true}\n",
       "                    ).then(function(){\n",
       "                            \n",
       "var gd = document.getElementById('c0b208fb-d988-4ba4-8d8b-ca4ec8bb7c14');\n",
       "var x = new MutationObserver(function (mutations, observer) {{\n",
       "        var display = window.getComputedStyle(gd).display;\n",
       "        if (!display || display === 'none') {{\n",
       "            console.log([gd, 'removed!']);\n",
       "            Plotly.purge(gd);\n",
       "            observer.disconnect();\n",
       "        }}\n",
       "}});\n",
       "\n",
       "// Listen for the removal of the full notebook cells\n",
       "var notebookContainer = gd.closest('#notebook-container');\n",
       "if (notebookContainer) {{\n",
       "    x.observe(notebookContainer, {childList: true});\n",
       "}}\n",
       "\n",
       "// Listen for the clearing of the current output cell\n",
       "var outputEl = gd.closest('.output');\n",
       "if (outputEl) {{\n",
       "    x.observe(outputEl, {childList: true});\n",
       "}}\n",
       "\n",
       "                        })\n",
       "                };\n",
       "                });\n",
       "            </script>\n",
       "        </div>"
      ]
     },
     "metadata": {},
     "output_type": "display_data"
    }
   ],
   "source": [
    "fig_orig_mo.update_yaxes(rangemode=\"tozero\")"
   ]
  },
  {
   "cell_type": "code",
   "execution_count": 165,
   "metadata": {},
   "outputs": [],
   "source": [
    "fig_orig_il = px.line(final_orig_counts, x='year', y='illinois')"
   ]
  },
  {
   "cell_type": "code",
   "execution_count": 166,
   "metadata": {},
   "outputs": [
    {
     "data": {
      "application/vnd.plotly.v1+json": {
       "config": {
        "plotlyServerURL": "https://plot.ly"
       },
       "data": [
        {
         "hoverlabel": {
          "namelength": 0
         },
         "hovertemplate": "year=%{x}<br>illinois=%{y}",
         "legendgroup": "",
         "line": {
          "color": "#636efa",
          "dash": "solid"
         },
         "mode": "lines",
         "name": "",
         "showlegend": false,
         "type": "scatter",
         "x": [
          "2007",
          "2008",
          "2009",
          "2010",
          "2011",
          "2012",
          "2013",
          "2014",
          "2015",
          "2016",
          "2017",
          "2018",
          "state"
         ],
         "xaxis": "x",
         "y": [
          470592,
          339543,
          432707,
          378335,
          319004,
          424748,
          344172,
          232557,
          284551,
          317597,
          265490,
          261119,
          "illinois"
         ],
         "yaxis": "y"
        }
       ],
       "layout": {
        "height": 600,
        "legend": {
         "tracegroupgap": 0
        },
        "margin": {
         "t": 60
        },
        "template": {
         "data": {
          "bar": [
           {
            "error_x": {
             "color": "#2a3f5f"
            },
            "error_y": {
             "color": "#2a3f5f"
            },
            "marker": {
             "line": {
              "color": "#E5ECF6",
              "width": 0.5
             }
            },
            "type": "bar"
           }
          ],
          "barpolar": [
           {
            "marker": {
             "line": {
              "color": "#E5ECF6",
              "width": 0.5
             }
            },
            "type": "barpolar"
           }
          ],
          "carpet": [
           {
            "aaxis": {
             "endlinecolor": "#2a3f5f",
             "gridcolor": "white",
             "linecolor": "white",
             "minorgridcolor": "white",
             "startlinecolor": "#2a3f5f"
            },
            "baxis": {
             "endlinecolor": "#2a3f5f",
             "gridcolor": "white",
             "linecolor": "white",
             "minorgridcolor": "white",
             "startlinecolor": "#2a3f5f"
            },
            "type": "carpet"
           }
          ],
          "choropleth": [
           {
            "colorbar": {
             "outlinewidth": 0,
             "ticks": ""
            },
            "type": "choropleth"
           }
          ],
          "contour": [
           {
            "colorbar": {
             "outlinewidth": 0,
             "ticks": ""
            },
            "colorscale": [
             [
              0,
              "#0d0887"
             ],
             [
              0.1111111111111111,
              "#46039f"
             ],
             [
              0.2222222222222222,
              "#7201a8"
             ],
             [
              0.3333333333333333,
              "#9c179e"
             ],
             [
              0.4444444444444444,
              "#bd3786"
             ],
             [
              0.5555555555555556,
              "#d8576b"
             ],
             [
              0.6666666666666666,
              "#ed7953"
             ],
             [
              0.7777777777777778,
              "#fb9f3a"
             ],
             [
              0.8888888888888888,
              "#fdca26"
             ],
             [
              1,
              "#f0f921"
             ]
            ],
            "type": "contour"
           }
          ],
          "contourcarpet": [
           {
            "colorbar": {
             "outlinewidth": 0,
             "ticks": ""
            },
            "type": "contourcarpet"
           }
          ],
          "heatmap": [
           {
            "colorbar": {
             "outlinewidth": 0,
             "ticks": ""
            },
            "colorscale": [
             [
              0,
              "#0d0887"
             ],
             [
              0.1111111111111111,
              "#46039f"
             ],
             [
              0.2222222222222222,
              "#7201a8"
             ],
             [
              0.3333333333333333,
              "#9c179e"
             ],
             [
              0.4444444444444444,
              "#bd3786"
             ],
             [
              0.5555555555555556,
              "#d8576b"
             ],
             [
              0.6666666666666666,
              "#ed7953"
             ],
             [
              0.7777777777777778,
              "#fb9f3a"
             ],
             [
              0.8888888888888888,
              "#fdca26"
             ],
             [
              1,
              "#f0f921"
             ]
            ],
            "type": "heatmap"
           }
          ],
          "heatmapgl": [
           {
            "colorbar": {
             "outlinewidth": 0,
             "ticks": ""
            },
            "colorscale": [
             [
              0,
              "#0d0887"
             ],
             [
              0.1111111111111111,
              "#46039f"
             ],
             [
              0.2222222222222222,
              "#7201a8"
             ],
             [
              0.3333333333333333,
              "#9c179e"
             ],
             [
              0.4444444444444444,
              "#bd3786"
             ],
             [
              0.5555555555555556,
              "#d8576b"
             ],
             [
              0.6666666666666666,
              "#ed7953"
             ],
             [
              0.7777777777777778,
              "#fb9f3a"
             ],
             [
              0.8888888888888888,
              "#fdca26"
             ],
             [
              1,
              "#f0f921"
             ]
            ],
            "type": "heatmapgl"
           }
          ],
          "histogram": [
           {
            "marker": {
             "colorbar": {
              "outlinewidth": 0,
              "ticks": ""
             }
            },
            "type": "histogram"
           }
          ],
          "histogram2d": [
           {
            "colorbar": {
             "outlinewidth": 0,
             "ticks": ""
            },
            "colorscale": [
             [
              0,
              "#0d0887"
             ],
             [
              0.1111111111111111,
              "#46039f"
             ],
             [
              0.2222222222222222,
              "#7201a8"
             ],
             [
              0.3333333333333333,
              "#9c179e"
             ],
             [
              0.4444444444444444,
              "#bd3786"
             ],
             [
              0.5555555555555556,
              "#d8576b"
             ],
             [
              0.6666666666666666,
              "#ed7953"
             ],
             [
              0.7777777777777778,
              "#fb9f3a"
             ],
             [
              0.8888888888888888,
              "#fdca26"
             ],
             [
              1,
              "#f0f921"
             ]
            ],
            "type": "histogram2d"
           }
          ],
          "histogram2dcontour": [
           {
            "colorbar": {
             "outlinewidth": 0,
             "ticks": ""
            },
            "colorscale": [
             [
              0,
              "#0d0887"
             ],
             [
              0.1111111111111111,
              "#46039f"
             ],
             [
              0.2222222222222222,
              "#7201a8"
             ],
             [
              0.3333333333333333,
              "#9c179e"
             ],
             [
              0.4444444444444444,
              "#bd3786"
             ],
             [
              0.5555555555555556,
              "#d8576b"
             ],
             [
              0.6666666666666666,
              "#ed7953"
             ],
             [
              0.7777777777777778,
              "#fb9f3a"
             ],
             [
              0.8888888888888888,
              "#fdca26"
             ],
             [
              1,
              "#f0f921"
             ]
            ],
            "type": "histogram2dcontour"
           }
          ],
          "mesh3d": [
           {
            "colorbar": {
             "outlinewidth": 0,
             "ticks": ""
            },
            "type": "mesh3d"
           }
          ],
          "parcoords": [
           {
            "line": {
             "colorbar": {
              "outlinewidth": 0,
              "ticks": ""
             }
            },
            "type": "parcoords"
           }
          ],
          "scatter": [
           {
            "marker": {
             "colorbar": {
              "outlinewidth": 0,
              "ticks": ""
             }
            },
            "type": "scatter"
           }
          ],
          "scatter3d": [
           {
            "line": {
             "colorbar": {
              "outlinewidth": 0,
              "ticks": ""
             }
            },
            "marker": {
             "colorbar": {
              "outlinewidth": 0,
              "ticks": ""
             }
            },
            "type": "scatter3d"
           }
          ],
          "scattercarpet": [
           {
            "marker": {
             "colorbar": {
              "outlinewidth": 0,
              "ticks": ""
             }
            },
            "type": "scattercarpet"
           }
          ],
          "scattergeo": [
           {
            "marker": {
             "colorbar": {
              "outlinewidth": 0,
              "ticks": ""
             }
            },
            "type": "scattergeo"
           }
          ],
          "scattergl": [
           {
            "marker": {
             "colorbar": {
              "outlinewidth": 0,
              "ticks": ""
             }
            },
            "type": "scattergl"
           }
          ],
          "scattermapbox": [
           {
            "marker": {
             "colorbar": {
              "outlinewidth": 0,
              "ticks": ""
             }
            },
            "type": "scattermapbox"
           }
          ],
          "scatterpolar": [
           {
            "marker": {
             "colorbar": {
              "outlinewidth": 0,
              "ticks": ""
             }
            },
            "type": "scatterpolar"
           }
          ],
          "scatterpolargl": [
           {
            "marker": {
             "colorbar": {
              "outlinewidth": 0,
              "ticks": ""
             }
            },
            "type": "scatterpolargl"
           }
          ],
          "scatterternary": [
           {
            "marker": {
             "colorbar": {
              "outlinewidth": 0,
              "ticks": ""
             }
            },
            "type": "scatterternary"
           }
          ],
          "surface": [
           {
            "colorbar": {
             "outlinewidth": 0,
             "ticks": ""
            },
            "colorscale": [
             [
              0,
              "#0d0887"
             ],
             [
              0.1111111111111111,
              "#46039f"
             ],
             [
              0.2222222222222222,
              "#7201a8"
             ],
             [
              0.3333333333333333,
              "#9c179e"
             ],
             [
              0.4444444444444444,
              "#bd3786"
             ],
             [
              0.5555555555555556,
              "#d8576b"
             ],
             [
              0.6666666666666666,
              "#ed7953"
             ],
             [
              0.7777777777777778,
              "#fb9f3a"
             ],
             [
              0.8888888888888888,
              "#fdca26"
             ],
             [
              1,
              "#f0f921"
             ]
            ],
            "type": "surface"
           }
          ],
          "table": [
           {
            "cells": {
             "fill": {
              "color": "#EBF0F8"
             },
             "line": {
              "color": "white"
             }
            },
            "header": {
             "fill": {
              "color": "#C8D4E3"
             },
             "line": {
              "color": "white"
             }
            },
            "type": "table"
           }
          ]
         },
         "layout": {
          "annotationdefaults": {
           "arrowcolor": "#2a3f5f",
           "arrowhead": 0,
           "arrowwidth": 1
          },
          "colorscale": {
           "diverging": [
            [
             0,
             "#8e0152"
            ],
            [
             0.1,
             "#c51b7d"
            ],
            [
             0.2,
             "#de77ae"
            ],
            [
             0.3,
             "#f1b6da"
            ],
            [
             0.4,
             "#fde0ef"
            ],
            [
             0.5,
             "#f7f7f7"
            ],
            [
             0.6,
             "#e6f5d0"
            ],
            [
             0.7,
             "#b8e186"
            ],
            [
             0.8,
             "#7fbc41"
            ],
            [
             0.9,
             "#4d9221"
            ],
            [
             1,
             "#276419"
            ]
           ],
           "sequential": [
            [
             0,
             "#0d0887"
            ],
            [
             0.1111111111111111,
             "#46039f"
            ],
            [
             0.2222222222222222,
             "#7201a8"
            ],
            [
             0.3333333333333333,
             "#9c179e"
            ],
            [
             0.4444444444444444,
             "#bd3786"
            ],
            [
             0.5555555555555556,
             "#d8576b"
            ],
            [
             0.6666666666666666,
             "#ed7953"
            ],
            [
             0.7777777777777778,
             "#fb9f3a"
            ],
            [
             0.8888888888888888,
             "#fdca26"
            ],
            [
             1,
             "#f0f921"
            ]
           ],
           "sequentialminus": [
            [
             0,
             "#0d0887"
            ],
            [
             0.1111111111111111,
             "#46039f"
            ],
            [
             0.2222222222222222,
             "#7201a8"
            ],
            [
             0.3333333333333333,
             "#9c179e"
            ],
            [
             0.4444444444444444,
             "#bd3786"
            ],
            [
             0.5555555555555556,
             "#d8576b"
            ],
            [
             0.6666666666666666,
             "#ed7953"
            ],
            [
             0.7777777777777778,
             "#fb9f3a"
            ],
            [
             0.8888888888888888,
             "#fdca26"
            ],
            [
             1,
             "#f0f921"
            ]
           ]
          },
          "colorway": [
           "#636efa",
           "#EF553B",
           "#00cc96",
           "#ab63fa",
           "#FFA15A",
           "#19d3f3",
           "#FF6692",
           "#B6E880",
           "#FF97FF",
           "#FECB52"
          ],
          "font": {
           "color": "#2a3f5f"
          },
          "geo": {
           "bgcolor": "white",
           "lakecolor": "white",
           "landcolor": "#E5ECF6",
           "showlakes": true,
           "showland": true,
           "subunitcolor": "white"
          },
          "hoverlabel": {
           "align": "left"
          },
          "hovermode": "closest",
          "mapbox": {
           "style": "light"
          },
          "paper_bgcolor": "white",
          "plot_bgcolor": "#E5ECF6",
          "polar": {
           "angularaxis": {
            "gridcolor": "white",
            "linecolor": "white",
            "ticks": ""
           },
           "bgcolor": "#E5ECF6",
           "radialaxis": {
            "gridcolor": "white",
            "linecolor": "white",
            "ticks": ""
           }
          },
          "scene": {
           "xaxis": {
            "backgroundcolor": "#E5ECF6",
            "gridcolor": "white",
            "gridwidth": 2,
            "linecolor": "white",
            "showbackground": true,
            "ticks": "",
            "zerolinecolor": "white"
           },
           "yaxis": {
            "backgroundcolor": "#E5ECF6",
            "gridcolor": "white",
            "gridwidth": 2,
            "linecolor": "white",
            "showbackground": true,
            "ticks": "",
            "zerolinecolor": "white"
           },
           "zaxis": {
            "backgroundcolor": "#E5ECF6",
            "gridcolor": "white",
            "gridwidth": 2,
            "linecolor": "white",
            "showbackground": true,
            "ticks": "",
            "zerolinecolor": "white"
           }
          },
          "shapedefaults": {
           "line": {
            "color": "#2a3f5f"
           }
          },
          "ternary": {
           "aaxis": {
            "gridcolor": "white",
            "linecolor": "white",
            "ticks": ""
           },
           "baxis": {
            "gridcolor": "white",
            "linecolor": "white",
            "ticks": ""
           },
           "bgcolor": "#E5ECF6",
           "caxis": {
            "gridcolor": "white",
            "linecolor": "white",
            "ticks": ""
           }
          },
          "title": {
           "x": 0.05
          },
          "xaxis": {
           "automargin": true,
           "gridcolor": "white",
           "linecolor": "white",
           "ticks": "",
           "zerolinecolor": "white",
           "zerolinewidth": 2
          },
          "yaxis": {
           "automargin": true,
           "gridcolor": "white",
           "linecolor": "white",
           "ticks": "",
           "zerolinecolor": "white",
           "zerolinewidth": 2
          }
         }
        },
        "xaxis": {
         "anchor": "y",
         "domain": [
          0,
          0.98
         ],
         "title": {
          "text": "year"
         }
        },
        "yaxis": {
         "anchor": "x",
         "domain": [
          0,
          1
         ],
         "rangemode": "tozero",
         "title": {
          "text": "illinois"
         }
        }
       }
      },
      "text/html": [
       "<div>\n",
       "        \n",
       "        \n",
       "            <div id=\"d6cebcf9-1207-4528-a05c-12f8b68d2147\" class=\"plotly-graph-div\" style=\"height:600px; width:100%;\"></div>\n",
       "            <script type=\"text/javascript\">\n",
       "                require([\"plotly\"], function(Plotly) {\n",
       "                    window.PLOTLYENV=window.PLOTLYENV || {};\n",
       "                    \n",
       "                if (document.getElementById(\"d6cebcf9-1207-4528-a05c-12f8b68d2147\")) {\n",
       "                    Plotly.newPlot(\n",
       "                        'd6cebcf9-1207-4528-a05c-12f8b68d2147',\n",
       "                        [{\"hoverlabel\": {\"namelength\": 0}, \"hovertemplate\": \"year=%{x}<br>illinois=%{y}\", \"legendgroup\": \"\", \"line\": {\"color\": \"#636efa\", \"dash\": \"solid\"}, \"mode\": \"lines\", \"name\": \"\", \"showlegend\": false, \"type\": \"scatter\", \"x\": [\"2007\", \"2008\", \"2009\", \"2010\", \"2011\", \"2012\", \"2013\", \"2014\", \"2015\", \"2016\", \"2017\", \"2018\", \"state\"], \"xaxis\": \"x\", \"y\": [470592, 339543, 432707, 378335, 319004, 424748, 344172, 232557, 284551, 317597, 265490, 261119, \"illinois\"], \"yaxis\": \"y\"}],\n",
       "                        {\"height\": 600, \"legend\": {\"tracegroupgap\": 0}, \"margin\": {\"t\": 60}, \"template\": {\"data\": {\"bar\": [{\"error_x\": {\"color\": \"#2a3f5f\"}, \"error_y\": {\"color\": \"#2a3f5f\"}, \"marker\": {\"line\": {\"color\": \"#E5ECF6\", \"width\": 0.5}}, \"type\": \"bar\"}], \"barpolar\": [{\"marker\": {\"line\": {\"color\": \"#E5ECF6\", \"width\": 0.5}}, \"type\": \"barpolar\"}], \"carpet\": [{\"aaxis\": {\"endlinecolor\": \"#2a3f5f\", \"gridcolor\": \"white\", \"linecolor\": \"white\", \"minorgridcolor\": \"white\", \"startlinecolor\": \"#2a3f5f\"}, \"baxis\": {\"endlinecolor\": \"#2a3f5f\", \"gridcolor\": \"white\", \"linecolor\": \"white\", \"minorgridcolor\": \"white\", \"startlinecolor\": \"#2a3f5f\"}, \"type\": \"carpet\"}], \"choropleth\": [{\"colorbar\": {\"outlinewidth\": 0, \"ticks\": \"\"}, \"type\": \"choropleth\"}], \"contour\": [{\"colorbar\": {\"outlinewidth\": 0, \"ticks\": \"\"}, \"colorscale\": [[0.0, \"#0d0887\"], [0.1111111111111111, \"#46039f\"], [0.2222222222222222, \"#7201a8\"], [0.3333333333333333, \"#9c179e\"], [0.4444444444444444, \"#bd3786\"], [0.5555555555555556, \"#d8576b\"], [0.6666666666666666, \"#ed7953\"], [0.7777777777777778, \"#fb9f3a\"], [0.8888888888888888, \"#fdca26\"], [1.0, \"#f0f921\"]], \"type\": \"contour\"}], \"contourcarpet\": [{\"colorbar\": {\"outlinewidth\": 0, \"ticks\": \"\"}, \"type\": \"contourcarpet\"}], \"heatmap\": [{\"colorbar\": {\"outlinewidth\": 0, \"ticks\": \"\"}, \"colorscale\": [[0.0, \"#0d0887\"], [0.1111111111111111, \"#46039f\"], [0.2222222222222222, \"#7201a8\"], [0.3333333333333333, \"#9c179e\"], [0.4444444444444444, \"#bd3786\"], [0.5555555555555556, \"#d8576b\"], [0.6666666666666666, \"#ed7953\"], [0.7777777777777778, \"#fb9f3a\"], [0.8888888888888888, \"#fdca26\"], [1.0, \"#f0f921\"]], \"type\": \"heatmap\"}], \"heatmapgl\": [{\"colorbar\": {\"outlinewidth\": 0, \"ticks\": \"\"}, \"colorscale\": [[0.0, \"#0d0887\"], [0.1111111111111111, \"#46039f\"], [0.2222222222222222, \"#7201a8\"], [0.3333333333333333, \"#9c179e\"], [0.4444444444444444, \"#bd3786\"], [0.5555555555555556, \"#d8576b\"], [0.6666666666666666, \"#ed7953\"], [0.7777777777777778, \"#fb9f3a\"], [0.8888888888888888, \"#fdca26\"], [1.0, \"#f0f921\"]], \"type\": \"heatmapgl\"}], \"histogram\": [{\"marker\": {\"colorbar\": {\"outlinewidth\": 0, \"ticks\": \"\"}}, \"type\": \"histogram\"}], \"histogram2d\": [{\"colorbar\": {\"outlinewidth\": 0, \"ticks\": \"\"}, \"colorscale\": [[0.0, \"#0d0887\"], [0.1111111111111111, \"#46039f\"], [0.2222222222222222, \"#7201a8\"], [0.3333333333333333, \"#9c179e\"], [0.4444444444444444, \"#bd3786\"], [0.5555555555555556, \"#d8576b\"], [0.6666666666666666, \"#ed7953\"], [0.7777777777777778, \"#fb9f3a\"], [0.8888888888888888, \"#fdca26\"], [1.0, \"#f0f921\"]], \"type\": \"histogram2d\"}], \"histogram2dcontour\": [{\"colorbar\": {\"outlinewidth\": 0, \"ticks\": \"\"}, \"colorscale\": [[0.0, \"#0d0887\"], [0.1111111111111111, \"#46039f\"], [0.2222222222222222, \"#7201a8\"], [0.3333333333333333, \"#9c179e\"], [0.4444444444444444, \"#bd3786\"], [0.5555555555555556, \"#d8576b\"], [0.6666666666666666, \"#ed7953\"], [0.7777777777777778, \"#fb9f3a\"], [0.8888888888888888, \"#fdca26\"], [1.0, \"#f0f921\"]], \"type\": \"histogram2dcontour\"}], \"mesh3d\": [{\"colorbar\": {\"outlinewidth\": 0, \"ticks\": \"\"}, \"type\": \"mesh3d\"}], \"parcoords\": [{\"line\": {\"colorbar\": {\"outlinewidth\": 0, \"ticks\": \"\"}}, \"type\": \"parcoords\"}], \"scatter\": [{\"marker\": {\"colorbar\": {\"outlinewidth\": 0, \"ticks\": \"\"}}, \"type\": \"scatter\"}], \"scatter3d\": [{\"line\": {\"colorbar\": {\"outlinewidth\": 0, \"ticks\": \"\"}}, \"marker\": {\"colorbar\": {\"outlinewidth\": 0, \"ticks\": \"\"}}, \"type\": \"scatter3d\"}], \"scattercarpet\": [{\"marker\": {\"colorbar\": {\"outlinewidth\": 0, \"ticks\": \"\"}}, \"type\": \"scattercarpet\"}], \"scattergeo\": [{\"marker\": {\"colorbar\": {\"outlinewidth\": 0, \"ticks\": \"\"}}, \"type\": \"scattergeo\"}], \"scattergl\": [{\"marker\": {\"colorbar\": {\"outlinewidth\": 0, \"ticks\": \"\"}}, \"type\": \"scattergl\"}], \"scattermapbox\": [{\"marker\": {\"colorbar\": {\"outlinewidth\": 0, \"ticks\": \"\"}}, \"type\": \"scattermapbox\"}], \"scatterpolar\": [{\"marker\": {\"colorbar\": {\"outlinewidth\": 0, \"ticks\": \"\"}}, \"type\": \"scatterpolar\"}], \"scatterpolargl\": [{\"marker\": {\"colorbar\": {\"outlinewidth\": 0, \"ticks\": \"\"}}, \"type\": \"scatterpolargl\"}], \"scatterternary\": [{\"marker\": {\"colorbar\": {\"outlinewidth\": 0, \"ticks\": \"\"}}, \"type\": \"scatterternary\"}], \"surface\": [{\"colorbar\": {\"outlinewidth\": 0, \"ticks\": \"\"}, \"colorscale\": [[0.0, \"#0d0887\"], [0.1111111111111111, \"#46039f\"], [0.2222222222222222, \"#7201a8\"], [0.3333333333333333, \"#9c179e\"], [0.4444444444444444, \"#bd3786\"], [0.5555555555555556, \"#d8576b\"], [0.6666666666666666, \"#ed7953\"], [0.7777777777777778, \"#fb9f3a\"], [0.8888888888888888, \"#fdca26\"], [1.0, \"#f0f921\"]], \"type\": \"surface\"}], \"table\": [{\"cells\": {\"fill\": {\"color\": \"#EBF0F8\"}, \"line\": {\"color\": \"white\"}}, \"header\": {\"fill\": {\"color\": \"#C8D4E3\"}, \"line\": {\"color\": \"white\"}}, \"type\": \"table\"}]}, \"layout\": {\"annotationdefaults\": {\"arrowcolor\": \"#2a3f5f\", \"arrowhead\": 0, \"arrowwidth\": 1}, \"colorscale\": {\"diverging\": [[0, \"#8e0152\"], [0.1, \"#c51b7d\"], [0.2, \"#de77ae\"], [0.3, \"#f1b6da\"], [0.4, \"#fde0ef\"], [0.5, \"#f7f7f7\"], [0.6, \"#e6f5d0\"], [0.7, \"#b8e186\"], [0.8, \"#7fbc41\"], [0.9, \"#4d9221\"], [1, \"#276419\"]], \"sequential\": [[0.0, \"#0d0887\"], [0.1111111111111111, \"#46039f\"], [0.2222222222222222, \"#7201a8\"], [0.3333333333333333, \"#9c179e\"], [0.4444444444444444, \"#bd3786\"], [0.5555555555555556, \"#d8576b\"], [0.6666666666666666, \"#ed7953\"], [0.7777777777777778, \"#fb9f3a\"], [0.8888888888888888, \"#fdca26\"], [1.0, \"#f0f921\"]], \"sequentialminus\": [[0.0, \"#0d0887\"], [0.1111111111111111, \"#46039f\"], [0.2222222222222222, \"#7201a8\"], [0.3333333333333333, \"#9c179e\"], [0.4444444444444444, \"#bd3786\"], [0.5555555555555556, \"#d8576b\"], [0.6666666666666666, \"#ed7953\"], [0.7777777777777778, \"#fb9f3a\"], [0.8888888888888888, \"#fdca26\"], [1.0, \"#f0f921\"]]}, \"colorway\": [\"#636efa\", \"#EF553B\", \"#00cc96\", \"#ab63fa\", \"#FFA15A\", \"#19d3f3\", \"#FF6692\", \"#B6E880\", \"#FF97FF\", \"#FECB52\"], \"font\": {\"color\": \"#2a3f5f\"}, \"geo\": {\"bgcolor\": \"white\", \"lakecolor\": \"white\", \"landcolor\": \"#E5ECF6\", \"showlakes\": true, \"showland\": true, \"subunitcolor\": \"white\"}, \"hoverlabel\": {\"align\": \"left\"}, \"hovermode\": \"closest\", \"mapbox\": {\"style\": \"light\"}, \"paper_bgcolor\": \"white\", \"plot_bgcolor\": \"#E5ECF6\", \"polar\": {\"angularaxis\": {\"gridcolor\": \"white\", \"linecolor\": \"white\", \"ticks\": \"\"}, \"bgcolor\": \"#E5ECF6\", \"radialaxis\": {\"gridcolor\": \"white\", \"linecolor\": \"white\", \"ticks\": \"\"}}, \"scene\": {\"xaxis\": {\"backgroundcolor\": \"#E5ECF6\", \"gridcolor\": \"white\", \"gridwidth\": 2, \"linecolor\": \"white\", \"showbackground\": true, \"ticks\": \"\", \"zerolinecolor\": \"white\"}, \"yaxis\": {\"backgroundcolor\": \"#E5ECF6\", \"gridcolor\": \"white\", \"gridwidth\": 2, \"linecolor\": \"white\", \"showbackground\": true, \"ticks\": \"\", \"zerolinecolor\": \"white\"}, \"zaxis\": {\"backgroundcolor\": \"#E5ECF6\", \"gridcolor\": \"white\", \"gridwidth\": 2, \"linecolor\": \"white\", \"showbackground\": true, \"ticks\": \"\", \"zerolinecolor\": \"white\"}}, \"shapedefaults\": {\"line\": {\"color\": \"#2a3f5f\"}}, \"ternary\": {\"aaxis\": {\"gridcolor\": \"white\", \"linecolor\": \"white\", \"ticks\": \"\"}, \"baxis\": {\"gridcolor\": \"white\", \"linecolor\": \"white\", \"ticks\": \"\"}, \"bgcolor\": \"#E5ECF6\", \"caxis\": {\"gridcolor\": \"white\", \"linecolor\": \"white\", \"ticks\": \"\"}}, \"title\": {\"x\": 0.05}, \"xaxis\": {\"automargin\": true, \"gridcolor\": \"white\", \"linecolor\": \"white\", \"ticks\": \"\", \"zerolinecolor\": \"white\", \"zerolinewidth\": 2}, \"yaxis\": {\"automargin\": true, \"gridcolor\": \"white\", \"linecolor\": \"white\", \"ticks\": \"\", \"zerolinecolor\": \"white\", \"zerolinewidth\": 2}}}, \"xaxis\": {\"anchor\": \"y\", \"domain\": [0.0, 0.98], \"title\": {\"text\": \"year\"}}, \"yaxis\": {\"anchor\": \"x\", \"domain\": [0.0, 1.0], \"rangemode\": \"tozero\", \"title\": {\"text\": \"illinois\"}}},\n",
       "                        {\"responsive\": true}\n",
       "                    ).then(function(){\n",
       "                            \n",
       "var gd = document.getElementById('d6cebcf9-1207-4528-a05c-12f8b68d2147');\n",
       "var x = new MutationObserver(function (mutations, observer) {{\n",
       "        var display = window.getComputedStyle(gd).display;\n",
       "        if (!display || display === 'none') {{\n",
       "            console.log([gd, 'removed!']);\n",
       "            Plotly.purge(gd);\n",
       "            observer.disconnect();\n",
       "        }}\n",
       "}});\n",
       "\n",
       "// Listen for the removal of the full notebook cells\n",
       "var notebookContainer = gd.closest('#notebook-container');\n",
       "if (notebookContainer) {{\n",
       "    x.observe(notebookContainer, {childList: true});\n",
       "}}\n",
       "\n",
       "// Listen for the clearing of the current output cell\n",
       "var outputEl = gd.closest('.output');\n",
       "if (outputEl) {{\n",
       "    x.observe(outputEl, {childList: true});\n",
       "}}\n",
       "\n",
       "                        })\n",
       "                };\n",
       "                });\n",
       "            </script>\n",
       "        </div>"
      ]
     },
     "metadata": {},
     "output_type": "display_data"
    }
   ],
   "source": [
    "fig_orig_il.update_yaxes(rangemode=\"tozero\")"
   ]
  },
  {
   "cell_type": "code",
   "execution_count": 167,
   "metadata": {
    "scrolled": true
   },
   "outputs": [],
   "source": [
    "count_headers = ['2007', '2008', '2009', '2010', '2011', '2012', '2013', '2014', '2015', '2016', '2017', '2018']\n",
    "mo_counts = [m07, m08, m09, m10, m11, m12, m13, m14, m15, m16, m17, m18]\n",
    "il_counts = [i07, i08, i09, i10, i11, i12, i13, i14, i15, i16, i17, i18]\n",
    "mo_counts_df = pd.DataFrame([mo_counts], columns=count_headers)\n",
    "il_counts_df = pd.DataFrame([il_counts], columns=count_headers)\n",
    "mo_counts_df['state'] = 'missouri'\n",
    "il_counts_df['state'] = 'illinois'"
   ]
  },
  {
   "cell_type": "code",
   "execution_count": 168,
   "metadata": {},
   "outputs": [],
   "source": [
    "final_counts_df = pd.concat([mo_counts_df, il_counts_df])"
   ]
  },
  {
   "cell_type": "code",
   "execution_count": 169,
   "metadata": {},
   "outputs": [],
   "source": [
    "final_counts = final_counts_df.transpose()"
   ]
  },
  {
   "cell_type": "code",
   "execution_count": 170,
   "metadata": {},
   "outputs": [],
   "source": [
    "final_counts = final_counts.reset_index()"
   ]
  },
  {
   "cell_type": "code",
   "execution_count": 171,
   "metadata": {},
   "outputs": [],
   "source": [
    "final_counts.columns = ['year', 'missouri', 'illinois']"
   ]
  },
  {
   "cell_type": "code",
   "execution_count": 172,
   "metadata": {},
   "outputs": [],
   "source": [
    "fig_mo = px.line(final_counts, x='year', y='missouri')"
   ]
  },
  {
   "cell_type": "code",
   "execution_count": 173,
   "metadata": {},
   "outputs": [
    {
     "data": {
      "application/vnd.plotly.v1+json": {
       "config": {
        "plotlyServerURL": "https://plot.ly"
       },
       "data": [
        {
         "hoverlabel": {
          "namelength": 0
         },
         "hovertemplate": "year=%{x}<br>missouri=%{y}",
         "legendgroup": "",
         "line": {
          "color": "#636efa",
          "dash": "solid"
         },
         "mode": "lines",
         "name": "",
         "showlegend": false,
         "type": "scatter",
         "x": [
          "2007",
          "2008",
          "2009",
          "2010",
          "2011",
          "2012",
          "2013",
          "2014",
          "2015",
          "2016",
          "2017",
          "2018",
          "state"
         ],
         "xaxis": "x",
         "y": [
          531617,
          379587,
          447918,
          360738,
          309645,
          384551,
          347186,
          232023,
          276661,
          312237,
          277843,
          278969,
          "missouri"
         ],
         "yaxis": "y"
        }
       ],
       "layout": {
        "height": 600,
        "legend": {
         "tracegroupgap": 0
        },
        "margin": {
         "t": 60
        },
        "template": {
         "data": {
          "bar": [
           {
            "error_x": {
             "color": "#2a3f5f"
            },
            "error_y": {
             "color": "#2a3f5f"
            },
            "marker": {
             "line": {
              "color": "#E5ECF6",
              "width": 0.5
             }
            },
            "type": "bar"
           }
          ],
          "barpolar": [
           {
            "marker": {
             "line": {
              "color": "#E5ECF6",
              "width": 0.5
             }
            },
            "type": "barpolar"
           }
          ],
          "carpet": [
           {
            "aaxis": {
             "endlinecolor": "#2a3f5f",
             "gridcolor": "white",
             "linecolor": "white",
             "minorgridcolor": "white",
             "startlinecolor": "#2a3f5f"
            },
            "baxis": {
             "endlinecolor": "#2a3f5f",
             "gridcolor": "white",
             "linecolor": "white",
             "minorgridcolor": "white",
             "startlinecolor": "#2a3f5f"
            },
            "type": "carpet"
           }
          ],
          "choropleth": [
           {
            "colorbar": {
             "outlinewidth": 0,
             "ticks": ""
            },
            "type": "choropleth"
           }
          ],
          "contour": [
           {
            "colorbar": {
             "outlinewidth": 0,
             "ticks": ""
            },
            "colorscale": [
             [
              0,
              "#0d0887"
             ],
             [
              0.1111111111111111,
              "#46039f"
             ],
             [
              0.2222222222222222,
              "#7201a8"
             ],
             [
              0.3333333333333333,
              "#9c179e"
             ],
             [
              0.4444444444444444,
              "#bd3786"
             ],
             [
              0.5555555555555556,
              "#d8576b"
             ],
             [
              0.6666666666666666,
              "#ed7953"
             ],
             [
              0.7777777777777778,
              "#fb9f3a"
             ],
             [
              0.8888888888888888,
              "#fdca26"
             ],
             [
              1,
              "#f0f921"
             ]
            ],
            "type": "contour"
           }
          ],
          "contourcarpet": [
           {
            "colorbar": {
             "outlinewidth": 0,
             "ticks": ""
            },
            "type": "contourcarpet"
           }
          ],
          "heatmap": [
           {
            "colorbar": {
             "outlinewidth": 0,
             "ticks": ""
            },
            "colorscale": [
             [
              0,
              "#0d0887"
             ],
             [
              0.1111111111111111,
              "#46039f"
             ],
             [
              0.2222222222222222,
              "#7201a8"
             ],
             [
              0.3333333333333333,
              "#9c179e"
             ],
             [
              0.4444444444444444,
              "#bd3786"
             ],
             [
              0.5555555555555556,
              "#d8576b"
             ],
             [
              0.6666666666666666,
              "#ed7953"
             ],
             [
              0.7777777777777778,
              "#fb9f3a"
             ],
             [
              0.8888888888888888,
              "#fdca26"
             ],
             [
              1,
              "#f0f921"
             ]
            ],
            "type": "heatmap"
           }
          ],
          "heatmapgl": [
           {
            "colorbar": {
             "outlinewidth": 0,
             "ticks": ""
            },
            "colorscale": [
             [
              0,
              "#0d0887"
             ],
             [
              0.1111111111111111,
              "#46039f"
             ],
             [
              0.2222222222222222,
              "#7201a8"
             ],
             [
              0.3333333333333333,
              "#9c179e"
             ],
             [
              0.4444444444444444,
              "#bd3786"
             ],
             [
              0.5555555555555556,
              "#d8576b"
             ],
             [
              0.6666666666666666,
              "#ed7953"
             ],
             [
              0.7777777777777778,
              "#fb9f3a"
             ],
             [
              0.8888888888888888,
              "#fdca26"
             ],
             [
              1,
              "#f0f921"
             ]
            ],
            "type": "heatmapgl"
           }
          ],
          "histogram": [
           {
            "marker": {
             "colorbar": {
              "outlinewidth": 0,
              "ticks": ""
             }
            },
            "type": "histogram"
           }
          ],
          "histogram2d": [
           {
            "colorbar": {
             "outlinewidth": 0,
             "ticks": ""
            },
            "colorscale": [
             [
              0,
              "#0d0887"
             ],
             [
              0.1111111111111111,
              "#46039f"
             ],
             [
              0.2222222222222222,
              "#7201a8"
             ],
             [
              0.3333333333333333,
              "#9c179e"
             ],
             [
              0.4444444444444444,
              "#bd3786"
             ],
             [
              0.5555555555555556,
              "#d8576b"
             ],
             [
              0.6666666666666666,
              "#ed7953"
             ],
             [
              0.7777777777777778,
              "#fb9f3a"
             ],
             [
              0.8888888888888888,
              "#fdca26"
             ],
             [
              1,
              "#f0f921"
             ]
            ],
            "type": "histogram2d"
           }
          ],
          "histogram2dcontour": [
           {
            "colorbar": {
             "outlinewidth": 0,
             "ticks": ""
            },
            "colorscale": [
             [
              0,
              "#0d0887"
             ],
             [
              0.1111111111111111,
              "#46039f"
             ],
             [
              0.2222222222222222,
              "#7201a8"
             ],
             [
              0.3333333333333333,
              "#9c179e"
             ],
             [
              0.4444444444444444,
              "#bd3786"
             ],
             [
              0.5555555555555556,
              "#d8576b"
             ],
             [
              0.6666666666666666,
              "#ed7953"
             ],
             [
              0.7777777777777778,
              "#fb9f3a"
             ],
             [
              0.8888888888888888,
              "#fdca26"
             ],
             [
              1,
              "#f0f921"
             ]
            ],
            "type": "histogram2dcontour"
           }
          ],
          "mesh3d": [
           {
            "colorbar": {
             "outlinewidth": 0,
             "ticks": ""
            },
            "type": "mesh3d"
           }
          ],
          "parcoords": [
           {
            "line": {
             "colorbar": {
              "outlinewidth": 0,
              "ticks": ""
             }
            },
            "type": "parcoords"
           }
          ],
          "scatter": [
           {
            "marker": {
             "colorbar": {
              "outlinewidth": 0,
              "ticks": ""
             }
            },
            "type": "scatter"
           }
          ],
          "scatter3d": [
           {
            "line": {
             "colorbar": {
              "outlinewidth": 0,
              "ticks": ""
             }
            },
            "marker": {
             "colorbar": {
              "outlinewidth": 0,
              "ticks": ""
             }
            },
            "type": "scatter3d"
           }
          ],
          "scattercarpet": [
           {
            "marker": {
             "colorbar": {
              "outlinewidth": 0,
              "ticks": ""
             }
            },
            "type": "scattercarpet"
           }
          ],
          "scattergeo": [
           {
            "marker": {
             "colorbar": {
              "outlinewidth": 0,
              "ticks": ""
             }
            },
            "type": "scattergeo"
           }
          ],
          "scattergl": [
           {
            "marker": {
             "colorbar": {
              "outlinewidth": 0,
              "ticks": ""
             }
            },
            "type": "scattergl"
           }
          ],
          "scattermapbox": [
           {
            "marker": {
             "colorbar": {
              "outlinewidth": 0,
              "ticks": ""
             }
            },
            "type": "scattermapbox"
           }
          ],
          "scatterpolar": [
           {
            "marker": {
             "colorbar": {
              "outlinewidth": 0,
              "ticks": ""
             }
            },
            "type": "scatterpolar"
           }
          ],
          "scatterpolargl": [
           {
            "marker": {
             "colorbar": {
              "outlinewidth": 0,
              "ticks": ""
             }
            },
            "type": "scatterpolargl"
           }
          ],
          "scatterternary": [
           {
            "marker": {
             "colorbar": {
              "outlinewidth": 0,
              "ticks": ""
             }
            },
            "type": "scatterternary"
           }
          ],
          "surface": [
           {
            "colorbar": {
             "outlinewidth": 0,
             "ticks": ""
            },
            "colorscale": [
             [
              0,
              "#0d0887"
             ],
             [
              0.1111111111111111,
              "#46039f"
             ],
             [
              0.2222222222222222,
              "#7201a8"
             ],
             [
              0.3333333333333333,
              "#9c179e"
             ],
             [
              0.4444444444444444,
              "#bd3786"
             ],
             [
              0.5555555555555556,
              "#d8576b"
             ],
             [
              0.6666666666666666,
              "#ed7953"
             ],
             [
              0.7777777777777778,
              "#fb9f3a"
             ],
             [
              0.8888888888888888,
              "#fdca26"
             ],
             [
              1,
              "#f0f921"
             ]
            ],
            "type": "surface"
           }
          ],
          "table": [
           {
            "cells": {
             "fill": {
              "color": "#EBF0F8"
             },
             "line": {
              "color": "white"
             }
            },
            "header": {
             "fill": {
              "color": "#C8D4E3"
             },
             "line": {
              "color": "white"
             }
            },
            "type": "table"
           }
          ]
         },
         "layout": {
          "annotationdefaults": {
           "arrowcolor": "#2a3f5f",
           "arrowhead": 0,
           "arrowwidth": 1
          },
          "colorscale": {
           "diverging": [
            [
             0,
             "#8e0152"
            ],
            [
             0.1,
             "#c51b7d"
            ],
            [
             0.2,
             "#de77ae"
            ],
            [
             0.3,
             "#f1b6da"
            ],
            [
             0.4,
             "#fde0ef"
            ],
            [
             0.5,
             "#f7f7f7"
            ],
            [
             0.6,
             "#e6f5d0"
            ],
            [
             0.7,
             "#b8e186"
            ],
            [
             0.8,
             "#7fbc41"
            ],
            [
             0.9,
             "#4d9221"
            ],
            [
             1,
             "#276419"
            ]
           ],
           "sequential": [
            [
             0,
             "#0d0887"
            ],
            [
             0.1111111111111111,
             "#46039f"
            ],
            [
             0.2222222222222222,
             "#7201a8"
            ],
            [
             0.3333333333333333,
             "#9c179e"
            ],
            [
             0.4444444444444444,
             "#bd3786"
            ],
            [
             0.5555555555555556,
             "#d8576b"
            ],
            [
             0.6666666666666666,
             "#ed7953"
            ],
            [
             0.7777777777777778,
             "#fb9f3a"
            ],
            [
             0.8888888888888888,
             "#fdca26"
            ],
            [
             1,
             "#f0f921"
            ]
           ],
           "sequentialminus": [
            [
             0,
             "#0d0887"
            ],
            [
             0.1111111111111111,
             "#46039f"
            ],
            [
             0.2222222222222222,
             "#7201a8"
            ],
            [
             0.3333333333333333,
             "#9c179e"
            ],
            [
             0.4444444444444444,
             "#bd3786"
            ],
            [
             0.5555555555555556,
             "#d8576b"
            ],
            [
             0.6666666666666666,
             "#ed7953"
            ],
            [
             0.7777777777777778,
             "#fb9f3a"
            ],
            [
             0.8888888888888888,
             "#fdca26"
            ],
            [
             1,
             "#f0f921"
            ]
           ]
          },
          "colorway": [
           "#636efa",
           "#EF553B",
           "#00cc96",
           "#ab63fa",
           "#FFA15A",
           "#19d3f3",
           "#FF6692",
           "#B6E880",
           "#FF97FF",
           "#FECB52"
          ],
          "font": {
           "color": "#2a3f5f"
          },
          "geo": {
           "bgcolor": "white",
           "lakecolor": "white",
           "landcolor": "#E5ECF6",
           "showlakes": true,
           "showland": true,
           "subunitcolor": "white"
          },
          "hoverlabel": {
           "align": "left"
          },
          "hovermode": "closest",
          "mapbox": {
           "style": "light"
          },
          "paper_bgcolor": "white",
          "plot_bgcolor": "#E5ECF6",
          "polar": {
           "angularaxis": {
            "gridcolor": "white",
            "linecolor": "white",
            "ticks": ""
           },
           "bgcolor": "#E5ECF6",
           "radialaxis": {
            "gridcolor": "white",
            "linecolor": "white",
            "ticks": ""
           }
          },
          "scene": {
           "xaxis": {
            "backgroundcolor": "#E5ECF6",
            "gridcolor": "white",
            "gridwidth": 2,
            "linecolor": "white",
            "showbackground": true,
            "ticks": "",
            "zerolinecolor": "white"
           },
           "yaxis": {
            "backgroundcolor": "#E5ECF6",
            "gridcolor": "white",
            "gridwidth": 2,
            "linecolor": "white",
            "showbackground": true,
            "ticks": "",
            "zerolinecolor": "white"
           },
           "zaxis": {
            "backgroundcolor": "#E5ECF6",
            "gridcolor": "white",
            "gridwidth": 2,
            "linecolor": "white",
            "showbackground": true,
            "ticks": "",
            "zerolinecolor": "white"
           }
          },
          "shapedefaults": {
           "line": {
            "color": "#2a3f5f"
           }
          },
          "ternary": {
           "aaxis": {
            "gridcolor": "white",
            "linecolor": "white",
            "ticks": ""
           },
           "baxis": {
            "gridcolor": "white",
            "linecolor": "white",
            "ticks": ""
           },
           "bgcolor": "#E5ECF6",
           "caxis": {
            "gridcolor": "white",
            "linecolor": "white",
            "ticks": ""
           }
          },
          "title": {
           "x": 0.05
          },
          "xaxis": {
           "automargin": true,
           "gridcolor": "white",
           "linecolor": "white",
           "ticks": "",
           "zerolinecolor": "white",
           "zerolinewidth": 2
          },
          "yaxis": {
           "automargin": true,
           "gridcolor": "white",
           "linecolor": "white",
           "ticks": "",
           "zerolinecolor": "white",
           "zerolinewidth": 2
          }
         }
        },
        "xaxis": {
         "anchor": "y",
         "domain": [
          0,
          0.98
         ],
         "title": {
          "text": "year"
         }
        },
        "yaxis": {
         "anchor": "x",
         "domain": [
          0,
          1
         ],
         "rangemode": "tozero",
         "title": {
          "text": "missouri"
         }
        }
       }
      },
      "text/html": [
       "<div>\n",
       "        \n",
       "        \n",
       "            <div id=\"399b388b-7e22-44af-b14d-fb7a5a48d560\" class=\"plotly-graph-div\" style=\"height:600px; width:100%;\"></div>\n",
       "            <script type=\"text/javascript\">\n",
       "                require([\"plotly\"], function(Plotly) {\n",
       "                    window.PLOTLYENV=window.PLOTLYENV || {};\n",
       "                    \n",
       "                if (document.getElementById(\"399b388b-7e22-44af-b14d-fb7a5a48d560\")) {\n",
       "                    Plotly.newPlot(\n",
       "                        '399b388b-7e22-44af-b14d-fb7a5a48d560',\n",
       "                        [{\"hoverlabel\": {\"namelength\": 0}, \"hovertemplate\": \"year=%{x}<br>missouri=%{y}\", \"legendgroup\": \"\", \"line\": {\"color\": \"#636efa\", \"dash\": \"solid\"}, \"mode\": \"lines\", \"name\": \"\", \"showlegend\": false, \"type\": \"scatter\", \"x\": [\"2007\", \"2008\", \"2009\", \"2010\", \"2011\", \"2012\", \"2013\", \"2014\", \"2015\", \"2016\", \"2017\", \"2018\", \"state\"], \"xaxis\": \"x\", \"y\": [531617, 379587, 447918, 360738, 309645, 384551, 347186, 232023, 276661, 312237, 277843, 278969, \"missouri\"], \"yaxis\": \"y\"}],\n",
       "                        {\"height\": 600, \"legend\": {\"tracegroupgap\": 0}, \"margin\": {\"t\": 60}, \"template\": {\"data\": {\"bar\": [{\"error_x\": {\"color\": \"#2a3f5f\"}, \"error_y\": {\"color\": \"#2a3f5f\"}, \"marker\": {\"line\": {\"color\": \"#E5ECF6\", \"width\": 0.5}}, \"type\": \"bar\"}], \"barpolar\": [{\"marker\": {\"line\": {\"color\": \"#E5ECF6\", \"width\": 0.5}}, \"type\": \"barpolar\"}], \"carpet\": [{\"aaxis\": {\"endlinecolor\": \"#2a3f5f\", \"gridcolor\": \"white\", \"linecolor\": \"white\", \"minorgridcolor\": \"white\", \"startlinecolor\": \"#2a3f5f\"}, \"baxis\": {\"endlinecolor\": \"#2a3f5f\", \"gridcolor\": \"white\", \"linecolor\": \"white\", \"minorgridcolor\": \"white\", \"startlinecolor\": \"#2a3f5f\"}, \"type\": \"carpet\"}], \"choropleth\": [{\"colorbar\": {\"outlinewidth\": 0, \"ticks\": \"\"}, \"type\": \"choropleth\"}], \"contour\": [{\"colorbar\": {\"outlinewidth\": 0, \"ticks\": \"\"}, \"colorscale\": [[0.0, \"#0d0887\"], [0.1111111111111111, \"#46039f\"], [0.2222222222222222, \"#7201a8\"], [0.3333333333333333, \"#9c179e\"], [0.4444444444444444, \"#bd3786\"], [0.5555555555555556, \"#d8576b\"], [0.6666666666666666, \"#ed7953\"], [0.7777777777777778, \"#fb9f3a\"], [0.8888888888888888, \"#fdca26\"], [1.0, \"#f0f921\"]], \"type\": \"contour\"}], \"contourcarpet\": [{\"colorbar\": {\"outlinewidth\": 0, \"ticks\": \"\"}, \"type\": \"contourcarpet\"}], \"heatmap\": [{\"colorbar\": {\"outlinewidth\": 0, \"ticks\": \"\"}, \"colorscale\": [[0.0, \"#0d0887\"], [0.1111111111111111, \"#46039f\"], [0.2222222222222222, \"#7201a8\"], [0.3333333333333333, \"#9c179e\"], [0.4444444444444444, \"#bd3786\"], [0.5555555555555556, \"#d8576b\"], [0.6666666666666666, \"#ed7953\"], [0.7777777777777778, \"#fb9f3a\"], [0.8888888888888888, \"#fdca26\"], [1.0, \"#f0f921\"]], \"type\": \"heatmap\"}], \"heatmapgl\": [{\"colorbar\": {\"outlinewidth\": 0, \"ticks\": \"\"}, \"colorscale\": [[0.0, \"#0d0887\"], [0.1111111111111111, \"#46039f\"], [0.2222222222222222, \"#7201a8\"], [0.3333333333333333, \"#9c179e\"], [0.4444444444444444, \"#bd3786\"], [0.5555555555555556, \"#d8576b\"], [0.6666666666666666, \"#ed7953\"], [0.7777777777777778, \"#fb9f3a\"], [0.8888888888888888, \"#fdca26\"], [1.0, \"#f0f921\"]], \"type\": \"heatmapgl\"}], \"histogram\": [{\"marker\": {\"colorbar\": {\"outlinewidth\": 0, \"ticks\": \"\"}}, \"type\": \"histogram\"}], \"histogram2d\": [{\"colorbar\": {\"outlinewidth\": 0, \"ticks\": \"\"}, \"colorscale\": [[0.0, \"#0d0887\"], [0.1111111111111111, \"#46039f\"], [0.2222222222222222, \"#7201a8\"], [0.3333333333333333, \"#9c179e\"], [0.4444444444444444, \"#bd3786\"], [0.5555555555555556, \"#d8576b\"], [0.6666666666666666, \"#ed7953\"], [0.7777777777777778, \"#fb9f3a\"], [0.8888888888888888, \"#fdca26\"], [1.0, \"#f0f921\"]], \"type\": \"histogram2d\"}], \"histogram2dcontour\": [{\"colorbar\": {\"outlinewidth\": 0, \"ticks\": \"\"}, \"colorscale\": [[0.0, \"#0d0887\"], [0.1111111111111111, \"#46039f\"], [0.2222222222222222, \"#7201a8\"], [0.3333333333333333, \"#9c179e\"], [0.4444444444444444, \"#bd3786\"], [0.5555555555555556, \"#d8576b\"], [0.6666666666666666, \"#ed7953\"], [0.7777777777777778, \"#fb9f3a\"], [0.8888888888888888, \"#fdca26\"], [1.0, \"#f0f921\"]], \"type\": \"histogram2dcontour\"}], \"mesh3d\": [{\"colorbar\": {\"outlinewidth\": 0, \"ticks\": \"\"}, \"type\": \"mesh3d\"}], \"parcoords\": [{\"line\": {\"colorbar\": {\"outlinewidth\": 0, \"ticks\": \"\"}}, \"type\": \"parcoords\"}], \"scatter\": [{\"marker\": {\"colorbar\": {\"outlinewidth\": 0, \"ticks\": \"\"}}, \"type\": \"scatter\"}], \"scatter3d\": [{\"line\": {\"colorbar\": {\"outlinewidth\": 0, \"ticks\": \"\"}}, \"marker\": {\"colorbar\": {\"outlinewidth\": 0, \"ticks\": \"\"}}, \"type\": \"scatter3d\"}], \"scattercarpet\": [{\"marker\": {\"colorbar\": {\"outlinewidth\": 0, \"ticks\": \"\"}}, \"type\": \"scattercarpet\"}], \"scattergeo\": [{\"marker\": {\"colorbar\": {\"outlinewidth\": 0, \"ticks\": \"\"}}, \"type\": \"scattergeo\"}], \"scattergl\": [{\"marker\": {\"colorbar\": {\"outlinewidth\": 0, \"ticks\": \"\"}}, \"type\": \"scattergl\"}], \"scattermapbox\": [{\"marker\": {\"colorbar\": {\"outlinewidth\": 0, \"ticks\": \"\"}}, \"type\": \"scattermapbox\"}], \"scatterpolar\": [{\"marker\": {\"colorbar\": {\"outlinewidth\": 0, \"ticks\": \"\"}}, \"type\": \"scatterpolar\"}], \"scatterpolargl\": [{\"marker\": {\"colorbar\": {\"outlinewidth\": 0, \"ticks\": \"\"}}, \"type\": \"scatterpolargl\"}], \"scatterternary\": [{\"marker\": {\"colorbar\": {\"outlinewidth\": 0, \"ticks\": \"\"}}, \"type\": \"scatterternary\"}], \"surface\": [{\"colorbar\": {\"outlinewidth\": 0, \"ticks\": \"\"}, \"colorscale\": [[0.0, \"#0d0887\"], [0.1111111111111111, \"#46039f\"], [0.2222222222222222, \"#7201a8\"], [0.3333333333333333, \"#9c179e\"], [0.4444444444444444, \"#bd3786\"], [0.5555555555555556, \"#d8576b\"], [0.6666666666666666, \"#ed7953\"], [0.7777777777777778, \"#fb9f3a\"], [0.8888888888888888, \"#fdca26\"], [1.0, \"#f0f921\"]], \"type\": \"surface\"}], \"table\": [{\"cells\": {\"fill\": {\"color\": \"#EBF0F8\"}, \"line\": {\"color\": \"white\"}}, \"header\": {\"fill\": {\"color\": \"#C8D4E3\"}, \"line\": {\"color\": \"white\"}}, \"type\": \"table\"}]}, \"layout\": {\"annotationdefaults\": {\"arrowcolor\": \"#2a3f5f\", \"arrowhead\": 0, \"arrowwidth\": 1}, \"colorscale\": {\"diverging\": [[0, \"#8e0152\"], [0.1, \"#c51b7d\"], [0.2, \"#de77ae\"], [0.3, \"#f1b6da\"], [0.4, \"#fde0ef\"], [0.5, \"#f7f7f7\"], [0.6, \"#e6f5d0\"], [0.7, \"#b8e186\"], [0.8, \"#7fbc41\"], [0.9, \"#4d9221\"], [1, \"#276419\"]], \"sequential\": [[0.0, \"#0d0887\"], [0.1111111111111111, \"#46039f\"], [0.2222222222222222, \"#7201a8\"], [0.3333333333333333, \"#9c179e\"], [0.4444444444444444, \"#bd3786\"], [0.5555555555555556, \"#d8576b\"], [0.6666666666666666, \"#ed7953\"], [0.7777777777777778, \"#fb9f3a\"], [0.8888888888888888, \"#fdca26\"], [1.0, \"#f0f921\"]], \"sequentialminus\": [[0.0, \"#0d0887\"], [0.1111111111111111, \"#46039f\"], [0.2222222222222222, \"#7201a8\"], [0.3333333333333333, \"#9c179e\"], [0.4444444444444444, \"#bd3786\"], [0.5555555555555556, \"#d8576b\"], [0.6666666666666666, \"#ed7953\"], [0.7777777777777778, \"#fb9f3a\"], [0.8888888888888888, \"#fdca26\"], [1.0, \"#f0f921\"]]}, \"colorway\": [\"#636efa\", \"#EF553B\", \"#00cc96\", \"#ab63fa\", \"#FFA15A\", \"#19d3f3\", \"#FF6692\", \"#B6E880\", \"#FF97FF\", \"#FECB52\"], \"font\": {\"color\": \"#2a3f5f\"}, \"geo\": {\"bgcolor\": \"white\", \"lakecolor\": \"white\", \"landcolor\": \"#E5ECF6\", \"showlakes\": true, \"showland\": true, \"subunitcolor\": \"white\"}, \"hoverlabel\": {\"align\": \"left\"}, \"hovermode\": \"closest\", \"mapbox\": {\"style\": \"light\"}, \"paper_bgcolor\": \"white\", \"plot_bgcolor\": \"#E5ECF6\", \"polar\": {\"angularaxis\": {\"gridcolor\": \"white\", \"linecolor\": \"white\", \"ticks\": \"\"}, \"bgcolor\": \"#E5ECF6\", \"radialaxis\": {\"gridcolor\": \"white\", \"linecolor\": \"white\", \"ticks\": \"\"}}, \"scene\": {\"xaxis\": {\"backgroundcolor\": \"#E5ECF6\", \"gridcolor\": \"white\", \"gridwidth\": 2, \"linecolor\": \"white\", \"showbackground\": true, \"ticks\": \"\", \"zerolinecolor\": \"white\"}, \"yaxis\": {\"backgroundcolor\": \"#E5ECF6\", \"gridcolor\": \"white\", \"gridwidth\": 2, \"linecolor\": \"white\", \"showbackground\": true, \"ticks\": \"\", \"zerolinecolor\": \"white\"}, \"zaxis\": {\"backgroundcolor\": \"#E5ECF6\", \"gridcolor\": \"white\", \"gridwidth\": 2, \"linecolor\": \"white\", \"showbackground\": true, \"ticks\": \"\", \"zerolinecolor\": \"white\"}}, \"shapedefaults\": {\"line\": {\"color\": \"#2a3f5f\"}}, \"ternary\": {\"aaxis\": {\"gridcolor\": \"white\", \"linecolor\": \"white\", \"ticks\": \"\"}, \"baxis\": {\"gridcolor\": \"white\", \"linecolor\": \"white\", \"ticks\": \"\"}, \"bgcolor\": \"#E5ECF6\", \"caxis\": {\"gridcolor\": \"white\", \"linecolor\": \"white\", \"ticks\": \"\"}}, \"title\": {\"x\": 0.05}, \"xaxis\": {\"automargin\": true, \"gridcolor\": \"white\", \"linecolor\": \"white\", \"ticks\": \"\", \"zerolinecolor\": \"white\", \"zerolinewidth\": 2}, \"yaxis\": {\"automargin\": true, \"gridcolor\": \"white\", \"linecolor\": \"white\", \"ticks\": \"\", \"zerolinecolor\": \"white\", \"zerolinewidth\": 2}}}, \"xaxis\": {\"anchor\": \"y\", \"domain\": [0.0, 0.98], \"title\": {\"text\": \"year\"}}, \"yaxis\": {\"anchor\": \"x\", \"domain\": [0.0, 1.0], \"rangemode\": \"tozero\", \"title\": {\"text\": \"missouri\"}}},\n",
       "                        {\"responsive\": true}\n",
       "                    ).then(function(){\n",
       "                            \n",
       "var gd = document.getElementById('399b388b-7e22-44af-b14d-fb7a5a48d560');\n",
       "var x = new MutationObserver(function (mutations, observer) {{\n",
       "        var display = window.getComputedStyle(gd).display;\n",
       "        if (!display || display === 'none') {{\n",
       "            console.log([gd, 'removed!']);\n",
       "            Plotly.purge(gd);\n",
       "            observer.disconnect();\n",
       "        }}\n",
       "}});\n",
       "\n",
       "// Listen for the removal of the full notebook cells\n",
       "var notebookContainer = gd.closest('#notebook-container');\n",
       "if (notebookContainer) {{\n",
       "    x.observe(notebookContainer, {childList: true});\n",
       "}}\n",
       "\n",
       "// Listen for the clearing of the current output cell\n",
       "var outputEl = gd.closest('.output');\n",
       "if (outputEl) {{\n",
       "    x.observe(outputEl, {childList: true});\n",
       "}}\n",
       "\n",
       "                        })\n",
       "                };\n",
       "                });\n",
       "            </script>\n",
       "        </div>"
      ]
     },
     "metadata": {},
     "output_type": "display_data"
    }
   ],
   "source": [
    "fig_mo.update_yaxes(rangemode=\"tozero\")"
   ]
  },
  {
   "cell_type": "code",
   "execution_count": 174,
   "metadata": {},
   "outputs": [
    {
     "data": {
      "application/vnd.plotly.v1+json": {
       "config": {
        "plotlyServerURL": "https://plot.ly"
       },
       "data": [
        {
         "hoverlabel": {
          "namelength": 0
         },
         "hovertemplate": "year=%{x}<br>illinois=%{y}",
         "legendgroup": "",
         "line": {
          "color": "#636efa",
          "dash": "solid"
         },
         "mode": "lines",
         "name": "",
         "showlegend": false,
         "type": "scatter",
         "x": [
          "2007",
          "2008",
          "2009",
          "2010",
          "2011",
          "2012",
          "2013",
          "2014",
          "2015",
          "2016",
          "2017",
          "2018",
          "state"
         ],
         "xaxis": "x",
         "y": [
          1117310,
          761632,
          849782,
          716356,
          620832,
          754118,
          637258,
          437239,
          517360,
          583019,
          502511,
          502572,
          "illinois"
         ],
         "yaxis": "y"
        }
       ],
       "layout": {
        "height": 600,
        "legend": {
         "tracegroupgap": 0
        },
        "margin": {
         "t": 60
        },
        "template": {
         "data": {
          "bar": [
           {
            "error_x": {
             "color": "#2a3f5f"
            },
            "error_y": {
             "color": "#2a3f5f"
            },
            "marker": {
             "line": {
              "color": "#E5ECF6",
              "width": 0.5
             }
            },
            "type": "bar"
           }
          ],
          "barpolar": [
           {
            "marker": {
             "line": {
              "color": "#E5ECF6",
              "width": 0.5
             }
            },
            "type": "barpolar"
           }
          ],
          "carpet": [
           {
            "aaxis": {
             "endlinecolor": "#2a3f5f",
             "gridcolor": "white",
             "linecolor": "white",
             "minorgridcolor": "white",
             "startlinecolor": "#2a3f5f"
            },
            "baxis": {
             "endlinecolor": "#2a3f5f",
             "gridcolor": "white",
             "linecolor": "white",
             "minorgridcolor": "white",
             "startlinecolor": "#2a3f5f"
            },
            "type": "carpet"
           }
          ],
          "choropleth": [
           {
            "colorbar": {
             "outlinewidth": 0,
             "ticks": ""
            },
            "type": "choropleth"
           }
          ],
          "contour": [
           {
            "colorbar": {
             "outlinewidth": 0,
             "ticks": ""
            },
            "colorscale": [
             [
              0,
              "#0d0887"
             ],
             [
              0.1111111111111111,
              "#46039f"
             ],
             [
              0.2222222222222222,
              "#7201a8"
             ],
             [
              0.3333333333333333,
              "#9c179e"
             ],
             [
              0.4444444444444444,
              "#bd3786"
             ],
             [
              0.5555555555555556,
              "#d8576b"
             ],
             [
              0.6666666666666666,
              "#ed7953"
             ],
             [
              0.7777777777777778,
              "#fb9f3a"
             ],
             [
              0.8888888888888888,
              "#fdca26"
             ],
             [
              1,
              "#f0f921"
             ]
            ],
            "type": "contour"
           }
          ],
          "contourcarpet": [
           {
            "colorbar": {
             "outlinewidth": 0,
             "ticks": ""
            },
            "type": "contourcarpet"
           }
          ],
          "heatmap": [
           {
            "colorbar": {
             "outlinewidth": 0,
             "ticks": ""
            },
            "colorscale": [
             [
              0,
              "#0d0887"
             ],
             [
              0.1111111111111111,
              "#46039f"
             ],
             [
              0.2222222222222222,
              "#7201a8"
             ],
             [
              0.3333333333333333,
              "#9c179e"
             ],
             [
              0.4444444444444444,
              "#bd3786"
             ],
             [
              0.5555555555555556,
              "#d8576b"
             ],
             [
              0.6666666666666666,
              "#ed7953"
             ],
             [
              0.7777777777777778,
              "#fb9f3a"
             ],
             [
              0.8888888888888888,
              "#fdca26"
             ],
             [
              1,
              "#f0f921"
             ]
            ],
            "type": "heatmap"
           }
          ],
          "heatmapgl": [
           {
            "colorbar": {
             "outlinewidth": 0,
             "ticks": ""
            },
            "colorscale": [
             [
              0,
              "#0d0887"
             ],
             [
              0.1111111111111111,
              "#46039f"
             ],
             [
              0.2222222222222222,
              "#7201a8"
             ],
             [
              0.3333333333333333,
              "#9c179e"
             ],
             [
              0.4444444444444444,
              "#bd3786"
             ],
             [
              0.5555555555555556,
              "#d8576b"
             ],
             [
              0.6666666666666666,
              "#ed7953"
             ],
             [
              0.7777777777777778,
              "#fb9f3a"
             ],
             [
              0.8888888888888888,
              "#fdca26"
             ],
             [
              1,
              "#f0f921"
             ]
            ],
            "type": "heatmapgl"
           }
          ],
          "histogram": [
           {
            "marker": {
             "colorbar": {
              "outlinewidth": 0,
              "ticks": ""
             }
            },
            "type": "histogram"
           }
          ],
          "histogram2d": [
           {
            "colorbar": {
             "outlinewidth": 0,
             "ticks": ""
            },
            "colorscale": [
             [
              0,
              "#0d0887"
             ],
             [
              0.1111111111111111,
              "#46039f"
             ],
             [
              0.2222222222222222,
              "#7201a8"
             ],
             [
              0.3333333333333333,
              "#9c179e"
             ],
             [
              0.4444444444444444,
              "#bd3786"
             ],
             [
              0.5555555555555556,
              "#d8576b"
             ],
             [
              0.6666666666666666,
              "#ed7953"
             ],
             [
              0.7777777777777778,
              "#fb9f3a"
             ],
             [
              0.8888888888888888,
              "#fdca26"
             ],
             [
              1,
              "#f0f921"
             ]
            ],
            "type": "histogram2d"
           }
          ],
          "histogram2dcontour": [
           {
            "colorbar": {
             "outlinewidth": 0,
             "ticks": ""
            },
            "colorscale": [
             [
              0,
              "#0d0887"
             ],
             [
              0.1111111111111111,
              "#46039f"
             ],
             [
              0.2222222222222222,
              "#7201a8"
             ],
             [
              0.3333333333333333,
              "#9c179e"
             ],
             [
              0.4444444444444444,
              "#bd3786"
             ],
             [
              0.5555555555555556,
              "#d8576b"
             ],
             [
              0.6666666666666666,
              "#ed7953"
             ],
             [
              0.7777777777777778,
              "#fb9f3a"
             ],
             [
              0.8888888888888888,
              "#fdca26"
             ],
             [
              1,
              "#f0f921"
             ]
            ],
            "type": "histogram2dcontour"
           }
          ],
          "mesh3d": [
           {
            "colorbar": {
             "outlinewidth": 0,
             "ticks": ""
            },
            "type": "mesh3d"
           }
          ],
          "parcoords": [
           {
            "line": {
             "colorbar": {
              "outlinewidth": 0,
              "ticks": ""
             }
            },
            "type": "parcoords"
           }
          ],
          "scatter": [
           {
            "marker": {
             "colorbar": {
              "outlinewidth": 0,
              "ticks": ""
             }
            },
            "type": "scatter"
           }
          ],
          "scatter3d": [
           {
            "line": {
             "colorbar": {
              "outlinewidth": 0,
              "ticks": ""
             }
            },
            "marker": {
             "colorbar": {
              "outlinewidth": 0,
              "ticks": ""
             }
            },
            "type": "scatter3d"
           }
          ],
          "scattercarpet": [
           {
            "marker": {
             "colorbar": {
              "outlinewidth": 0,
              "ticks": ""
             }
            },
            "type": "scattercarpet"
           }
          ],
          "scattergeo": [
           {
            "marker": {
             "colorbar": {
              "outlinewidth": 0,
              "ticks": ""
             }
            },
            "type": "scattergeo"
           }
          ],
          "scattergl": [
           {
            "marker": {
             "colorbar": {
              "outlinewidth": 0,
              "ticks": ""
             }
            },
            "type": "scattergl"
           }
          ],
          "scattermapbox": [
           {
            "marker": {
             "colorbar": {
              "outlinewidth": 0,
              "ticks": ""
             }
            },
            "type": "scattermapbox"
           }
          ],
          "scatterpolar": [
           {
            "marker": {
             "colorbar": {
              "outlinewidth": 0,
              "ticks": ""
             }
            },
            "type": "scatterpolar"
           }
          ],
          "scatterpolargl": [
           {
            "marker": {
             "colorbar": {
              "outlinewidth": 0,
              "ticks": ""
             }
            },
            "type": "scatterpolargl"
           }
          ],
          "scatterternary": [
           {
            "marker": {
             "colorbar": {
              "outlinewidth": 0,
              "ticks": ""
             }
            },
            "type": "scatterternary"
           }
          ],
          "surface": [
           {
            "colorbar": {
             "outlinewidth": 0,
             "ticks": ""
            },
            "colorscale": [
             [
              0,
              "#0d0887"
             ],
             [
              0.1111111111111111,
              "#46039f"
             ],
             [
              0.2222222222222222,
              "#7201a8"
             ],
             [
              0.3333333333333333,
              "#9c179e"
             ],
             [
              0.4444444444444444,
              "#bd3786"
             ],
             [
              0.5555555555555556,
              "#d8576b"
             ],
             [
              0.6666666666666666,
              "#ed7953"
             ],
             [
              0.7777777777777778,
              "#fb9f3a"
             ],
             [
              0.8888888888888888,
              "#fdca26"
             ],
             [
              1,
              "#f0f921"
             ]
            ],
            "type": "surface"
           }
          ],
          "table": [
           {
            "cells": {
             "fill": {
              "color": "#EBF0F8"
             },
             "line": {
              "color": "white"
             }
            },
            "header": {
             "fill": {
              "color": "#C8D4E3"
             },
             "line": {
              "color": "white"
             }
            },
            "type": "table"
           }
          ]
         },
         "layout": {
          "annotationdefaults": {
           "arrowcolor": "#2a3f5f",
           "arrowhead": 0,
           "arrowwidth": 1
          },
          "colorscale": {
           "diverging": [
            [
             0,
             "#8e0152"
            ],
            [
             0.1,
             "#c51b7d"
            ],
            [
             0.2,
             "#de77ae"
            ],
            [
             0.3,
             "#f1b6da"
            ],
            [
             0.4,
             "#fde0ef"
            ],
            [
             0.5,
             "#f7f7f7"
            ],
            [
             0.6,
             "#e6f5d0"
            ],
            [
             0.7,
             "#b8e186"
            ],
            [
             0.8,
             "#7fbc41"
            ],
            [
             0.9,
             "#4d9221"
            ],
            [
             1,
             "#276419"
            ]
           ],
           "sequential": [
            [
             0,
             "#0d0887"
            ],
            [
             0.1111111111111111,
             "#46039f"
            ],
            [
             0.2222222222222222,
             "#7201a8"
            ],
            [
             0.3333333333333333,
             "#9c179e"
            ],
            [
             0.4444444444444444,
             "#bd3786"
            ],
            [
             0.5555555555555556,
             "#d8576b"
            ],
            [
             0.6666666666666666,
             "#ed7953"
            ],
            [
             0.7777777777777778,
             "#fb9f3a"
            ],
            [
             0.8888888888888888,
             "#fdca26"
            ],
            [
             1,
             "#f0f921"
            ]
           ],
           "sequentialminus": [
            [
             0,
             "#0d0887"
            ],
            [
             0.1111111111111111,
             "#46039f"
            ],
            [
             0.2222222222222222,
             "#7201a8"
            ],
            [
             0.3333333333333333,
             "#9c179e"
            ],
            [
             0.4444444444444444,
             "#bd3786"
            ],
            [
             0.5555555555555556,
             "#d8576b"
            ],
            [
             0.6666666666666666,
             "#ed7953"
            ],
            [
             0.7777777777777778,
             "#fb9f3a"
            ],
            [
             0.8888888888888888,
             "#fdca26"
            ],
            [
             1,
             "#f0f921"
            ]
           ]
          },
          "colorway": [
           "#636efa",
           "#EF553B",
           "#00cc96",
           "#ab63fa",
           "#FFA15A",
           "#19d3f3",
           "#FF6692",
           "#B6E880",
           "#FF97FF",
           "#FECB52"
          ],
          "font": {
           "color": "#2a3f5f"
          },
          "geo": {
           "bgcolor": "white",
           "lakecolor": "white",
           "landcolor": "#E5ECF6",
           "showlakes": true,
           "showland": true,
           "subunitcolor": "white"
          },
          "hoverlabel": {
           "align": "left"
          },
          "hovermode": "closest",
          "mapbox": {
           "style": "light"
          },
          "paper_bgcolor": "white",
          "plot_bgcolor": "#E5ECF6",
          "polar": {
           "angularaxis": {
            "gridcolor": "white",
            "linecolor": "white",
            "ticks": ""
           },
           "bgcolor": "#E5ECF6",
           "radialaxis": {
            "gridcolor": "white",
            "linecolor": "white",
            "ticks": ""
           }
          },
          "scene": {
           "xaxis": {
            "backgroundcolor": "#E5ECF6",
            "gridcolor": "white",
            "gridwidth": 2,
            "linecolor": "white",
            "showbackground": true,
            "ticks": "",
            "zerolinecolor": "white"
           },
           "yaxis": {
            "backgroundcolor": "#E5ECF6",
            "gridcolor": "white",
            "gridwidth": 2,
            "linecolor": "white",
            "showbackground": true,
            "ticks": "",
            "zerolinecolor": "white"
           },
           "zaxis": {
            "backgroundcolor": "#E5ECF6",
            "gridcolor": "white",
            "gridwidth": 2,
            "linecolor": "white",
            "showbackground": true,
            "ticks": "",
            "zerolinecolor": "white"
           }
          },
          "shapedefaults": {
           "line": {
            "color": "#2a3f5f"
           }
          },
          "ternary": {
           "aaxis": {
            "gridcolor": "white",
            "linecolor": "white",
            "ticks": ""
           },
           "baxis": {
            "gridcolor": "white",
            "linecolor": "white",
            "ticks": ""
           },
           "bgcolor": "#E5ECF6",
           "caxis": {
            "gridcolor": "white",
            "linecolor": "white",
            "ticks": ""
           }
          },
          "title": {
           "x": 0.05
          },
          "xaxis": {
           "automargin": true,
           "gridcolor": "white",
           "linecolor": "white",
           "ticks": "",
           "zerolinecolor": "white",
           "zerolinewidth": 2
          },
          "yaxis": {
           "automargin": true,
           "gridcolor": "white",
           "linecolor": "white",
           "ticks": "",
           "zerolinecolor": "white",
           "zerolinewidth": 2
          }
         }
        },
        "xaxis": {
         "anchor": "y",
         "domain": [
          0,
          0.98
         ],
         "title": {
          "text": "year"
         }
        },
        "yaxis": {
         "anchor": "x",
         "domain": [
          0,
          1
         ],
         "rangemode": "tozero",
         "title": {
          "text": "illinois"
         }
        }
       }
      },
      "text/html": [
       "<div>\n",
       "        \n",
       "        \n",
       "            <div id=\"de2fb423-529f-4608-a9c1-aefe8104059a\" class=\"plotly-graph-div\" style=\"height:600px; width:100%;\"></div>\n",
       "            <script type=\"text/javascript\">\n",
       "                require([\"plotly\"], function(Plotly) {\n",
       "                    window.PLOTLYENV=window.PLOTLYENV || {};\n",
       "                    \n",
       "                if (document.getElementById(\"de2fb423-529f-4608-a9c1-aefe8104059a\")) {\n",
       "                    Plotly.newPlot(\n",
       "                        'de2fb423-529f-4608-a9c1-aefe8104059a',\n",
       "                        [{\"hoverlabel\": {\"namelength\": 0}, \"hovertemplate\": \"year=%{x}<br>illinois=%{y}\", \"legendgroup\": \"\", \"line\": {\"color\": \"#636efa\", \"dash\": \"solid\"}, \"mode\": \"lines\", \"name\": \"\", \"showlegend\": false, \"type\": \"scatter\", \"x\": [\"2007\", \"2008\", \"2009\", \"2010\", \"2011\", \"2012\", \"2013\", \"2014\", \"2015\", \"2016\", \"2017\", \"2018\", \"state\"], \"xaxis\": \"x\", \"y\": [1117310, 761632, 849782, 716356, 620832, 754118, 637258, 437239, 517360, 583019, 502511, 502572, \"illinois\"], \"yaxis\": \"y\"}],\n",
       "                        {\"height\": 600, \"legend\": {\"tracegroupgap\": 0}, \"margin\": {\"t\": 60}, \"template\": {\"data\": {\"bar\": [{\"error_x\": {\"color\": \"#2a3f5f\"}, \"error_y\": {\"color\": \"#2a3f5f\"}, \"marker\": {\"line\": {\"color\": \"#E5ECF6\", \"width\": 0.5}}, \"type\": \"bar\"}], \"barpolar\": [{\"marker\": {\"line\": {\"color\": \"#E5ECF6\", \"width\": 0.5}}, \"type\": \"barpolar\"}], \"carpet\": [{\"aaxis\": {\"endlinecolor\": \"#2a3f5f\", \"gridcolor\": \"white\", \"linecolor\": \"white\", \"minorgridcolor\": \"white\", \"startlinecolor\": \"#2a3f5f\"}, \"baxis\": {\"endlinecolor\": \"#2a3f5f\", \"gridcolor\": \"white\", \"linecolor\": \"white\", \"minorgridcolor\": \"white\", \"startlinecolor\": \"#2a3f5f\"}, \"type\": \"carpet\"}], \"choropleth\": [{\"colorbar\": {\"outlinewidth\": 0, \"ticks\": \"\"}, \"type\": \"choropleth\"}], \"contour\": [{\"colorbar\": {\"outlinewidth\": 0, \"ticks\": \"\"}, \"colorscale\": [[0.0, \"#0d0887\"], [0.1111111111111111, \"#46039f\"], [0.2222222222222222, \"#7201a8\"], [0.3333333333333333, \"#9c179e\"], [0.4444444444444444, \"#bd3786\"], [0.5555555555555556, \"#d8576b\"], [0.6666666666666666, \"#ed7953\"], [0.7777777777777778, \"#fb9f3a\"], [0.8888888888888888, \"#fdca26\"], [1.0, \"#f0f921\"]], \"type\": \"contour\"}], \"contourcarpet\": [{\"colorbar\": {\"outlinewidth\": 0, \"ticks\": \"\"}, \"type\": \"contourcarpet\"}], \"heatmap\": [{\"colorbar\": {\"outlinewidth\": 0, \"ticks\": \"\"}, \"colorscale\": [[0.0, \"#0d0887\"], [0.1111111111111111, \"#46039f\"], [0.2222222222222222, \"#7201a8\"], [0.3333333333333333, \"#9c179e\"], [0.4444444444444444, \"#bd3786\"], [0.5555555555555556, \"#d8576b\"], [0.6666666666666666, \"#ed7953\"], [0.7777777777777778, \"#fb9f3a\"], [0.8888888888888888, \"#fdca26\"], [1.0, \"#f0f921\"]], \"type\": \"heatmap\"}], \"heatmapgl\": [{\"colorbar\": {\"outlinewidth\": 0, \"ticks\": \"\"}, \"colorscale\": [[0.0, \"#0d0887\"], [0.1111111111111111, \"#46039f\"], [0.2222222222222222, \"#7201a8\"], [0.3333333333333333, \"#9c179e\"], [0.4444444444444444, \"#bd3786\"], [0.5555555555555556, \"#d8576b\"], [0.6666666666666666, \"#ed7953\"], [0.7777777777777778, \"#fb9f3a\"], [0.8888888888888888, \"#fdca26\"], [1.0, \"#f0f921\"]], \"type\": \"heatmapgl\"}], \"histogram\": [{\"marker\": {\"colorbar\": {\"outlinewidth\": 0, \"ticks\": \"\"}}, \"type\": \"histogram\"}], \"histogram2d\": [{\"colorbar\": {\"outlinewidth\": 0, \"ticks\": \"\"}, \"colorscale\": [[0.0, \"#0d0887\"], [0.1111111111111111, \"#46039f\"], [0.2222222222222222, \"#7201a8\"], [0.3333333333333333, \"#9c179e\"], [0.4444444444444444, \"#bd3786\"], [0.5555555555555556, \"#d8576b\"], [0.6666666666666666, \"#ed7953\"], [0.7777777777777778, \"#fb9f3a\"], [0.8888888888888888, \"#fdca26\"], [1.0, \"#f0f921\"]], \"type\": \"histogram2d\"}], \"histogram2dcontour\": [{\"colorbar\": {\"outlinewidth\": 0, \"ticks\": \"\"}, \"colorscale\": [[0.0, \"#0d0887\"], [0.1111111111111111, \"#46039f\"], [0.2222222222222222, \"#7201a8\"], [0.3333333333333333, \"#9c179e\"], [0.4444444444444444, \"#bd3786\"], [0.5555555555555556, \"#d8576b\"], [0.6666666666666666, \"#ed7953\"], [0.7777777777777778, \"#fb9f3a\"], [0.8888888888888888, \"#fdca26\"], [1.0, \"#f0f921\"]], \"type\": \"histogram2dcontour\"}], \"mesh3d\": [{\"colorbar\": {\"outlinewidth\": 0, \"ticks\": \"\"}, \"type\": \"mesh3d\"}], \"parcoords\": [{\"line\": {\"colorbar\": {\"outlinewidth\": 0, \"ticks\": \"\"}}, \"type\": \"parcoords\"}], \"scatter\": [{\"marker\": {\"colorbar\": {\"outlinewidth\": 0, \"ticks\": \"\"}}, \"type\": \"scatter\"}], \"scatter3d\": [{\"line\": {\"colorbar\": {\"outlinewidth\": 0, \"ticks\": \"\"}}, \"marker\": {\"colorbar\": {\"outlinewidth\": 0, \"ticks\": \"\"}}, \"type\": \"scatter3d\"}], \"scattercarpet\": [{\"marker\": {\"colorbar\": {\"outlinewidth\": 0, \"ticks\": \"\"}}, \"type\": \"scattercarpet\"}], \"scattergeo\": [{\"marker\": {\"colorbar\": {\"outlinewidth\": 0, \"ticks\": \"\"}}, \"type\": \"scattergeo\"}], \"scattergl\": [{\"marker\": {\"colorbar\": {\"outlinewidth\": 0, \"ticks\": \"\"}}, \"type\": \"scattergl\"}], \"scattermapbox\": [{\"marker\": {\"colorbar\": {\"outlinewidth\": 0, \"ticks\": \"\"}}, \"type\": \"scattermapbox\"}], \"scatterpolar\": [{\"marker\": {\"colorbar\": {\"outlinewidth\": 0, \"ticks\": \"\"}}, \"type\": \"scatterpolar\"}], \"scatterpolargl\": [{\"marker\": {\"colorbar\": {\"outlinewidth\": 0, \"ticks\": \"\"}}, \"type\": \"scatterpolargl\"}], \"scatterternary\": [{\"marker\": {\"colorbar\": {\"outlinewidth\": 0, \"ticks\": \"\"}}, \"type\": \"scatterternary\"}], \"surface\": [{\"colorbar\": {\"outlinewidth\": 0, \"ticks\": \"\"}, \"colorscale\": [[0.0, \"#0d0887\"], [0.1111111111111111, \"#46039f\"], [0.2222222222222222, \"#7201a8\"], [0.3333333333333333, \"#9c179e\"], [0.4444444444444444, \"#bd3786\"], [0.5555555555555556, \"#d8576b\"], [0.6666666666666666, \"#ed7953\"], [0.7777777777777778, \"#fb9f3a\"], [0.8888888888888888, \"#fdca26\"], [1.0, \"#f0f921\"]], \"type\": \"surface\"}], \"table\": [{\"cells\": {\"fill\": {\"color\": \"#EBF0F8\"}, \"line\": {\"color\": \"white\"}}, \"header\": {\"fill\": {\"color\": \"#C8D4E3\"}, \"line\": {\"color\": \"white\"}}, \"type\": \"table\"}]}, \"layout\": {\"annotationdefaults\": {\"arrowcolor\": \"#2a3f5f\", \"arrowhead\": 0, \"arrowwidth\": 1}, \"colorscale\": {\"diverging\": [[0, \"#8e0152\"], [0.1, \"#c51b7d\"], [0.2, \"#de77ae\"], [0.3, \"#f1b6da\"], [0.4, \"#fde0ef\"], [0.5, \"#f7f7f7\"], [0.6, \"#e6f5d0\"], [0.7, \"#b8e186\"], [0.8, \"#7fbc41\"], [0.9, \"#4d9221\"], [1, \"#276419\"]], \"sequential\": [[0.0, \"#0d0887\"], [0.1111111111111111, \"#46039f\"], [0.2222222222222222, \"#7201a8\"], [0.3333333333333333, \"#9c179e\"], [0.4444444444444444, \"#bd3786\"], [0.5555555555555556, \"#d8576b\"], [0.6666666666666666, \"#ed7953\"], [0.7777777777777778, \"#fb9f3a\"], [0.8888888888888888, \"#fdca26\"], [1.0, \"#f0f921\"]], \"sequentialminus\": [[0.0, \"#0d0887\"], [0.1111111111111111, \"#46039f\"], [0.2222222222222222, \"#7201a8\"], [0.3333333333333333, \"#9c179e\"], [0.4444444444444444, \"#bd3786\"], [0.5555555555555556, \"#d8576b\"], [0.6666666666666666, \"#ed7953\"], [0.7777777777777778, \"#fb9f3a\"], [0.8888888888888888, \"#fdca26\"], [1.0, \"#f0f921\"]]}, \"colorway\": [\"#636efa\", \"#EF553B\", \"#00cc96\", \"#ab63fa\", \"#FFA15A\", \"#19d3f3\", \"#FF6692\", \"#B6E880\", \"#FF97FF\", \"#FECB52\"], \"font\": {\"color\": \"#2a3f5f\"}, \"geo\": {\"bgcolor\": \"white\", \"lakecolor\": \"white\", \"landcolor\": \"#E5ECF6\", \"showlakes\": true, \"showland\": true, \"subunitcolor\": \"white\"}, \"hoverlabel\": {\"align\": \"left\"}, \"hovermode\": \"closest\", \"mapbox\": {\"style\": \"light\"}, \"paper_bgcolor\": \"white\", \"plot_bgcolor\": \"#E5ECF6\", \"polar\": {\"angularaxis\": {\"gridcolor\": \"white\", \"linecolor\": \"white\", \"ticks\": \"\"}, \"bgcolor\": \"#E5ECF6\", \"radialaxis\": {\"gridcolor\": \"white\", \"linecolor\": \"white\", \"ticks\": \"\"}}, \"scene\": {\"xaxis\": {\"backgroundcolor\": \"#E5ECF6\", \"gridcolor\": \"white\", \"gridwidth\": 2, \"linecolor\": \"white\", \"showbackground\": true, \"ticks\": \"\", \"zerolinecolor\": \"white\"}, \"yaxis\": {\"backgroundcolor\": \"#E5ECF6\", \"gridcolor\": \"white\", \"gridwidth\": 2, \"linecolor\": \"white\", \"showbackground\": true, \"ticks\": \"\", \"zerolinecolor\": \"white\"}, \"zaxis\": {\"backgroundcolor\": \"#E5ECF6\", \"gridcolor\": \"white\", \"gridwidth\": 2, \"linecolor\": \"white\", \"showbackground\": true, \"ticks\": \"\", \"zerolinecolor\": \"white\"}}, \"shapedefaults\": {\"line\": {\"color\": \"#2a3f5f\"}}, \"ternary\": {\"aaxis\": {\"gridcolor\": \"white\", \"linecolor\": \"white\", \"ticks\": \"\"}, \"baxis\": {\"gridcolor\": \"white\", \"linecolor\": \"white\", \"ticks\": \"\"}, \"bgcolor\": \"#E5ECF6\", \"caxis\": {\"gridcolor\": \"white\", \"linecolor\": \"white\", \"ticks\": \"\"}}, \"title\": {\"x\": 0.05}, \"xaxis\": {\"automargin\": true, \"gridcolor\": \"white\", \"linecolor\": \"white\", \"ticks\": \"\", \"zerolinecolor\": \"white\", \"zerolinewidth\": 2}, \"yaxis\": {\"automargin\": true, \"gridcolor\": \"white\", \"linecolor\": \"white\", \"ticks\": \"\", \"zerolinecolor\": \"white\", \"zerolinewidth\": 2}}}, \"xaxis\": {\"anchor\": \"y\", \"domain\": [0.0, 0.98], \"title\": {\"text\": \"year\"}}, \"yaxis\": {\"anchor\": \"x\", \"domain\": [0.0, 1.0], \"rangemode\": \"tozero\", \"title\": {\"text\": \"illinois\"}}},\n",
       "                        {\"responsive\": true}\n",
       "                    ).then(function(){\n",
       "                            \n",
       "var gd = document.getElementById('de2fb423-529f-4608-a9c1-aefe8104059a');\n",
       "var x = new MutationObserver(function (mutations, observer) {{\n",
       "        var display = window.getComputedStyle(gd).display;\n",
       "        if (!display || display === 'none') {{\n",
       "            console.log([gd, 'removed!']);\n",
       "            Plotly.purge(gd);\n",
       "            observer.disconnect();\n",
       "        }}\n",
       "}});\n",
       "\n",
       "// Listen for the removal of the full notebook cells\n",
       "var notebookContainer = gd.closest('#notebook-container');\n",
       "if (notebookContainer) {{\n",
       "    x.observe(notebookContainer, {childList: true});\n",
       "}}\n",
       "\n",
       "// Listen for the clearing of the current output cell\n",
       "var outputEl = gd.closest('.output');\n",
       "if (outputEl) {{\n",
       "    x.observe(outputEl, {childList: true});\n",
       "}}\n",
       "\n",
       "                        })\n",
       "                };\n",
       "                });\n",
       "            </script>\n",
       "        </div>"
      ]
     },
     "metadata": {},
     "output_type": "display_data"
    }
   ],
   "source": [
    "fig_il = px.line(final_counts, x='year', y='illinois')\n",
    "fig_il.update_yaxes(rangemode=\"tozero\")"
   ]
  },
  {
   "cell_type": "code",
   "execution_count": 175,
   "metadata": {},
   "outputs": [],
   "source": [
    "### Filtering to just the St. Louis metro in Missouri\n",
    "\n",
    "stl_07 = mo_07.loc[mo_07['msamd'].isin(stl)]\n",
    "stl_08 = mo_08.loc[mo_08['msamd'].isin(stl)]\n",
    "stl_09 = mo_09.loc[mo_09['msamd'].isin(stl)]\n",
    "stl_10 = mo_10.loc[mo_10['msamd'].isin(stl)]\n",
    "stl_11 = mo_11.loc[mo_11['msamd'].isin(stl)]\n",
    "stl_12 = mo_12.loc[mo_12['msamd'].isin(stl)]\n",
    "stl_13 = mo_13.loc[mo_13['msamd'].isin(stl)]\n",
    "stl_14 = mo_14.loc[mo_14['msamd'].isin(stl)]\n",
    "stl_15 = mo_15.loc[mo_15['msamd'].isin(stl)]\n",
    "stl_16 = mo_16.loc[mo_16['msamd'].isin(stl)]\n",
    "stl_17 = mo_17.loc[mo_17['msamd'].isin(stl)]\n",
    "stl_18 = mo_18.loc[mo_18['derived_msa_md'].isin(stl)]"
   ]
  },
  {
   "cell_type": "code",
   "execution_count": 176,
   "metadata": {},
   "outputs": [],
   "source": [
    "### Filtering to just the St. Louis metro in Illinois\n",
    "\n",
    "stl_07_il = il_07.loc[il_07['msamd'].isin(stl)]\n",
    "stl_08_il = il_08.loc[il_08['msamd'].isin(stl)]\n",
    "stl_09_il = il_09.loc[il_09['msamd'].isin(stl)]\n",
    "stl_10_il = il_10.loc[il_10['msamd'].isin(stl)]\n",
    "stl_11_il = il_11.loc[il_11['msamd'].isin(stl)]\n",
    "stl_12_il = il_12.loc[il_12['msamd'].isin(stl)]\n",
    "stl_13_il = il_13.loc[il_13['msamd'].isin(stl)]\n",
    "stl_14_il = il_14.loc[il_14['msamd'].isin(stl)]\n",
    "stl_15_il = il_15.loc[il_15['msamd'].isin(stl)]\n",
    "stl_16_il = il_16.loc[il_16['msamd'].isin(stl)]\n",
    "stl_17_il = il_17.loc[il_17['msamd'].isin(stl)]\n",
    "stl_18_il = il_18.loc[il_18['derived_msa_md'].isin(stl)]"
   ]
  },
  {
   "cell_type": "code",
   "execution_count": 177,
   "metadata": {},
   "outputs": [],
   "source": [
    "### Concatenating the metro dfs from each separate state, of the same year, into one df, so there is one \n",
    "### df for each year in the metro\n",
    "\n",
    "metro07 = pd.concat([stl_07, stl_07_il])\n",
    "metro08 = pd.concat([stl_08, stl_08_il])\n",
    "metro09 = pd.concat([stl_09, stl_09_il])\n",
    "metro10 = pd.concat([stl_10, stl_10_il])\n",
    "metro11 = pd.concat([stl_11, stl_11_il])\n",
    "metro12 = pd.concat([stl_12, stl_12_il])\n",
    "metro13 = pd.concat([stl_13, stl_13_il])\n",
    "metro14 = pd.concat([stl_14, stl_14_il])\n",
    "metro15 = pd.concat([stl_15, stl_15_il])\n",
    "metro16 = pd.concat([stl_16, stl_16_il])\n",
    "metro17 = pd.concat([stl_17, stl_17_il])\n",
    "metro18 = pd.concat([stl_18, stl_18_il])"
   ]
  },
  {
   "cell_type": "code",
   "execution_count": 178,
   "metadata": {},
   "outputs": [],
   "source": [
    "metro_files = [metro07, metro08, metro09, metro10, metro11, metro12, metro13, metro14, metro15, metro16, metro17]\n",
    "metro0717 = pd.concat(metro_files)"
   ]
  },
  {
   "cell_type": "code",
   "execution_count": 179,
   "metadata": {},
   "outputs": [],
   "source": [
    "# Filtering the metro area dfs to just originated loans\n",
    "\n",
    "metro_orig07 = metro07.loc[metro07.action_taken == 1, 'action_taken'].count()\n",
    "metro_orig08 = metro08.loc[metro08.action_taken == 1, 'action_taken'].count()\n",
    "metro_orig09 = metro09.loc[metro09.action_taken == 1, 'action_taken'].count()\n",
    "metro_orig10 = metro10.loc[metro10.action_taken == 1, 'action_taken'].count()\n",
    "metro_orig11 = metro11.loc[metro11.action_taken == 1, 'action_taken'].count()\n",
    "metro_orig12 = metro12.loc[metro12.action_taken == 1, 'action_taken'].count()\n",
    "metro_orig13 = metro13.loc[metro13.action_taken == 1, 'action_taken'].count()\n",
    "metro_orig14 = metro14.loc[metro14.action_taken == 1, 'action_taken'].count()\n",
    "metro_orig15 = metro15.loc[metro15.action_taken == 1, 'action_taken'].count()\n",
    "metro_orig16 = metro16.loc[metro16.action_taken == 1, 'action_taken'].count()\n",
    "metro_orig17 = metro17.loc[metro17.action_taken == 1, 'action_taken'].count()\n",
    "metro_orig18 = metro18.loc[metro18.action_taken == 1, 'action_taken'].count()"
   ]
  },
  {
   "cell_type": "code",
   "execution_count": 180,
   "metadata": {},
   "outputs": [
    {
     "name": "stdout",
     "output_type": "stream",
     "text": [
      "143816\n"
     ]
    }
   ],
   "source": [
    "# Counting the number of loan applications in the metro area, for context/reference\n",
    "\n",
    "metro07c = metro07['as_of_year'].count()\n",
    "metro08c = metro08['as_of_year'].count()\n",
    "metro09c = metro09['as_of_year'].count()\n",
    "metro10c = metro10['as_of_year'].count()\n",
    "metro11c = metro11['as_of_year'].count()\n",
    "metro12c = metro12['as_of_year'].count()\n",
    "metro13c = metro13['as_of_year'].count()\n",
    "metro14c = metro14['as_of_year'].count()\n",
    "metro15c = metro15['as_of_year'].count()\n",
    "metro16c = metro16['as_of_year'].count()\n",
    "metro17c = metro17['as_of_year'].count()\n",
    "metro18c = metro18['activity_year'].count()\n",
    "\n",
    "print metro17c"
   ]
  },
  {
   "cell_type": "code",
   "execution_count": 181,
   "metadata": {},
   "outputs": [],
   "source": [
    "metro_orig_counts = [metro_orig07, metro_orig08, metro_orig09, metro_orig10, metro_orig11, metro_orig12, metro_orig13, metro_orig14, metro_orig15, metro_orig16, metro_orig17, metro_orig18]\n",
    "metro_orig_counts_df = pd.DataFrame([metro_orig_counts], columns=count_headers)"
   ]
  },
  {
   "cell_type": "code",
   "execution_count": 182,
   "metadata": {},
   "outputs": [],
   "source": [
    "metro_orig_counts_df = metro_orig_counts_df.transpose()"
   ]
  },
  {
   "cell_type": "code",
   "execution_count": 183,
   "metadata": {},
   "outputs": [],
   "source": [
    "metro_orig_counts_df = metro_orig_counts_df.reset_index()"
   ]
  },
  {
   "cell_type": "code",
   "execution_count": 184,
   "metadata": {},
   "outputs": [],
   "source": [
    "metro_orig_counts_df.columns = ['year', 'metro']"
   ]
  },
  {
   "cell_type": "code",
   "execution_count": 185,
   "metadata": {},
   "outputs": [
    {
     "data": {
      "application/vnd.plotly.v1+json": {
       "config": {
        "plotlyServerURL": "https://plot.ly"
       },
       "data": [
        {
         "hoverlabel": {
          "namelength": 0
         },
         "hovertemplate": "year=%{x}<br>metro=%{y}",
         "legendgroup": "",
         "line": {
          "color": "#636efa",
          "dash": "solid"
         },
         "mode": "lines",
         "name": "",
         "showlegend": false,
         "type": "scatter",
         "x": [
          "2007",
          "2008",
          "2009",
          "2010",
          "2011",
          "2012",
          "2013",
          "2014",
          "2015",
          "2016",
          "2017",
          "2018"
         ],
         "xaxis": "x",
         "y": [
          121166,
          95118,
          126335,
          110957,
          88603,
          119080,
          96887,
          62647,
          79119,
          88515,
          73481,
          70639
         ],
         "yaxis": "y"
        }
       ],
       "layout": {
        "height": 600,
        "legend": {
         "tracegroupgap": 0
        },
        "margin": {
         "t": 60
        },
        "template": {
         "data": {
          "bar": [
           {
            "error_x": {
             "color": "#2a3f5f"
            },
            "error_y": {
             "color": "#2a3f5f"
            },
            "marker": {
             "line": {
              "color": "#E5ECF6",
              "width": 0.5
             }
            },
            "type": "bar"
           }
          ],
          "barpolar": [
           {
            "marker": {
             "line": {
              "color": "#E5ECF6",
              "width": 0.5
             }
            },
            "type": "barpolar"
           }
          ],
          "carpet": [
           {
            "aaxis": {
             "endlinecolor": "#2a3f5f",
             "gridcolor": "white",
             "linecolor": "white",
             "minorgridcolor": "white",
             "startlinecolor": "#2a3f5f"
            },
            "baxis": {
             "endlinecolor": "#2a3f5f",
             "gridcolor": "white",
             "linecolor": "white",
             "minorgridcolor": "white",
             "startlinecolor": "#2a3f5f"
            },
            "type": "carpet"
           }
          ],
          "choropleth": [
           {
            "colorbar": {
             "outlinewidth": 0,
             "ticks": ""
            },
            "type": "choropleth"
           }
          ],
          "contour": [
           {
            "colorbar": {
             "outlinewidth": 0,
             "ticks": ""
            },
            "colorscale": [
             [
              0,
              "#0d0887"
             ],
             [
              0.1111111111111111,
              "#46039f"
             ],
             [
              0.2222222222222222,
              "#7201a8"
             ],
             [
              0.3333333333333333,
              "#9c179e"
             ],
             [
              0.4444444444444444,
              "#bd3786"
             ],
             [
              0.5555555555555556,
              "#d8576b"
             ],
             [
              0.6666666666666666,
              "#ed7953"
             ],
             [
              0.7777777777777778,
              "#fb9f3a"
             ],
             [
              0.8888888888888888,
              "#fdca26"
             ],
             [
              1,
              "#f0f921"
             ]
            ],
            "type": "contour"
           }
          ],
          "contourcarpet": [
           {
            "colorbar": {
             "outlinewidth": 0,
             "ticks": ""
            },
            "type": "contourcarpet"
           }
          ],
          "heatmap": [
           {
            "colorbar": {
             "outlinewidth": 0,
             "ticks": ""
            },
            "colorscale": [
             [
              0,
              "#0d0887"
             ],
             [
              0.1111111111111111,
              "#46039f"
             ],
             [
              0.2222222222222222,
              "#7201a8"
             ],
             [
              0.3333333333333333,
              "#9c179e"
             ],
             [
              0.4444444444444444,
              "#bd3786"
             ],
             [
              0.5555555555555556,
              "#d8576b"
             ],
             [
              0.6666666666666666,
              "#ed7953"
             ],
             [
              0.7777777777777778,
              "#fb9f3a"
             ],
             [
              0.8888888888888888,
              "#fdca26"
             ],
             [
              1,
              "#f0f921"
             ]
            ],
            "type": "heatmap"
           }
          ],
          "heatmapgl": [
           {
            "colorbar": {
             "outlinewidth": 0,
             "ticks": ""
            },
            "colorscale": [
             [
              0,
              "#0d0887"
             ],
             [
              0.1111111111111111,
              "#46039f"
             ],
             [
              0.2222222222222222,
              "#7201a8"
             ],
             [
              0.3333333333333333,
              "#9c179e"
             ],
             [
              0.4444444444444444,
              "#bd3786"
             ],
             [
              0.5555555555555556,
              "#d8576b"
             ],
             [
              0.6666666666666666,
              "#ed7953"
             ],
             [
              0.7777777777777778,
              "#fb9f3a"
             ],
             [
              0.8888888888888888,
              "#fdca26"
             ],
             [
              1,
              "#f0f921"
             ]
            ],
            "type": "heatmapgl"
           }
          ],
          "histogram": [
           {
            "marker": {
             "colorbar": {
              "outlinewidth": 0,
              "ticks": ""
             }
            },
            "type": "histogram"
           }
          ],
          "histogram2d": [
           {
            "colorbar": {
             "outlinewidth": 0,
             "ticks": ""
            },
            "colorscale": [
             [
              0,
              "#0d0887"
             ],
             [
              0.1111111111111111,
              "#46039f"
             ],
             [
              0.2222222222222222,
              "#7201a8"
             ],
             [
              0.3333333333333333,
              "#9c179e"
             ],
             [
              0.4444444444444444,
              "#bd3786"
             ],
             [
              0.5555555555555556,
              "#d8576b"
             ],
             [
              0.6666666666666666,
              "#ed7953"
             ],
             [
              0.7777777777777778,
              "#fb9f3a"
             ],
             [
              0.8888888888888888,
              "#fdca26"
             ],
             [
              1,
              "#f0f921"
             ]
            ],
            "type": "histogram2d"
           }
          ],
          "histogram2dcontour": [
           {
            "colorbar": {
             "outlinewidth": 0,
             "ticks": ""
            },
            "colorscale": [
             [
              0,
              "#0d0887"
             ],
             [
              0.1111111111111111,
              "#46039f"
             ],
             [
              0.2222222222222222,
              "#7201a8"
             ],
             [
              0.3333333333333333,
              "#9c179e"
             ],
             [
              0.4444444444444444,
              "#bd3786"
             ],
             [
              0.5555555555555556,
              "#d8576b"
             ],
             [
              0.6666666666666666,
              "#ed7953"
             ],
             [
              0.7777777777777778,
              "#fb9f3a"
             ],
             [
              0.8888888888888888,
              "#fdca26"
             ],
             [
              1,
              "#f0f921"
             ]
            ],
            "type": "histogram2dcontour"
           }
          ],
          "mesh3d": [
           {
            "colorbar": {
             "outlinewidth": 0,
             "ticks": ""
            },
            "type": "mesh3d"
           }
          ],
          "parcoords": [
           {
            "line": {
             "colorbar": {
              "outlinewidth": 0,
              "ticks": ""
             }
            },
            "type": "parcoords"
           }
          ],
          "scatter": [
           {
            "marker": {
             "colorbar": {
              "outlinewidth": 0,
              "ticks": ""
             }
            },
            "type": "scatter"
           }
          ],
          "scatter3d": [
           {
            "line": {
             "colorbar": {
              "outlinewidth": 0,
              "ticks": ""
             }
            },
            "marker": {
             "colorbar": {
              "outlinewidth": 0,
              "ticks": ""
             }
            },
            "type": "scatter3d"
           }
          ],
          "scattercarpet": [
           {
            "marker": {
             "colorbar": {
              "outlinewidth": 0,
              "ticks": ""
             }
            },
            "type": "scattercarpet"
           }
          ],
          "scattergeo": [
           {
            "marker": {
             "colorbar": {
              "outlinewidth": 0,
              "ticks": ""
             }
            },
            "type": "scattergeo"
           }
          ],
          "scattergl": [
           {
            "marker": {
             "colorbar": {
              "outlinewidth": 0,
              "ticks": ""
             }
            },
            "type": "scattergl"
           }
          ],
          "scattermapbox": [
           {
            "marker": {
             "colorbar": {
              "outlinewidth": 0,
              "ticks": ""
             }
            },
            "type": "scattermapbox"
           }
          ],
          "scatterpolar": [
           {
            "marker": {
             "colorbar": {
              "outlinewidth": 0,
              "ticks": ""
             }
            },
            "type": "scatterpolar"
           }
          ],
          "scatterpolargl": [
           {
            "marker": {
             "colorbar": {
              "outlinewidth": 0,
              "ticks": ""
             }
            },
            "type": "scatterpolargl"
           }
          ],
          "scatterternary": [
           {
            "marker": {
             "colorbar": {
              "outlinewidth": 0,
              "ticks": ""
             }
            },
            "type": "scatterternary"
           }
          ],
          "surface": [
           {
            "colorbar": {
             "outlinewidth": 0,
             "ticks": ""
            },
            "colorscale": [
             [
              0,
              "#0d0887"
             ],
             [
              0.1111111111111111,
              "#46039f"
             ],
             [
              0.2222222222222222,
              "#7201a8"
             ],
             [
              0.3333333333333333,
              "#9c179e"
             ],
             [
              0.4444444444444444,
              "#bd3786"
             ],
             [
              0.5555555555555556,
              "#d8576b"
             ],
             [
              0.6666666666666666,
              "#ed7953"
             ],
             [
              0.7777777777777778,
              "#fb9f3a"
             ],
             [
              0.8888888888888888,
              "#fdca26"
             ],
             [
              1,
              "#f0f921"
             ]
            ],
            "type": "surface"
           }
          ],
          "table": [
           {
            "cells": {
             "fill": {
              "color": "#EBF0F8"
             },
             "line": {
              "color": "white"
             }
            },
            "header": {
             "fill": {
              "color": "#C8D4E3"
             },
             "line": {
              "color": "white"
             }
            },
            "type": "table"
           }
          ]
         },
         "layout": {
          "annotationdefaults": {
           "arrowcolor": "#2a3f5f",
           "arrowhead": 0,
           "arrowwidth": 1
          },
          "colorscale": {
           "diverging": [
            [
             0,
             "#8e0152"
            ],
            [
             0.1,
             "#c51b7d"
            ],
            [
             0.2,
             "#de77ae"
            ],
            [
             0.3,
             "#f1b6da"
            ],
            [
             0.4,
             "#fde0ef"
            ],
            [
             0.5,
             "#f7f7f7"
            ],
            [
             0.6,
             "#e6f5d0"
            ],
            [
             0.7,
             "#b8e186"
            ],
            [
             0.8,
             "#7fbc41"
            ],
            [
             0.9,
             "#4d9221"
            ],
            [
             1,
             "#276419"
            ]
           ],
           "sequential": [
            [
             0,
             "#0d0887"
            ],
            [
             0.1111111111111111,
             "#46039f"
            ],
            [
             0.2222222222222222,
             "#7201a8"
            ],
            [
             0.3333333333333333,
             "#9c179e"
            ],
            [
             0.4444444444444444,
             "#bd3786"
            ],
            [
             0.5555555555555556,
             "#d8576b"
            ],
            [
             0.6666666666666666,
             "#ed7953"
            ],
            [
             0.7777777777777778,
             "#fb9f3a"
            ],
            [
             0.8888888888888888,
             "#fdca26"
            ],
            [
             1,
             "#f0f921"
            ]
           ],
           "sequentialminus": [
            [
             0,
             "#0d0887"
            ],
            [
             0.1111111111111111,
             "#46039f"
            ],
            [
             0.2222222222222222,
             "#7201a8"
            ],
            [
             0.3333333333333333,
             "#9c179e"
            ],
            [
             0.4444444444444444,
             "#bd3786"
            ],
            [
             0.5555555555555556,
             "#d8576b"
            ],
            [
             0.6666666666666666,
             "#ed7953"
            ],
            [
             0.7777777777777778,
             "#fb9f3a"
            ],
            [
             0.8888888888888888,
             "#fdca26"
            ],
            [
             1,
             "#f0f921"
            ]
           ]
          },
          "colorway": [
           "#636efa",
           "#EF553B",
           "#00cc96",
           "#ab63fa",
           "#FFA15A",
           "#19d3f3",
           "#FF6692",
           "#B6E880",
           "#FF97FF",
           "#FECB52"
          ],
          "font": {
           "color": "#2a3f5f"
          },
          "geo": {
           "bgcolor": "white",
           "lakecolor": "white",
           "landcolor": "#E5ECF6",
           "showlakes": true,
           "showland": true,
           "subunitcolor": "white"
          },
          "hoverlabel": {
           "align": "left"
          },
          "hovermode": "closest",
          "mapbox": {
           "style": "light"
          },
          "paper_bgcolor": "white",
          "plot_bgcolor": "#E5ECF6",
          "polar": {
           "angularaxis": {
            "gridcolor": "white",
            "linecolor": "white",
            "ticks": ""
           },
           "bgcolor": "#E5ECF6",
           "radialaxis": {
            "gridcolor": "white",
            "linecolor": "white",
            "ticks": ""
           }
          },
          "scene": {
           "xaxis": {
            "backgroundcolor": "#E5ECF6",
            "gridcolor": "white",
            "gridwidth": 2,
            "linecolor": "white",
            "showbackground": true,
            "ticks": "",
            "zerolinecolor": "white"
           },
           "yaxis": {
            "backgroundcolor": "#E5ECF6",
            "gridcolor": "white",
            "gridwidth": 2,
            "linecolor": "white",
            "showbackground": true,
            "ticks": "",
            "zerolinecolor": "white"
           },
           "zaxis": {
            "backgroundcolor": "#E5ECF6",
            "gridcolor": "white",
            "gridwidth": 2,
            "linecolor": "white",
            "showbackground": true,
            "ticks": "",
            "zerolinecolor": "white"
           }
          },
          "shapedefaults": {
           "line": {
            "color": "#2a3f5f"
           }
          },
          "ternary": {
           "aaxis": {
            "gridcolor": "white",
            "linecolor": "white",
            "ticks": ""
           },
           "baxis": {
            "gridcolor": "white",
            "linecolor": "white",
            "ticks": ""
           },
           "bgcolor": "#E5ECF6",
           "caxis": {
            "gridcolor": "white",
            "linecolor": "white",
            "ticks": ""
           }
          },
          "title": {
           "x": 0.05
          },
          "xaxis": {
           "automargin": true,
           "gridcolor": "white",
           "linecolor": "white",
           "ticks": "",
           "zerolinecolor": "white",
           "zerolinewidth": 2
          },
          "yaxis": {
           "automargin": true,
           "gridcolor": "white",
           "linecolor": "white",
           "ticks": "",
           "zerolinecolor": "white",
           "zerolinewidth": 2
          }
         }
        },
        "xaxis": {
         "anchor": "y",
         "domain": [
          0,
          0.98
         ],
         "title": {
          "text": "year"
         }
        },
        "yaxis": {
         "anchor": "x",
         "domain": [
          0,
          1
         ],
         "rangemode": "tozero",
         "title": {
          "text": "metro"
         }
        }
       }
      },
      "text/html": [
       "<div>\n",
       "        \n",
       "        \n",
       "            <div id=\"384fb55a-7296-44f1-b170-bd3a4d943dc3\" class=\"plotly-graph-div\" style=\"height:600px; width:100%;\"></div>\n",
       "            <script type=\"text/javascript\">\n",
       "                require([\"plotly\"], function(Plotly) {\n",
       "                    window.PLOTLYENV=window.PLOTLYENV || {};\n",
       "                    \n",
       "                if (document.getElementById(\"384fb55a-7296-44f1-b170-bd3a4d943dc3\")) {\n",
       "                    Plotly.newPlot(\n",
       "                        '384fb55a-7296-44f1-b170-bd3a4d943dc3',\n",
       "                        [{\"hoverlabel\": {\"namelength\": 0}, \"hovertemplate\": \"year=%{x}<br>metro=%{y}\", \"legendgroup\": \"\", \"line\": {\"color\": \"#636efa\", \"dash\": \"solid\"}, \"mode\": \"lines\", \"name\": \"\", \"showlegend\": false, \"type\": \"scatter\", \"x\": [\"2007\", \"2008\", \"2009\", \"2010\", \"2011\", \"2012\", \"2013\", \"2014\", \"2015\", \"2016\", \"2017\", \"2018\"], \"xaxis\": \"x\", \"y\": [121166, 95118, 126335, 110957, 88603, 119080, 96887, 62647, 79119, 88515, 73481, 70639], \"yaxis\": \"y\"}],\n",
       "                        {\"height\": 600, \"legend\": {\"tracegroupgap\": 0}, \"margin\": {\"t\": 60}, \"template\": {\"data\": {\"bar\": [{\"error_x\": {\"color\": \"#2a3f5f\"}, \"error_y\": {\"color\": \"#2a3f5f\"}, \"marker\": {\"line\": {\"color\": \"#E5ECF6\", \"width\": 0.5}}, \"type\": \"bar\"}], \"barpolar\": [{\"marker\": {\"line\": {\"color\": \"#E5ECF6\", \"width\": 0.5}}, \"type\": \"barpolar\"}], \"carpet\": [{\"aaxis\": {\"endlinecolor\": \"#2a3f5f\", \"gridcolor\": \"white\", \"linecolor\": \"white\", \"minorgridcolor\": \"white\", \"startlinecolor\": \"#2a3f5f\"}, \"baxis\": {\"endlinecolor\": \"#2a3f5f\", \"gridcolor\": \"white\", \"linecolor\": \"white\", \"minorgridcolor\": \"white\", \"startlinecolor\": \"#2a3f5f\"}, \"type\": \"carpet\"}], \"choropleth\": [{\"colorbar\": {\"outlinewidth\": 0, \"ticks\": \"\"}, \"type\": \"choropleth\"}], \"contour\": [{\"colorbar\": {\"outlinewidth\": 0, \"ticks\": \"\"}, \"colorscale\": [[0.0, \"#0d0887\"], [0.1111111111111111, \"#46039f\"], [0.2222222222222222, \"#7201a8\"], [0.3333333333333333, \"#9c179e\"], [0.4444444444444444, \"#bd3786\"], [0.5555555555555556, \"#d8576b\"], [0.6666666666666666, \"#ed7953\"], [0.7777777777777778, \"#fb9f3a\"], [0.8888888888888888, \"#fdca26\"], [1.0, \"#f0f921\"]], \"type\": \"contour\"}], \"contourcarpet\": [{\"colorbar\": {\"outlinewidth\": 0, \"ticks\": \"\"}, \"type\": \"contourcarpet\"}], \"heatmap\": [{\"colorbar\": {\"outlinewidth\": 0, \"ticks\": \"\"}, \"colorscale\": [[0.0, \"#0d0887\"], [0.1111111111111111, \"#46039f\"], [0.2222222222222222, \"#7201a8\"], [0.3333333333333333, \"#9c179e\"], [0.4444444444444444, \"#bd3786\"], [0.5555555555555556, \"#d8576b\"], [0.6666666666666666, \"#ed7953\"], [0.7777777777777778, \"#fb9f3a\"], [0.8888888888888888, \"#fdca26\"], [1.0, \"#f0f921\"]], \"type\": \"heatmap\"}], \"heatmapgl\": [{\"colorbar\": {\"outlinewidth\": 0, \"ticks\": \"\"}, \"colorscale\": [[0.0, \"#0d0887\"], [0.1111111111111111, \"#46039f\"], [0.2222222222222222, \"#7201a8\"], [0.3333333333333333, \"#9c179e\"], [0.4444444444444444, \"#bd3786\"], [0.5555555555555556, \"#d8576b\"], [0.6666666666666666, \"#ed7953\"], [0.7777777777777778, \"#fb9f3a\"], [0.8888888888888888, \"#fdca26\"], [1.0, \"#f0f921\"]], \"type\": \"heatmapgl\"}], \"histogram\": [{\"marker\": {\"colorbar\": {\"outlinewidth\": 0, \"ticks\": \"\"}}, \"type\": \"histogram\"}], \"histogram2d\": [{\"colorbar\": {\"outlinewidth\": 0, \"ticks\": \"\"}, \"colorscale\": [[0.0, \"#0d0887\"], [0.1111111111111111, \"#46039f\"], [0.2222222222222222, \"#7201a8\"], [0.3333333333333333, \"#9c179e\"], [0.4444444444444444, \"#bd3786\"], [0.5555555555555556, \"#d8576b\"], [0.6666666666666666, \"#ed7953\"], [0.7777777777777778, \"#fb9f3a\"], [0.8888888888888888, \"#fdca26\"], [1.0, \"#f0f921\"]], \"type\": \"histogram2d\"}], \"histogram2dcontour\": [{\"colorbar\": {\"outlinewidth\": 0, \"ticks\": \"\"}, \"colorscale\": [[0.0, \"#0d0887\"], [0.1111111111111111, \"#46039f\"], [0.2222222222222222, \"#7201a8\"], [0.3333333333333333, \"#9c179e\"], [0.4444444444444444, \"#bd3786\"], [0.5555555555555556, \"#d8576b\"], [0.6666666666666666, \"#ed7953\"], [0.7777777777777778, \"#fb9f3a\"], [0.8888888888888888, \"#fdca26\"], [1.0, \"#f0f921\"]], \"type\": \"histogram2dcontour\"}], \"mesh3d\": [{\"colorbar\": {\"outlinewidth\": 0, \"ticks\": \"\"}, \"type\": \"mesh3d\"}], \"parcoords\": [{\"line\": {\"colorbar\": {\"outlinewidth\": 0, \"ticks\": \"\"}}, \"type\": \"parcoords\"}], \"scatter\": [{\"marker\": {\"colorbar\": {\"outlinewidth\": 0, \"ticks\": \"\"}}, \"type\": \"scatter\"}], \"scatter3d\": [{\"line\": {\"colorbar\": {\"outlinewidth\": 0, \"ticks\": \"\"}}, \"marker\": {\"colorbar\": {\"outlinewidth\": 0, \"ticks\": \"\"}}, \"type\": \"scatter3d\"}], \"scattercarpet\": [{\"marker\": {\"colorbar\": {\"outlinewidth\": 0, \"ticks\": \"\"}}, \"type\": \"scattercarpet\"}], \"scattergeo\": [{\"marker\": {\"colorbar\": {\"outlinewidth\": 0, \"ticks\": \"\"}}, \"type\": \"scattergeo\"}], \"scattergl\": [{\"marker\": {\"colorbar\": {\"outlinewidth\": 0, \"ticks\": \"\"}}, \"type\": \"scattergl\"}], \"scattermapbox\": [{\"marker\": {\"colorbar\": {\"outlinewidth\": 0, \"ticks\": \"\"}}, \"type\": \"scattermapbox\"}], \"scatterpolar\": [{\"marker\": {\"colorbar\": {\"outlinewidth\": 0, \"ticks\": \"\"}}, \"type\": \"scatterpolar\"}], \"scatterpolargl\": [{\"marker\": {\"colorbar\": {\"outlinewidth\": 0, \"ticks\": \"\"}}, \"type\": \"scatterpolargl\"}], \"scatterternary\": [{\"marker\": {\"colorbar\": {\"outlinewidth\": 0, \"ticks\": \"\"}}, \"type\": \"scatterternary\"}], \"surface\": [{\"colorbar\": {\"outlinewidth\": 0, \"ticks\": \"\"}, \"colorscale\": [[0.0, \"#0d0887\"], [0.1111111111111111, \"#46039f\"], [0.2222222222222222, \"#7201a8\"], [0.3333333333333333, \"#9c179e\"], [0.4444444444444444, \"#bd3786\"], [0.5555555555555556, \"#d8576b\"], [0.6666666666666666, \"#ed7953\"], [0.7777777777777778, \"#fb9f3a\"], [0.8888888888888888, \"#fdca26\"], [1.0, \"#f0f921\"]], \"type\": \"surface\"}], \"table\": [{\"cells\": {\"fill\": {\"color\": \"#EBF0F8\"}, \"line\": {\"color\": \"white\"}}, \"header\": {\"fill\": {\"color\": \"#C8D4E3\"}, \"line\": {\"color\": \"white\"}}, \"type\": \"table\"}]}, \"layout\": {\"annotationdefaults\": {\"arrowcolor\": \"#2a3f5f\", \"arrowhead\": 0, \"arrowwidth\": 1}, \"colorscale\": {\"diverging\": [[0, \"#8e0152\"], [0.1, \"#c51b7d\"], [0.2, \"#de77ae\"], [0.3, \"#f1b6da\"], [0.4, \"#fde0ef\"], [0.5, \"#f7f7f7\"], [0.6, \"#e6f5d0\"], [0.7, \"#b8e186\"], [0.8, \"#7fbc41\"], [0.9, \"#4d9221\"], [1, \"#276419\"]], \"sequential\": [[0.0, \"#0d0887\"], [0.1111111111111111, \"#46039f\"], [0.2222222222222222, \"#7201a8\"], [0.3333333333333333, \"#9c179e\"], [0.4444444444444444, \"#bd3786\"], [0.5555555555555556, \"#d8576b\"], [0.6666666666666666, \"#ed7953\"], [0.7777777777777778, \"#fb9f3a\"], [0.8888888888888888, \"#fdca26\"], [1.0, \"#f0f921\"]], \"sequentialminus\": [[0.0, \"#0d0887\"], [0.1111111111111111, \"#46039f\"], [0.2222222222222222, \"#7201a8\"], [0.3333333333333333, \"#9c179e\"], [0.4444444444444444, \"#bd3786\"], [0.5555555555555556, \"#d8576b\"], [0.6666666666666666, \"#ed7953\"], [0.7777777777777778, \"#fb9f3a\"], [0.8888888888888888, \"#fdca26\"], [1.0, \"#f0f921\"]]}, \"colorway\": [\"#636efa\", \"#EF553B\", \"#00cc96\", \"#ab63fa\", \"#FFA15A\", \"#19d3f3\", \"#FF6692\", \"#B6E880\", \"#FF97FF\", \"#FECB52\"], \"font\": {\"color\": \"#2a3f5f\"}, \"geo\": {\"bgcolor\": \"white\", \"lakecolor\": \"white\", \"landcolor\": \"#E5ECF6\", \"showlakes\": true, \"showland\": true, \"subunitcolor\": \"white\"}, \"hoverlabel\": {\"align\": \"left\"}, \"hovermode\": \"closest\", \"mapbox\": {\"style\": \"light\"}, \"paper_bgcolor\": \"white\", \"plot_bgcolor\": \"#E5ECF6\", \"polar\": {\"angularaxis\": {\"gridcolor\": \"white\", \"linecolor\": \"white\", \"ticks\": \"\"}, \"bgcolor\": \"#E5ECF6\", \"radialaxis\": {\"gridcolor\": \"white\", \"linecolor\": \"white\", \"ticks\": \"\"}}, \"scene\": {\"xaxis\": {\"backgroundcolor\": \"#E5ECF6\", \"gridcolor\": \"white\", \"gridwidth\": 2, \"linecolor\": \"white\", \"showbackground\": true, \"ticks\": \"\", \"zerolinecolor\": \"white\"}, \"yaxis\": {\"backgroundcolor\": \"#E5ECF6\", \"gridcolor\": \"white\", \"gridwidth\": 2, \"linecolor\": \"white\", \"showbackground\": true, \"ticks\": \"\", \"zerolinecolor\": \"white\"}, \"zaxis\": {\"backgroundcolor\": \"#E5ECF6\", \"gridcolor\": \"white\", \"gridwidth\": 2, \"linecolor\": \"white\", \"showbackground\": true, \"ticks\": \"\", \"zerolinecolor\": \"white\"}}, \"shapedefaults\": {\"line\": {\"color\": \"#2a3f5f\"}}, \"ternary\": {\"aaxis\": {\"gridcolor\": \"white\", \"linecolor\": \"white\", \"ticks\": \"\"}, \"baxis\": {\"gridcolor\": \"white\", \"linecolor\": \"white\", \"ticks\": \"\"}, \"bgcolor\": \"#E5ECF6\", \"caxis\": {\"gridcolor\": \"white\", \"linecolor\": \"white\", \"ticks\": \"\"}}, \"title\": {\"x\": 0.05}, \"xaxis\": {\"automargin\": true, \"gridcolor\": \"white\", \"linecolor\": \"white\", \"ticks\": \"\", \"zerolinecolor\": \"white\", \"zerolinewidth\": 2}, \"yaxis\": {\"automargin\": true, \"gridcolor\": \"white\", \"linecolor\": \"white\", \"ticks\": \"\", \"zerolinecolor\": \"white\", \"zerolinewidth\": 2}}}, \"xaxis\": {\"anchor\": \"y\", \"domain\": [0.0, 0.98], \"title\": {\"text\": \"year\"}}, \"yaxis\": {\"anchor\": \"x\", \"domain\": [0.0, 1.0], \"rangemode\": \"tozero\", \"title\": {\"text\": \"metro\"}}},\n",
       "                        {\"responsive\": true}\n",
       "                    ).then(function(){\n",
       "                            \n",
       "var gd = document.getElementById('384fb55a-7296-44f1-b170-bd3a4d943dc3');\n",
       "var x = new MutationObserver(function (mutations, observer) {{\n",
       "        var display = window.getComputedStyle(gd).display;\n",
       "        if (!display || display === 'none') {{\n",
       "            console.log([gd, 'removed!']);\n",
       "            Plotly.purge(gd);\n",
       "            observer.disconnect();\n",
       "        }}\n",
       "}});\n",
       "\n",
       "// Listen for the removal of the full notebook cells\n",
       "var notebookContainer = gd.closest('#notebook-container');\n",
       "if (notebookContainer) {{\n",
       "    x.observe(notebookContainer, {childList: true});\n",
       "}}\n",
       "\n",
       "// Listen for the clearing of the current output cell\n",
       "var outputEl = gd.closest('.output');\n",
       "if (outputEl) {{\n",
       "    x.observe(outputEl, {childList: true});\n",
       "}}\n",
       "\n",
       "                        })\n",
       "                };\n",
       "                });\n",
       "            </script>\n",
       "        </div>"
      ]
     },
     "metadata": {},
     "output_type": "display_data"
    }
   ],
   "source": [
    "fig_metro_orig = px.line(metro_orig_counts_df, x='year', y='metro')\n",
    "fig_metro_orig.update_yaxes(rangemode=\"tozero\")"
   ]
  },
  {
   "cell_type": "code",
   "execution_count": 186,
   "metadata": {},
   "outputs": [],
   "source": [
    "# Filtering the metro year dataframes to only originated loans\n",
    "\n",
    "metro_orig07 = metro07.loc[metro07['action_taken'].isin(orig)]\n",
    "metro_orig08 = metro08.loc[metro08['action_taken'].isin(orig)]\n",
    "metro_orig09 = metro09.loc[metro09['action_taken'].isin(orig)]\n",
    "metro_orig10 = metro10.loc[metro10['action_taken'].isin(orig)]\n",
    "metro_orig11 = metro11.loc[metro11['action_taken'].isin(orig)]\n",
    "metro_orig12 = metro12.loc[metro12['action_taken'].isin(orig)]\n",
    "metro_orig13 = metro13.loc[metro13['action_taken'].isin(orig)]\n",
    "metro_orig14 = metro14.loc[metro14['action_taken'].isin(orig)]\n",
    "metro_orig15 = metro15.loc[metro15['action_taken'].isin(orig)]\n",
    "metro_orig16 = metro16.loc[metro16['action_taken'].isin(orig)]\n",
    "metro_orig17 = metro17.loc[metro17['action_taken'].isin(orig)]\n",
    "metro_orig18 = metro18.loc[metro18['action_taken'].isin(orig)]"
   ]
  },
  {
   "cell_type": "code",
   "execution_count": 187,
   "metadata": {},
   "outputs": [],
   "source": [
    "# Filtering the dfs of originated loans to only sf\n",
    "\n",
    "metsf07 = metro_orig07.loc[metro_orig07['property_type'].isin(sf_old)]\n",
    "metsf08 = metro_orig08.loc[metro_orig08['property_type'].isin(sf_old)]\n",
    "metsf09 = metro_orig09.loc[metro_orig09['property_type'].isin(sf_old)]\n",
    "metsf10 = metro_orig10.loc[metro_orig10['property_type'].isin(sf_old)]\n",
    "metsf11 = metro_orig11.loc[metro_orig11['property_type'].isin(sf_old)]\n",
    "metsf12 = metro_orig12.loc[metro_orig12['property_type'].isin(sf_old)]\n",
    "metsf13 = metro_orig13.loc[metro_orig13['property_type'].isin(sf_old)]\n",
    "metsf14 = metro_orig14.loc[metro_orig14['property_type'].isin(sf_old)]\n",
    "metsf15 = metro_orig15.loc[metro_orig15['property_type'].isin(sf_old)]\n",
    "metsf16 = metro_orig16.loc[metro_orig16['property_type'].isin(sf_old)]\n",
    "metsf17 = metro_orig17.loc[metro_orig17['property_type'].isin(sf_old)]\n",
    "metsf18 = metro_orig18.loc[metro_orig18['derived_dwelling_category'].isin(sf)]\n",
    "\n",
    "metsf07c = metsf07['as_of_year'].count()\n",
    "metsf08c = metsf08['as_of_year'].count()\n",
    "metsf09c = metsf09['as_of_year'].count()\n",
    "metsf10c = metsf10['as_of_year'].count()\n",
    "metsf11c = metsf11['as_of_year'].count()\n",
    "metsf12c = metsf12['as_of_year'].count()\n",
    "metsf13c = metsf13['as_of_year'].count()\n",
    "metsf14c = metsf14['as_of_year'].count()\n",
    "metsf15c = metsf15['as_of_year'].count()\n",
    "metsf16c = metsf16['as_of_year'].count()\n",
    "metsf17c = metsf17['as_of_year'].count()\n",
    "metsf18c = metsf18['activity_year'].count()\n",
    "\n",
    "metro_sf_counts = [metsf07c, metsf08c, metsf09c, metsf10c, metsf11c, metsf12c, metsf13c, metsf14c, metsf15c, metsf16c, metsf17c, metsf18c]\n",
    "metro_sf_counts_df = pd.DataFrame([metro_sf_counts], columns=count_headers)"
   ]
  },
  {
   "cell_type": "code",
   "execution_count": 188,
   "metadata": {},
   "outputs": [],
   "source": [
    "metro_sf_counts_df = metro_sf_counts_df.transpose()\n",
    "metro_sf_counts_df = metro_sf_counts_df.reset_index()"
   ]
  },
  {
   "cell_type": "code",
   "execution_count": 189,
   "metadata": {},
   "outputs": [
    {
     "data": {
      "application/vnd.plotly.v1+json": {
       "config": {
        "plotlyServerURL": "https://plot.ly"
       },
       "data": [
        {
         "hoverlabel": {
          "namelength": 0
         },
         "hovertemplate": "year=%{x}<br>metro orig sf=%{y}",
         "legendgroup": "",
         "line": {
          "color": "#636efa",
          "dash": "solid"
         },
         "mode": "lines",
         "name": "",
         "showlegend": false,
         "type": "scatter",
         "x": [
          "2007",
          "2008",
          "2009",
          "2010",
          "2011",
          "2012",
          "2013",
          "2014",
          "2015",
          "2016",
          "2017",
          "2018"
         ],
         "xaxis": "x",
         "y": [
          119065,
          93485,
          125176,
          109937,
          87714,
          118107,
          95832,
          61716,
          78114,
          87535,
          72425,
          70088
         ],
         "yaxis": "y"
        }
       ],
       "layout": {
        "height": 600,
        "legend": {
         "tracegroupgap": 0
        },
        "margin": {
         "t": 60
        },
        "template": {
         "data": {
          "bar": [
           {
            "error_x": {
             "color": "#2a3f5f"
            },
            "error_y": {
             "color": "#2a3f5f"
            },
            "marker": {
             "line": {
              "color": "#E5ECF6",
              "width": 0.5
             }
            },
            "type": "bar"
           }
          ],
          "barpolar": [
           {
            "marker": {
             "line": {
              "color": "#E5ECF6",
              "width": 0.5
             }
            },
            "type": "barpolar"
           }
          ],
          "carpet": [
           {
            "aaxis": {
             "endlinecolor": "#2a3f5f",
             "gridcolor": "white",
             "linecolor": "white",
             "minorgridcolor": "white",
             "startlinecolor": "#2a3f5f"
            },
            "baxis": {
             "endlinecolor": "#2a3f5f",
             "gridcolor": "white",
             "linecolor": "white",
             "minorgridcolor": "white",
             "startlinecolor": "#2a3f5f"
            },
            "type": "carpet"
           }
          ],
          "choropleth": [
           {
            "colorbar": {
             "outlinewidth": 0,
             "ticks": ""
            },
            "type": "choropleth"
           }
          ],
          "contour": [
           {
            "colorbar": {
             "outlinewidth": 0,
             "ticks": ""
            },
            "colorscale": [
             [
              0,
              "#0d0887"
             ],
             [
              0.1111111111111111,
              "#46039f"
             ],
             [
              0.2222222222222222,
              "#7201a8"
             ],
             [
              0.3333333333333333,
              "#9c179e"
             ],
             [
              0.4444444444444444,
              "#bd3786"
             ],
             [
              0.5555555555555556,
              "#d8576b"
             ],
             [
              0.6666666666666666,
              "#ed7953"
             ],
             [
              0.7777777777777778,
              "#fb9f3a"
             ],
             [
              0.8888888888888888,
              "#fdca26"
             ],
             [
              1,
              "#f0f921"
             ]
            ],
            "type": "contour"
           }
          ],
          "contourcarpet": [
           {
            "colorbar": {
             "outlinewidth": 0,
             "ticks": ""
            },
            "type": "contourcarpet"
           }
          ],
          "heatmap": [
           {
            "colorbar": {
             "outlinewidth": 0,
             "ticks": ""
            },
            "colorscale": [
             [
              0,
              "#0d0887"
             ],
             [
              0.1111111111111111,
              "#46039f"
             ],
             [
              0.2222222222222222,
              "#7201a8"
             ],
             [
              0.3333333333333333,
              "#9c179e"
             ],
             [
              0.4444444444444444,
              "#bd3786"
             ],
             [
              0.5555555555555556,
              "#d8576b"
             ],
             [
              0.6666666666666666,
              "#ed7953"
             ],
             [
              0.7777777777777778,
              "#fb9f3a"
             ],
             [
              0.8888888888888888,
              "#fdca26"
             ],
             [
              1,
              "#f0f921"
             ]
            ],
            "type": "heatmap"
           }
          ],
          "heatmapgl": [
           {
            "colorbar": {
             "outlinewidth": 0,
             "ticks": ""
            },
            "colorscale": [
             [
              0,
              "#0d0887"
             ],
             [
              0.1111111111111111,
              "#46039f"
             ],
             [
              0.2222222222222222,
              "#7201a8"
             ],
             [
              0.3333333333333333,
              "#9c179e"
             ],
             [
              0.4444444444444444,
              "#bd3786"
             ],
             [
              0.5555555555555556,
              "#d8576b"
             ],
             [
              0.6666666666666666,
              "#ed7953"
             ],
             [
              0.7777777777777778,
              "#fb9f3a"
             ],
             [
              0.8888888888888888,
              "#fdca26"
             ],
             [
              1,
              "#f0f921"
             ]
            ],
            "type": "heatmapgl"
           }
          ],
          "histogram": [
           {
            "marker": {
             "colorbar": {
              "outlinewidth": 0,
              "ticks": ""
             }
            },
            "type": "histogram"
           }
          ],
          "histogram2d": [
           {
            "colorbar": {
             "outlinewidth": 0,
             "ticks": ""
            },
            "colorscale": [
             [
              0,
              "#0d0887"
             ],
             [
              0.1111111111111111,
              "#46039f"
             ],
             [
              0.2222222222222222,
              "#7201a8"
             ],
             [
              0.3333333333333333,
              "#9c179e"
             ],
             [
              0.4444444444444444,
              "#bd3786"
             ],
             [
              0.5555555555555556,
              "#d8576b"
             ],
             [
              0.6666666666666666,
              "#ed7953"
             ],
             [
              0.7777777777777778,
              "#fb9f3a"
             ],
             [
              0.8888888888888888,
              "#fdca26"
             ],
             [
              1,
              "#f0f921"
             ]
            ],
            "type": "histogram2d"
           }
          ],
          "histogram2dcontour": [
           {
            "colorbar": {
             "outlinewidth": 0,
             "ticks": ""
            },
            "colorscale": [
             [
              0,
              "#0d0887"
             ],
             [
              0.1111111111111111,
              "#46039f"
             ],
             [
              0.2222222222222222,
              "#7201a8"
             ],
             [
              0.3333333333333333,
              "#9c179e"
             ],
             [
              0.4444444444444444,
              "#bd3786"
             ],
             [
              0.5555555555555556,
              "#d8576b"
             ],
             [
              0.6666666666666666,
              "#ed7953"
             ],
             [
              0.7777777777777778,
              "#fb9f3a"
             ],
             [
              0.8888888888888888,
              "#fdca26"
             ],
             [
              1,
              "#f0f921"
             ]
            ],
            "type": "histogram2dcontour"
           }
          ],
          "mesh3d": [
           {
            "colorbar": {
             "outlinewidth": 0,
             "ticks": ""
            },
            "type": "mesh3d"
           }
          ],
          "parcoords": [
           {
            "line": {
             "colorbar": {
              "outlinewidth": 0,
              "ticks": ""
             }
            },
            "type": "parcoords"
           }
          ],
          "scatter": [
           {
            "marker": {
             "colorbar": {
              "outlinewidth": 0,
              "ticks": ""
             }
            },
            "type": "scatter"
           }
          ],
          "scatter3d": [
           {
            "line": {
             "colorbar": {
              "outlinewidth": 0,
              "ticks": ""
             }
            },
            "marker": {
             "colorbar": {
              "outlinewidth": 0,
              "ticks": ""
             }
            },
            "type": "scatter3d"
           }
          ],
          "scattercarpet": [
           {
            "marker": {
             "colorbar": {
              "outlinewidth": 0,
              "ticks": ""
             }
            },
            "type": "scattercarpet"
           }
          ],
          "scattergeo": [
           {
            "marker": {
             "colorbar": {
              "outlinewidth": 0,
              "ticks": ""
             }
            },
            "type": "scattergeo"
           }
          ],
          "scattergl": [
           {
            "marker": {
             "colorbar": {
              "outlinewidth": 0,
              "ticks": ""
             }
            },
            "type": "scattergl"
           }
          ],
          "scattermapbox": [
           {
            "marker": {
             "colorbar": {
              "outlinewidth": 0,
              "ticks": ""
             }
            },
            "type": "scattermapbox"
           }
          ],
          "scatterpolar": [
           {
            "marker": {
             "colorbar": {
              "outlinewidth": 0,
              "ticks": ""
             }
            },
            "type": "scatterpolar"
           }
          ],
          "scatterpolargl": [
           {
            "marker": {
             "colorbar": {
              "outlinewidth": 0,
              "ticks": ""
             }
            },
            "type": "scatterpolargl"
           }
          ],
          "scatterternary": [
           {
            "marker": {
             "colorbar": {
              "outlinewidth": 0,
              "ticks": ""
             }
            },
            "type": "scatterternary"
           }
          ],
          "surface": [
           {
            "colorbar": {
             "outlinewidth": 0,
             "ticks": ""
            },
            "colorscale": [
             [
              0,
              "#0d0887"
             ],
             [
              0.1111111111111111,
              "#46039f"
             ],
             [
              0.2222222222222222,
              "#7201a8"
             ],
             [
              0.3333333333333333,
              "#9c179e"
             ],
             [
              0.4444444444444444,
              "#bd3786"
             ],
             [
              0.5555555555555556,
              "#d8576b"
             ],
             [
              0.6666666666666666,
              "#ed7953"
             ],
             [
              0.7777777777777778,
              "#fb9f3a"
             ],
             [
              0.8888888888888888,
              "#fdca26"
             ],
             [
              1,
              "#f0f921"
             ]
            ],
            "type": "surface"
           }
          ],
          "table": [
           {
            "cells": {
             "fill": {
              "color": "#EBF0F8"
             },
             "line": {
              "color": "white"
             }
            },
            "header": {
             "fill": {
              "color": "#C8D4E3"
             },
             "line": {
              "color": "white"
             }
            },
            "type": "table"
           }
          ]
         },
         "layout": {
          "annotationdefaults": {
           "arrowcolor": "#2a3f5f",
           "arrowhead": 0,
           "arrowwidth": 1
          },
          "colorscale": {
           "diverging": [
            [
             0,
             "#8e0152"
            ],
            [
             0.1,
             "#c51b7d"
            ],
            [
             0.2,
             "#de77ae"
            ],
            [
             0.3,
             "#f1b6da"
            ],
            [
             0.4,
             "#fde0ef"
            ],
            [
             0.5,
             "#f7f7f7"
            ],
            [
             0.6,
             "#e6f5d0"
            ],
            [
             0.7,
             "#b8e186"
            ],
            [
             0.8,
             "#7fbc41"
            ],
            [
             0.9,
             "#4d9221"
            ],
            [
             1,
             "#276419"
            ]
           ],
           "sequential": [
            [
             0,
             "#0d0887"
            ],
            [
             0.1111111111111111,
             "#46039f"
            ],
            [
             0.2222222222222222,
             "#7201a8"
            ],
            [
             0.3333333333333333,
             "#9c179e"
            ],
            [
             0.4444444444444444,
             "#bd3786"
            ],
            [
             0.5555555555555556,
             "#d8576b"
            ],
            [
             0.6666666666666666,
             "#ed7953"
            ],
            [
             0.7777777777777778,
             "#fb9f3a"
            ],
            [
             0.8888888888888888,
             "#fdca26"
            ],
            [
             1,
             "#f0f921"
            ]
           ],
           "sequentialminus": [
            [
             0,
             "#0d0887"
            ],
            [
             0.1111111111111111,
             "#46039f"
            ],
            [
             0.2222222222222222,
             "#7201a8"
            ],
            [
             0.3333333333333333,
             "#9c179e"
            ],
            [
             0.4444444444444444,
             "#bd3786"
            ],
            [
             0.5555555555555556,
             "#d8576b"
            ],
            [
             0.6666666666666666,
             "#ed7953"
            ],
            [
             0.7777777777777778,
             "#fb9f3a"
            ],
            [
             0.8888888888888888,
             "#fdca26"
            ],
            [
             1,
             "#f0f921"
            ]
           ]
          },
          "colorway": [
           "#636efa",
           "#EF553B",
           "#00cc96",
           "#ab63fa",
           "#FFA15A",
           "#19d3f3",
           "#FF6692",
           "#B6E880",
           "#FF97FF",
           "#FECB52"
          ],
          "font": {
           "color": "#2a3f5f"
          },
          "geo": {
           "bgcolor": "white",
           "lakecolor": "white",
           "landcolor": "#E5ECF6",
           "showlakes": true,
           "showland": true,
           "subunitcolor": "white"
          },
          "hoverlabel": {
           "align": "left"
          },
          "hovermode": "closest",
          "mapbox": {
           "style": "light"
          },
          "paper_bgcolor": "white",
          "plot_bgcolor": "#E5ECF6",
          "polar": {
           "angularaxis": {
            "gridcolor": "white",
            "linecolor": "white",
            "ticks": ""
           },
           "bgcolor": "#E5ECF6",
           "radialaxis": {
            "gridcolor": "white",
            "linecolor": "white",
            "ticks": ""
           }
          },
          "scene": {
           "xaxis": {
            "backgroundcolor": "#E5ECF6",
            "gridcolor": "white",
            "gridwidth": 2,
            "linecolor": "white",
            "showbackground": true,
            "ticks": "",
            "zerolinecolor": "white"
           },
           "yaxis": {
            "backgroundcolor": "#E5ECF6",
            "gridcolor": "white",
            "gridwidth": 2,
            "linecolor": "white",
            "showbackground": true,
            "ticks": "",
            "zerolinecolor": "white"
           },
           "zaxis": {
            "backgroundcolor": "#E5ECF6",
            "gridcolor": "white",
            "gridwidth": 2,
            "linecolor": "white",
            "showbackground": true,
            "ticks": "",
            "zerolinecolor": "white"
           }
          },
          "shapedefaults": {
           "line": {
            "color": "#2a3f5f"
           }
          },
          "ternary": {
           "aaxis": {
            "gridcolor": "white",
            "linecolor": "white",
            "ticks": ""
           },
           "baxis": {
            "gridcolor": "white",
            "linecolor": "white",
            "ticks": ""
           },
           "bgcolor": "#E5ECF6",
           "caxis": {
            "gridcolor": "white",
            "linecolor": "white",
            "ticks": ""
           }
          },
          "title": {
           "x": 0.05
          },
          "xaxis": {
           "automargin": true,
           "gridcolor": "white",
           "linecolor": "white",
           "ticks": "",
           "zerolinecolor": "white",
           "zerolinewidth": 2
          },
          "yaxis": {
           "automargin": true,
           "gridcolor": "white",
           "linecolor": "white",
           "ticks": "",
           "zerolinecolor": "white",
           "zerolinewidth": 2
          }
         }
        },
        "xaxis": {
         "anchor": "y",
         "domain": [
          0,
          0.98
         ],
         "title": {
          "text": "year"
         }
        },
        "yaxis": {
         "anchor": "x",
         "domain": [
          0,
          1
         ],
         "rangemode": "tozero",
         "title": {
          "text": "metro orig sf"
         }
        }
       }
      },
      "text/html": [
       "<div>\n",
       "        \n",
       "        \n",
       "            <div id=\"65c67d34-d3da-4c19-9029-a1e69254ccd3\" class=\"plotly-graph-div\" style=\"height:600px; width:100%;\"></div>\n",
       "            <script type=\"text/javascript\">\n",
       "                require([\"plotly\"], function(Plotly) {\n",
       "                    window.PLOTLYENV=window.PLOTLYENV || {};\n",
       "                    \n",
       "                if (document.getElementById(\"65c67d34-d3da-4c19-9029-a1e69254ccd3\")) {\n",
       "                    Plotly.newPlot(\n",
       "                        '65c67d34-d3da-4c19-9029-a1e69254ccd3',\n",
       "                        [{\"hoverlabel\": {\"namelength\": 0}, \"hovertemplate\": \"year=%{x}<br>metro orig sf=%{y}\", \"legendgroup\": \"\", \"line\": {\"color\": \"#636efa\", \"dash\": \"solid\"}, \"mode\": \"lines\", \"name\": \"\", \"showlegend\": false, \"type\": \"scatter\", \"x\": [\"2007\", \"2008\", \"2009\", \"2010\", \"2011\", \"2012\", \"2013\", \"2014\", \"2015\", \"2016\", \"2017\", \"2018\"], \"xaxis\": \"x\", \"y\": [119065, 93485, 125176, 109937, 87714, 118107, 95832, 61716, 78114, 87535, 72425, 70088], \"yaxis\": \"y\"}],\n",
       "                        {\"height\": 600, \"legend\": {\"tracegroupgap\": 0}, \"margin\": {\"t\": 60}, \"template\": {\"data\": {\"bar\": [{\"error_x\": {\"color\": \"#2a3f5f\"}, \"error_y\": {\"color\": \"#2a3f5f\"}, \"marker\": {\"line\": {\"color\": \"#E5ECF6\", \"width\": 0.5}}, \"type\": \"bar\"}], \"barpolar\": [{\"marker\": {\"line\": {\"color\": \"#E5ECF6\", \"width\": 0.5}}, \"type\": \"barpolar\"}], \"carpet\": [{\"aaxis\": {\"endlinecolor\": \"#2a3f5f\", \"gridcolor\": \"white\", \"linecolor\": \"white\", \"minorgridcolor\": \"white\", \"startlinecolor\": \"#2a3f5f\"}, \"baxis\": {\"endlinecolor\": \"#2a3f5f\", \"gridcolor\": \"white\", \"linecolor\": \"white\", \"minorgridcolor\": \"white\", \"startlinecolor\": \"#2a3f5f\"}, \"type\": \"carpet\"}], \"choropleth\": [{\"colorbar\": {\"outlinewidth\": 0, \"ticks\": \"\"}, \"type\": \"choropleth\"}], \"contour\": [{\"colorbar\": {\"outlinewidth\": 0, \"ticks\": \"\"}, \"colorscale\": [[0.0, \"#0d0887\"], [0.1111111111111111, \"#46039f\"], [0.2222222222222222, \"#7201a8\"], [0.3333333333333333, \"#9c179e\"], [0.4444444444444444, \"#bd3786\"], [0.5555555555555556, \"#d8576b\"], [0.6666666666666666, \"#ed7953\"], [0.7777777777777778, \"#fb9f3a\"], [0.8888888888888888, \"#fdca26\"], [1.0, \"#f0f921\"]], \"type\": \"contour\"}], \"contourcarpet\": [{\"colorbar\": {\"outlinewidth\": 0, \"ticks\": \"\"}, \"type\": \"contourcarpet\"}], \"heatmap\": [{\"colorbar\": {\"outlinewidth\": 0, \"ticks\": \"\"}, \"colorscale\": [[0.0, \"#0d0887\"], [0.1111111111111111, \"#46039f\"], [0.2222222222222222, \"#7201a8\"], [0.3333333333333333, \"#9c179e\"], [0.4444444444444444, \"#bd3786\"], [0.5555555555555556, \"#d8576b\"], [0.6666666666666666, \"#ed7953\"], [0.7777777777777778, \"#fb9f3a\"], [0.8888888888888888, \"#fdca26\"], [1.0, \"#f0f921\"]], \"type\": \"heatmap\"}], \"heatmapgl\": [{\"colorbar\": {\"outlinewidth\": 0, \"ticks\": \"\"}, \"colorscale\": [[0.0, \"#0d0887\"], [0.1111111111111111, \"#46039f\"], [0.2222222222222222, \"#7201a8\"], [0.3333333333333333, \"#9c179e\"], [0.4444444444444444, \"#bd3786\"], [0.5555555555555556, \"#d8576b\"], [0.6666666666666666, \"#ed7953\"], [0.7777777777777778, \"#fb9f3a\"], [0.8888888888888888, \"#fdca26\"], [1.0, \"#f0f921\"]], \"type\": \"heatmapgl\"}], \"histogram\": [{\"marker\": {\"colorbar\": {\"outlinewidth\": 0, \"ticks\": \"\"}}, \"type\": \"histogram\"}], \"histogram2d\": [{\"colorbar\": {\"outlinewidth\": 0, \"ticks\": \"\"}, \"colorscale\": [[0.0, \"#0d0887\"], [0.1111111111111111, \"#46039f\"], [0.2222222222222222, \"#7201a8\"], [0.3333333333333333, \"#9c179e\"], [0.4444444444444444, \"#bd3786\"], [0.5555555555555556, \"#d8576b\"], [0.6666666666666666, \"#ed7953\"], [0.7777777777777778, \"#fb9f3a\"], [0.8888888888888888, \"#fdca26\"], [1.0, \"#f0f921\"]], \"type\": \"histogram2d\"}], \"histogram2dcontour\": [{\"colorbar\": {\"outlinewidth\": 0, \"ticks\": \"\"}, \"colorscale\": [[0.0, \"#0d0887\"], [0.1111111111111111, \"#46039f\"], [0.2222222222222222, \"#7201a8\"], [0.3333333333333333, \"#9c179e\"], [0.4444444444444444, \"#bd3786\"], [0.5555555555555556, \"#d8576b\"], [0.6666666666666666, \"#ed7953\"], [0.7777777777777778, \"#fb9f3a\"], [0.8888888888888888, \"#fdca26\"], [1.0, \"#f0f921\"]], \"type\": \"histogram2dcontour\"}], \"mesh3d\": [{\"colorbar\": {\"outlinewidth\": 0, \"ticks\": \"\"}, \"type\": \"mesh3d\"}], \"parcoords\": [{\"line\": {\"colorbar\": {\"outlinewidth\": 0, \"ticks\": \"\"}}, \"type\": \"parcoords\"}], \"scatter\": [{\"marker\": {\"colorbar\": {\"outlinewidth\": 0, \"ticks\": \"\"}}, \"type\": \"scatter\"}], \"scatter3d\": [{\"line\": {\"colorbar\": {\"outlinewidth\": 0, \"ticks\": \"\"}}, \"marker\": {\"colorbar\": {\"outlinewidth\": 0, \"ticks\": \"\"}}, \"type\": \"scatter3d\"}], \"scattercarpet\": [{\"marker\": {\"colorbar\": {\"outlinewidth\": 0, \"ticks\": \"\"}}, \"type\": \"scattercarpet\"}], \"scattergeo\": [{\"marker\": {\"colorbar\": {\"outlinewidth\": 0, \"ticks\": \"\"}}, \"type\": \"scattergeo\"}], \"scattergl\": [{\"marker\": {\"colorbar\": {\"outlinewidth\": 0, \"ticks\": \"\"}}, \"type\": \"scattergl\"}], \"scattermapbox\": [{\"marker\": {\"colorbar\": {\"outlinewidth\": 0, \"ticks\": \"\"}}, \"type\": \"scattermapbox\"}], \"scatterpolar\": [{\"marker\": {\"colorbar\": {\"outlinewidth\": 0, \"ticks\": \"\"}}, \"type\": \"scatterpolar\"}], \"scatterpolargl\": [{\"marker\": {\"colorbar\": {\"outlinewidth\": 0, \"ticks\": \"\"}}, \"type\": \"scatterpolargl\"}], \"scatterternary\": [{\"marker\": {\"colorbar\": {\"outlinewidth\": 0, \"ticks\": \"\"}}, \"type\": \"scatterternary\"}], \"surface\": [{\"colorbar\": {\"outlinewidth\": 0, \"ticks\": \"\"}, \"colorscale\": [[0.0, \"#0d0887\"], [0.1111111111111111, \"#46039f\"], [0.2222222222222222, \"#7201a8\"], [0.3333333333333333, \"#9c179e\"], [0.4444444444444444, \"#bd3786\"], [0.5555555555555556, \"#d8576b\"], [0.6666666666666666, \"#ed7953\"], [0.7777777777777778, \"#fb9f3a\"], [0.8888888888888888, \"#fdca26\"], [1.0, \"#f0f921\"]], \"type\": \"surface\"}], \"table\": [{\"cells\": {\"fill\": {\"color\": \"#EBF0F8\"}, \"line\": {\"color\": \"white\"}}, \"header\": {\"fill\": {\"color\": \"#C8D4E3\"}, \"line\": {\"color\": \"white\"}}, \"type\": \"table\"}]}, \"layout\": {\"annotationdefaults\": {\"arrowcolor\": \"#2a3f5f\", \"arrowhead\": 0, \"arrowwidth\": 1}, \"colorscale\": {\"diverging\": [[0, \"#8e0152\"], [0.1, \"#c51b7d\"], [0.2, \"#de77ae\"], [0.3, \"#f1b6da\"], [0.4, \"#fde0ef\"], [0.5, \"#f7f7f7\"], [0.6, \"#e6f5d0\"], [0.7, \"#b8e186\"], [0.8, \"#7fbc41\"], [0.9, \"#4d9221\"], [1, \"#276419\"]], \"sequential\": [[0.0, \"#0d0887\"], [0.1111111111111111, \"#46039f\"], [0.2222222222222222, \"#7201a8\"], [0.3333333333333333, \"#9c179e\"], [0.4444444444444444, \"#bd3786\"], [0.5555555555555556, \"#d8576b\"], [0.6666666666666666, \"#ed7953\"], [0.7777777777777778, \"#fb9f3a\"], [0.8888888888888888, \"#fdca26\"], [1.0, \"#f0f921\"]], \"sequentialminus\": [[0.0, \"#0d0887\"], [0.1111111111111111, \"#46039f\"], [0.2222222222222222, \"#7201a8\"], [0.3333333333333333, \"#9c179e\"], [0.4444444444444444, \"#bd3786\"], [0.5555555555555556, \"#d8576b\"], [0.6666666666666666, \"#ed7953\"], [0.7777777777777778, \"#fb9f3a\"], [0.8888888888888888, \"#fdca26\"], [1.0, \"#f0f921\"]]}, \"colorway\": [\"#636efa\", \"#EF553B\", \"#00cc96\", \"#ab63fa\", \"#FFA15A\", \"#19d3f3\", \"#FF6692\", \"#B6E880\", \"#FF97FF\", \"#FECB52\"], \"font\": {\"color\": \"#2a3f5f\"}, \"geo\": {\"bgcolor\": \"white\", \"lakecolor\": \"white\", \"landcolor\": \"#E5ECF6\", \"showlakes\": true, \"showland\": true, \"subunitcolor\": \"white\"}, \"hoverlabel\": {\"align\": \"left\"}, \"hovermode\": \"closest\", \"mapbox\": {\"style\": \"light\"}, \"paper_bgcolor\": \"white\", \"plot_bgcolor\": \"#E5ECF6\", \"polar\": {\"angularaxis\": {\"gridcolor\": \"white\", \"linecolor\": \"white\", \"ticks\": \"\"}, \"bgcolor\": \"#E5ECF6\", \"radialaxis\": {\"gridcolor\": \"white\", \"linecolor\": \"white\", \"ticks\": \"\"}}, \"scene\": {\"xaxis\": {\"backgroundcolor\": \"#E5ECF6\", \"gridcolor\": \"white\", \"gridwidth\": 2, \"linecolor\": \"white\", \"showbackground\": true, \"ticks\": \"\", \"zerolinecolor\": \"white\"}, \"yaxis\": {\"backgroundcolor\": \"#E5ECF6\", \"gridcolor\": \"white\", \"gridwidth\": 2, \"linecolor\": \"white\", \"showbackground\": true, \"ticks\": \"\", \"zerolinecolor\": \"white\"}, \"zaxis\": {\"backgroundcolor\": \"#E5ECF6\", \"gridcolor\": \"white\", \"gridwidth\": 2, \"linecolor\": \"white\", \"showbackground\": true, \"ticks\": \"\", \"zerolinecolor\": \"white\"}}, \"shapedefaults\": {\"line\": {\"color\": \"#2a3f5f\"}}, \"ternary\": {\"aaxis\": {\"gridcolor\": \"white\", \"linecolor\": \"white\", \"ticks\": \"\"}, \"baxis\": {\"gridcolor\": \"white\", \"linecolor\": \"white\", \"ticks\": \"\"}, \"bgcolor\": \"#E5ECF6\", \"caxis\": {\"gridcolor\": \"white\", \"linecolor\": \"white\", \"ticks\": \"\"}}, \"title\": {\"x\": 0.05}, \"xaxis\": {\"automargin\": true, \"gridcolor\": \"white\", \"linecolor\": \"white\", \"ticks\": \"\", \"zerolinecolor\": \"white\", \"zerolinewidth\": 2}, \"yaxis\": {\"automargin\": true, \"gridcolor\": \"white\", \"linecolor\": \"white\", \"ticks\": \"\", \"zerolinecolor\": \"white\", \"zerolinewidth\": 2}}}, \"xaxis\": {\"anchor\": \"y\", \"domain\": [0.0, 0.98], \"title\": {\"text\": \"year\"}}, \"yaxis\": {\"anchor\": \"x\", \"domain\": [0.0, 1.0], \"rangemode\": \"tozero\", \"title\": {\"text\": \"metro orig sf\"}}},\n",
       "                        {\"responsive\": true}\n",
       "                    ).then(function(){\n",
       "                            \n",
       "var gd = document.getElementById('65c67d34-d3da-4c19-9029-a1e69254ccd3');\n",
       "var x = new MutationObserver(function (mutations, observer) {{\n",
       "        var display = window.getComputedStyle(gd).display;\n",
       "        if (!display || display === 'none') {{\n",
       "            console.log([gd, 'removed!']);\n",
       "            Plotly.purge(gd);\n",
       "            observer.disconnect();\n",
       "        }}\n",
       "}});\n",
       "\n",
       "// Listen for the removal of the full notebook cells\n",
       "var notebookContainer = gd.closest('#notebook-container');\n",
       "if (notebookContainer) {{\n",
       "    x.observe(notebookContainer, {childList: true});\n",
       "}}\n",
       "\n",
       "// Listen for the clearing of the current output cell\n",
       "var outputEl = gd.closest('.output');\n",
       "if (outputEl) {{\n",
       "    x.observe(outputEl, {childList: true});\n",
       "}}\n",
       "\n",
       "                        })\n",
       "                };\n",
       "                });\n",
       "            </script>\n",
       "        </div>"
      ]
     },
     "metadata": {},
     "output_type": "display_data"
    }
   ],
   "source": [
    "metro_sf_counts_df.columns = ['year', 'metro orig sf']\n",
    "fig_metro_orig_sf = px.line(metro_sf_counts_df, x='year', y='metro orig sf')\n",
    "fig_metro_orig_sf.update_yaxes(rangemode=\"tozero\")"
   ]
  },
  {
   "cell_type": "code",
   "execution_count": 190,
   "metadata": {},
   "outputs": [],
   "source": [
    "# Filtering the dfs of originated, sf properties loans to originated, sf properties for home purchase\n",
    "\n",
    "metsfp07 = metsf07.loc[metsf07['loan_purpose'].isin(purchase)]\n",
    "metsfp08 = metsf08.loc[metsf08['loan_purpose'].isin(purchase)]\n",
    "metsfp09 = metsf09.loc[metsf09['loan_purpose'].isin(purchase)]\n",
    "metsfp10 = metsf10.loc[metsf10['loan_purpose'].isin(purchase)]\n",
    "metsfp11 = metsf11.loc[metsf11['loan_purpose'].isin(purchase)]\n",
    "metsfp12 = metsf12.loc[metsf12['loan_purpose'].isin(purchase)]\n",
    "metsfp13 = metsf13.loc[metsf13['loan_purpose'].isin(purchase)]\n",
    "metsfp14 = metsf14.loc[metsf14['loan_purpose'].isin(purchase)]\n",
    "metsfp15 = metsf15.loc[metsf15['loan_purpose'].isin(purchase)]\n",
    "metsfp16 = metsf16.loc[metsf16['loan_purpose'].isin(purchase)]\n",
    "metsfp17 = metsf17.loc[metsf17['loan_purpose'].isin(purchase)]\n",
    "metsfp18 = metsf18.loc[metsf18['loan_purpose'].isin(purchase)]\n",
    "\n",
    "metsfp07c = metsfp07['as_of_year'].count()\n",
    "metsfp08c = metsfp08['as_of_year'].count()\n",
    "metsfp09c = metsfp09['as_of_year'].count()\n",
    "metsfp10c = metsfp10['as_of_year'].count()\n",
    "metsfp11c = metsfp11['as_of_year'].count()\n",
    "metsfp12c = metsfp12['as_of_year'].count()\n",
    "metsfp13c = metsfp13['as_of_year'].count()\n",
    "metsfp14c = metsfp14['as_of_year'].count()\n",
    "metsfp15c = metsfp15['as_of_year'].count()\n",
    "metsfp16c = metsfp16['as_of_year'].count()\n",
    "metsfp17c = metsfp17['as_of_year'].count()\n",
    "metsfp18c = metsfp18['activity_year'].count()\n",
    "\n",
    "metro_sf_purchases = [metsfp07c, metsfp08c, metsfp09c, metsfp10c, metsfp11c, metsfp12c, metsfp13c, metsfp14c, metsfp15c, metsfp16c, metsfp17c, metsfp18c]\n",
    "metro_sf_purchases_df = pd.DataFrame([metro_sf_purchases], columns=count_headers)"
   ]
  },
  {
   "cell_type": "code",
   "execution_count": 191,
   "metadata": {},
   "outputs": [],
   "source": [
    "metro_sf_purchases_df = metro_sf_purchases_df.transpose()\n",
    "metro_sf_purchases_df = metro_sf_purchases_df.reset_index()"
   ]
  },
  {
   "cell_type": "code",
   "execution_count": 192,
   "metadata": {},
   "outputs": [
    {
     "data": {
      "application/vnd.plotly.v1+json": {
       "config": {
        "plotlyServerURL": "https://plot.ly"
       },
       "data": [
        {
         "hoverlabel": {
          "namelength": 0
         },
         "hovertemplate": "year=%{x}<br>metro orig sf purchases=%{y}",
         "legendgroup": "",
         "line": {
          "color": "#636efa",
          "dash": "solid"
         },
         "mode": "lines",
         "name": "",
         "showlegend": false,
         "type": "scatter",
         "x": [
          "2007",
          "2008",
          "2009",
          "2010",
          "2011",
          "2012",
          "2013",
          "2014",
          "2015",
          "2016",
          "2017",
          "2018"
         ],
         "xaxis": "x",
         "y": [
          49945,
          33365,
          29449,
          25859,
          23699,
          26756,
          30977,
          32553,
          37348,
          41490,
          42823,
          41188
         ],
         "yaxis": "y"
        }
       ],
       "layout": {
        "height": 600,
        "legend": {
         "tracegroupgap": 0
        },
        "margin": {
         "t": 60
        },
        "template": {
         "data": {
          "bar": [
           {
            "error_x": {
             "color": "#2a3f5f"
            },
            "error_y": {
             "color": "#2a3f5f"
            },
            "marker": {
             "line": {
              "color": "#E5ECF6",
              "width": 0.5
             }
            },
            "type": "bar"
           }
          ],
          "barpolar": [
           {
            "marker": {
             "line": {
              "color": "#E5ECF6",
              "width": 0.5
             }
            },
            "type": "barpolar"
           }
          ],
          "carpet": [
           {
            "aaxis": {
             "endlinecolor": "#2a3f5f",
             "gridcolor": "white",
             "linecolor": "white",
             "minorgridcolor": "white",
             "startlinecolor": "#2a3f5f"
            },
            "baxis": {
             "endlinecolor": "#2a3f5f",
             "gridcolor": "white",
             "linecolor": "white",
             "minorgridcolor": "white",
             "startlinecolor": "#2a3f5f"
            },
            "type": "carpet"
           }
          ],
          "choropleth": [
           {
            "colorbar": {
             "outlinewidth": 0,
             "ticks": ""
            },
            "type": "choropleth"
           }
          ],
          "contour": [
           {
            "colorbar": {
             "outlinewidth": 0,
             "ticks": ""
            },
            "colorscale": [
             [
              0,
              "#0d0887"
             ],
             [
              0.1111111111111111,
              "#46039f"
             ],
             [
              0.2222222222222222,
              "#7201a8"
             ],
             [
              0.3333333333333333,
              "#9c179e"
             ],
             [
              0.4444444444444444,
              "#bd3786"
             ],
             [
              0.5555555555555556,
              "#d8576b"
             ],
             [
              0.6666666666666666,
              "#ed7953"
             ],
             [
              0.7777777777777778,
              "#fb9f3a"
             ],
             [
              0.8888888888888888,
              "#fdca26"
             ],
             [
              1,
              "#f0f921"
             ]
            ],
            "type": "contour"
           }
          ],
          "contourcarpet": [
           {
            "colorbar": {
             "outlinewidth": 0,
             "ticks": ""
            },
            "type": "contourcarpet"
           }
          ],
          "heatmap": [
           {
            "colorbar": {
             "outlinewidth": 0,
             "ticks": ""
            },
            "colorscale": [
             [
              0,
              "#0d0887"
             ],
             [
              0.1111111111111111,
              "#46039f"
             ],
             [
              0.2222222222222222,
              "#7201a8"
             ],
             [
              0.3333333333333333,
              "#9c179e"
             ],
             [
              0.4444444444444444,
              "#bd3786"
             ],
             [
              0.5555555555555556,
              "#d8576b"
             ],
             [
              0.6666666666666666,
              "#ed7953"
             ],
             [
              0.7777777777777778,
              "#fb9f3a"
             ],
             [
              0.8888888888888888,
              "#fdca26"
             ],
             [
              1,
              "#f0f921"
             ]
            ],
            "type": "heatmap"
           }
          ],
          "heatmapgl": [
           {
            "colorbar": {
             "outlinewidth": 0,
             "ticks": ""
            },
            "colorscale": [
             [
              0,
              "#0d0887"
             ],
             [
              0.1111111111111111,
              "#46039f"
             ],
             [
              0.2222222222222222,
              "#7201a8"
             ],
             [
              0.3333333333333333,
              "#9c179e"
             ],
             [
              0.4444444444444444,
              "#bd3786"
             ],
             [
              0.5555555555555556,
              "#d8576b"
             ],
             [
              0.6666666666666666,
              "#ed7953"
             ],
             [
              0.7777777777777778,
              "#fb9f3a"
             ],
             [
              0.8888888888888888,
              "#fdca26"
             ],
             [
              1,
              "#f0f921"
             ]
            ],
            "type": "heatmapgl"
           }
          ],
          "histogram": [
           {
            "marker": {
             "colorbar": {
              "outlinewidth": 0,
              "ticks": ""
             }
            },
            "type": "histogram"
           }
          ],
          "histogram2d": [
           {
            "colorbar": {
             "outlinewidth": 0,
             "ticks": ""
            },
            "colorscale": [
             [
              0,
              "#0d0887"
             ],
             [
              0.1111111111111111,
              "#46039f"
             ],
             [
              0.2222222222222222,
              "#7201a8"
             ],
             [
              0.3333333333333333,
              "#9c179e"
             ],
             [
              0.4444444444444444,
              "#bd3786"
             ],
             [
              0.5555555555555556,
              "#d8576b"
             ],
             [
              0.6666666666666666,
              "#ed7953"
             ],
             [
              0.7777777777777778,
              "#fb9f3a"
             ],
             [
              0.8888888888888888,
              "#fdca26"
             ],
             [
              1,
              "#f0f921"
             ]
            ],
            "type": "histogram2d"
           }
          ],
          "histogram2dcontour": [
           {
            "colorbar": {
             "outlinewidth": 0,
             "ticks": ""
            },
            "colorscale": [
             [
              0,
              "#0d0887"
             ],
             [
              0.1111111111111111,
              "#46039f"
             ],
             [
              0.2222222222222222,
              "#7201a8"
             ],
             [
              0.3333333333333333,
              "#9c179e"
             ],
             [
              0.4444444444444444,
              "#bd3786"
             ],
             [
              0.5555555555555556,
              "#d8576b"
             ],
             [
              0.6666666666666666,
              "#ed7953"
             ],
             [
              0.7777777777777778,
              "#fb9f3a"
             ],
             [
              0.8888888888888888,
              "#fdca26"
             ],
             [
              1,
              "#f0f921"
             ]
            ],
            "type": "histogram2dcontour"
           }
          ],
          "mesh3d": [
           {
            "colorbar": {
             "outlinewidth": 0,
             "ticks": ""
            },
            "type": "mesh3d"
           }
          ],
          "parcoords": [
           {
            "line": {
             "colorbar": {
              "outlinewidth": 0,
              "ticks": ""
             }
            },
            "type": "parcoords"
           }
          ],
          "scatter": [
           {
            "marker": {
             "colorbar": {
              "outlinewidth": 0,
              "ticks": ""
             }
            },
            "type": "scatter"
           }
          ],
          "scatter3d": [
           {
            "line": {
             "colorbar": {
              "outlinewidth": 0,
              "ticks": ""
             }
            },
            "marker": {
             "colorbar": {
              "outlinewidth": 0,
              "ticks": ""
             }
            },
            "type": "scatter3d"
           }
          ],
          "scattercarpet": [
           {
            "marker": {
             "colorbar": {
              "outlinewidth": 0,
              "ticks": ""
             }
            },
            "type": "scattercarpet"
           }
          ],
          "scattergeo": [
           {
            "marker": {
             "colorbar": {
              "outlinewidth": 0,
              "ticks": ""
             }
            },
            "type": "scattergeo"
           }
          ],
          "scattergl": [
           {
            "marker": {
             "colorbar": {
              "outlinewidth": 0,
              "ticks": ""
             }
            },
            "type": "scattergl"
           }
          ],
          "scattermapbox": [
           {
            "marker": {
             "colorbar": {
              "outlinewidth": 0,
              "ticks": ""
             }
            },
            "type": "scattermapbox"
           }
          ],
          "scatterpolar": [
           {
            "marker": {
             "colorbar": {
              "outlinewidth": 0,
              "ticks": ""
             }
            },
            "type": "scatterpolar"
           }
          ],
          "scatterpolargl": [
           {
            "marker": {
             "colorbar": {
              "outlinewidth": 0,
              "ticks": ""
             }
            },
            "type": "scatterpolargl"
           }
          ],
          "scatterternary": [
           {
            "marker": {
             "colorbar": {
              "outlinewidth": 0,
              "ticks": ""
             }
            },
            "type": "scatterternary"
           }
          ],
          "surface": [
           {
            "colorbar": {
             "outlinewidth": 0,
             "ticks": ""
            },
            "colorscale": [
             [
              0,
              "#0d0887"
             ],
             [
              0.1111111111111111,
              "#46039f"
             ],
             [
              0.2222222222222222,
              "#7201a8"
             ],
             [
              0.3333333333333333,
              "#9c179e"
             ],
             [
              0.4444444444444444,
              "#bd3786"
             ],
             [
              0.5555555555555556,
              "#d8576b"
             ],
             [
              0.6666666666666666,
              "#ed7953"
             ],
             [
              0.7777777777777778,
              "#fb9f3a"
             ],
             [
              0.8888888888888888,
              "#fdca26"
             ],
             [
              1,
              "#f0f921"
             ]
            ],
            "type": "surface"
           }
          ],
          "table": [
           {
            "cells": {
             "fill": {
              "color": "#EBF0F8"
             },
             "line": {
              "color": "white"
             }
            },
            "header": {
             "fill": {
              "color": "#C8D4E3"
             },
             "line": {
              "color": "white"
             }
            },
            "type": "table"
           }
          ]
         },
         "layout": {
          "annotationdefaults": {
           "arrowcolor": "#2a3f5f",
           "arrowhead": 0,
           "arrowwidth": 1
          },
          "colorscale": {
           "diverging": [
            [
             0,
             "#8e0152"
            ],
            [
             0.1,
             "#c51b7d"
            ],
            [
             0.2,
             "#de77ae"
            ],
            [
             0.3,
             "#f1b6da"
            ],
            [
             0.4,
             "#fde0ef"
            ],
            [
             0.5,
             "#f7f7f7"
            ],
            [
             0.6,
             "#e6f5d0"
            ],
            [
             0.7,
             "#b8e186"
            ],
            [
             0.8,
             "#7fbc41"
            ],
            [
             0.9,
             "#4d9221"
            ],
            [
             1,
             "#276419"
            ]
           ],
           "sequential": [
            [
             0,
             "#0d0887"
            ],
            [
             0.1111111111111111,
             "#46039f"
            ],
            [
             0.2222222222222222,
             "#7201a8"
            ],
            [
             0.3333333333333333,
             "#9c179e"
            ],
            [
             0.4444444444444444,
             "#bd3786"
            ],
            [
             0.5555555555555556,
             "#d8576b"
            ],
            [
             0.6666666666666666,
             "#ed7953"
            ],
            [
             0.7777777777777778,
             "#fb9f3a"
            ],
            [
             0.8888888888888888,
             "#fdca26"
            ],
            [
             1,
             "#f0f921"
            ]
           ],
           "sequentialminus": [
            [
             0,
             "#0d0887"
            ],
            [
             0.1111111111111111,
             "#46039f"
            ],
            [
             0.2222222222222222,
             "#7201a8"
            ],
            [
             0.3333333333333333,
             "#9c179e"
            ],
            [
             0.4444444444444444,
             "#bd3786"
            ],
            [
             0.5555555555555556,
             "#d8576b"
            ],
            [
             0.6666666666666666,
             "#ed7953"
            ],
            [
             0.7777777777777778,
             "#fb9f3a"
            ],
            [
             0.8888888888888888,
             "#fdca26"
            ],
            [
             1,
             "#f0f921"
            ]
           ]
          },
          "colorway": [
           "#636efa",
           "#EF553B",
           "#00cc96",
           "#ab63fa",
           "#FFA15A",
           "#19d3f3",
           "#FF6692",
           "#B6E880",
           "#FF97FF",
           "#FECB52"
          ],
          "font": {
           "color": "#2a3f5f"
          },
          "geo": {
           "bgcolor": "white",
           "lakecolor": "white",
           "landcolor": "#E5ECF6",
           "showlakes": true,
           "showland": true,
           "subunitcolor": "white"
          },
          "hoverlabel": {
           "align": "left"
          },
          "hovermode": "closest",
          "mapbox": {
           "style": "light"
          },
          "paper_bgcolor": "white",
          "plot_bgcolor": "#E5ECF6",
          "polar": {
           "angularaxis": {
            "gridcolor": "white",
            "linecolor": "white",
            "ticks": ""
           },
           "bgcolor": "#E5ECF6",
           "radialaxis": {
            "gridcolor": "white",
            "linecolor": "white",
            "ticks": ""
           }
          },
          "scene": {
           "xaxis": {
            "backgroundcolor": "#E5ECF6",
            "gridcolor": "white",
            "gridwidth": 2,
            "linecolor": "white",
            "showbackground": true,
            "ticks": "",
            "zerolinecolor": "white"
           },
           "yaxis": {
            "backgroundcolor": "#E5ECF6",
            "gridcolor": "white",
            "gridwidth": 2,
            "linecolor": "white",
            "showbackground": true,
            "ticks": "",
            "zerolinecolor": "white"
           },
           "zaxis": {
            "backgroundcolor": "#E5ECF6",
            "gridcolor": "white",
            "gridwidth": 2,
            "linecolor": "white",
            "showbackground": true,
            "ticks": "",
            "zerolinecolor": "white"
           }
          },
          "shapedefaults": {
           "line": {
            "color": "#2a3f5f"
           }
          },
          "ternary": {
           "aaxis": {
            "gridcolor": "white",
            "linecolor": "white",
            "ticks": ""
           },
           "baxis": {
            "gridcolor": "white",
            "linecolor": "white",
            "ticks": ""
           },
           "bgcolor": "#E5ECF6",
           "caxis": {
            "gridcolor": "white",
            "linecolor": "white",
            "ticks": ""
           }
          },
          "title": {
           "x": 0.05
          },
          "xaxis": {
           "automargin": true,
           "gridcolor": "white",
           "linecolor": "white",
           "ticks": "",
           "zerolinecolor": "white",
           "zerolinewidth": 2
          },
          "yaxis": {
           "automargin": true,
           "gridcolor": "white",
           "linecolor": "white",
           "ticks": "",
           "zerolinecolor": "white",
           "zerolinewidth": 2
          }
         }
        },
        "xaxis": {
         "anchor": "y",
         "domain": [
          0,
          0.98
         ],
         "title": {
          "text": "year"
         }
        },
        "yaxis": {
         "anchor": "x",
         "domain": [
          0,
          1
         ],
         "rangemode": "tozero",
         "title": {
          "text": "metro orig sf purchases"
         }
        }
       }
      },
      "text/html": [
       "<div>\n",
       "        \n",
       "        \n",
       "            <div id=\"de4f7d4e-4cac-4fe8-bd55-ccb9a1350d42\" class=\"plotly-graph-div\" style=\"height:600px; width:100%;\"></div>\n",
       "            <script type=\"text/javascript\">\n",
       "                require([\"plotly\"], function(Plotly) {\n",
       "                    window.PLOTLYENV=window.PLOTLYENV || {};\n",
       "                    \n",
       "                if (document.getElementById(\"de4f7d4e-4cac-4fe8-bd55-ccb9a1350d42\")) {\n",
       "                    Plotly.newPlot(\n",
       "                        'de4f7d4e-4cac-4fe8-bd55-ccb9a1350d42',\n",
       "                        [{\"hoverlabel\": {\"namelength\": 0}, \"hovertemplate\": \"year=%{x}<br>metro orig sf purchases=%{y}\", \"legendgroup\": \"\", \"line\": {\"color\": \"#636efa\", \"dash\": \"solid\"}, \"mode\": \"lines\", \"name\": \"\", \"showlegend\": false, \"type\": \"scatter\", \"x\": [\"2007\", \"2008\", \"2009\", \"2010\", \"2011\", \"2012\", \"2013\", \"2014\", \"2015\", \"2016\", \"2017\", \"2018\"], \"xaxis\": \"x\", \"y\": [49945, 33365, 29449, 25859, 23699, 26756, 30977, 32553, 37348, 41490, 42823, 41188], \"yaxis\": \"y\"}],\n",
       "                        {\"height\": 600, \"legend\": {\"tracegroupgap\": 0}, \"margin\": {\"t\": 60}, \"template\": {\"data\": {\"bar\": [{\"error_x\": {\"color\": \"#2a3f5f\"}, \"error_y\": {\"color\": \"#2a3f5f\"}, \"marker\": {\"line\": {\"color\": \"#E5ECF6\", \"width\": 0.5}}, \"type\": \"bar\"}], \"barpolar\": [{\"marker\": {\"line\": {\"color\": \"#E5ECF6\", \"width\": 0.5}}, \"type\": \"barpolar\"}], \"carpet\": [{\"aaxis\": {\"endlinecolor\": \"#2a3f5f\", \"gridcolor\": \"white\", \"linecolor\": \"white\", \"minorgridcolor\": \"white\", \"startlinecolor\": \"#2a3f5f\"}, \"baxis\": {\"endlinecolor\": \"#2a3f5f\", \"gridcolor\": \"white\", \"linecolor\": \"white\", \"minorgridcolor\": \"white\", \"startlinecolor\": \"#2a3f5f\"}, \"type\": \"carpet\"}], \"choropleth\": [{\"colorbar\": {\"outlinewidth\": 0, \"ticks\": \"\"}, \"type\": \"choropleth\"}], \"contour\": [{\"colorbar\": {\"outlinewidth\": 0, \"ticks\": \"\"}, \"colorscale\": [[0.0, \"#0d0887\"], [0.1111111111111111, \"#46039f\"], [0.2222222222222222, \"#7201a8\"], [0.3333333333333333, \"#9c179e\"], [0.4444444444444444, \"#bd3786\"], [0.5555555555555556, \"#d8576b\"], [0.6666666666666666, \"#ed7953\"], [0.7777777777777778, \"#fb9f3a\"], [0.8888888888888888, \"#fdca26\"], [1.0, \"#f0f921\"]], \"type\": \"contour\"}], \"contourcarpet\": [{\"colorbar\": {\"outlinewidth\": 0, \"ticks\": \"\"}, \"type\": \"contourcarpet\"}], \"heatmap\": [{\"colorbar\": {\"outlinewidth\": 0, \"ticks\": \"\"}, \"colorscale\": [[0.0, \"#0d0887\"], [0.1111111111111111, \"#46039f\"], [0.2222222222222222, \"#7201a8\"], [0.3333333333333333, \"#9c179e\"], [0.4444444444444444, \"#bd3786\"], [0.5555555555555556, \"#d8576b\"], [0.6666666666666666, \"#ed7953\"], [0.7777777777777778, \"#fb9f3a\"], [0.8888888888888888, \"#fdca26\"], [1.0, \"#f0f921\"]], \"type\": \"heatmap\"}], \"heatmapgl\": [{\"colorbar\": {\"outlinewidth\": 0, \"ticks\": \"\"}, \"colorscale\": [[0.0, \"#0d0887\"], [0.1111111111111111, \"#46039f\"], [0.2222222222222222, \"#7201a8\"], [0.3333333333333333, \"#9c179e\"], [0.4444444444444444, \"#bd3786\"], [0.5555555555555556, \"#d8576b\"], [0.6666666666666666, \"#ed7953\"], [0.7777777777777778, \"#fb9f3a\"], [0.8888888888888888, \"#fdca26\"], [1.0, \"#f0f921\"]], \"type\": \"heatmapgl\"}], \"histogram\": [{\"marker\": {\"colorbar\": {\"outlinewidth\": 0, \"ticks\": \"\"}}, \"type\": \"histogram\"}], \"histogram2d\": [{\"colorbar\": {\"outlinewidth\": 0, \"ticks\": \"\"}, \"colorscale\": [[0.0, \"#0d0887\"], [0.1111111111111111, \"#46039f\"], [0.2222222222222222, \"#7201a8\"], [0.3333333333333333, \"#9c179e\"], [0.4444444444444444, \"#bd3786\"], [0.5555555555555556, \"#d8576b\"], [0.6666666666666666, \"#ed7953\"], [0.7777777777777778, \"#fb9f3a\"], [0.8888888888888888, \"#fdca26\"], [1.0, \"#f0f921\"]], \"type\": \"histogram2d\"}], \"histogram2dcontour\": [{\"colorbar\": {\"outlinewidth\": 0, \"ticks\": \"\"}, \"colorscale\": [[0.0, \"#0d0887\"], [0.1111111111111111, \"#46039f\"], [0.2222222222222222, \"#7201a8\"], [0.3333333333333333, \"#9c179e\"], [0.4444444444444444, \"#bd3786\"], [0.5555555555555556, \"#d8576b\"], [0.6666666666666666, \"#ed7953\"], [0.7777777777777778, \"#fb9f3a\"], [0.8888888888888888, \"#fdca26\"], [1.0, \"#f0f921\"]], \"type\": \"histogram2dcontour\"}], \"mesh3d\": [{\"colorbar\": {\"outlinewidth\": 0, \"ticks\": \"\"}, \"type\": \"mesh3d\"}], \"parcoords\": [{\"line\": {\"colorbar\": {\"outlinewidth\": 0, \"ticks\": \"\"}}, \"type\": \"parcoords\"}], \"scatter\": [{\"marker\": {\"colorbar\": {\"outlinewidth\": 0, \"ticks\": \"\"}}, \"type\": \"scatter\"}], \"scatter3d\": [{\"line\": {\"colorbar\": {\"outlinewidth\": 0, \"ticks\": \"\"}}, \"marker\": {\"colorbar\": {\"outlinewidth\": 0, \"ticks\": \"\"}}, \"type\": \"scatter3d\"}], \"scattercarpet\": [{\"marker\": {\"colorbar\": {\"outlinewidth\": 0, \"ticks\": \"\"}}, \"type\": \"scattercarpet\"}], \"scattergeo\": [{\"marker\": {\"colorbar\": {\"outlinewidth\": 0, \"ticks\": \"\"}}, \"type\": \"scattergeo\"}], \"scattergl\": [{\"marker\": {\"colorbar\": {\"outlinewidth\": 0, \"ticks\": \"\"}}, \"type\": \"scattergl\"}], \"scattermapbox\": [{\"marker\": {\"colorbar\": {\"outlinewidth\": 0, \"ticks\": \"\"}}, \"type\": \"scattermapbox\"}], \"scatterpolar\": [{\"marker\": {\"colorbar\": {\"outlinewidth\": 0, \"ticks\": \"\"}}, \"type\": \"scatterpolar\"}], \"scatterpolargl\": [{\"marker\": {\"colorbar\": {\"outlinewidth\": 0, \"ticks\": \"\"}}, \"type\": \"scatterpolargl\"}], \"scatterternary\": [{\"marker\": {\"colorbar\": {\"outlinewidth\": 0, \"ticks\": \"\"}}, \"type\": \"scatterternary\"}], \"surface\": [{\"colorbar\": {\"outlinewidth\": 0, \"ticks\": \"\"}, \"colorscale\": [[0.0, \"#0d0887\"], [0.1111111111111111, \"#46039f\"], [0.2222222222222222, \"#7201a8\"], [0.3333333333333333, \"#9c179e\"], [0.4444444444444444, \"#bd3786\"], [0.5555555555555556, \"#d8576b\"], [0.6666666666666666, \"#ed7953\"], [0.7777777777777778, \"#fb9f3a\"], [0.8888888888888888, \"#fdca26\"], [1.0, \"#f0f921\"]], \"type\": \"surface\"}], \"table\": [{\"cells\": {\"fill\": {\"color\": \"#EBF0F8\"}, \"line\": {\"color\": \"white\"}}, \"header\": {\"fill\": {\"color\": \"#C8D4E3\"}, \"line\": {\"color\": \"white\"}}, \"type\": \"table\"}]}, \"layout\": {\"annotationdefaults\": {\"arrowcolor\": \"#2a3f5f\", \"arrowhead\": 0, \"arrowwidth\": 1}, \"colorscale\": {\"diverging\": [[0, \"#8e0152\"], [0.1, \"#c51b7d\"], [0.2, \"#de77ae\"], [0.3, \"#f1b6da\"], [0.4, \"#fde0ef\"], [0.5, \"#f7f7f7\"], [0.6, \"#e6f5d0\"], [0.7, \"#b8e186\"], [0.8, \"#7fbc41\"], [0.9, \"#4d9221\"], [1, \"#276419\"]], \"sequential\": [[0.0, \"#0d0887\"], [0.1111111111111111, \"#46039f\"], [0.2222222222222222, \"#7201a8\"], [0.3333333333333333, \"#9c179e\"], [0.4444444444444444, \"#bd3786\"], [0.5555555555555556, \"#d8576b\"], [0.6666666666666666, \"#ed7953\"], [0.7777777777777778, \"#fb9f3a\"], [0.8888888888888888, \"#fdca26\"], [1.0, \"#f0f921\"]], \"sequentialminus\": [[0.0, \"#0d0887\"], [0.1111111111111111, \"#46039f\"], [0.2222222222222222, \"#7201a8\"], [0.3333333333333333, \"#9c179e\"], [0.4444444444444444, \"#bd3786\"], [0.5555555555555556, \"#d8576b\"], [0.6666666666666666, \"#ed7953\"], [0.7777777777777778, \"#fb9f3a\"], [0.8888888888888888, \"#fdca26\"], [1.0, \"#f0f921\"]]}, \"colorway\": [\"#636efa\", \"#EF553B\", \"#00cc96\", \"#ab63fa\", \"#FFA15A\", \"#19d3f3\", \"#FF6692\", \"#B6E880\", \"#FF97FF\", \"#FECB52\"], \"font\": {\"color\": \"#2a3f5f\"}, \"geo\": {\"bgcolor\": \"white\", \"lakecolor\": \"white\", \"landcolor\": \"#E5ECF6\", \"showlakes\": true, \"showland\": true, \"subunitcolor\": \"white\"}, \"hoverlabel\": {\"align\": \"left\"}, \"hovermode\": \"closest\", \"mapbox\": {\"style\": \"light\"}, \"paper_bgcolor\": \"white\", \"plot_bgcolor\": \"#E5ECF6\", \"polar\": {\"angularaxis\": {\"gridcolor\": \"white\", \"linecolor\": \"white\", \"ticks\": \"\"}, \"bgcolor\": \"#E5ECF6\", \"radialaxis\": {\"gridcolor\": \"white\", \"linecolor\": \"white\", \"ticks\": \"\"}}, \"scene\": {\"xaxis\": {\"backgroundcolor\": \"#E5ECF6\", \"gridcolor\": \"white\", \"gridwidth\": 2, \"linecolor\": \"white\", \"showbackground\": true, \"ticks\": \"\", \"zerolinecolor\": \"white\"}, \"yaxis\": {\"backgroundcolor\": \"#E5ECF6\", \"gridcolor\": \"white\", \"gridwidth\": 2, \"linecolor\": \"white\", \"showbackground\": true, \"ticks\": \"\", \"zerolinecolor\": \"white\"}, \"zaxis\": {\"backgroundcolor\": \"#E5ECF6\", \"gridcolor\": \"white\", \"gridwidth\": 2, \"linecolor\": \"white\", \"showbackground\": true, \"ticks\": \"\", \"zerolinecolor\": \"white\"}}, \"shapedefaults\": {\"line\": {\"color\": \"#2a3f5f\"}}, \"ternary\": {\"aaxis\": {\"gridcolor\": \"white\", \"linecolor\": \"white\", \"ticks\": \"\"}, \"baxis\": {\"gridcolor\": \"white\", \"linecolor\": \"white\", \"ticks\": \"\"}, \"bgcolor\": \"#E5ECF6\", \"caxis\": {\"gridcolor\": \"white\", \"linecolor\": \"white\", \"ticks\": \"\"}}, \"title\": {\"x\": 0.05}, \"xaxis\": {\"automargin\": true, \"gridcolor\": \"white\", \"linecolor\": \"white\", \"ticks\": \"\", \"zerolinecolor\": \"white\", \"zerolinewidth\": 2}, \"yaxis\": {\"automargin\": true, \"gridcolor\": \"white\", \"linecolor\": \"white\", \"ticks\": \"\", \"zerolinecolor\": \"white\", \"zerolinewidth\": 2}}}, \"xaxis\": {\"anchor\": \"y\", \"domain\": [0.0, 0.98], \"title\": {\"text\": \"year\"}}, \"yaxis\": {\"anchor\": \"x\", \"domain\": [0.0, 1.0], \"rangemode\": \"tozero\", \"title\": {\"text\": \"metro orig sf purchases\"}}},\n",
       "                        {\"responsive\": true}\n",
       "                    ).then(function(){\n",
       "                            \n",
       "var gd = document.getElementById('de4f7d4e-4cac-4fe8-bd55-ccb9a1350d42');\n",
       "var x = new MutationObserver(function (mutations, observer) {{\n",
       "        var display = window.getComputedStyle(gd).display;\n",
       "        if (!display || display === 'none') {{\n",
       "            console.log([gd, 'removed!']);\n",
       "            Plotly.purge(gd);\n",
       "            observer.disconnect();\n",
       "        }}\n",
       "}});\n",
       "\n",
       "// Listen for the removal of the full notebook cells\n",
       "var notebookContainer = gd.closest('#notebook-container');\n",
       "if (notebookContainer) {{\n",
       "    x.observe(notebookContainer, {childList: true});\n",
       "}}\n",
       "\n",
       "// Listen for the clearing of the current output cell\n",
       "var outputEl = gd.closest('.output');\n",
       "if (outputEl) {{\n",
       "    x.observe(outputEl, {childList: true});\n",
       "}}\n",
       "\n",
       "                        })\n",
       "                };\n",
       "                });\n",
       "            </script>\n",
       "        </div>"
      ]
     },
     "metadata": {},
     "output_type": "display_data"
    }
   ],
   "source": [
    "metro_sf_purchases_df.columns = ['year', 'metro orig sf purchases']\n",
    "fig_metro_orig_sf_p = px.line(metro_sf_purchases_df, x='year', y='metro orig sf purchases')\n",
    "fig_metro_orig_sf_p.update_yaxes(rangemode=\"tozero\")"
   ]
  },
  {
   "cell_type": "code",
   "execution_count": 193,
   "metadata": {},
   "outputs": [],
   "source": [
    "# Filtering the dfs of originated loans to home purchase (of all property types, not just sf)\n",
    "\n",
    "methp07 = metro_orig07.loc[metro_orig07['loan_purpose'].isin(purchase)]\n",
    "methp08 = metro_orig08.loc[metro_orig08['loan_purpose'].isin(purchase)]\n",
    "methp09 = metro_orig09.loc[metro_orig09['loan_purpose'].isin(purchase)]\n",
    "methp10 = metro_orig10.loc[metro_orig10['loan_purpose'].isin(purchase)]\n",
    "methp11 = metro_orig11.loc[metro_orig11['loan_purpose'].isin(purchase)]\n",
    "methp12 = metro_orig12.loc[metro_orig12['loan_purpose'].isin(purchase)]\n",
    "methp13 = metro_orig13.loc[metro_orig13['loan_purpose'].isin(purchase)]\n",
    "methp14 = metro_orig14.loc[metro_orig14['loan_purpose'].isin(purchase)]\n",
    "methp15 = metro_orig15.loc[metro_orig15['loan_purpose'].isin(purchase)]\n",
    "methp16 = metro_orig16.loc[metro_orig16['loan_purpose'].isin(purchase)]\n",
    "methp17 = metro_orig17.loc[metro_orig17['loan_purpose'].isin(purchase)]\n",
    "methp18 = metro_orig18.loc[metro_orig18['loan_purpose'].isin(purchase)]\n",
    "\n",
    "methp07c = methp07['as_of_year'].count()\n",
    "methp08c = methp08['as_of_year'].count()\n",
    "methp09c = methp09['as_of_year'].count()\n",
    "methp10c = methp10['as_of_year'].count()\n",
    "methp11c = methp11['as_of_year'].count()\n",
    "methp12c = methp12['as_of_year'].count()\n",
    "methp13c = methp13['as_of_year'].count()\n",
    "methp14c = methp14['as_of_year'].count()\n",
    "methp15c = methp15['as_of_year'].count()\n",
    "methp16c = methp16['as_of_year'].count()\n",
    "methp17c = methp17['as_of_year'].count()\n",
    "methp18c = methp18['activity_year'].count()\n",
    "\n",
    "metro_purchases = [methp07c, methp08c, methp09c, methp10c, methp11c, methp12c, methp13c, methp14c, methp15c, methp16c, methp17c, methp18c]\n",
    "metro_purchases_df = pd.DataFrame([metro_purchases], columns=count_headers)"
   ]
  },
  {
   "cell_type": "code",
   "execution_count": 194,
   "metadata": {},
   "outputs": [],
   "source": [
    "metro_purchases_df = metro_purchases_df.transpose()\n",
    "metro_purchases_df = metro_purchases_df.reset_index()"
   ]
  },
  {
   "cell_type": "code",
   "execution_count": 195,
   "metadata": {},
   "outputs": [
    {
     "data": {
      "application/vnd.plotly.v1+json": {
       "config": {
        "plotlyServerURL": "https://plot.ly"
       },
       "data": [
        {
         "hoverlabel": {
          "namelength": 0
         },
         "hovertemplate": "year=%{x}<br>metro orig purchases=%{y}",
         "legendgroup": "",
         "line": {
          "color": "#636efa",
          "dash": "solid"
         },
         "mode": "lines",
         "name": "",
         "showlegend": false,
         "type": "scatter",
         "x": [
          "2007",
          "2008",
          "2009",
          "2010",
          "2011",
          "2012",
          "2013",
          "2014",
          "2015",
          "2016",
          "2017",
          "2018"
         ],
         "xaxis": "x",
         "y": [
          51009,
          34105,
          29926,
          26367,
          24110,
          27230,
          31507,
          33101,
          37949,
          42083,
          43520,
          41487
         ],
         "yaxis": "y"
        }
       ],
       "layout": {
        "height": 600,
        "legend": {
         "tracegroupgap": 0
        },
        "margin": {
         "t": 60
        },
        "template": {
         "data": {
          "bar": [
           {
            "error_x": {
             "color": "#2a3f5f"
            },
            "error_y": {
             "color": "#2a3f5f"
            },
            "marker": {
             "line": {
              "color": "#E5ECF6",
              "width": 0.5
             }
            },
            "type": "bar"
           }
          ],
          "barpolar": [
           {
            "marker": {
             "line": {
              "color": "#E5ECF6",
              "width": 0.5
             }
            },
            "type": "barpolar"
           }
          ],
          "carpet": [
           {
            "aaxis": {
             "endlinecolor": "#2a3f5f",
             "gridcolor": "white",
             "linecolor": "white",
             "minorgridcolor": "white",
             "startlinecolor": "#2a3f5f"
            },
            "baxis": {
             "endlinecolor": "#2a3f5f",
             "gridcolor": "white",
             "linecolor": "white",
             "minorgridcolor": "white",
             "startlinecolor": "#2a3f5f"
            },
            "type": "carpet"
           }
          ],
          "choropleth": [
           {
            "colorbar": {
             "outlinewidth": 0,
             "ticks": ""
            },
            "type": "choropleth"
           }
          ],
          "contour": [
           {
            "colorbar": {
             "outlinewidth": 0,
             "ticks": ""
            },
            "colorscale": [
             [
              0,
              "#0d0887"
             ],
             [
              0.1111111111111111,
              "#46039f"
             ],
             [
              0.2222222222222222,
              "#7201a8"
             ],
             [
              0.3333333333333333,
              "#9c179e"
             ],
             [
              0.4444444444444444,
              "#bd3786"
             ],
             [
              0.5555555555555556,
              "#d8576b"
             ],
             [
              0.6666666666666666,
              "#ed7953"
             ],
             [
              0.7777777777777778,
              "#fb9f3a"
             ],
             [
              0.8888888888888888,
              "#fdca26"
             ],
             [
              1,
              "#f0f921"
             ]
            ],
            "type": "contour"
           }
          ],
          "contourcarpet": [
           {
            "colorbar": {
             "outlinewidth": 0,
             "ticks": ""
            },
            "type": "contourcarpet"
           }
          ],
          "heatmap": [
           {
            "colorbar": {
             "outlinewidth": 0,
             "ticks": ""
            },
            "colorscale": [
             [
              0,
              "#0d0887"
             ],
             [
              0.1111111111111111,
              "#46039f"
             ],
             [
              0.2222222222222222,
              "#7201a8"
             ],
             [
              0.3333333333333333,
              "#9c179e"
             ],
             [
              0.4444444444444444,
              "#bd3786"
             ],
             [
              0.5555555555555556,
              "#d8576b"
             ],
             [
              0.6666666666666666,
              "#ed7953"
             ],
             [
              0.7777777777777778,
              "#fb9f3a"
             ],
             [
              0.8888888888888888,
              "#fdca26"
             ],
             [
              1,
              "#f0f921"
             ]
            ],
            "type": "heatmap"
           }
          ],
          "heatmapgl": [
           {
            "colorbar": {
             "outlinewidth": 0,
             "ticks": ""
            },
            "colorscale": [
             [
              0,
              "#0d0887"
             ],
             [
              0.1111111111111111,
              "#46039f"
             ],
             [
              0.2222222222222222,
              "#7201a8"
             ],
             [
              0.3333333333333333,
              "#9c179e"
             ],
             [
              0.4444444444444444,
              "#bd3786"
             ],
             [
              0.5555555555555556,
              "#d8576b"
             ],
             [
              0.6666666666666666,
              "#ed7953"
             ],
             [
              0.7777777777777778,
              "#fb9f3a"
             ],
             [
              0.8888888888888888,
              "#fdca26"
             ],
             [
              1,
              "#f0f921"
             ]
            ],
            "type": "heatmapgl"
           }
          ],
          "histogram": [
           {
            "marker": {
             "colorbar": {
              "outlinewidth": 0,
              "ticks": ""
             }
            },
            "type": "histogram"
           }
          ],
          "histogram2d": [
           {
            "colorbar": {
             "outlinewidth": 0,
             "ticks": ""
            },
            "colorscale": [
             [
              0,
              "#0d0887"
             ],
             [
              0.1111111111111111,
              "#46039f"
             ],
             [
              0.2222222222222222,
              "#7201a8"
             ],
             [
              0.3333333333333333,
              "#9c179e"
             ],
             [
              0.4444444444444444,
              "#bd3786"
             ],
             [
              0.5555555555555556,
              "#d8576b"
             ],
             [
              0.6666666666666666,
              "#ed7953"
             ],
             [
              0.7777777777777778,
              "#fb9f3a"
             ],
             [
              0.8888888888888888,
              "#fdca26"
             ],
             [
              1,
              "#f0f921"
             ]
            ],
            "type": "histogram2d"
           }
          ],
          "histogram2dcontour": [
           {
            "colorbar": {
             "outlinewidth": 0,
             "ticks": ""
            },
            "colorscale": [
             [
              0,
              "#0d0887"
             ],
             [
              0.1111111111111111,
              "#46039f"
             ],
             [
              0.2222222222222222,
              "#7201a8"
             ],
             [
              0.3333333333333333,
              "#9c179e"
             ],
             [
              0.4444444444444444,
              "#bd3786"
             ],
             [
              0.5555555555555556,
              "#d8576b"
             ],
             [
              0.6666666666666666,
              "#ed7953"
             ],
             [
              0.7777777777777778,
              "#fb9f3a"
             ],
             [
              0.8888888888888888,
              "#fdca26"
             ],
             [
              1,
              "#f0f921"
             ]
            ],
            "type": "histogram2dcontour"
           }
          ],
          "mesh3d": [
           {
            "colorbar": {
             "outlinewidth": 0,
             "ticks": ""
            },
            "type": "mesh3d"
           }
          ],
          "parcoords": [
           {
            "line": {
             "colorbar": {
              "outlinewidth": 0,
              "ticks": ""
             }
            },
            "type": "parcoords"
           }
          ],
          "scatter": [
           {
            "marker": {
             "colorbar": {
              "outlinewidth": 0,
              "ticks": ""
             }
            },
            "type": "scatter"
           }
          ],
          "scatter3d": [
           {
            "line": {
             "colorbar": {
              "outlinewidth": 0,
              "ticks": ""
             }
            },
            "marker": {
             "colorbar": {
              "outlinewidth": 0,
              "ticks": ""
             }
            },
            "type": "scatter3d"
           }
          ],
          "scattercarpet": [
           {
            "marker": {
             "colorbar": {
              "outlinewidth": 0,
              "ticks": ""
             }
            },
            "type": "scattercarpet"
           }
          ],
          "scattergeo": [
           {
            "marker": {
             "colorbar": {
              "outlinewidth": 0,
              "ticks": ""
             }
            },
            "type": "scattergeo"
           }
          ],
          "scattergl": [
           {
            "marker": {
             "colorbar": {
              "outlinewidth": 0,
              "ticks": ""
             }
            },
            "type": "scattergl"
           }
          ],
          "scattermapbox": [
           {
            "marker": {
             "colorbar": {
              "outlinewidth": 0,
              "ticks": ""
             }
            },
            "type": "scattermapbox"
           }
          ],
          "scatterpolar": [
           {
            "marker": {
             "colorbar": {
              "outlinewidth": 0,
              "ticks": ""
             }
            },
            "type": "scatterpolar"
           }
          ],
          "scatterpolargl": [
           {
            "marker": {
             "colorbar": {
              "outlinewidth": 0,
              "ticks": ""
             }
            },
            "type": "scatterpolargl"
           }
          ],
          "scatterternary": [
           {
            "marker": {
             "colorbar": {
              "outlinewidth": 0,
              "ticks": ""
             }
            },
            "type": "scatterternary"
           }
          ],
          "surface": [
           {
            "colorbar": {
             "outlinewidth": 0,
             "ticks": ""
            },
            "colorscale": [
             [
              0,
              "#0d0887"
             ],
             [
              0.1111111111111111,
              "#46039f"
             ],
             [
              0.2222222222222222,
              "#7201a8"
             ],
             [
              0.3333333333333333,
              "#9c179e"
             ],
             [
              0.4444444444444444,
              "#bd3786"
             ],
             [
              0.5555555555555556,
              "#d8576b"
             ],
             [
              0.6666666666666666,
              "#ed7953"
             ],
             [
              0.7777777777777778,
              "#fb9f3a"
             ],
             [
              0.8888888888888888,
              "#fdca26"
             ],
             [
              1,
              "#f0f921"
             ]
            ],
            "type": "surface"
           }
          ],
          "table": [
           {
            "cells": {
             "fill": {
              "color": "#EBF0F8"
             },
             "line": {
              "color": "white"
             }
            },
            "header": {
             "fill": {
              "color": "#C8D4E3"
             },
             "line": {
              "color": "white"
             }
            },
            "type": "table"
           }
          ]
         },
         "layout": {
          "annotationdefaults": {
           "arrowcolor": "#2a3f5f",
           "arrowhead": 0,
           "arrowwidth": 1
          },
          "colorscale": {
           "diverging": [
            [
             0,
             "#8e0152"
            ],
            [
             0.1,
             "#c51b7d"
            ],
            [
             0.2,
             "#de77ae"
            ],
            [
             0.3,
             "#f1b6da"
            ],
            [
             0.4,
             "#fde0ef"
            ],
            [
             0.5,
             "#f7f7f7"
            ],
            [
             0.6,
             "#e6f5d0"
            ],
            [
             0.7,
             "#b8e186"
            ],
            [
             0.8,
             "#7fbc41"
            ],
            [
             0.9,
             "#4d9221"
            ],
            [
             1,
             "#276419"
            ]
           ],
           "sequential": [
            [
             0,
             "#0d0887"
            ],
            [
             0.1111111111111111,
             "#46039f"
            ],
            [
             0.2222222222222222,
             "#7201a8"
            ],
            [
             0.3333333333333333,
             "#9c179e"
            ],
            [
             0.4444444444444444,
             "#bd3786"
            ],
            [
             0.5555555555555556,
             "#d8576b"
            ],
            [
             0.6666666666666666,
             "#ed7953"
            ],
            [
             0.7777777777777778,
             "#fb9f3a"
            ],
            [
             0.8888888888888888,
             "#fdca26"
            ],
            [
             1,
             "#f0f921"
            ]
           ],
           "sequentialminus": [
            [
             0,
             "#0d0887"
            ],
            [
             0.1111111111111111,
             "#46039f"
            ],
            [
             0.2222222222222222,
             "#7201a8"
            ],
            [
             0.3333333333333333,
             "#9c179e"
            ],
            [
             0.4444444444444444,
             "#bd3786"
            ],
            [
             0.5555555555555556,
             "#d8576b"
            ],
            [
             0.6666666666666666,
             "#ed7953"
            ],
            [
             0.7777777777777778,
             "#fb9f3a"
            ],
            [
             0.8888888888888888,
             "#fdca26"
            ],
            [
             1,
             "#f0f921"
            ]
           ]
          },
          "colorway": [
           "#636efa",
           "#EF553B",
           "#00cc96",
           "#ab63fa",
           "#FFA15A",
           "#19d3f3",
           "#FF6692",
           "#B6E880",
           "#FF97FF",
           "#FECB52"
          ],
          "font": {
           "color": "#2a3f5f"
          },
          "geo": {
           "bgcolor": "white",
           "lakecolor": "white",
           "landcolor": "#E5ECF6",
           "showlakes": true,
           "showland": true,
           "subunitcolor": "white"
          },
          "hoverlabel": {
           "align": "left"
          },
          "hovermode": "closest",
          "mapbox": {
           "style": "light"
          },
          "paper_bgcolor": "white",
          "plot_bgcolor": "#E5ECF6",
          "polar": {
           "angularaxis": {
            "gridcolor": "white",
            "linecolor": "white",
            "ticks": ""
           },
           "bgcolor": "#E5ECF6",
           "radialaxis": {
            "gridcolor": "white",
            "linecolor": "white",
            "ticks": ""
           }
          },
          "scene": {
           "xaxis": {
            "backgroundcolor": "#E5ECF6",
            "gridcolor": "white",
            "gridwidth": 2,
            "linecolor": "white",
            "showbackground": true,
            "ticks": "",
            "zerolinecolor": "white"
           },
           "yaxis": {
            "backgroundcolor": "#E5ECF6",
            "gridcolor": "white",
            "gridwidth": 2,
            "linecolor": "white",
            "showbackground": true,
            "ticks": "",
            "zerolinecolor": "white"
           },
           "zaxis": {
            "backgroundcolor": "#E5ECF6",
            "gridcolor": "white",
            "gridwidth": 2,
            "linecolor": "white",
            "showbackground": true,
            "ticks": "",
            "zerolinecolor": "white"
           }
          },
          "shapedefaults": {
           "line": {
            "color": "#2a3f5f"
           }
          },
          "ternary": {
           "aaxis": {
            "gridcolor": "white",
            "linecolor": "white",
            "ticks": ""
           },
           "baxis": {
            "gridcolor": "white",
            "linecolor": "white",
            "ticks": ""
           },
           "bgcolor": "#E5ECF6",
           "caxis": {
            "gridcolor": "white",
            "linecolor": "white",
            "ticks": ""
           }
          },
          "title": {
           "x": 0.05
          },
          "xaxis": {
           "automargin": true,
           "gridcolor": "white",
           "linecolor": "white",
           "ticks": "",
           "zerolinecolor": "white",
           "zerolinewidth": 2
          },
          "yaxis": {
           "automargin": true,
           "gridcolor": "white",
           "linecolor": "white",
           "ticks": "",
           "zerolinecolor": "white",
           "zerolinewidth": 2
          }
         }
        },
        "xaxis": {
         "anchor": "y",
         "domain": [
          0,
          0.98
         ],
         "title": {
          "text": "year"
         }
        },
        "yaxis": {
         "anchor": "x",
         "domain": [
          0,
          1
         ],
         "rangemode": "tozero",
         "title": {
          "text": "metro orig purchases"
         }
        }
       }
      },
      "text/html": [
       "<div>\n",
       "        \n",
       "        \n",
       "            <div id=\"1ca054a3-1c67-4c84-ae1e-488765edc7fd\" class=\"plotly-graph-div\" style=\"height:600px; width:100%;\"></div>\n",
       "            <script type=\"text/javascript\">\n",
       "                require([\"plotly\"], function(Plotly) {\n",
       "                    window.PLOTLYENV=window.PLOTLYENV || {};\n",
       "                    \n",
       "                if (document.getElementById(\"1ca054a3-1c67-4c84-ae1e-488765edc7fd\")) {\n",
       "                    Plotly.newPlot(\n",
       "                        '1ca054a3-1c67-4c84-ae1e-488765edc7fd',\n",
       "                        [{\"hoverlabel\": {\"namelength\": 0}, \"hovertemplate\": \"year=%{x}<br>metro orig purchases=%{y}\", \"legendgroup\": \"\", \"line\": {\"color\": \"#636efa\", \"dash\": \"solid\"}, \"mode\": \"lines\", \"name\": \"\", \"showlegend\": false, \"type\": \"scatter\", \"x\": [\"2007\", \"2008\", \"2009\", \"2010\", \"2011\", \"2012\", \"2013\", \"2014\", \"2015\", \"2016\", \"2017\", \"2018\"], \"xaxis\": \"x\", \"y\": [51009, 34105, 29926, 26367, 24110, 27230, 31507, 33101, 37949, 42083, 43520, 41487], \"yaxis\": \"y\"}],\n",
       "                        {\"height\": 600, \"legend\": {\"tracegroupgap\": 0}, \"margin\": {\"t\": 60}, \"template\": {\"data\": {\"bar\": [{\"error_x\": {\"color\": \"#2a3f5f\"}, \"error_y\": {\"color\": \"#2a3f5f\"}, \"marker\": {\"line\": {\"color\": \"#E5ECF6\", \"width\": 0.5}}, \"type\": \"bar\"}], \"barpolar\": [{\"marker\": {\"line\": {\"color\": \"#E5ECF6\", \"width\": 0.5}}, \"type\": \"barpolar\"}], \"carpet\": [{\"aaxis\": {\"endlinecolor\": \"#2a3f5f\", \"gridcolor\": \"white\", \"linecolor\": \"white\", \"minorgridcolor\": \"white\", \"startlinecolor\": \"#2a3f5f\"}, \"baxis\": {\"endlinecolor\": \"#2a3f5f\", \"gridcolor\": \"white\", \"linecolor\": \"white\", \"minorgridcolor\": \"white\", \"startlinecolor\": \"#2a3f5f\"}, \"type\": \"carpet\"}], \"choropleth\": [{\"colorbar\": {\"outlinewidth\": 0, \"ticks\": \"\"}, \"type\": \"choropleth\"}], \"contour\": [{\"colorbar\": {\"outlinewidth\": 0, \"ticks\": \"\"}, \"colorscale\": [[0.0, \"#0d0887\"], [0.1111111111111111, \"#46039f\"], [0.2222222222222222, \"#7201a8\"], [0.3333333333333333, \"#9c179e\"], [0.4444444444444444, \"#bd3786\"], [0.5555555555555556, \"#d8576b\"], [0.6666666666666666, \"#ed7953\"], [0.7777777777777778, \"#fb9f3a\"], [0.8888888888888888, \"#fdca26\"], [1.0, \"#f0f921\"]], \"type\": \"contour\"}], \"contourcarpet\": [{\"colorbar\": {\"outlinewidth\": 0, \"ticks\": \"\"}, \"type\": \"contourcarpet\"}], \"heatmap\": [{\"colorbar\": {\"outlinewidth\": 0, \"ticks\": \"\"}, \"colorscale\": [[0.0, \"#0d0887\"], [0.1111111111111111, \"#46039f\"], [0.2222222222222222, \"#7201a8\"], [0.3333333333333333, \"#9c179e\"], [0.4444444444444444, \"#bd3786\"], [0.5555555555555556, \"#d8576b\"], [0.6666666666666666, \"#ed7953\"], [0.7777777777777778, \"#fb9f3a\"], [0.8888888888888888, \"#fdca26\"], [1.0, \"#f0f921\"]], \"type\": \"heatmap\"}], \"heatmapgl\": [{\"colorbar\": {\"outlinewidth\": 0, \"ticks\": \"\"}, \"colorscale\": [[0.0, \"#0d0887\"], [0.1111111111111111, \"#46039f\"], [0.2222222222222222, \"#7201a8\"], [0.3333333333333333, \"#9c179e\"], [0.4444444444444444, \"#bd3786\"], [0.5555555555555556, \"#d8576b\"], [0.6666666666666666, \"#ed7953\"], [0.7777777777777778, \"#fb9f3a\"], [0.8888888888888888, \"#fdca26\"], [1.0, \"#f0f921\"]], \"type\": \"heatmapgl\"}], \"histogram\": [{\"marker\": {\"colorbar\": {\"outlinewidth\": 0, \"ticks\": \"\"}}, \"type\": \"histogram\"}], \"histogram2d\": [{\"colorbar\": {\"outlinewidth\": 0, \"ticks\": \"\"}, \"colorscale\": [[0.0, \"#0d0887\"], [0.1111111111111111, \"#46039f\"], [0.2222222222222222, \"#7201a8\"], [0.3333333333333333, \"#9c179e\"], [0.4444444444444444, \"#bd3786\"], [0.5555555555555556, \"#d8576b\"], [0.6666666666666666, \"#ed7953\"], [0.7777777777777778, \"#fb9f3a\"], [0.8888888888888888, \"#fdca26\"], [1.0, \"#f0f921\"]], \"type\": \"histogram2d\"}], \"histogram2dcontour\": [{\"colorbar\": {\"outlinewidth\": 0, \"ticks\": \"\"}, \"colorscale\": [[0.0, \"#0d0887\"], [0.1111111111111111, \"#46039f\"], [0.2222222222222222, \"#7201a8\"], [0.3333333333333333, \"#9c179e\"], [0.4444444444444444, \"#bd3786\"], [0.5555555555555556, \"#d8576b\"], [0.6666666666666666, \"#ed7953\"], [0.7777777777777778, \"#fb9f3a\"], [0.8888888888888888, \"#fdca26\"], [1.0, \"#f0f921\"]], \"type\": \"histogram2dcontour\"}], \"mesh3d\": [{\"colorbar\": {\"outlinewidth\": 0, \"ticks\": \"\"}, \"type\": \"mesh3d\"}], \"parcoords\": [{\"line\": {\"colorbar\": {\"outlinewidth\": 0, \"ticks\": \"\"}}, \"type\": \"parcoords\"}], \"scatter\": [{\"marker\": {\"colorbar\": {\"outlinewidth\": 0, \"ticks\": \"\"}}, \"type\": \"scatter\"}], \"scatter3d\": [{\"line\": {\"colorbar\": {\"outlinewidth\": 0, \"ticks\": \"\"}}, \"marker\": {\"colorbar\": {\"outlinewidth\": 0, \"ticks\": \"\"}}, \"type\": \"scatter3d\"}], \"scattercarpet\": [{\"marker\": {\"colorbar\": {\"outlinewidth\": 0, \"ticks\": \"\"}}, \"type\": \"scattercarpet\"}], \"scattergeo\": [{\"marker\": {\"colorbar\": {\"outlinewidth\": 0, \"ticks\": \"\"}}, \"type\": \"scattergeo\"}], \"scattergl\": [{\"marker\": {\"colorbar\": {\"outlinewidth\": 0, \"ticks\": \"\"}}, \"type\": \"scattergl\"}], \"scattermapbox\": [{\"marker\": {\"colorbar\": {\"outlinewidth\": 0, \"ticks\": \"\"}}, \"type\": \"scattermapbox\"}], \"scatterpolar\": [{\"marker\": {\"colorbar\": {\"outlinewidth\": 0, \"ticks\": \"\"}}, \"type\": \"scatterpolar\"}], \"scatterpolargl\": [{\"marker\": {\"colorbar\": {\"outlinewidth\": 0, \"ticks\": \"\"}}, \"type\": \"scatterpolargl\"}], \"scatterternary\": [{\"marker\": {\"colorbar\": {\"outlinewidth\": 0, \"ticks\": \"\"}}, \"type\": \"scatterternary\"}], \"surface\": [{\"colorbar\": {\"outlinewidth\": 0, \"ticks\": \"\"}, \"colorscale\": [[0.0, \"#0d0887\"], [0.1111111111111111, \"#46039f\"], [0.2222222222222222, \"#7201a8\"], [0.3333333333333333, \"#9c179e\"], [0.4444444444444444, \"#bd3786\"], [0.5555555555555556, \"#d8576b\"], [0.6666666666666666, \"#ed7953\"], [0.7777777777777778, \"#fb9f3a\"], [0.8888888888888888, \"#fdca26\"], [1.0, \"#f0f921\"]], \"type\": \"surface\"}], \"table\": [{\"cells\": {\"fill\": {\"color\": \"#EBF0F8\"}, \"line\": {\"color\": \"white\"}}, \"header\": {\"fill\": {\"color\": \"#C8D4E3\"}, \"line\": {\"color\": \"white\"}}, \"type\": \"table\"}]}, \"layout\": {\"annotationdefaults\": {\"arrowcolor\": \"#2a3f5f\", \"arrowhead\": 0, \"arrowwidth\": 1}, \"colorscale\": {\"diverging\": [[0, \"#8e0152\"], [0.1, \"#c51b7d\"], [0.2, \"#de77ae\"], [0.3, \"#f1b6da\"], [0.4, \"#fde0ef\"], [0.5, \"#f7f7f7\"], [0.6, \"#e6f5d0\"], [0.7, \"#b8e186\"], [0.8, \"#7fbc41\"], [0.9, \"#4d9221\"], [1, \"#276419\"]], \"sequential\": [[0.0, \"#0d0887\"], [0.1111111111111111, \"#46039f\"], [0.2222222222222222, \"#7201a8\"], [0.3333333333333333, \"#9c179e\"], [0.4444444444444444, \"#bd3786\"], [0.5555555555555556, \"#d8576b\"], [0.6666666666666666, \"#ed7953\"], [0.7777777777777778, \"#fb9f3a\"], [0.8888888888888888, \"#fdca26\"], [1.0, \"#f0f921\"]], \"sequentialminus\": [[0.0, \"#0d0887\"], [0.1111111111111111, \"#46039f\"], [0.2222222222222222, \"#7201a8\"], [0.3333333333333333, \"#9c179e\"], [0.4444444444444444, \"#bd3786\"], [0.5555555555555556, \"#d8576b\"], [0.6666666666666666, \"#ed7953\"], [0.7777777777777778, \"#fb9f3a\"], [0.8888888888888888, \"#fdca26\"], [1.0, \"#f0f921\"]]}, \"colorway\": [\"#636efa\", \"#EF553B\", \"#00cc96\", \"#ab63fa\", \"#FFA15A\", \"#19d3f3\", \"#FF6692\", \"#B6E880\", \"#FF97FF\", \"#FECB52\"], \"font\": {\"color\": \"#2a3f5f\"}, \"geo\": {\"bgcolor\": \"white\", \"lakecolor\": \"white\", \"landcolor\": \"#E5ECF6\", \"showlakes\": true, \"showland\": true, \"subunitcolor\": \"white\"}, \"hoverlabel\": {\"align\": \"left\"}, \"hovermode\": \"closest\", \"mapbox\": {\"style\": \"light\"}, \"paper_bgcolor\": \"white\", \"plot_bgcolor\": \"#E5ECF6\", \"polar\": {\"angularaxis\": {\"gridcolor\": \"white\", \"linecolor\": \"white\", \"ticks\": \"\"}, \"bgcolor\": \"#E5ECF6\", \"radialaxis\": {\"gridcolor\": \"white\", \"linecolor\": \"white\", \"ticks\": \"\"}}, \"scene\": {\"xaxis\": {\"backgroundcolor\": \"#E5ECF6\", \"gridcolor\": \"white\", \"gridwidth\": 2, \"linecolor\": \"white\", \"showbackground\": true, \"ticks\": \"\", \"zerolinecolor\": \"white\"}, \"yaxis\": {\"backgroundcolor\": \"#E5ECF6\", \"gridcolor\": \"white\", \"gridwidth\": 2, \"linecolor\": \"white\", \"showbackground\": true, \"ticks\": \"\", \"zerolinecolor\": \"white\"}, \"zaxis\": {\"backgroundcolor\": \"#E5ECF6\", \"gridcolor\": \"white\", \"gridwidth\": 2, \"linecolor\": \"white\", \"showbackground\": true, \"ticks\": \"\", \"zerolinecolor\": \"white\"}}, \"shapedefaults\": {\"line\": {\"color\": \"#2a3f5f\"}}, \"ternary\": {\"aaxis\": {\"gridcolor\": \"white\", \"linecolor\": \"white\", \"ticks\": \"\"}, \"baxis\": {\"gridcolor\": \"white\", \"linecolor\": \"white\", \"ticks\": \"\"}, \"bgcolor\": \"#E5ECF6\", \"caxis\": {\"gridcolor\": \"white\", \"linecolor\": \"white\", \"ticks\": \"\"}}, \"title\": {\"x\": 0.05}, \"xaxis\": {\"automargin\": true, \"gridcolor\": \"white\", \"linecolor\": \"white\", \"ticks\": \"\", \"zerolinecolor\": \"white\", \"zerolinewidth\": 2}, \"yaxis\": {\"automargin\": true, \"gridcolor\": \"white\", \"linecolor\": \"white\", \"ticks\": \"\", \"zerolinecolor\": \"white\", \"zerolinewidth\": 2}}}, \"xaxis\": {\"anchor\": \"y\", \"domain\": [0.0, 0.98], \"title\": {\"text\": \"year\"}}, \"yaxis\": {\"anchor\": \"x\", \"domain\": [0.0, 1.0], \"rangemode\": \"tozero\", \"title\": {\"text\": \"metro orig purchases\"}}},\n",
       "                        {\"responsive\": true}\n",
       "                    ).then(function(){\n",
       "                            \n",
       "var gd = document.getElementById('1ca054a3-1c67-4c84-ae1e-488765edc7fd');\n",
       "var x = new MutationObserver(function (mutations, observer) {{\n",
       "        var display = window.getComputedStyle(gd).display;\n",
       "        if (!display || display === 'none') {{\n",
       "            console.log([gd, 'removed!']);\n",
       "            Plotly.purge(gd);\n",
       "            observer.disconnect();\n",
       "        }}\n",
       "}});\n",
       "\n",
       "// Listen for the removal of the full notebook cells\n",
       "var notebookContainer = gd.closest('#notebook-container');\n",
       "if (notebookContainer) {{\n",
       "    x.observe(notebookContainer, {childList: true});\n",
       "}}\n",
       "\n",
       "// Listen for the clearing of the current output cell\n",
       "var outputEl = gd.closest('.output');\n",
       "if (outputEl) {{\n",
       "    x.observe(outputEl, {childList: true});\n",
       "}}\n",
       "\n",
       "                        })\n",
       "                };\n",
       "                });\n",
       "            </script>\n",
       "        </div>"
      ]
     },
     "metadata": {},
     "output_type": "display_data"
    }
   ],
   "source": [
    "metro_purchases_df.columns = ['year', 'metro orig purchases']\n",
    "fig_metro_orig_p = px.line(metro_purchases_df, x='year', y='metro orig purchases')\n",
    "fig_metro_orig_p.update_yaxes(rangemode=\"tozero\")"
   ]
  },
  {
   "cell_type": "code",
   "execution_count": 196,
   "metadata": {},
   "outputs": [],
   "source": [
    "# Filtering the dfs of orignated loans to refinance loans (of all property types, not just sf)\n",
    "\n",
    "metr07 = metro_orig07.loc[metro_orig07['loan_purpose'].isin(refi_old)]\n",
    "metr08 = metro_orig08.loc[metro_orig08['loan_purpose'].isin(refi_old)]\n",
    "metr09 = metro_orig09.loc[metro_orig09['loan_purpose'].isin(refi_old)]\n",
    "metr10 = metro_orig10.loc[metro_orig10['loan_purpose'].isin(refi_old)]\n",
    "metr11 = metro_orig11.loc[metro_orig11['loan_purpose'].isin(refi_old)]\n",
    "metr12 = metro_orig12.loc[metro_orig12['loan_purpose'].isin(refi_old)]\n",
    "metr13 = metro_orig13.loc[metro_orig13['loan_purpose'].isin(refi_old)]\n",
    "metr14 = metro_orig14.loc[metro_orig14['loan_purpose'].isin(refi_old)]\n",
    "metr15 = metro_orig15.loc[metro_orig15['loan_purpose'].isin(refi_old)]\n",
    "metr16 = metro_orig16.loc[metro_orig16['loan_purpose'].isin(refi_old)]\n",
    "metr17 = metro_orig17.loc[metro_orig17['loan_purpose'].isin(refi_old)]\n",
    "metr18 = metro_orig18.loc[metro_orig18['loan_purpose'].isin(refi)]\n",
    "\n",
    "metr07c = metr07['as_of_year'].count()\n",
    "metr08c = metr08['as_of_year'].count()\n",
    "metr09c = metr09['as_of_year'].count()\n",
    "metr10c = metr10['as_of_year'].count()\n",
    "metr11c = metr11['as_of_year'].count()\n",
    "metr12c = metr12['as_of_year'].count()\n",
    "metr13c = metr13['as_of_year'].count()\n",
    "metr14c = metr14['as_of_year'].count()\n",
    "metr15c = metr15['as_of_year'].count()\n",
    "metr16c = metr16['as_of_year'].count()\n",
    "metr17c = metr17['as_of_year'].count()\n",
    "metr18c = metr18['activity_year'].count()\n",
    "\n",
    "metro_refis = [metr07c, metr08c, metr09c, metr10c, metr11c, metr12c, metr13c, metr14c, metr15c, metr16c, metr17c, metr18c]\n",
    "metro_refis_df = pd.DataFrame([metro_refis], columns=count_headers)"
   ]
  },
  {
   "cell_type": "code",
   "execution_count": 197,
   "metadata": {},
   "outputs": [],
   "source": [
    "metro_refis_df = metro_refis_df.transpose()\n",
    "metro_refis_df = metro_refis_df.reset_index()"
   ]
  },
  {
   "cell_type": "code",
   "execution_count": 198,
   "metadata": {},
   "outputs": [
    {
     "data": {
      "application/vnd.plotly.v1+json": {
       "config": {
        "plotlyServerURL": "https://plot.ly"
       },
       "data": [
        {
         "hoverlabel": {
          "namelength": 0
         },
         "hovertemplate": "year=%{x}<br>metro orig refis=%{y}",
         "legendgroup": "",
         "line": {
          "color": "#636efa",
          "dash": "solid"
         },
         "mode": "lines",
         "name": "",
         "showlegend": false,
         "type": "scatter",
         "x": [
          "2007",
          "2008",
          "2009",
          "2010",
          "2011",
          "2012",
          "2013",
          "2014",
          "2015",
          "2016",
          "2017",
          "2018"
         ],
         "xaxis": "x",
         "y": [
          60529,
          55173,
          92604,
          81451,
          61624,
          88559,
          61780,
          26201,
          37153,
          41757,
          24964,
          11460
         ],
         "yaxis": "y"
        }
       ],
       "layout": {
        "height": 600,
        "legend": {
         "tracegroupgap": 0
        },
        "margin": {
         "t": 60
        },
        "template": {
         "data": {
          "bar": [
           {
            "error_x": {
             "color": "#2a3f5f"
            },
            "error_y": {
             "color": "#2a3f5f"
            },
            "marker": {
             "line": {
              "color": "#E5ECF6",
              "width": 0.5
             }
            },
            "type": "bar"
           }
          ],
          "barpolar": [
           {
            "marker": {
             "line": {
              "color": "#E5ECF6",
              "width": 0.5
             }
            },
            "type": "barpolar"
           }
          ],
          "carpet": [
           {
            "aaxis": {
             "endlinecolor": "#2a3f5f",
             "gridcolor": "white",
             "linecolor": "white",
             "minorgridcolor": "white",
             "startlinecolor": "#2a3f5f"
            },
            "baxis": {
             "endlinecolor": "#2a3f5f",
             "gridcolor": "white",
             "linecolor": "white",
             "minorgridcolor": "white",
             "startlinecolor": "#2a3f5f"
            },
            "type": "carpet"
           }
          ],
          "choropleth": [
           {
            "colorbar": {
             "outlinewidth": 0,
             "ticks": ""
            },
            "type": "choropleth"
           }
          ],
          "contour": [
           {
            "colorbar": {
             "outlinewidth": 0,
             "ticks": ""
            },
            "colorscale": [
             [
              0,
              "#0d0887"
             ],
             [
              0.1111111111111111,
              "#46039f"
             ],
             [
              0.2222222222222222,
              "#7201a8"
             ],
             [
              0.3333333333333333,
              "#9c179e"
             ],
             [
              0.4444444444444444,
              "#bd3786"
             ],
             [
              0.5555555555555556,
              "#d8576b"
             ],
             [
              0.6666666666666666,
              "#ed7953"
             ],
             [
              0.7777777777777778,
              "#fb9f3a"
             ],
             [
              0.8888888888888888,
              "#fdca26"
             ],
             [
              1,
              "#f0f921"
             ]
            ],
            "type": "contour"
           }
          ],
          "contourcarpet": [
           {
            "colorbar": {
             "outlinewidth": 0,
             "ticks": ""
            },
            "type": "contourcarpet"
           }
          ],
          "heatmap": [
           {
            "colorbar": {
             "outlinewidth": 0,
             "ticks": ""
            },
            "colorscale": [
             [
              0,
              "#0d0887"
             ],
             [
              0.1111111111111111,
              "#46039f"
             ],
             [
              0.2222222222222222,
              "#7201a8"
             ],
             [
              0.3333333333333333,
              "#9c179e"
             ],
             [
              0.4444444444444444,
              "#bd3786"
             ],
             [
              0.5555555555555556,
              "#d8576b"
             ],
             [
              0.6666666666666666,
              "#ed7953"
             ],
             [
              0.7777777777777778,
              "#fb9f3a"
             ],
             [
              0.8888888888888888,
              "#fdca26"
             ],
             [
              1,
              "#f0f921"
             ]
            ],
            "type": "heatmap"
           }
          ],
          "heatmapgl": [
           {
            "colorbar": {
             "outlinewidth": 0,
             "ticks": ""
            },
            "colorscale": [
             [
              0,
              "#0d0887"
             ],
             [
              0.1111111111111111,
              "#46039f"
             ],
             [
              0.2222222222222222,
              "#7201a8"
             ],
             [
              0.3333333333333333,
              "#9c179e"
             ],
             [
              0.4444444444444444,
              "#bd3786"
             ],
             [
              0.5555555555555556,
              "#d8576b"
             ],
             [
              0.6666666666666666,
              "#ed7953"
             ],
             [
              0.7777777777777778,
              "#fb9f3a"
             ],
             [
              0.8888888888888888,
              "#fdca26"
             ],
             [
              1,
              "#f0f921"
             ]
            ],
            "type": "heatmapgl"
           }
          ],
          "histogram": [
           {
            "marker": {
             "colorbar": {
              "outlinewidth": 0,
              "ticks": ""
             }
            },
            "type": "histogram"
           }
          ],
          "histogram2d": [
           {
            "colorbar": {
             "outlinewidth": 0,
             "ticks": ""
            },
            "colorscale": [
             [
              0,
              "#0d0887"
             ],
             [
              0.1111111111111111,
              "#46039f"
             ],
             [
              0.2222222222222222,
              "#7201a8"
             ],
             [
              0.3333333333333333,
              "#9c179e"
             ],
             [
              0.4444444444444444,
              "#bd3786"
             ],
             [
              0.5555555555555556,
              "#d8576b"
             ],
             [
              0.6666666666666666,
              "#ed7953"
             ],
             [
              0.7777777777777778,
              "#fb9f3a"
             ],
             [
              0.8888888888888888,
              "#fdca26"
             ],
             [
              1,
              "#f0f921"
             ]
            ],
            "type": "histogram2d"
           }
          ],
          "histogram2dcontour": [
           {
            "colorbar": {
             "outlinewidth": 0,
             "ticks": ""
            },
            "colorscale": [
             [
              0,
              "#0d0887"
             ],
             [
              0.1111111111111111,
              "#46039f"
             ],
             [
              0.2222222222222222,
              "#7201a8"
             ],
             [
              0.3333333333333333,
              "#9c179e"
             ],
             [
              0.4444444444444444,
              "#bd3786"
             ],
             [
              0.5555555555555556,
              "#d8576b"
             ],
             [
              0.6666666666666666,
              "#ed7953"
             ],
             [
              0.7777777777777778,
              "#fb9f3a"
             ],
             [
              0.8888888888888888,
              "#fdca26"
             ],
             [
              1,
              "#f0f921"
             ]
            ],
            "type": "histogram2dcontour"
           }
          ],
          "mesh3d": [
           {
            "colorbar": {
             "outlinewidth": 0,
             "ticks": ""
            },
            "type": "mesh3d"
           }
          ],
          "parcoords": [
           {
            "line": {
             "colorbar": {
              "outlinewidth": 0,
              "ticks": ""
             }
            },
            "type": "parcoords"
           }
          ],
          "scatter": [
           {
            "marker": {
             "colorbar": {
              "outlinewidth": 0,
              "ticks": ""
             }
            },
            "type": "scatter"
           }
          ],
          "scatter3d": [
           {
            "line": {
             "colorbar": {
              "outlinewidth": 0,
              "ticks": ""
             }
            },
            "marker": {
             "colorbar": {
              "outlinewidth": 0,
              "ticks": ""
             }
            },
            "type": "scatter3d"
           }
          ],
          "scattercarpet": [
           {
            "marker": {
             "colorbar": {
              "outlinewidth": 0,
              "ticks": ""
             }
            },
            "type": "scattercarpet"
           }
          ],
          "scattergeo": [
           {
            "marker": {
             "colorbar": {
              "outlinewidth": 0,
              "ticks": ""
             }
            },
            "type": "scattergeo"
           }
          ],
          "scattergl": [
           {
            "marker": {
             "colorbar": {
              "outlinewidth": 0,
              "ticks": ""
             }
            },
            "type": "scattergl"
           }
          ],
          "scattermapbox": [
           {
            "marker": {
             "colorbar": {
              "outlinewidth": 0,
              "ticks": ""
             }
            },
            "type": "scattermapbox"
           }
          ],
          "scatterpolar": [
           {
            "marker": {
             "colorbar": {
              "outlinewidth": 0,
              "ticks": ""
             }
            },
            "type": "scatterpolar"
           }
          ],
          "scatterpolargl": [
           {
            "marker": {
             "colorbar": {
              "outlinewidth": 0,
              "ticks": ""
             }
            },
            "type": "scatterpolargl"
           }
          ],
          "scatterternary": [
           {
            "marker": {
             "colorbar": {
              "outlinewidth": 0,
              "ticks": ""
             }
            },
            "type": "scatterternary"
           }
          ],
          "surface": [
           {
            "colorbar": {
             "outlinewidth": 0,
             "ticks": ""
            },
            "colorscale": [
             [
              0,
              "#0d0887"
             ],
             [
              0.1111111111111111,
              "#46039f"
             ],
             [
              0.2222222222222222,
              "#7201a8"
             ],
             [
              0.3333333333333333,
              "#9c179e"
             ],
             [
              0.4444444444444444,
              "#bd3786"
             ],
             [
              0.5555555555555556,
              "#d8576b"
             ],
             [
              0.6666666666666666,
              "#ed7953"
             ],
             [
              0.7777777777777778,
              "#fb9f3a"
             ],
             [
              0.8888888888888888,
              "#fdca26"
             ],
             [
              1,
              "#f0f921"
             ]
            ],
            "type": "surface"
           }
          ],
          "table": [
           {
            "cells": {
             "fill": {
              "color": "#EBF0F8"
             },
             "line": {
              "color": "white"
             }
            },
            "header": {
             "fill": {
              "color": "#C8D4E3"
             },
             "line": {
              "color": "white"
             }
            },
            "type": "table"
           }
          ]
         },
         "layout": {
          "annotationdefaults": {
           "arrowcolor": "#2a3f5f",
           "arrowhead": 0,
           "arrowwidth": 1
          },
          "colorscale": {
           "diverging": [
            [
             0,
             "#8e0152"
            ],
            [
             0.1,
             "#c51b7d"
            ],
            [
             0.2,
             "#de77ae"
            ],
            [
             0.3,
             "#f1b6da"
            ],
            [
             0.4,
             "#fde0ef"
            ],
            [
             0.5,
             "#f7f7f7"
            ],
            [
             0.6,
             "#e6f5d0"
            ],
            [
             0.7,
             "#b8e186"
            ],
            [
             0.8,
             "#7fbc41"
            ],
            [
             0.9,
             "#4d9221"
            ],
            [
             1,
             "#276419"
            ]
           ],
           "sequential": [
            [
             0,
             "#0d0887"
            ],
            [
             0.1111111111111111,
             "#46039f"
            ],
            [
             0.2222222222222222,
             "#7201a8"
            ],
            [
             0.3333333333333333,
             "#9c179e"
            ],
            [
             0.4444444444444444,
             "#bd3786"
            ],
            [
             0.5555555555555556,
             "#d8576b"
            ],
            [
             0.6666666666666666,
             "#ed7953"
            ],
            [
             0.7777777777777778,
             "#fb9f3a"
            ],
            [
             0.8888888888888888,
             "#fdca26"
            ],
            [
             1,
             "#f0f921"
            ]
           ],
           "sequentialminus": [
            [
             0,
             "#0d0887"
            ],
            [
             0.1111111111111111,
             "#46039f"
            ],
            [
             0.2222222222222222,
             "#7201a8"
            ],
            [
             0.3333333333333333,
             "#9c179e"
            ],
            [
             0.4444444444444444,
             "#bd3786"
            ],
            [
             0.5555555555555556,
             "#d8576b"
            ],
            [
             0.6666666666666666,
             "#ed7953"
            ],
            [
             0.7777777777777778,
             "#fb9f3a"
            ],
            [
             0.8888888888888888,
             "#fdca26"
            ],
            [
             1,
             "#f0f921"
            ]
           ]
          },
          "colorway": [
           "#636efa",
           "#EF553B",
           "#00cc96",
           "#ab63fa",
           "#FFA15A",
           "#19d3f3",
           "#FF6692",
           "#B6E880",
           "#FF97FF",
           "#FECB52"
          ],
          "font": {
           "color": "#2a3f5f"
          },
          "geo": {
           "bgcolor": "white",
           "lakecolor": "white",
           "landcolor": "#E5ECF6",
           "showlakes": true,
           "showland": true,
           "subunitcolor": "white"
          },
          "hoverlabel": {
           "align": "left"
          },
          "hovermode": "closest",
          "mapbox": {
           "style": "light"
          },
          "paper_bgcolor": "white",
          "plot_bgcolor": "#E5ECF6",
          "polar": {
           "angularaxis": {
            "gridcolor": "white",
            "linecolor": "white",
            "ticks": ""
           },
           "bgcolor": "#E5ECF6",
           "radialaxis": {
            "gridcolor": "white",
            "linecolor": "white",
            "ticks": ""
           }
          },
          "scene": {
           "xaxis": {
            "backgroundcolor": "#E5ECF6",
            "gridcolor": "white",
            "gridwidth": 2,
            "linecolor": "white",
            "showbackground": true,
            "ticks": "",
            "zerolinecolor": "white"
           },
           "yaxis": {
            "backgroundcolor": "#E5ECF6",
            "gridcolor": "white",
            "gridwidth": 2,
            "linecolor": "white",
            "showbackground": true,
            "ticks": "",
            "zerolinecolor": "white"
           },
           "zaxis": {
            "backgroundcolor": "#E5ECF6",
            "gridcolor": "white",
            "gridwidth": 2,
            "linecolor": "white",
            "showbackground": true,
            "ticks": "",
            "zerolinecolor": "white"
           }
          },
          "shapedefaults": {
           "line": {
            "color": "#2a3f5f"
           }
          },
          "ternary": {
           "aaxis": {
            "gridcolor": "white",
            "linecolor": "white",
            "ticks": ""
           },
           "baxis": {
            "gridcolor": "white",
            "linecolor": "white",
            "ticks": ""
           },
           "bgcolor": "#E5ECF6",
           "caxis": {
            "gridcolor": "white",
            "linecolor": "white",
            "ticks": ""
           }
          },
          "title": {
           "x": 0.05
          },
          "xaxis": {
           "automargin": true,
           "gridcolor": "white",
           "linecolor": "white",
           "ticks": "",
           "zerolinecolor": "white",
           "zerolinewidth": 2
          },
          "yaxis": {
           "automargin": true,
           "gridcolor": "white",
           "linecolor": "white",
           "ticks": "",
           "zerolinecolor": "white",
           "zerolinewidth": 2
          }
         }
        },
        "xaxis": {
         "anchor": "y",
         "domain": [
          0,
          0.98
         ],
         "title": {
          "text": "year"
         }
        },
        "yaxis": {
         "anchor": "x",
         "domain": [
          0,
          1
         ],
         "rangemode": "tozero",
         "title": {
          "text": "metro orig refis"
         }
        }
       }
      },
      "text/html": [
       "<div>\n",
       "        \n",
       "        \n",
       "            <div id=\"7c90e476-3ffa-45cd-855b-33e093645606\" class=\"plotly-graph-div\" style=\"height:600px; width:100%;\"></div>\n",
       "            <script type=\"text/javascript\">\n",
       "                require([\"plotly\"], function(Plotly) {\n",
       "                    window.PLOTLYENV=window.PLOTLYENV || {};\n",
       "                    \n",
       "                if (document.getElementById(\"7c90e476-3ffa-45cd-855b-33e093645606\")) {\n",
       "                    Plotly.newPlot(\n",
       "                        '7c90e476-3ffa-45cd-855b-33e093645606',\n",
       "                        [{\"hoverlabel\": {\"namelength\": 0}, \"hovertemplate\": \"year=%{x}<br>metro orig refis=%{y}\", \"legendgroup\": \"\", \"line\": {\"color\": \"#636efa\", \"dash\": \"solid\"}, \"mode\": \"lines\", \"name\": \"\", \"showlegend\": false, \"type\": \"scatter\", \"x\": [\"2007\", \"2008\", \"2009\", \"2010\", \"2011\", \"2012\", \"2013\", \"2014\", \"2015\", \"2016\", \"2017\", \"2018\"], \"xaxis\": \"x\", \"y\": [60529, 55173, 92604, 81451, 61624, 88559, 61780, 26201, 37153, 41757, 24964, 11460], \"yaxis\": \"y\"}],\n",
       "                        {\"height\": 600, \"legend\": {\"tracegroupgap\": 0}, \"margin\": {\"t\": 60}, \"template\": {\"data\": {\"bar\": [{\"error_x\": {\"color\": \"#2a3f5f\"}, \"error_y\": {\"color\": \"#2a3f5f\"}, \"marker\": {\"line\": {\"color\": \"#E5ECF6\", \"width\": 0.5}}, \"type\": \"bar\"}], \"barpolar\": [{\"marker\": {\"line\": {\"color\": \"#E5ECF6\", \"width\": 0.5}}, \"type\": \"barpolar\"}], \"carpet\": [{\"aaxis\": {\"endlinecolor\": \"#2a3f5f\", \"gridcolor\": \"white\", \"linecolor\": \"white\", \"minorgridcolor\": \"white\", \"startlinecolor\": \"#2a3f5f\"}, \"baxis\": {\"endlinecolor\": \"#2a3f5f\", \"gridcolor\": \"white\", \"linecolor\": \"white\", \"minorgridcolor\": \"white\", \"startlinecolor\": \"#2a3f5f\"}, \"type\": \"carpet\"}], \"choropleth\": [{\"colorbar\": {\"outlinewidth\": 0, \"ticks\": \"\"}, \"type\": \"choropleth\"}], \"contour\": [{\"colorbar\": {\"outlinewidth\": 0, \"ticks\": \"\"}, \"colorscale\": [[0.0, \"#0d0887\"], [0.1111111111111111, \"#46039f\"], [0.2222222222222222, \"#7201a8\"], [0.3333333333333333, \"#9c179e\"], [0.4444444444444444, \"#bd3786\"], [0.5555555555555556, \"#d8576b\"], [0.6666666666666666, \"#ed7953\"], [0.7777777777777778, \"#fb9f3a\"], [0.8888888888888888, \"#fdca26\"], [1.0, \"#f0f921\"]], \"type\": \"contour\"}], \"contourcarpet\": [{\"colorbar\": {\"outlinewidth\": 0, \"ticks\": \"\"}, \"type\": \"contourcarpet\"}], \"heatmap\": [{\"colorbar\": {\"outlinewidth\": 0, \"ticks\": \"\"}, \"colorscale\": [[0.0, \"#0d0887\"], [0.1111111111111111, \"#46039f\"], [0.2222222222222222, \"#7201a8\"], [0.3333333333333333, \"#9c179e\"], [0.4444444444444444, \"#bd3786\"], [0.5555555555555556, \"#d8576b\"], [0.6666666666666666, \"#ed7953\"], [0.7777777777777778, \"#fb9f3a\"], [0.8888888888888888, \"#fdca26\"], [1.0, \"#f0f921\"]], \"type\": \"heatmap\"}], \"heatmapgl\": [{\"colorbar\": {\"outlinewidth\": 0, \"ticks\": \"\"}, \"colorscale\": [[0.0, \"#0d0887\"], [0.1111111111111111, \"#46039f\"], [0.2222222222222222, \"#7201a8\"], [0.3333333333333333, \"#9c179e\"], [0.4444444444444444, \"#bd3786\"], [0.5555555555555556, \"#d8576b\"], [0.6666666666666666, \"#ed7953\"], [0.7777777777777778, \"#fb9f3a\"], [0.8888888888888888, \"#fdca26\"], [1.0, \"#f0f921\"]], \"type\": \"heatmapgl\"}], \"histogram\": [{\"marker\": {\"colorbar\": {\"outlinewidth\": 0, \"ticks\": \"\"}}, \"type\": \"histogram\"}], \"histogram2d\": [{\"colorbar\": {\"outlinewidth\": 0, \"ticks\": \"\"}, \"colorscale\": [[0.0, \"#0d0887\"], [0.1111111111111111, \"#46039f\"], [0.2222222222222222, \"#7201a8\"], [0.3333333333333333, \"#9c179e\"], [0.4444444444444444, \"#bd3786\"], [0.5555555555555556, \"#d8576b\"], [0.6666666666666666, \"#ed7953\"], [0.7777777777777778, \"#fb9f3a\"], [0.8888888888888888, \"#fdca26\"], [1.0, \"#f0f921\"]], \"type\": \"histogram2d\"}], \"histogram2dcontour\": [{\"colorbar\": {\"outlinewidth\": 0, \"ticks\": \"\"}, \"colorscale\": [[0.0, \"#0d0887\"], [0.1111111111111111, \"#46039f\"], [0.2222222222222222, \"#7201a8\"], [0.3333333333333333, \"#9c179e\"], [0.4444444444444444, \"#bd3786\"], [0.5555555555555556, \"#d8576b\"], [0.6666666666666666, \"#ed7953\"], [0.7777777777777778, \"#fb9f3a\"], [0.8888888888888888, \"#fdca26\"], [1.0, \"#f0f921\"]], \"type\": \"histogram2dcontour\"}], \"mesh3d\": [{\"colorbar\": {\"outlinewidth\": 0, \"ticks\": \"\"}, \"type\": \"mesh3d\"}], \"parcoords\": [{\"line\": {\"colorbar\": {\"outlinewidth\": 0, \"ticks\": \"\"}}, \"type\": \"parcoords\"}], \"scatter\": [{\"marker\": {\"colorbar\": {\"outlinewidth\": 0, \"ticks\": \"\"}}, \"type\": \"scatter\"}], \"scatter3d\": [{\"line\": {\"colorbar\": {\"outlinewidth\": 0, \"ticks\": \"\"}}, \"marker\": {\"colorbar\": {\"outlinewidth\": 0, \"ticks\": \"\"}}, \"type\": \"scatter3d\"}], \"scattercarpet\": [{\"marker\": {\"colorbar\": {\"outlinewidth\": 0, \"ticks\": \"\"}}, \"type\": \"scattercarpet\"}], \"scattergeo\": [{\"marker\": {\"colorbar\": {\"outlinewidth\": 0, \"ticks\": \"\"}}, \"type\": \"scattergeo\"}], \"scattergl\": [{\"marker\": {\"colorbar\": {\"outlinewidth\": 0, \"ticks\": \"\"}}, \"type\": \"scattergl\"}], \"scattermapbox\": [{\"marker\": {\"colorbar\": {\"outlinewidth\": 0, \"ticks\": \"\"}}, \"type\": \"scattermapbox\"}], \"scatterpolar\": [{\"marker\": {\"colorbar\": {\"outlinewidth\": 0, \"ticks\": \"\"}}, \"type\": \"scatterpolar\"}], \"scatterpolargl\": [{\"marker\": {\"colorbar\": {\"outlinewidth\": 0, \"ticks\": \"\"}}, \"type\": \"scatterpolargl\"}], \"scatterternary\": [{\"marker\": {\"colorbar\": {\"outlinewidth\": 0, \"ticks\": \"\"}}, \"type\": \"scatterternary\"}], \"surface\": [{\"colorbar\": {\"outlinewidth\": 0, \"ticks\": \"\"}, \"colorscale\": [[0.0, \"#0d0887\"], [0.1111111111111111, \"#46039f\"], [0.2222222222222222, \"#7201a8\"], [0.3333333333333333, \"#9c179e\"], [0.4444444444444444, \"#bd3786\"], [0.5555555555555556, \"#d8576b\"], [0.6666666666666666, \"#ed7953\"], [0.7777777777777778, \"#fb9f3a\"], [0.8888888888888888, \"#fdca26\"], [1.0, \"#f0f921\"]], \"type\": \"surface\"}], \"table\": [{\"cells\": {\"fill\": {\"color\": \"#EBF0F8\"}, \"line\": {\"color\": \"white\"}}, \"header\": {\"fill\": {\"color\": \"#C8D4E3\"}, \"line\": {\"color\": \"white\"}}, \"type\": \"table\"}]}, \"layout\": {\"annotationdefaults\": {\"arrowcolor\": \"#2a3f5f\", \"arrowhead\": 0, \"arrowwidth\": 1}, \"colorscale\": {\"diverging\": [[0, \"#8e0152\"], [0.1, \"#c51b7d\"], [0.2, \"#de77ae\"], [0.3, \"#f1b6da\"], [0.4, \"#fde0ef\"], [0.5, \"#f7f7f7\"], [0.6, \"#e6f5d0\"], [0.7, \"#b8e186\"], [0.8, \"#7fbc41\"], [0.9, \"#4d9221\"], [1, \"#276419\"]], \"sequential\": [[0.0, \"#0d0887\"], [0.1111111111111111, \"#46039f\"], [0.2222222222222222, \"#7201a8\"], [0.3333333333333333, \"#9c179e\"], [0.4444444444444444, \"#bd3786\"], [0.5555555555555556, \"#d8576b\"], [0.6666666666666666, \"#ed7953\"], [0.7777777777777778, \"#fb9f3a\"], [0.8888888888888888, \"#fdca26\"], [1.0, \"#f0f921\"]], \"sequentialminus\": [[0.0, \"#0d0887\"], [0.1111111111111111, \"#46039f\"], [0.2222222222222222, \"#7201a8\"], [0.3333333333333333, \"#9c179e\"], [0.4444444444444444, \"#bd3786\"], [0.5555555555555556, \"#d8576b\"], [0.6666666666666666, \"#ed7953\"], [0.7777777777777778, \"#fb9f3a\"], [0.8888888888888888, \"#fdca26\"], [1.0, \"#f0f921\"]]}, \"colorway\": [\"#636efa\", \"#EF553B\", \"#00cc96\", \"#ab63fa\", \"#FFA15A\", \"#19d3f3\", \"#FF6692\", \"#B6E880\", \"#FF97FF\", \"#FECB52\"], \"font\": {\"color\": \"#2a3f5f\"}, \"geo\": {\"bgcolor\": \"white\", \"lakecolor\": \"white\", \"landcolor\": \"#E5ECF6\", \"showlakes\": true, \"showland\": true, \"subunitcolor\": \"white\"}, \"hoverlabel\": {\"align\": \"left\"}, \"hovermode\": \"closest\", \"mapbox\": {\"style\": \"light\"}, \"paper_bgcolor\": \"white\", \"plot_bgcolor\": \"#E5ECF6\", \"polar\": {\"angularaxis\": {\"gridcolor\": \"white\", \"linecolor\": \"white\", \"ticks\": \"\"}, \"bgcolor\": \"#E5ECF6\", \"radialaxis\": {\"gridcolor\": \"white\", \"linecolor\": \"white\", \"ticks\": \"\"}}, \"scene\": {\"xaxis\": {\"backgroundcolor\": \"#E5ECF6\", \"gridcolor\": \"white\", \"gridwidth\": 2, \"linecolor\": \"white\", \"showbackground\": true, \"ticks\": \"\", \"zerolinecolor\": \"white\"}, \"yaxis\": {\"backgroundcolor\": \"#E5ECF6\", \"gridcolor\": \"white\", \"gridwidth\": 2, \"linecolor\": \"white\", \"showbackground\": true, \"ticks\": \"\", \"zerolinecolor\": \"white\"}, \"zaxis\": {\"backgroundcolor\": \"#E5ECF6\", \"gridcolor\": \"white\", \"gridwidth\": 2, \"linecolor\": \"white\", \"showbackground\": true, \"ticks\": \"\", \"zerolinecolor\": \"white\"}}, \"shapedefaults\": {\"line\": {\"color\": \"#2a3f5f\"}}, \"ternary\": {\"aaxis\": {\"gridcolor\": \"white\", \"linecolor\": \"white\", \"ticks\": \"\"}, \"baxis\": {\"gridcolor\": \"white\", \"linecolor\": \"white\", \"ticks\": \"\"}, \"bgcolor\": \"#E5ECF6\", \"caxis\": {\"gridcolor\": \"white\", \"linecolor\": \"white\", \"ticks\": \"\"}}, \"title\": {\"x\": 0.05}, \"xaxis\": {\"automargin\": true, \"gridcolor\": \"white\", \"linecolor\": \"white\", \"ticks\": \"\", \"zerolinecolor\": \"white\", \"zerolinewidth\": 2}, \"yaxis\": {\"automargin\": true, \"gridcolor\": \"white\", \"linecolor\": \"white\", \"ticks\": \"\", \"zerolinecolor\": \"white\", \"zerolinewidth\": 2}}}, \"xaxis\": {\"anchor\": \"y\", \"domain\": [0.0, 0.98], \"title\": {\"text\": \"year\"}}, \"yaxis\": {\"anchor\": \"x\", \"domain\": [0.0, 1.0], \"rangemode\": \"tozero\", \"title\": {\"text\": \"metro orig refis\"}}},\n",
       "                        {\"responsive\": true}\n",
       "                    ).then(function(){\n",
       "                            \n",
       "var gd = document.getElementById('7c90e476-3ffa-45cd-855b-33e093645606');\n",
       "var x = new MutationObserver(function (mutations, observer) {{\n",
       "        var display = window.getComputedStyle(gd).display;\n",
       "        if (!display || display === 'none') {{\n",
       "            console.log([gd, 'removed!']);\n",
       "            Plotly.purge(gd);\n",
       "            observer.disconnect();\n",
       "        }}\n",
       "}});\n",
       "\n",
       "// Listen for the removal of the full notebook cells\n",
       "var notebookContainer = gd.closest('#notebook-container');\n",
       "if (notebookContainer) {{\n",
       "    x.observe(notebookContainer, {childList: true});\n",
       "}}\n",
       "\n",
       "// Listen for the clearing of the current output cell\n",
       "var outputEl = gd.closest('.output');\n",
       "if (outputEl) {{\n",
       "    x.observe(outputEl, {childList: true});\n",
       "}}\n",
       "\n",
       "                        })\n",
       "                };\n",
       "                });\n",
       "            </script>\n",
       "        </div>"
      ]
     },
     "metadata": {},
     "output_type": "display_data"
    }
   ],
   "source": [
    "metro_refis_df.columns = ['year', 'metro orig refis']\n",
    "fig_metro_orig_p = px.line(metro_refis_df, x='year', y='metro orig refis')\n",
    "fig_metro_orig_p.update_yaxes(rangemode=\"tozero\")"
   ]
  },
  {
   "cell_type": "code",
   "execution_count": 199,
   "metadata": {},
   "outputs": [],
   "source": [
    "stl_race_groups_07 = metro07.groupby(['applicant_race_name_1']).size()\n",
    "stl_race_groups_08 = metro08.groupby(['applicant_race_name_1']).size()\n",
    "stl_race_groups_09 = metro09.groupby(['applicant_race_name_1']).size()\n",
    "stl_race_groups_10 = metro10.groupby(['applicant_race_name_1']).size()\n",
    "stl_race_groups_11 = metro11.groupby(['applicant_race_name_1']).size()\n",
    "stl_race_groups_12 = metro12.groupby(['applicant_race_name_1']).size()\n",
    "stl_race_groups_13 = metro13.groupby(['applicant_race_name_1']).size()\n",
    "stl_race_groups_14 = metro14.groupby(['applicant_race_name_1']).size()\n",
    "stl_race_groups_15 = metro15.groupby(['applicant_race_name_1']).size()\n",
    "stl_race_groups_16 = metro16.groupby(['applicant_race_name_1']).size()\n",
    "stl_race_groups_17 = metro17.groupby(['applicant_race_name_1']).size()\n",
    "stl_race_groups_18 = metro18.groupby(['applicant_race_1']).size()"
   ]
  },
  {
   "cell_type": "code",
   "execution_count": 200,
   "metadata": {},
   "outputs": [],
   "source": [
    "stl_race_groups = [stl_race_groups_07, stl_race_groups_08, stl_race_groups_09, stl_race_groups_10, stl_race_groups_11, stl_race_groups_12, stl_race_groups_13, stl_race_groups_14, stl_race_groups_15, stl_race_groups_16, stl_race_groups_17, stl_race_groups_18]"
   ]
  },
  {
   "cell_type": "code",
   "execution_count": 201,
   "metadata": {},
   "outputs": [],
   "source": [
    "stl_black07 = stl_race_groups_07['Black or African American']\n",
    "stl_black08 = stl_race_groups_08['Black or African American']\n",
    "stl_black09 = stl_race_groups_09['Black or African American']\n",
    "stl_black10 = stl_race_groups_10['Black or African American']\n",
    "stl_black11 = stl_race_groups_11['Black or African American']\n",
    "stl_black12 = stl_race_groups_12['Black or African American']\n",
    "stl_black13 = stl_race_groups_13['Black or African American']\n",
    "stl_black14 = stl_race_groups_14['Black or African American']\n",
    "stl_black15 = stl_race_groups_15['Black or African American']\n",
    "stl_black16 = stl_race_groups_16['Black or African American']\n",
    "stl_black17 = stl_race_groups_17['Black or African American']\n",
    "stl_black18 = stl_race_groups_18[3]\n",
    "stl_blacks = [stl_black07, stl_black08, stl_black09, stl_black10, stl_black11, stl_black12, stl_black13, stl_black14, stl_black15, stl_black16, stl_black17, stl_black18]"
   ]
  },
  {
   "cell_type": "code",
   "execution_count": 202,
   "metadata": {},
   "outputs": [
    {
     "name": "stdout",
     "output_type": "stream",
     "text": [
      "[39097, 22525, 14753, 10552, 8242, 10223, 11084, 8500, 9509, 10990, 10236, 9857]\n"
     ]
    }
   ],
   "source": [
    "print stl_blacks"
   ]
  },
  {
   "cell_type": "code",
   "execution_count": 203,
   "metadata": {},
   "outputs": [],
   "source": [
    "stl_white07 = stl_race_groups_07['White']\n",
    "stl_white08 = stl_race_groups_08['White']\n",
    "stl_white09 = stl_race_groups_09['White']\n",
    "stl_white10 = stl_race_groups_10['White']\n",
    "stl_white11 = stl_race_groups_11['White']\n",
    "stl_white12 = stl_race_groups_12['White']\n",
    "stl_white13 = stl_race_groups_13['White']\n",
    "stl_white14 = stl_race_groups_14['White']\n",
    "stl_white15 = stl_race_groups_15['White']\n",
    "stl_white16 = stl_race_groups_16['White']\n",
    "stl_white17 = stl_race_groups_17['White']\n",
    "stl_white18 = stl_race_groups_18[5]\n",
    "stl_whites = [stl_white07, stl_white08, stl_white09, stl_white10, stl_white11, stl_white12, stl_white13, stl_white14, stl_white15, stl_white16, stl_white17, stl_white18]"
   ]
  },
  {
   "cell_type": "code",
   "execution_count": 204,
   "metadata": {},
   "outputs": [
    {
     "name": "stdout",
     "output_type": "stream",
     "text": [
      "[182589, 139917, 181307, 159137, 125928, 164360, 137485, 82860, 101741, 115192, 98313, 94098]\n"
     ]
    }
   ],
   "source": [
    "print stl_whites"
   ]
  },
  {
   "cell_type": "code",
   "execution_count": 205,
   "metadata": {},
   "outputs": [
    {
     "name": "stdout",
     "output_type": "stream",
     "text": [
      "[13, 10, 5, 4, 4, 4, 5, 6, 6, 6, 7, 7]\n"
     ]
    }
   ],
   "source": [
    "### What percentage of applications in the STL area came from black people?\n",
    "\n",
    "blackpct07 = (stl_black07*100)/metro07c\n",
    "blackpct08 = (stl_black08*100)/metro08c\n",
    "blackpct09 = (stl_black09*100)/metro09c\n",
    "blackpct10 = (stl_black10*100)/metro10c\n",
    "blackpct11 = (stl_black11*100)/metro11c\n",
    "blackpct12 = (stl_black12*100)/metro12c\n",
    "blackpct13 = (stl_black13*100)/metro13c\n",
    "blackpct14 = (stl_black14*100)/metro14c\n",
    "blackpct15 = (stl_black15*100)/metro15c\n",
    "blackpct16 = (stl_black16*100)/metro16c\n",
    "blackpct17 = (stl_black17*100)/metro17c\n",
    "blackpct18 = (stl_black18*100)/metro18c\n",
    "blackpcts = [blackpct07, blackpct08, blackpct09, blackpct10, blackpct11, blackpct12, blackpct13, blackpct14, blackpct15, blackpct16, blackpct17, blackpct18]\n",
    "print blackpcts"
   ]
  },
  {
   "cell_type": "code",
   "execution_count": 206,
   "metadata": {},
   "outputs": [
    {
     "name": "stdout",
     "output_type": "stream",
     "text": [
      "[62, 66, 69, 74, 72, 74, 71, 66, 67, 68, 68, 68]\n"
     ]
    }
   ],
   "source": [
    "### What percentage of applications in the STL area came from white people?\n",
    "\n",
    "whitepct07 = (stl_white07*100)/metro07c\n",
    "whitepct08 = (stl_white08*100)/metro08c\n",
    "whitepct09 = (stl_white09*100)/metro09c\n",
    "whitepct10 = (stl_white10*100)/metro10c\n",
    "whitepct11 = (stl_white11*100)/metro11c\n",
    "whitepct12 = (stl_white12*100)/metro12c\n",
    "whitepct13 = (stl_white13*100)/metro13c\n",
    "whitepct14 = (stl_white14*100)/metro14c\n",
    "whitepct15 = (stl_white15*100)/metro15c\n",
    "whitepct16 = (stl_white16*100)/metro16c\n",
    "whitepct17 = (stl_white17*100)/metro17c\n",
    "whitepct18 = (stl_white18*100)/metro18c\n",
    "whitepcts = [whitepct07, whitepct08, whitepct09, whitepct10, whitepct11, whitepct12, whitepct13, whitepct14, whitepct15, whitepct16, whitepct17, whitepct18]\n",
    "print whitepcts"
   ]
  },
  {
   "cell_type": "code",
   "execution_count": 207,
   "metadata": {},
   "outputs": [],
   "source": [
    "### What percentage of loans originated in the STL area went to black people?\n",
    "\n",
    "# This filters the STL metro area originated loans to only originated loans made to black people\n",
    "\n",
    "metb07 = metro_orig07.loc[metro_orig07['applicant_race_name_1'].isin(black_old)]\n",
    "metb08 = metro_orig08.loc[metro_orig08['applicant_race_name_1'].isin(black_old)]\n",
    "metb09 = metro_orig09.loc[metro_orig09['applicant_race_name_1'].isin(black_old)]\n",
    "metb10 = metro_orig10.loc[metro_orig10['applicant_race_name_1'].isin(black_old)]\n",
    "metb11 = metro_orig11.loc[metro_orig11['applicant_race_name_1'].isin(black_old)]\n",
    "metb12 = metro_orig12.loc[metro_orig12['applicant_race_name_1'].isin(black_old)]\n",
    "metb13 = metro_orig13.loc[metro_orig13['applicant_race_name_1'].isin(black_old)]\n",
    "metb14 = metro_orig14.loc[metro_orig14['applicant_race_name_1'].isin(black_old)]\n",
    "metb15 = metro_orig15.loc[metro_orig15['applicant_race_name_1'].isin(black_old)]\n",
    "metb16 = metro_orig16.loc[metro_orig16['applicant_race_name_1'].isin(black_old)]\n",
    "metb17 = metro_orig17.loc[metro_orig17['applicant_race_name_1'].isin(black_old)]\n",
    "metb18 = metro_orig18.loc[metro_orig18['applicant_race_1'].isin(black_new)]\n",
    "\n",
    "# This creates variables containing a count of number of loans made to black people every year\n",
    "\n",
    "metb07c = metb07['as_of_year'].count()\n",
    "metb08c = metb08['as_of_year'].count()\n",
    "metb09c = metb09['as_of_year'].count()\n",
    "metb10c = metb10['as_of_year'].count()\n",
    "metb11c = metb11['as_of_year'].count()\n",
    "metb12c = metb12['as_of_year'].count()\n",
    "metb13c = metb13['as_of_year'].count()\n",
    "metb14c = metb14['as_of_year'].count()\n",
    "metb15c = metb15['as_of_year'].count()\n",
    "metb16c = metb16['as_of_year'].count()\n",
    "metb17c = metb17['as_of_year'].count()\n",
    "metb18c = metb18['activity_year'].count()\n",
    "metbcounts = [metb07c, metb08c, metb09c, metb10c, metb11c, metb12c, metb13c, metb14c, metb15c, metb16c, metb17c, metb18c]"
   ]
  },
  {
   "cell_type": "code",
   "execution_count": 208,
   "metadata": {},
   "outputs": [
    {
     "name": "stdout",
     "output_type": "stream",
     "text": [
      "[12553, 6803, 5814, 4189, 3432, 4719, 4790, 3678, 4209, 4877, 4652, 4437]\n"
     ]
    }
   ],
   "source": [
    "print metbcounts"
   ]
  },
  {
   "cell_type": "code",
   "execution_count": 209,
   "metadata": {},
   "outputs": [],
   "source": [
    "### What percentage of loans originated in the STL area went to white people?\n",
    "\n",
    "# This filters the STL metro area originated loans to only originated loans made to white people\n",
    "\n",
    "metw07 = metro_orig07.loc[metro_orig07['applicant_race_name_1'].isin(white_old)]\n",
    "metw08 = metro_orig08.loc[metro_orig08['applicant_race_name_1'].isin(white_old)]\n",
    "metw09 = metro_orig09.loc[metro_orig09['applicant_race_name_1'].isin(white_old)]\n",
    "metw10 = metro_orig10.loc[metro_orig10['applicant_race_name_1'].isin(white_old)]\n",
    "metw11 = metro_orig11.loc[metro_orig11['applicant_race_name_1'].isin(white_old)]\n",
    "metw12 = metro_orig12.loc[metro_orig12['applicant_race_name_1'].isin(white_old)]\n",
    "metw13 = metro_orig13.loc[metro_orig13['applicant_race_name_1'].isin(white_old)]\n",
    "metw14 = metro_orig14.loc[metro_orig14['applicant_race_name_1'].isin(white_old)]\n",
    "metw15 = metro_orig15.loc[metro_orig15['applicant_race_name_1'].isin(white_old)]\n",
    "metw16 = metro_orig16.loc[metro_orig16['applicant_race_name_1'].isin(white_old)]\n",
    "metw17 = metro_orig17.loc[metro_orig17['applicant_race_name_1'].isin(white_old)]\n",
    "metw18 = metro_orig18.loc[metro_orig18['applicant_race_1'].isin(white_new)]\n",
    "\n",
    "# This creates variables containing a count of number of loans made to white people every year\n",
    "\n",
    "metw07c = metw07['as_of_year'].count()\n",
    "metw08c = metw08['as_of_year'].count()\n",
    "metw09c = metw09['as_of_year'].count()\n",
    "metw10c = metw10['as_of_year'].count()\n",
    "metw11c = metw11['as_of_year'].count()\n",
    "metw12c = metw12['as_of_year'].count()\n",
    "metw13c = metw13['as_of_year'].count()\n",
    "metw14c = metw14['as_of_year'].count()\n",
    "metw15c = metw15['as_of_year'].count()\n",
    "metw16c = metw16['as_of_year'].count()\n",
    "metw17c = metw17['as_of_year'].count()\n",
    "metw18c = metw18['activity_year'].count()\n",
    "metwcounts = [metw07c, metw08c, metw09c, metw10c, metw11c, metw12c, metw13c, metw14c, metw15c, metw16c, metw17c, metw18c]"
   ]
  },
  {
   "cell_type": "code",
   "execution_count": 210,
   "metadata": {},
   "outputs": [
    {
     "name": "stdout",
     "output_type": "stream",
     "text": [
      "[91761, 74552, 105822, 94731, 75601, 101998, 81264, 51462, 65762, 73082, 59667, 56201]\n"
     ]
    }
   ],
   "source": [
    "print metwcounts"
   ]
  },
  {
   "cell_type": "code",
   "execution_count": 221,
   "metadata": {},
   "outputs": [
    {
     "name": "stdout",
     "output_type": "stream",
     "text": [
      "            respondent_id  count                                  bank_name\n",
      "630  6BYL5QZYBDK8S7L73M02   8914                                    US Bank\n",
      "660  KB1H1DSPRFMYMCUFXT09   8392                                Wells Fargo\n",
      "638  B4TYDEB6GKMZO031MB27   4916                                        BOA\n",
      "634  7H6GLXDRUGQFU57RNE97   3769                            JP Morgan/Chase\n",
      "531  549300T67186NPGCHI50   3693                            First Community\n",
      "318  549300FGXN1K3HLB1R50   3572                                    Quicken\n",
      "233  549300AQ3T62GXDU7D76   3341                     Guild Mortgage Company\n",
      "627  549300ZZME37MXI1EF14   3158                            DAS Acquisition\n",
      "632  7DMUJTL9FFTVIAG9H788   3066                              Commerce Bank\n",
      "410  549300LYRWPSYPK6S325   2581                     Freedom Mortgage Corp.\n",
      "648  EQTWLK1G7ODGC2MGLV11   2388                               Regions Bank\n",
      "304  549300E2UX99HKDBR481   2307                     Broker Solutions, Inc.\n",
      "433  549300NB3SBC1KHAWB92   2268                  Gershman Investment Corp.\n",
      "396  549300L8JRY60EOROT34   2252                                  FCB Banks\n",
      "642  CKVBED0S4DMLKJJ5XH28   2223                        Stifel Bank & Trust\n",
      "677  RVDPPPGHCGZ40J4VQ731   2158                 Pennymac Loan Services LLC\n",
      "53   254900HA4DQWAE0W3342   2026             AmeriHome Mortgage Company LLC\n",
      "636  AD6GFRVSDT01YPT1CS68   1825                                        PNC\n",
      "266  549300CP7747DCRW6U68   1758                            Carrollton Bank\n",
      "610  549300YDBNK66R6ZES34   1685                            AB Employees CU\n",
      "157  5493003KZFGGEWCRH554   1677                       Ditech Financial LLC\n",
      "409  549300LXKO1O7CSK5J52   1603                 Flat Branch Mortgage, Inc.\n",
      "301  549300DX0B304LAKUN93   1484                                  JLB Corp.\n",
      "298  549300DT7WZ1SOTNFJ62   1474                                 First Bank\n",
      "441  549300O7SGM8FH65GQ47   1408                                 Busey Bank\n",
      "171  5493004T9SQFCNRQ2L76   1393                       Delmar Financial Co.\n",
      "680  SS1TRMSN6BRNMOREEV51   1379                              Flagstar Bank\n",
      "365  549300J7XKT2BI5WX213   1337                   Caliber Home Loans, Inc.\n",
      "353  549300HW662MN1WU8550   1327        United Shore Financial Services LLC\n",
      "255  549300C1ICNCM0V37Y02   1288  First State Bank of St. Charles, Missouri\n",
      "..                    ...    ...                                        ...\n",
      "594  549300XFFRJX2835SG22      1                                        NaN\n",
      "211  5493007VGBHF6SRXRR53      1                                        NaN\n",
      "597  549300XOWUPV4E45EE89      1                                        NaN\n",
      "210  5493007US5XO6WCOMQ49      1                                        NaN\n",
      "209  5493007RCYAICJL91Z44      1                                        NaN\n",
      "208  5493007OXXFLNNHTW637      1                                        NaN\n",
      "601  549300XY02VS45I5ZZ90      1                                        NaN\n",
      "250  549300BRR67NLTQSBT29      1                                        NaN\n",
      "263  549300CMO3QHQGZ2Z096      1                                        NaN\n",
      "551  549300U82B82JH54TO79      1                                        NaN\n",
      "291  549300DNRGCN05KNA737      1                                        NaN\n",
      "327  549300G5DVGM0ZHRQC33      1                                        NaN\n",
      "323  549300FWYXJ79KO49290      1                                        NaN\n",
      "322  549300FVD3YHE65PKH97      1                                        NaN\n",
      "557  549300UV5JQXLGVWIP44      1                                        NaN\n",
      "314  549300EWFHPBZH38K695      1                                        NaN\n",
      "305  549300E3X7YDJIUENL65      1                                        NaN\n",
      "300  549300DWS85AHLUZHB50      1                                        NaN\n",
      "295  549300DQLGJ1YQRRHH73      1                                        NaN\n",
      "564  549300VHSNSONCKU5207      1                                        NaN\n",
      "264  549300COIWXM618UBE82      1                                        NaN\n",
      "288  549300DMHEHNYZ2OLB41      1                                        NaN\n",
      "287  549300DL291F1S6SE802      1                                        NaN\n",
      "286  549300DKR45F0W1GO839      1                                        NaN\n",
      "283  549300DF7LT6VI5BQC34      1                                        NaN\n",
      "277  549300D3Q016N7YOVW98      1                                        NaN\n",
      "271  549300CY7WNAHKHYSJ73      1                                        NaN\n",
      "265  549300COZ9YQTC4J1378      1                                        NaN\n",
      "573  549300VXVMQO81BHB241      1                                        NaN\n",
      "691  ZXZDWBXF4U47HEP2EO46      1                                        NaN\n",
      "\n",
      "[692 rows x 3 columns]\n"
     ]
    }
   ],
   "source": [
    "### Which banks had the most applications for loans in the STL metro area in 2018? \n",
    "stl_banks_apps18 = metro18.groupby(['lei']).size()\n",
    "stl_banks_apps18 = stl_banks_apps18.reset_index()\n",
    "stl_banks_apps18.columns = ['respondent_id', 'count']\n",
    "stl_banks_apps18['bank_name'] = stl_banks_apps18['respondent_id'].map(banks)\n",
    "stl_banks_apps18 = stl_banks_apps18.sort_values('count', ascending=False)\n",
    "print stl_banks_apps18"
   ]
  },
  {
   "cell_type": "code",
   "execution_count": 220,
   "metadata": {},
   "outputs": [
    {
     "name": "stdout",
     "output_type": "stream",
     "text": [
      "            respondent_id  count                                  bank_name\n",
      "562  6BYL5QZYBDK8S7L73M02   4187                                    US Bank\n",
      "559  549300ZZME37MXI1EF14   2685                            DAS Acquisition\n",
      "206  549300AQ3T62GXDU7D76   2547                     Guild Mortgage Company\n",
      "283  549300FGXN1K3HLB1R50   2308                                    Quicken\n",
      "570  B4TYDEB6GKMZO031MB27   2077                                        BOA\n",
      "469  549300T67186NPGCHI50   1943                            First Community\n",
      "573  CKVBED0S4DMLKJJ5XH28   1911                        Stifel Bank & Trust\n",
      "564  7DMUJTL9FFTVIAG9H788   1801                              Commerce Bank\n",
      "352  549300L8JRY60EOROT34   1712                                  FCB Banks\n",
      "384  549300NB3SBC1KHAWB92   1693                  Gershman Investment Corp.\n",
      "271  549300E2UX99HKDBR481   1641                     Broker Solutions, Inc.\n",
      "236  549300CP7747DCRW6U68   1400                            Carrollton Bank\n",
      "363  549300LXKO1O7CSK5J52   1277                 Flat Branch Mortgage, Inc.\n",
      "590  KB1H1DSPRFMYMCUFXT09   1274                                Wells Fargo\n",
      "542  549300YDBNK66R6ZES34   1207                            AB Employees CU\n",
      "579  EQTWLK1G7ODGC2MGLV11   1187                               Regions Bank\n",
      "314  549300HW662MN1WU8550   1114        United Shore Financial Services LLC\n",
      "268  549300DX0B304LAKUN93   1110                                  JLB Corp.\n",
      "228  549300C1ICNCM0V37Y02   1069  First State Bank of St. Charles, Missouri\n",
      "156  5493004T9SQFCNRQ2L76   1046                       Delmar Financial Co.\n",
      "568  AD6GFRVSDT01YPT1CS68   1024                                        PNC\n",
      "266  549300DT7WZ1SOTNFJ62    986                                 First Bank\n",
      "392  549300O7SGM8FH65GQ47    968                                 Busey Bank\n",
      "507  549300VSL5DFXBM1II56    905                  F&B Acquisition Group LLC\n",
      "459  549300SP2BPE296CC590    825                   The Bank of Edwardsville\n",
      "556  549300ZQKLX5VHD8E865    800                                        NaN\n",
      "487  549300U6DW7DX671T306    654                                        NaN\n",
      "251  549300DD5QQUHO6PCH70    651               Mortgage Research Center LLC\n",
      "368  549300MGPZBLQDIL7538    649                                        NaN\n",
      "467  549300T3ZIPMLYDHGG12    638                                        NaN\n",
      "..                    ...    ...                                        ...\n",
      "301  549300GTU4DSS0S14C42      1                                        NaN\n",
      "170  5493005XMSZYL5SAEF41      1                                        NaN\n",
      "526  549300X72Q5WKCW2QQ95      1                                        NaN\n",
      "152  5493004K0Z4RFJSPYT52      1                                        NaN\n",
      "150  5493004F7BXDIUFVPV87      1                                        NaN\n",
      "148  54930048P8RWCQHQM310      1                                        NaN\n",
      "531  549300XOWUPV4E45EE89      1                                        NaN\n",
      "253  549300DF7LT6VI5BQC34      1                                        NaN\n",
      "407  549300OWUY97LHFQ0512      1                                        NaN\n",
      "169  5493005T71YXBHEO2093      1                                        NaN\n",
      "171  54930061QWO8EIDM1U61      1                                        NaN\n",
      "188  5493007US5XO6WCOMQ49      1                                        NaN\n",
      "415  549300PIL8LFAQ04XC20      1                                        NaN\n",
      "187  5493007RCYAICJL91Z44      1                                        NaN\n",
      "186  5493007OXXFLNNHTW637      1                                        NaN\n",
      "185  5493007IES1RWVUDDU23      1                                        NaN\n",
      "184  5493007CLWQN2S6IZK91      1                                        NaN\n",
      "500  549300VHSNSONCKU5207      1                                        NaN\n",
      "417  549300PL8ER6H23P0Z91      1                                        NaN\n",
      "416  549300PKEQ3Q9S0IXW76      1                                        NaN\n",
      "182  54930078TNN7GKZ7NU89      1                                        NaN\n",
      "512  549300W1HU6IVVIEJ389      1                                        NaN\n",
      "180  5493007700FZNYYEHT38      1                                        NaN\n",
      "178  54930072OCHTUJOZQB56      1                                        NaN\n",
      "296  549300GMYQSCNQRCBL04      1                                        NaN\n",
      "298  549300GRGZDEH4ZGQS06      1                                        NaN\n",
      "509  549300VXVMQO81BHB241      1                                        NaN\n",
      "174  5493006JISETNI0GLE61      1                                        NaN\n",
      "173  5493006EODCF96VQNK28      1                                        NaN\n",
      "308  549300HFBEONQN2CK447      1                                        NaN\n",
      "\n",
      "[617 rows x 3 columns]\n"
     ]
    }
   ],
   "source": [
    "### Which banks originated the most loans in the STL metro area in 2018? \n",
    "\n",
    "stl_banks18 = metro_orig18.groupby(['lei']).size()\n",
    "stl_banks18 = stl_banks18.reset_index()\n",
    "stl_banks18.columns = ['respondent_id', 'count']\n",
    "stl_banks18['bank_name'] = stl_banks18['respondent_id'].map(banks)\n",
    "stl_banks18 = stl_banks18.sort_values('count', ascending=False)\n",
    "print stl_banks18"
   ]
  },
  {
   "cell_type": "code",
   "execution_count": 55,
   "metadata": {},
   "outputs": [],
   "source": [
    "#############################"
   ]
  },
  {
   "cell_type": "code",
   "execution_count": 118,
   "metadata": {},
   "outputs": [
    {
     "name": "stdout",
     "output_type": "stream",
     "text": [
      "as_of_year\n",
      "2007    33189\n",
      "2008    19031\n",
      "2009    12137\n",
      "2010     8560\n",
      "2011     6517\n",
      "2012     8110\n",
      "2013     8943\n",
      "2014     6953\n",
      "2015     7803\n",
      "2016     8806\n",
      "2017     8230\n",
      "dtype: int64\n"
     ]
    }
   ],
   "source": [
    "final_mo_groups_race = final_mo_stl.groupby(['applicant_race_name_1', 'as_of_year']).size()\n",
    "print final_mo_groups_race['Black or African American']"
   ]
  },
  {
   "cell_type": "code",
   "execution_count": 119,
   "metadata": {},
   "outputs": [
    {
     "name": "stdout",
     "output_type": "stream",
     "text": [
      "as_of_year\n",
      "2007    142000\n",
      "2008    107204\n",
      "2009    140415\n",
      "2010    123035\n",
      "2011     96260\n",
      "2012    126827\n",
      "2013    107269\n",
      "2014     63407\n",
      "2015     79743\n",
      "2016     90646\n",
      "2017     76956\n",
      "dtype: int64\n"
     ]
    }
   ],
   "source": [
    "print final_mo_groups_race['White']"
   ]
  },
  {
   "cell_type": "code",
   "execution_count": 126,
   "metadata": {},
   "outputs": [
    {
     "name": "stdout",
     "output_type": "stream",
     "text": [
      "activity_year\n",
      "2018    7990\n",
      "dtype: int64\n"
     ]
    }
   ],
   "source": [
    "stl_18_groups_race = stl_18.groupby(['applicant_race_1', 'activity_year']).size()\n",
    "print stl_18_groups_race[3]"
   ]
  },
  {
   "cell_type": "code",
   "execution_count": 127,
   "metadata": {},
   "outputs": [
    {
     "name": "stdout",
     "output_type": "stream",
     "text": [
      "activity_year\n",
      "2018    74723\n",
      "dtype: int64\n"
     ]
    }
   ],
   "source": [
    "print stl_18_groups_race[5]"
   ]
  },
  {
   "cell_type": "code",
   "execution_count": 114,
   "metadata": {},
   "outputs": [
    {
     "name": "stdout",
     "output_type": "stream",
     "text": [
      "derived_dwelling_category               activity_year\n",
      "Multifamily:Manufactured                2018                 6\n",
      "Multifamily:Site-Built                  2018               183\n",
      "Single Family (1-4 Units):Manufactured  2018               538\n",
      "Single Family (1-4 Units):Site-Built    2018             26392\n",
      "dtype: int64\n"
     ]
    }
   ],
   "source": [
    "stl_18_il_groups = stl_18_il.groupby(['derived_dwelling_category', 'activity_year']).size()\n",
    "print stl_18_il_groups"
   ]
  },
  {
   "cell_type": "code",
   "execution_count": 113,
   "metadata": {},
   "outputs": [
    {
     "name": "stdout",
     "output_type": "stream",
     "text": [
      "property_type  as_of_year\n",
      "1              2007          57600\n",
      "               2008          42730\n",
      "               2009          52903\n",
      "               2010          44953\n",
      "               2011          37486\n",
      "               2012          45483\n",
      "               2013          38213\n",
      "               2014          26089\n",
      "               2015          29477\n",
      "               2016          32501\n",
      "               2017          28535\n",
      "2              2007            997\n",
      "               2008            776\n",
      "               2009            577\n",
      "               2010            770\n",
      "               2011            661\n",
      "               2012            617\n",
      "               2013            536\n",
      "               2014            570\n",
      "               2015            561\n",
      "               2016            519\n",
      "               2017            565\n",
      "3              2007            120\n",
      "               2008            173\n",
      "               2009             98\n",
      "               2010             99\n",
      "               2011             91\n",
      "               2012            108\n",
      "               2013            124\n",
      "               2014             90\n",
      "               2015            104\n",
      "               2016            104\n",
      "               2017            116\n",
      "dtype: int64\n"
     ]
    }
   ],
   "source": [
    "final_il_groups = final_il_stl.groupby(['property_type', 'as_of_year']).size()\n",
    "print final_il_groups"
   ]
  },
  {
   "cell_type": "code",
   "execution_count": 112,
   "metadata": {},
   "outputs": [
    {
     "name": "stdout",
     "output_type": "stream",
     "text": [
      "derived_dwelling_category               activity_year\n",
      "Multifamily:Manufactured                2018                 18\n",
      "Multifamily:Site-Built                  2018                467\n",
      "Single Family (1-4 Units):Manufactured  2018               1328\n",
      "Single Family (1-4 Units):Site-Built    2018             107944\n",
      "dtype: int64\n"
     ]
    }
   ],
   "source": [
    "stl_18_groups = stl_18.groupby(['derived_dwelling_category', 'activity_year']).size()\n",
    "print stl_18_groups"
   ]
  },
  {
   "cell_type": "code",
   "execution_count": 109,
   "metadata": {},
   "outputs": [
    {
     "name": "stdout",
     "output_type": "stream",
     "text": [
      "property_type  as_of_year\n",
      "1              2007          229141\n",
      "               2008          164832\n",
      "               2009          206116\n",
      "               2010          164975\n",
      "               2011          134833\n",
      "               2012          172609\n",
      "               2013          150035\n",
      "               2014           95610\n",
      "               2015          118988\n",
      "               2016          132800\n",
      "               2017          112693\n",
      "2              2007            2975\n",
      "               2008            2297\n",
      "               2009            1478\n",
      "               2010            1391\n",
      "               2011            1435\n",
      "               2012            1598\n",
      "               2013            1898\n",
      "               2014            1157\n",
      "               2015            1080\n",
      "               2016            1281\n",
      "               2017            1538\n",
      "3              2007             391\n",
      "               2008             409\n",
      "               2009             232\n",
      "               2010             248\n",
      "               2011             262\n",
      "               2012             273\n",
      "               2013             316\n",
      "               2014             289\n",
      "               2015             359\n",
      "               2016             318\n",
      "               2017             369\n",
      "dtype: int64\n"
     ]
    }
   ],
   "source": [
    "final_mo_groups = final_mo_stl.groupby(['property_type', 'as_of_year']).size()\n",
    "print final_mo_groups"
   ]
  },
  {
   "cell_type": "code",
   "execution_count": 23,
   "metadata": {},
   "outputs": [],
   "source": [
    "stl_07_c = stl_07['as_of_year'].count()\n",
    "stl_08_c = stl_08['as_of_year'].count()\n",
    "stl_09_c = stl_09['as_of_year'].count()\n",
    "stl_10_c = stl_10['as_of_year'].count()\n",
    "stl_11_c = stl_11['as_of_year'].count()\n",
    "stl_12_c = stl_12['as_of_year'].count()\n",
    "stl_13_c = stl_13['as_of_year'].count()\n",
    "stl_14_c = stl_14['as_of_year'].count()\n",
    "stl_15_c = stl_15['as_of_year'].count()\n",
    "stl_16_c = stl_16['as_of_year'].count()\n",
    "stl_17_c = stl_17['as_of_year'].count()\n",
    "stl_18_c = stl_18['activity_year'].count()\n",
    "\n",
    "### Illinois\n",
    "\n",
    "stl_07_il_c = stl_07_il['as_of_year'].count()\n",
    "stl_08_il_c = stl_08_il['as_of_year'].count()\n",
    "stl_09_il_c = stl_09_il['as_of_year'].count()\n",
    "stl_10_il_c = stl_10_il['as_of_year'].count()\n",
    "stl_11_il_c = stl_11_il['as_of_year'].count()\n",
    "stl_12_il_c = stl_12_il['as_of_year'].count()\n",
    "stl_13_il_c = stl_13_il['as_of_year'].count()\n",
    "stl_14_il_c = stl_14_il['as_of_year'].count()\n",
    "stl_15_il_c = stl_15_il['as_of_year'].count()\n",
    "stl_16_il_c = stl_16_il['as_of_year'].count()\n",
    "stl_17_il_c = stl_17_il['as_of_year'].count()\n",
    "stl_18_il_c = stl_18_il['activity_year'].count()\n",
    "\n",
    "stl_counts_mo = [stl_07_c, stl_08_c, stl_09_c, stl_10_c, stl_11_c, stl_12_c, stl_13_c, stl_14_c, stl_15_c, stl_16_c, stl_17_c, stl_18_c]\n",
    "stl_counts_il = [stl_07_il_c, stl_08_il_c, stl_09_il_c, stl_10_il_c, stl_11_il_c, stl_12_il_c, stl_13_il_c, stl_14_il_c, stl_15_il_c, stl_16_il_c, stl_17_il_c, stl_18_il_c]\n",
    "\n",
    "stl_mo_df = pd.DataFrame([stl_counts_mo], columns=count_headers)\n",
    "stl_il_df = pd.DataFrame([stl_counts_il], columns=count_headers)\n",
    "\n",
    "stl_mo_df['state'] = 'missouri'\n",
    "stl_il_df['state'] = 'illinois'\n",
    "\n",
    "stl_final_df = pd.concat([stl_mo_df, stl_il_df])\n",
    "stl_final = stl_final_df.transpose()\n",
    "stl_final = stl_final.reset_index()\n",
    "stl_final.columns = ['year', 'missouri', 'illinois']\n",
    "stl_final = stl_final.drop(stl_final.index[12])\n",
    "stl_final['both'] = stl_final['missouri'] + stl_final['illinois']\n",
    "stl_fig = px.line(stl_final, x='year', y='both')\n",
    "stl_fig.update_yaxes(rangemode=\"tozero\")"
   ]
  },
  {
   "cell_type": "code",
   "execution_count": 74,
   "metadata": {},
   "outputs": [],
   "source": [
    "stl_mo_all_years_list = [stl_07, stl_08, stl_09, stl_10, stl_11, stl_12, stl_13, stl_14, stl_15, stl_16, stl_17]\n",
    "stl_il_all_years_list = [stl_07_il, stl_08_il, stl_09_il, stl_10_il, stl_11_il, stl_12_il, stl_13_il, stl_14_il, stl_15_il, stl_16_il, stl_17_il]\n",
    "final_mo_stl = pd.concat(stl_mo_all_years_list)\n",
    "final_il_stl = pd.concat(stl_il_all_years_list)\n",
    "final_mo_stl.to_csv('stl_mo_07-17.csv')\n",
    "stl_18.to_csv('stl_mo_18.csv')\n",
    "final_il_stl.to_csv('stl_il_07-17.csv')\n",
    "stl_18_il.to_csv('stl_il_18.csv')"
   ]
  },
  {
   "cell_type": "code",
   "execution_count": 120,
   "metadata": {},
   "outputs": [],
   "source": [
    "### Putting the two dataframes into a list\n",
    "\n",
    "stl_frames_list = [stl_frame1, stl_frame2]"
   ]
  },
  {
   "cell_type": "code",
   "execution_count": 121,
   "metadata": {},
   "outputs": [],
   "source": [
    "### Concatenating the two separate StL dfs into one, exporting a .csv of loan applications in the StL metro area\n",
    "\n",
    "stl_frames = pd.concat(stl_frames_list)\n",
    "stl_frames.to_csv('./data/public_lar/stl_metro.csv')"
   ]
  },
  {
   "cell_type": "code",
   "execution_count": 151,
   "metadata": {},
   "outputs": [],
   "source": [
    "### Df for StL city\n",
    "\n",
    "stl_city_df = stl_frames.loc[stl_frames['county_code'].isin(stl_city)]"
   ]
  },
  {
   "cell_type": "code",
   "execution_count": 152,
   "metadata": {},
   "outputs": [
    {
     "name": "stdout",
     "output_type": "stream",
     "text": [
      "<class 'pandas.core.frame.DataFrame'>\n",
      "Int64Index: 11507 entries, 46 to 162491\n",
      "Data columns (total 100 columns):\n",
      "Unnamed: 0                                  11507 non-null int64\n",
      "activity_year                               11507 non-null int64\n",
      "lei                                         11507 non-null object\n",
      "derived_msa_md                              11507 non-null int64\n",
      "state_code                                  11507 non-null object\n",
      "county_code                                 11507 non-null object\n",
      "census_tract                                11507 non-null object\n",
      "conforming_loan_limit                       11306 non-null object\n",
      "derived_loan_product_type                   11507 non-null object\n",
      "derived_dwelling_category                   11507 non-null object\n",
      "derived_ethnicity                           11507 non-null object\n",
      "derived_race                                11507 non-null object\n",
      "derived_sex                                 11507 non-null object\n",
      "action_taken                                11507 non-null int64\n",
      "purchaser_type                              11507 non-null int64\n",
      "preapproval                                 11507 non-null int64\n",
      "loan_type                                   11507 non-null int64\n",
      "loan_purpose                                11507 non-null int64\n",
      "lien_status                                 11507 non-null int64\n",
      "reverse_mortgage                            11507 non-null int64\n",
      "open_end_line_of_credit                     11507 non-null int64\n",
      "business_or_commercial_purpose              11507 non-null int64\n",
      "loan_amount                                 11507 non-null int64\n",
      "loan_to_value_ratio                         7010 non-null object\n",
      "interest_rate                               7835 non-null object\n",
      "rate_spread                                 4582 non-null object\n",
      "hoepa_status                                11507 non-null int64\n",
      "total_loan_costs                            5905 non-null object\n",
      "total_points_and_fees                       319 non-null object\n",
      "origination_charges                         5920 non-null object\n",
      "discount_points                             1610 non-null object\n",
      "lender_credits                              2447 non-null object\n",
      "loan_term                                   11264 non-null object\n",
      "prepayment_penalty_term                     956 non-null object\n",
      "intro_rate_period                           2010 non-null object\n",
      "negative_amortization                       11507 non-null int64\n",
      "interest_only_payment                       11507 non-null int64\n",
      "balloon_payment                             11507 non-null int64\n",
      "other_nonamortizing_features                11507 non-null int64\n",
      "property_value                              9492 non-null object\n",
      "construction_method                         11507 non-null int64\n",
      "occupancy_type                              11507 non-null int64\n",
      "manufactured_home_secured_property_type     11507 non-null int64\n",
      "manufactured_home_land_property_interest    11507 non-null int64\n",
      "total_units                                 11507 non-null object\n",
      "multifamily_affordable_units                397 non-null object\n",
      "income                                      9516 non-null float64\n",
      "debt_to_income_ratio                        6771 non-null object\n",
      "applicant_credit_score_type                 11507 non-null int64\n",
      "co_applicant_credit_score_type              11507 non-null int64\n",
      "applicant_ethnicity_1                       11505 non-null float64\n",
      "applicant_ethnicity_2                       110 non-null float64\n",
      "applicant_ethnicity_3                       0 non-null float64\n",
      "applicant_ethnicity_4                       1 non-null float64\n",
      "applicant_ethnicity_5                       0 non-null float64\n",
      "co_applicant_ethnicity_1                    11507 non-null float64\n",
      "co_applicant_ethnicity_2                    35 non-null float64\n",
      "co_applicant_ethnicity_3                    1 non-null float64\n",
      "co_applicant_ethnicity_4                    0 non-null float64\n",
      "co_applicant_ethnicity_5                    0 non-null float64\n",
      "applicant_ethnicity_observed                11507 non-null int64\n",
      "co_applicant_ethnicity_observed             11507 non-null int64\n",
      "applicant_race_1                            11506 non-null float64\n",
      "applicant_race_2                            188 non-null float64\n",
      "applicant_race_3                            24 non-null float64\n",
      "applicant_race_4                            1 non-null float64\n",
      "applicant_race_5                            0 non-null float64\n",
      "co_applicant_race_1                         11507 non-null float64\n",
      "co_applicant_race_2                         71 non-null float64\n",
      "co_applicant_race_3                         5 non-null float64\n",
      "co_applicant_race_4                         1 non-null float64\n",
      "co_applicant_race_5                         0 non-null float64\n",
      "applicant_race_observed                     11507 non-null int64\n",
      "co_applicant_race_observed                  11507 non-null int64\n",
      "applicant_sex                               11507 non-null int64\n",
      "co_applicant_sex                            11507 non-null int64\n",
      "applicant_sex_observed                      11507 non-null int64\n",
      "co_applicant_sex_observed                   11507 non-null int64\n",
      "applicant_age                               11507 non-null object\n",
      "co_applicant_age                            11507 non-null object\n",
      "applicant_age_above_62                      9520 non-null object\n",
      "co_applicant_age_above_62                   3016 non-null object\n",
      "submission_of_application                   11507 non-null int64\n",
      "initially_payable_to_institution            11507 non-null int64\n",
      "aus_1                                       11507 non-null int64\n",
      "aus_2                                       397 non-null float64\n",
      "aus_3                                       116 non-null float64\n",
      "aus_4                                       38 non-null float64\n",
      "aus_5                                       32 non-null float64\n",
      "denial_reason_1                             11507 non-null int64\n",
      "denial_reason_2                             367 non-null float64\n",
      "denial_reason_3                             56 non-null float64\n",
      "denial_reason_4                             3 non-null float64\n",
      "tract_population                            11507 non-null int64\n",
      "tract_minority_population_percent           11507 non-null float64\n",
      "ffiec_msa_md_median_family_income           11507 non-null int64\n",
      "tract_to_msa_income_percentage              11507 non-null int64\n",
      "tract_owner_occupied_units                  11507 non-null int64\n",
      "tract_one_to_four_family_homes              11507 non-null int64\n",
      "tract_median_age_of_housing_units           11507 non-null int64\n",
      "dtypes: float64(29), int64(42), object(29)\n",
      "memory usage: 8.9+ MB\n"
     ]
    }
   ],
   "source": [
    "### Checking out StL city info\n",
    "\n",
    "stl_city_df.info()"
   ]
  },
  {
   "cell_type": "code",
   "execution_count": 153,
   "metadata": {},
   "outputs": [],
   "source": [
    "### Filtering to just single-family homes in the metro\n",
    "\n",
    "stl_sf = stl_frames.loc[stl_frames['derived_dwelling_category'].isin(sf)]\n",
    "\n",
    "### To just single-family in the city\n",
    "\n",
    "stl_city_sf = stl_sf.loc[stl_sf['county_code'].isin(stl_city)]"
   ]
  },
  {
   "cell_type": "code",
   "execution_count": 161,
   "metadata": {},
   "outputs": [
    {
     "name": "stdout",
     "output_type": "stream",
     "text": [
      "<class 'pandas.core.frame.DataFrame'>\n",
      "Int64Index: 11306 entries, 46 to 162491\n",
      "Data columns (total 100 columns):\n",
      "Unnamed: 0                                  11306 non-null int64\n",
      "activity_year                               11306 non-null int64\n",
      "lei                                         11306 non-null object\n",
      "derived_msa_md                              11306 non-null int64\n",
      "state_code                                  11306 non-null object\n",
      "county_code                                 11306 non-null object\n",
      "census_tract                                11306 non-null object\n",
      "conforming_loan_limit                       11306 non-null object\n",
      "derived_loan_product_type                   11306 non-null object\n",
      "derived_dwelling_category                   11306 non-null object\n",
      "derived_ethnicity                           11306 non-null object\n",
      "derived_race                                11306 non-null object\n",
      "derived_sex                                 11306 non-null object\n",
      "action_taken                                11306 non-null int64\n",
      "purchaser_type                              11306 non-null int64\n",
      "preapproval                                 11306 non-null int64\n",
      "loan_type                                   11306 non-null int64\n",
      "loan_purpose                                11306 non-null int64\n",
      "lien_status                                 11306 non-null int64\n",
      "reverse_mortgage                            11306 non-null int64\n",
      "open_end_line_of_credit                     11306 non-null int64\n",
      "business_or_commercial_purpose              11306 non-null int64\n",
      "loan_amount                                 11306 non-null int64\n",
      "loan_to_value_ratio                         6846 non-null object\n",
      "interest_rate                               7670 non-null object\n",
      "rate_spread                                 4539 non-null object\n",
      "hoepa_status                                11306 non-null int64\n",
      "total_loan_costs                            5864 non-null object\n",
      "total_points_and_fees                       279 non-null object\n",
      "origination_charges                         5879 non-null object\n",
      "discount_points                             1570 non-null object\n",
      "lender_credits                              2406 non-null object\n",
      "loan_term                                   11072 non-null object\n",
      "prepayment_penalty_term                     916 non-null object\n",
      "intro_rate_period                           1945 non-null object\n",
      "negative_amortization                       11306 non-null int64\n",
      "interest_only_payment                       11306 non-null int64\n",
      "balloon_payment                             11306 non-null int64\n",
      "other_nonamortizing_features                11306 non-null int64\n",
      "property_value                              9316 non-null object\n",
      "construction_method                         11306 non-null int64\n",
      "occupancy_type                              11306 non-null int64\n",
      "manufactured_home_secured_property_type     11306 non-null int64\n",
      "manufactured_home_land_property_interest    11306 non-null int64\n",
      "total_units                                 11306 non-null object\n",
      "multifamily_affordable_units                265 non-null object\n",
      "income                                      9508 non-null float64\n",
      "debt_to_income_ratio                        6729 non-null object\n",
      "applicant_credit_score_type                 11306 non-null int64\n",
      "co_applicant_credit_score_type              11306 non-null int64\n",
      "applicant_ethnicity_1                       11304 non-null float64\n",
      "applicant_ethnicity_2                       110 non-null float64\n",
      "applicant_ethnicity_3                       0 non-null float64\n",
      "applicant_ethnicity_4                       1 non-null float64\n",
      "applicant_ethnicity_5                       0 non-null float64\n",
      "co_applicant_ethnicity_1                    11306 non-null float64\n",
      "co_applicant_ethnicity_2                    35 non-null float64\n",
      "co_applicant_ethnicity_3                    1 non-null float64\n",
      "co_applicant_ethnicity_4                    0 non-null float64\n",
      "co_applicant_ethnicity_5                    0 non-null float64\n",
      "applicant_ethnicity_observed                11306 non-null int64\n",
      "co_applicant_ethnicity_observed             11306 non-null int64\n",
      "applicant_race_1                            11305 non-null float64\n",
      "applicant_race_2                            184 non-null float64\n",
      "applicant_race_3                            24 non-null float64\n",
      "applicant_race_4                            1 non-null float64\n",
      "applicant_race_5                            0 non-null float64\n",
      "co_applicant_race_1                         11306 non-null float64\n",
      "co_applicant_race_2                         69 non-null float64\n",
      "co_applicant_race_3                         5 non-null float64\n",
      "co_applicant_race_4                         1 non-null float64\n",
      "co_applicant_race_5                         0 non-null float64\n",
      "applicant_race_observed                     11306 non-null int64\n",
      "co_applicant_race_observed                  11306 non-null int64\n",
      "applicant_sex                               11306 non-null int64\n",
      "co_applicant_sex                            11306 non-null int64\n",
      "applicant_sex_observed                      11306 non-null int64\n",
      "co_applicant_sex_observed                   11306 non-null int64\n",
      "applicant_age                               11306 non-null object\n",
      "co_applicant_age                            11306 non-null object\n",
      "applicant_age_above_62                      9497 non-null object\n",
      "co_applicant_age_above_62                   3003 non-null object\n",
      "submission_of_application                   11306 non-null int64\n",
      "initially_payable_to_institution            11306 non-null int64\n",
      "aus_1                                       11306 non-null int64\n",
      "aus_2                                       397 non-null float64\n",
      "aus_3                                       116 non-null float64\n",
      "aus_4                                       38 non-null float64\n",
      "aus_5                                       32 non-null float64\n",
      "denial_reason_1                             11306 non-null int64\n",
      "denial_reason_2                             365 non-null float64\n",
      "denial_reason_3                             55 non-null float64\n",
      "denial_reason_4                             3 non-null float64\n",
      "tract_population                            11306 non-null int64\n",
      "tract_minority_population_percent           11306 non-null float64\n",
      "ffiec_msa_md_median_family_income           11306 non-null int64\n",
      "tract_to_msa_income_percentage              11306 non-null int64\n",
      "tract_owner_occupied_units                  11306 non-null int64\n",
      "tract_one_to_four_family_homes              11306 non-null int64\n",
      "tract_median_age_of_housing_units           11306 non-null int64\n",
      "dtypes: float64(29), int64(42), object(29)\n",
      "memory usage: 9.0+ MB\n"
     ]
    }
   ],
   "source": [
    "### Checking out how many applications for single-family mortgages\n",
    "\n",
    "stl_city_sf.info()"
   ]
  },
  {
   "cell_type": "code",
   "execution_count": 162,
   "metadata": {},
   "outputs": [
    {
     "name": "stdout",
     "output_type": "stream",
     "text": [
      "<class 'pandas.core.frame.DataFrame'>\n",
      "Int64Index: 5252 entries, 84 to 162491\n",
      "Data columns (total 100 columns):\n",
      "Unnamed: 0                                  5252 non-null int64\n",
      "activity_year                               5252 non-null int64\n",
      "lei                                         5252 non-null object\n",
      "derived_msa_md                              5252 non-null int64\n",
      "state_code                                  5252 non-null object\n",
      "county_code                                 5252 non-null object\n",
      "census_tract                                5252 non-null object\n",
      "conforming_loan_limit                       5252 non-null object\n",
      "derived_loan_product_type                   5252 non-null object\n",
      "derived_dwelling_category                   5252 non-null object\n",
      "derived_ethnicity                           5252 non-null object\n",
      "derived_race                                5252 non-null object\n",
      "derived_sex                                 5252 non-null object\n",
      "action_taken                                5252 non-null int64\n",
      "purchaser_type                              5252 non-null int64\n",
      "preapproval                                 5252 non-null int64\n",
      "loan_type                                   5252 non-null int64\n",
      "loan_purpose                                5252 non-null int64\n",
      "lien_status                                 5252 non-null int64\n",
      "reverse_mortgage                            5252 non-null int64\n",
      "open_end_line_of_credit                     5252 non-null int64\n",
      "business_or_commercial_purpose              5252 non-null int64\n",
      "loan_amount                                 5252 non-null int64\n",
      "loan_to_value_ratio                         4852 non-null object\n",
      "interest_rate                               5182 non-null object\n",
      "rate_spread                                 4310 non-null object\n",
      "hoepa_status                                5252 non-null int64\n",
      "total_loan_costs                            4122 non-null object\n",
      "total_points_and_fees                       229 non-null object\n",
      "origination_charges                         4038 non-null object\n",
      "discount_points                             1153 non-null object\n",
      "lender_credits                              1789 non-null object\n",
      "loan_term                                   5212 non-null object\n",
      "prepayment_penalty_term                     434 non-null object\n",
      "intro_rate_period                           943 non-null object\n",
      "negative_amortization                       5252 non-null int64\n",
      "interest_only_payment                       5252 non-null int64\n",
      "balloon_payment                             5252 non-null int64\n",
      "other_nonamortizing_features                5252 non-null int64\n",
      "property_value                              5158 non-null object\n",
      "construction_method                         5252 non-null int64\n",
      "occupancy_type                              5252 non-null int64\n",
      "manufactured_home_secured_property_type     5252 non-null int64\n",
      "manufactured_home_land_property_interest    5252 non-null int64\n",
      "total_units                                 5252 non-null object\n",
      "multifamily_affordable_units                215 non-null object\n",
      "income                                      4697 non-null float64\n",
      "debt_to_income_ratio                        4790 non-null object\n",
      "applicant_credit_score_type                 5252 non-null int64\n",
      "co_applicant_credit_score_type              5252 non-null int64\n",
      "applicant_ethnicity_1                       5252 non-null float64\n",
      "applicant_ethnicity_2                       65 non-null float64\n",
      "applicant_ethnicity_3                       0 non-null float64\n",
      "applicant_ethnicity_4                       1 non-null float64\n",
      "applicant_ethnicity_5                       0 non-null float64\n",
      "co_applicant_ethnicity_1                    5252 non-null float64\n",
      "co_applicant_ethnicity_2                    18 non-null float64\n",
      "co_applicant_ethnicity_3                    1 non-null float64\n",
      "co_applicant_ethnicity_4                    0 non-null float64\n",
      "co_applicant_ethnicity_5                    0 non-null float64\n",
      "applicant_ethnicity_observed                5252 non-null int64\n",
      "co_applicant_ethnicity_observed             5252 non-null int64\n",
      "applicant_race_1                            5252 non-null float64\n",
      "applicant_race_2                            86 non-null float64\n",
      "applicant_race_3                            14 non-null float64\n",
      "applicant_race_4                            0 non-null float64\n",
      "applicant_race_5                            0 non-null float64\n",
      "co_applicant_race_1                         5252 non-null float64\n",
      "co_applicant_race_2                         36 non-null float64\n",
      "co_applicant_race_3                         4 non-null float64\n",
      "co_applicant_race_4                         1 non-null float64\n",
      "co_applicant_race_5                         0 non-null float64\n",
      "applicant_race_observed                     5252 non-null int64\n",
      "co_applicant_race_observed                  5252 non-null int64\n",
      "applicant_sex                               5252 non-null int64\n",
      "co_applicant_sex                            5252 non-null int64\n",
      "applicant_sex_observed                      5252 non-null int64\n",
      "co_applicant_sex_observed                   5252 non-null int64\n",
      "applicant_age                               5252 non-null object\n",
      "co_applicant_age                            5252 non-null object\n",
      "applicant_age_above_62                      4784 non-null object\n",
      "co_applicant_age_above_62                   1684 non-null object\n",
      "submission_of_application                   5252 non-null int64\n",
      "initially_payable_to_institution            5252 non-null int64\n",
      "aus_1                                       5252 non-null int64\n",
      "aus_2                                       191 non-null float64\n",
      "aus_3                                       34 non-null float64\n",
      "aus_4                                       15 non-null float64\n",
      "aus_5                                       14 non-null float64\n",
      "denial_reason_1                             5252 non-null int64\n",
      "denial_reason_2                             0 non-null float64\n",
      "denial_reason_3                             0 non-null float64\n",
      "denial_reason_4                             0 non-null float64\n",
      "tract_population                            5252 non-null int64\n",
      "tract_minority_population_percent           5252 non-null float64\n",
      "ffiec_msa_md_median_family_income           5252 non-null int64\n",
      "tract_to_msa_income_percentage              5252 non-null int64\n",
      "tract_owner_occupied_units                  5252 non-null int64\n",
      "tract_one_to_four_family_homes              5252 non-null int64\n",
      "tract_median_age_of_housing_units           5252 non-null int64\n",
      "dtypes: float64(29), int64(42), object(29)\n",
      "memory usage: 4.0+ MB\n"
     ]
    }
   ],
   "source": [
    "### How many single-family home loans were made in the city of St. Louis?\n",
    "\n",
    "stl_city_sf_made = stl_city_sf.loc[stl_city_sf['action_taken'].isin(orig)]\n",
    "stl_city_sf_made.info()"
   ]
  },
  {
   "cell_type": "code",
   "execution_count": 156,
   "metadata": {},
   "outputs": [
    {
     "name": "stdout",
     "output_type": "stream",
     "text": [
      "<class 'pandas.core.frame.DataFrame'>\n",
      "Int64Index: 136202 entries, 0 to 502571\n",
      "Data columns (total 100 columns):\n",
      "Unnamed: 0                                  136202 non-null int64\n",
      "activity_year                               136202 non-null int64\n",
      "lei                                         136202 non-null object\n",
      "derived_msa_md                              136202 non-null int64\n",
      "state_code                                  136202 non-null object\n",
      "county_code                                 136198 non-null object\n",
      "census_tract                                136202 non-null object\n",
      "conforming_loan_limit                       136202 non-null object\n",
      "derived_loan_product_type                   136202 non-null object\n",
      "derived_dwelling_category                   136202 non-null object\n",
      "derived_ethnicity                           136202 non-null object\n",
      "derived_race                                136202 non-null object\n",
      "derived_sex                                 136202 non-null object\n",
      "action_taken                                136202 non-null int64\n",
      "purchaser_type                              136202 non-null int64\n",
      "preapproval                                 136202 non-null int64\n",
      "loan_type                                   136202 non-null int64\n",
      "loan_purpose                                136202 non-null int64\n",
      "lien_status                                 136202 non-null int64\n",
      "reverse_mortgage                            136202 non-null int64\n",
      "open_end_line_of_credit                     136202 non-null int64\n",
      "business_or_commercial_purpose              136202 non-null int64\n",
      "loan_amount                                 136202 non-null int64\n",
      "loan_to_value_ratio                         86207 non-null object\n",
      "interest_rate                               98720 non-null object\n",
      "rate_spread                                 66268 non-null object\n",
      "hoepa_status                                136202 non-null int64\n",
      "total_loan_costs                            78333 non-null object\n",
      "total_points_and_fees                       5368 non-null object\n",
      "origination_charges                         78414 non-null object\n",
      "discount_points                             21554 non-null object\n",
      "lender_credits                              32232 non-null object\n",
      "loan_term                                   134291 non-null object\n",
      "prepayment_penalty_term                     11734 non-null object\n",
      "intro_rate_period                           25225 non-null object\n",
      "negative_amortization                       136202 non-null int64\n",
      "interest_only_payment                       136202 non-null int64\n",
      "balloon_payment                             136202 non-null int64\n",
      "other_nonamortizing_features                136202 non-null int64\n",
      "property_value                              114161 non-null object\n",
      "construction_method                         136202 non-null int64\n",
      "occupancy_type                              136202 non-null int64\n",
      "manufactured_home_secured_property_type     136202 non-null int64\n",
      "manufactured_home_land_property_interest    136202 non-null int64\n",
      "total_units                                 136202 non-null object\n",
      "multifamily_affordable_units                5129 non-null object\n",
      "income                                      117242 non-null float64\n",
      "debt_to_income_ratio                        87037 non-null object\n",
      "applicant_credit_score_type                 136202 non-null int64\n",
      "co_applicant_credit_score_type              136202 non-null int64\n",
      "applicant_ethnicity_1                       136182 non-null float64\n",
      "applicant_ethnicity_2                       1040 non-null float64\n",
      "applicant_ethnicity_3                       17 non-null float64\n",
      "applicant_ethnicity_4                       3 non-null float64\n",
      "applicant_ethnicity_5                       0 non-null float64\n",
      "co_applicant_ethnicity_1                    136192 non-null float64\n",
      "co_applicant_ethnicity_2                    384 non-null float64\n",
      "co_applicant_ethnicity_3                    12 non-null float64\n",
      "co_applicant_ethnicity_4                    1 non-null float64\n",
      "co_applicant_ethnicity_5                    0 non-null float64\n",
      "applicant_ethnicity_observed                136202 non-null int64\n",
      "co_applicant_ethnicity_observed             136202 non-null int64\n",
      "applicant_race_1                            136197 non-null float64\n",
      "applicant_race_2                            2221 non-null float64\n",
      "applicant_race_3                            161 non-null float64\n",
      "applicant_race_4                            17 non-null float64\n",
      "applicant_race_5                            3 non-null float64\n",
      "co_applicant_race_1                         136199 non-null float64\n",
      "co_applicant_race_2                         886 non-null float64\n",
      "co_applicant_race_3                         60 non-null float64\n",
      "co_applicant_race_4                         6 non-null float64\n",
      "co_applicant_race_5                         1 non-null float64\n",
      "applicant_race_observed                     136202 non-null int64\n",
      "co_applicant_race_observed                  136202 non-null int64\n",
      "applicant_sex                               136202 non-null int64\n",
      "co_applicant_sex                            136202 non-null int64\n",
      "applicant_sex_observed                      136202 non-null int64\n",
      "co_applicant_sex_observed                   136202 non-null int64\n",
      "applicant_age                               136202 non-null object\n",
      "co_applicant_age                            136202 non-null object\n",
      "applicant_age_above_62                      117690 non-null object\n",
      "co_applicant_age_above_62                   52302 non-null object\n",
      "submission_of_application                   136202 non-null int64\n",
      "initially_payable_to_institution            136202 non-null int64\n",
      "aus_1                                       136202 non-null int64\n",
      "aus_2                                       3392 non-null float64\n",
      "aus_3                                       978 non-null float64\n",
      "aus_4                                       384 non-null float64\n",
      "aus_5                                       322 non-null float64\n",
      "denial_reason_1                             136202 non-null int64\n",
      "denial_reason_2                             3408 non-null float64\n",
      "denial_reason_3                             475 non-null float64\n",
      "denial_reason_4                             39 non-null float64\n",
      "tract_population                            136202 non-null int64\n",
      "tract_minority_population_percent           136202 non-null float64\n",
      "ffiec_msa_md_median_family_income           136202 non-null int64\n",
      "tract_to_msa_income_percentage              136202 non-null int64\n",
      "tract_owner_occupied_units                  136202 non-null int64\n",
      "tract_one_to_four_family_homes              136202 non-null int64\n",
      "tract_median_age_of_housing_units           136202 non-null int64\n",
      "dtypes: float64(29), int64(42), object(29)\n",
      "memory usage: 105.0+ MB\n"
     ]
    }
   ],
   "source": [
    "# StL Metro single-family home mortgage data\n",
    "\n",
    "stl_sf.info()"
   ]
  },
  {
   "cell_type": "code",
   "execution_count": 130,
   "metadata": {},
   "outputs": [
    {
     "data": {
      "text/plain": [
       "array([29099.0, 29189.0, 29183.0, 29510.0, 29071.0, 29113.0, 29219.0,\n",
       "       17163.0, 17005.0, '29071', '29189', '29113', '29183', '29099',\n",
       "       '29510', '29219', nan, 17133.0, 17119.0, 17117.0, 17027.0, 17083.0,\n",
       "       17013.0], dtype=object)"
      ]
     },
     "execution_count": 130,
     "metadata": {},
     "output_type": "execute_result"
    }
   ],
   "source": [
    "stl_frames.county_code.unique()"
   ]
  },
  {
   "cell_type": "code",
   "execution_count": 122,
   "metadata": {},
   "outputs": [
    {
     "name": "stdout",
     "output_type": "stream",
     "text": [
      "<class 'pandas.core.frame.DataFrame'>\n",
      "Int64Index: 136876 entries, 0 to 502571\n",
      "Data columns (total 100 columns):\n",
      "Unnamed: 0                                  136876 non-null int64\n",
      "activity_year                               136876 non-null int64\n",
      "lei                                         136876 non-null object\n",
      "derived_msa_md                              136876 non-null int64\n",
      "state_code                                  136876 non-null object\n",
      "county_code                                 136872 non-null object\n",
      "census_tract                                136876 non-null object\n",
      "conforming_loan_limit                       136202 non-null object\n",
      "derived_loan_product_type                   136876 non-null object\n",
      "derived_dwelling_category                   136876 non-null object\n",
      "derived_ethnicity                           136876 non-null object\n",
      "derived_race                                136876 non-null object\n",
      "derived_sex                                 136876 non-null object\n",
      "action_taken                                136876 non-null int64\n",
      "purchaser_type                              136876 non-null int64\n",
      "preapproval                                 136876 non-null int64\n",
      "loan_type                                   136876 non-null int64\n",
      "loan_purpose                                136876 non-null int64\n",
      "lien_status                                 136876 non-null int64\n",
      "reverse_mortgage                            136876 non-null int64\n",
      "open_end_line_of_credit                     136876 non-null int64\n",
      "business_or_commercial_purpose              136876 non-null int64\n",
      "loan_amount                                 136876 non-null int64\n",
      "loan_to_value_ratio                         86787 non-null object\n",
      "interest_rate                               99293 non-null object\n",
      "rate_spread                                 66417 non-null object\n",
      "hoepa_status                                136876 non-null int64\n",
      "total_loan_costs                            78467 non-null object\n",
      "total_points_and_fees                       5500 non-null object\n",
      "origination_charges                         78548 non-null object\n",
      "discount_points                             21686 non-null object\n",
      "lender_credits                              32365 non-null object\n",
      "loan_term                                   134939 non-null object\n",
      "prepayment_penalty_term                     11866 non-null object\n",
      "intro_rate_period                           25462 non-null object\n",
      "negative_amortization                       136876 non-null int64\n",
      "interest_only_payment                       136876 non-null int64\n",
      "balloon_payment                             136876 non-null int64\n",
      "other_nonamortizing_features                136876 non-null int64\n",
      "property_value                              114765 non-null object\n",
      "construction_method                         136876 non-null int64\n",
      "occupancy_type                              136876 non-null int64\n",
      "manufactured_home_secured_property_type     136876 non-null int64\n",
      "manufactured_home_land_property_interest    136876 non-null int64\n",
      "total_units                                 136876 non-null object\n",
      "multifamily_affordable_units                5519 non-null object\n",
      "income                                      117309 non-null float64\n",
      "debt_to_income_ratio                        87190 non-null object\n",
      "applicant_credit_score_type                 136876 non-null int64\n",
      "co_applicant_credit_score_type              136876 non-null int64\n",
      "applicant_ethnicity_1                       136856 non-null float64\n",
      "applicant_ethnicity_2                       1040 non-null float64\n",
      "applicant_ethnicity_3                       17 non-null float64\n",
      "applicant_ethnicity_4                       3 non-null float64\n",
      "applicant_ethnicity_5                       0 non-null float64\n",
      "co_applicant_ethnicity_1                    136866 non-null float64\n",
      "co_applicant_ethnicity_2                    384 non-null float64\n",
      "co_applicant_ethnicity_3                    12 non-null float64\n",
      "co_applicant_ethnicity_4                    1 non-null float64\n",
      "co_applicant_ethnicity_5                    0 non-null float64\n",
      "applicant_ethnicity_observed                136876 non-null int64\n",
      "co_applicant_ethnicity_observed             136876 non-null int64\n",
      "applicant_race_1                            136871 non-null float64\n",
      "applicant_race_2                            2228 non-null float64\n",
      "applicant_race_3                            161 non-null float64\n",
      "applicant_race_4                            17 non-null float64\n",
      "applicant_race_5                            3 non-null float64\n",
      "co_applicant_race_1                         136873 non-null float64\n",
      "co_applicant_race_2                         889 non-null float64\n",
      "co_applicant_race_3                         60 non-null float64\n",
      "co_applicant_race_4                         6 non-null float64\n",
      "co_applicant_race_5                         1 non-null float64\n",
      "applicant_race_observed                     136876 non-null int64\n",
      "co_applicant_race_observed                  136876 non-null int64\n",
      "applicant_sex                               136876 non-null int64\n",
      "co_applicant_sex                            136876 non-null int64\n",
      "applicant_sex_observed                      136876 non-null int64\n",
      "co_applicant_sex_observed                   136876 non-null int64\n",
      "applicant_age                               136876 non-null object\n",
      "co_applicant_age                            136876 non-null object\n",
      "applicant_age_above_62                      117800 non-null object\n",
      "co_applicant_age_above_62                   52370 non-null object\n",
      "submission_of_application                   136876 non-null int64\n",
      "initially_payable_to_institution            136876 non-null int64\n",
      "aus_1                                       136876 non-null int64\n",
      "aus_2                                       3392 non-null float64\n",
      "aus_3                                       978 non-null float64\n",
      "aus_4                                       384 non-null float64\n",
      "aus_5                                       322 non-null float64\n",
      "denial_reason_1                             136876 non-null int64\n",
      "denial_reason_2                             3417 non-null float64\n",
      "denial_reason_3                             479 non-null float64\n",
      "denial_reason_4                             40 non-null float64\n",
      "tract_population                            136876 non-null int64\n",
      "tract_minority_population_percent           136876 non-null float64\n",
      "ffiec_msa_md_median_family_income           136876 non-null int64\n",
      "tract_to_msa_income_percentage              136876 non-null int64\n",
      "tract_owner_occupied_units                  136876 non-null int64\n",
      "tract_one_to_four_family_homes              136876 non-null int64\n",
      "tract_median_age_of_housing_units           136876 non-null int64\n",
      "dtypes: float64(29), int64(42), object(29)\n",
      "memory usage: 105.5+ MB\n"
     ]
    }
   ],
   "source": [
    "stl_frames.info()"
   ]
  },
  {
   "cell_type": "code",
   "execution_count": 100,
   "metadata": {},
   "outputs": [],
   "source": [
    "### Filtering the larger dataframes into just the states we are interested in\n",
    "\n",
    "df31_mo = df31.loc[df31['state_code'].isin(mo)]\n",
    "df31_il = df31.loc[df31['state_code'].isin(il)]"
   ]
  },
  {
   "cell_type": "code",
   "execution_count": 101,
   "metadata": {},
   "outputs": [],
   "source": [
    "### Exporting each state frame to a .csv\n",
    "\n",
    "df31_mo.to_csv('./data/public_lar/mo/mo31.csv')\n",
    "df31_il.to_csv('./data/public_lar/il/il31.csv')"
   ]
  },
  {
   "cell_type": "code",
   "execution_count": null,
   "metadata": {},
   "outputs": [],
   "source": [
    "###############################################"
   ]
  },
  {
   "cell_type": "code",
   "execution_count": null,
   "metadata": {},
   "outputs": [],
   "source": [
    "frame = pd.concat(df1, df2)"
   ]
  },
  {
   "cell_type": "code",
   "execution_count": 9,
   "metadata": {},
   "outputs": [],
   "source": [
    "d1_mo = d1.loc[d1['state_code'].isin(mo)]"
   ]
  },
  {
   "cell_type": "code",
   "execution_count": 15,
   "metadata": {},
   "outputs": [],
   "source": [
    "d1_stl = d1.loc[d1['derived_msa_md'].isin(stl)]"
   ]
  },
  {
   "cell_type": "code",
   "execution_count": null,
   "metadata": {},
   "outputs": [],
   "source": [
    "d1_stl = d1.loc[d1['derived_msa_md'].isin(stl)]"
   ]
  },
  {
   "cell_type": "code",
   "execution_count": 24,
   "metadata": {},
   "outputs": [
    {
     "name": "stdout",
     "output_type": "stream",
     "text": [
      "   activity_year                   lei  derived_msa_md state_code  \\\n",
      "0           2018  549300HW662MN1WU8550           40140         CA   \n",
      "1           2018  549300HW662MN1WU8550           33460         MN   \n",
      "2           2018  549300HW662MN1WU8550           47664         MI   \n",
      "3           2018  549300HW662MN1WU8550           12060         GA   \n",
      "4           2018  549300HW662MN1WU8550           29820         NV   \n",
      "\n",
      "   county_code  census_tract conforming_loan_limit derived_loan_product_type  \\\n",
      "0         6071    6071009709                     C            FHA:First Lien   \n",
      "1        27141   27141030101                     C   Conventional:First Lien   \n",
      "2        26125   26125183900                     C   Conventional:First Lien   \n",
      "3        13057   13057090400                     C   Conventional:First Lien   \n",
      "4        32003   32003005853                     C   Conventional:First Lien   \n",
      "\n",
      "              derived_dwelling_category       derived_ethnicity  ...  \\\n",
      "0  Single Family (1-4 Units):Site-Built      Hispanic or Latino  ...   \n",
      "1  Single Family (1-4 Units):Site-Built  Not Hispanic or Latino  ...   \n",
      "2  Single Family (1-4 Units):Site-Built  Not Hispanic or Latino  ...   \n",
      "3  Single Family (1-4 Units):Site-Built  Not Hispanic or Latino  ...   \n",
      "4  Single Family (1-4 Units):Site-Built  Not Hispanic or Latino  ...   \n",
      "\n",
      "  denial_reason_2 denial_reason_3  denial_reason_4  tract_population  \\\n",
      "0             NaN             NaN              NaN              6022   \n",
      "1             NaN             NaN              NaN             11123   \n",
      "2             NaN             NaN              NaN              2632   \n",
      "3             NaN             NaN              NaN              9836   \n",
      "4             NaN             NaN              NaN              7804   \n",
      "\n",
      "   tract_minority_population_percent  ffiec_msa_md_median_family_income  \\\n",
      "0                              36.28                              65800   \n",
      "1                               4.14                              93600   \n",
      "2                               9.19                              83200   \n",
      "3                              35.86                              74400   \n",
      "4                              58.84                              64800   \n",
      "\n",
      "   tract_to_msa_income_percentage  tract_owner_occupied_units  \\\n",
      "0                              68                        1214   \n",
      "1                              93                        2986   \n",
      "2                             101                         719   \n",
      "3                              61                        1322   \n",
      "4                              94                        1161   \n",
      "\n",
      "   tract_one_to_four_family_homes  tract_median_age_of_housing_units  \n",
      "0                            2110                                 29  \n",
      "1                            3441                                 17  \n",
      "2                             938                                 63  \n",
      "3                            2522                                 15  \n",
      "4                            2569                                 10  \n",
      "\n",
      "[5 rows x 99 columns]\n",
      "   activity_year                   lei  derived_msa_md state_code  \\\n",
      "5           2018  549300HW662MN1WU8550           38060         AZ   \n",
      "6           2018  549300HW662MN1WU8550           40340         MN   \n",
      "7           2018  549300HW662MN1WU8550           40140         CA   \n",
      "8           2018  549300HW662MN1WU8550           47664         MI   \n",
      "9           2018  549300HW662MN1WU8550           44060         WA   \n",
      "\n",
      "   county_code  census_tract conforming_loan_limit derived_loan_product_type  \\\n",
      "5         4013    4013112700                     C   Conventional:First Lien   \n",
      "6        27109   27109001503                     C   Conventional:First Lien   \n",
      "7         6065    6065045303                     C            FHA:First Lien   \n",
      "8        26099   26099225800                     C            FHA:First Lien   \n",
      "9        53063   53063002100                     C   Conventional:First Lien   \n",
      "\n",
      "              derived_dwelling_category        derived_ethnicity  ...  \\\n",
      "5  Single Family (1-4 Units):Site-Built       Hispanic or Latino  ...   \n",
      "6  Single Family (1-4 Units):Site-Built       Hispanic or Latino  ...   \n",
      "7  Single Family (1-4 Units):Site-Built       Hispanic or Latino  ...   \n",
      "8  Single Family (1-4 Units):Site-Built   Not Hispanic or Latino  ...   \n",
      "9  Single Family (1-4 Units):Site-Built  Ethnicity Not Available  ...   \n",
      "\n",
      "  denial_reason_2 denial_reason_3  denial_reason_4  tract_population  \\\n",
      "5             NaN             NaN              NaN              6355   \n",
      "6             NaN             NaN              NaN              2192   \n",
      "7             NaN             NaN              NaN              2904   \n",
      "8             NaN             NaN              NaN              6431   \n",
      "9             NaN             NaN              NaN              2381   \n",
      "\n",
      "   tract_minority_population_percent  ffiec_msa_md_median_family_income  \\\n",
      "5                              94.96                              69100   \n",
      "6                               7.62                              86200   \n",
      "7                              95.94                              65800   \n",
      "8                              14.23                              83200   \n",
      "9                              16.38                              64000   \n",
      "\n",
      "   tract_to_msa_income_percentage  tract_owner_occupied_units  \\\n",
      "5                              36                         639   \n",
      "6                             123                         840   \n",
      "7                              52                         289   \n",
      "8                              97                        1896   \n",
      "9                              53                         406   \n",
      "\n",
      "   tract_one_to_four_family_homes  tract_median_age_of_housing_units  \n",
      "5                            1886                                 57  \n",
      "6                            1008                                 40  \n",
      "7                             739                                 54  \n",
      "8                            2169                                 44  \n",
      "9                            1002                                 76  \n",
      "\n",
      "[5 rows x 99 columns]\n",
      "    activity_year                   lei  derived_msa_md state_code  \\\n",
      "10           2018  549300HW662MN1WU8550           45300         FL   \n",
      "11           2018  549300HW662MN1WU8550           40900         CA   \n",
      "12           2018  549300HW662MN1WU8550           21780         IN   \n",
      "13           2018  549300HW662MN1WU8550           16974         IL   \n",
      "14           2018  549300HW662MN1WU8550           26900         IN   \n",
      "\n",
      "    county_code  census_tract conforming_loan_limit derived_loan_product_type  \\\n",
      "10        12057   12057001700                     C   Conventional:First Lien   \n",
      "11         6067    6067009606                     C   Conventional:First Lien   \n",
      "12        18163   18163010404                     C            FHA:First Lien   \n",
      "13        17031   17031804705                     C            FHA:First Lien   \n",
      "14        18057   18057110806                     C   Conventional:First Lien   \n",
      "\n",
      "               derived_dwelling_category        derived_ethnicity  ...  \\\n",
      "10  Single Family (1-4 Units):Site-Built  Ethnicity Not Available  ...   \n",
      "11  Single Family (1-4 Units):Site-Built   Not Hispanic or Latino  ...   \n",
      "12  Single Family (1-4 Units):Site-Built  Ethnicity Not Available  ...   \n",
      "13  Single Family (1-4 Units):Site-Built   Not Hispanic or Latino  ...   \n",
      "14  Single Family (1-4 Units):Site-Built  Ethnicity Not Available  ...   \n",
      "\n",
      "   denial_reason_2 denial_reason_3  denial_reason_4  tract_population  \\\n",
      "10             NaN             NaN              NaN              4516   \n",
      "11             NaN             NaN              NaN              7539   \n",
      "12             NaN             NaN              NaN              7044   \n",
      "13             NaN             NaN              NaN              4147   \n",
      "14             NaN             NaN              NaN             13541   \n",
      "\n",
      "    tract_minority_population_percent  ffiec_msa_md_median_family_income  \\\n",
      "10                              56.07                              63900   \n",
      "11                              85.06                              80400   \n",
      "12                               4.76                              65100   \n",
      "13                              48.90                              82400   \n",
      "14                              23.84                              75100   \n",
      "\n",
      "    tract_to_msa_income_percentage  tract_owner_occupied_units  \\\n",
      "10                              86                        1161   \n",
      "11                              50                         724   \n",
      "12                             158                        2321   \n",
      "13                              94                        1190   \n",
      "14                             132                        3948   \n",
      "\n",
      "    tract_one_to_four_family_homes  tract_median_age_of_housing_units  \n",
      "10                            2033                                 61  \n",
      "11                            1580                                 35  \n",
      "12                            2618                                 38  \n",
      "13                            1222                                 40  \n",
      "14                            4407                                 12  \n",
      "\n",
      "[5 rows x 99 columns]\n",
      "    activity_year                   lei  derived_msa_md state_code  \\\n",
      "15           2018  549300HW662MN1WU8550           31860         MN   \n",
      "16           2018  549300HW662MN1WU8550           35084         NJ   \n",
      "17           2018  549300HW662MN1WU8550           23420         CA   \n",
      "18           2018  549300HW662MN1WU8550           38300         PA   \n",
      "19           2018  549300HW662MN1WU8550           31084         CA   \n",
      "\n",
      "    county_code  census_tract conforming_loan_limit derived_loan_product_type  \\\n",
      "15        27013   27013170400                     C   Conventional:First Lien   \n",
      "16        34013   34013004500                     C   Conventional:First Lien   \n",
      "17         6019    6019001301                     C   Conventional:First Lien   \n",
      "18        42125   42125754200                     C   Conventional:First Lien   \n",
      "19         6037    6037408800                     C   Conventional:First Lien   \n",
      "\n",
      "               derived_dwelling_category        derived_ethnicity  ...  \\\n",
      "15  Single Family (1-4 Units):Site-Built   Not Hispanic or Latino  ...   \n",
      "16  Single Family (1-4 Units):Site-Built   Not Hispanic or Latino  ...   \n",
      "17  Single Family (1-4 Units):Site-Built  Ethnicity Not Available  ...   \n",
      "18  Single Family (1-4 Units):Site-Built   Not Hispanic or Latino  ...   \n",
      "19  Single Family (1-4 Units):Site-Built  Ethnicity Not Available  ...   \n",
      "\n",
      "   denial_reason_2 denial_reason_3  denial_reason_4  tract_population  \\\n",
      "15             NaN             NaN              NaN              3502   \n",
      "16             NaN             NaN              NaN              3051   \n",
      "17             NaN             NaN              NaN              5240   \n",
      "18             NaN             NaN              NaN              2640   \n",
      "19             NaN             NaN              NaN              3896   \n",
      "\n",
      "    tract_minority_population_percent  ffiec_msa_md_median_family_income  \\\n",
      "15                               6.85                              75000   \n",
      "16                              99.44                             100700   \n",
      "17                              94.94                              55500   \n",
      "18                              12.05                              75500   \n",
      "19                              84.75                              69300   \n",
      "\n",
      "    tract_to_msa_income_percentage  tract_owner_occupied_units  \\\n",
      "15                              87                         918   \n",
      "16                              60                         329   \n",
      "17                              55                         648   \n",
      "18                              74                         457   \n",
      "19                              61                         219   \n",
      "\n",
      "    tract_one_to_four_family_homes  tract_median_age_of_housing_units  \n",
      "15                            1199                                 51  \n",
      "16                            1048                                 71  \n",
      "17                            1389                                 62  \n",
      "18                            1047                                 68  \n",
      "19                             701                                 43  \n",
      "\n",
      "[5 rows x 99 columns]\n"
     ]
    },
    {
     "name": "stdout",
     "output_type": "stream",
     "text": [
      "    activity_year                   lei  derived_msa_md state_code  \\\n",
      "20           2018  549300HW662MN1WU8550           27340         NC   \n",
      "21           2018  549300HW662MN1WU8550           47664         MI   \n",
      "22           2018  549300HW662MN1WU8550           47664         MI   \n",
      "23           2018  549300HW662MN1WU8550           16974         IL   \n",
      "24           2018  549300HW662MN1WU8550           40140         CA   \n",
      "\n",
      "    county_code  census_tract conforming_loan_limit derived_loan_product_type  \\\n",
      "20        37133   37133002201                     C            FHA:First Lien   \n",
      "21        26125   26125128900                     C   Conventional:First Lien   \n",
      "22        26125   26125145400                     C   Conventional:First Lien   \n",
      "23        17031   17031808002                     C   Conventional:First Lien   \n",
      "24         6065    6065046403                     C   Conventional:First Lien   \n",
      "\n",
      "               derived_dwelling_category       derived_ethnicity  ...  \\\n",
      "20  Single Family (1-4 Units):Site-Built  Not Hispanic or Latino  ...   \n",
      "21  Single Family (1-4 Units):Site-Built  Not Hispanic or Latino  ...   \n",
      "22  Single Family (1-4 Units):Site-Built  Not Hispanic or Latino  ...   \n",
      "23  Single Family (1-4 Units):Site-Built  Not Hispanic or Latino  ...   \n",
      "24  Single Family (1-4 Units):Site-Built      Hispanic or Latino  ...   \n",
      "\n",
      "   denial_reason_2 denial_reason_3  denial_reason_4  tract_population  \\\n",
      "20             NaN             NaN              NaN              5190   \n",
      "21             NaN             NaN              NaN              5201   \n",
      "22             NaN             NaN              NaN              4310   \n",
      "23             NaN             NaN              NaN              4815   \n",
      "24             NaN             NaN              NaN              7467   \n",
      "\n",
      "    tract_minority_population_percent  ffiec_msa_md_median_family_income  \\\n",
      "20                              39.17                              53000   \n",
      "21                              18.15                              83200   \n",
      "22                              33.23                              83200   \n",
      "23                              41.68                              82400   \n",
      "24                              63.22                              65800   \n",
      "\n",
      "    tract_to_msa_income_percentage  tract_owner_occupied_units  \\\n",
      "20                             128                         983   \n",
      "21                             158                        1376   \n",
      "22                              83                        1095   \n",
      "23                             120                        1187   \n",
      "24                             105                        1438   \n",
      "\n",
      "    tract_one_to_four_family_homes  tract_median_age_of_housing_units  \n",
      "20                            1699                                 23  \n",
      "21                            1445                                 21  \n",
      "22                            1910                                 61  \n",
      "23                            1496                                 58  \n",
      "24                            2116                                 23  \n",
      "\n",
      "[5 rows x 99 columns]\n",
      "    activity_year                   lei  derived_msa_md state_code  \\\n",
      "25           2018  549300HW662MN1WU8550           40140         CA   \n",
      "26           2018  549300HW662MN1WU8550           48900         NC   \n",
      "27           2018  549300HW662MN1WU8550           38060         AZ   \n",
      "28           2018  549300HW662MN1WU8550           12060         GA   \n",
      "29           2018  549300HW662MN1WU8550           99999         MN   \n",
      "\n",
      "    county_code  census_tract conforming_loan_limit derived_loan_product_type  \\\n",
      "25         6071    6071010409                     C             VA:First Lien   \n",
      "26        37129   37129011603                     C             VA:First Lien   \n",
      "27         4013    4013108302                     C   Conventional:First Lien   \n",
      "28        13135   13135050536                     C   Conventional:First Lien   \n",
      "29        27099   27099000200                     C            FHA:First Lien   \n",
      "\n",
      "               derived_dwelling_category        derived_ethnicity  ...  \\\n",
      "25  Single Family (1-4 Units):Site-Built  Ethnicity Not Available  ...   \n",
      "26  Single Family (1-4 Units):Site-Built  Ethnicity Not Available  ...   \n",
      "27  Single Family (1-4 Units):Site-Built   Not Hispanic or Latino  ...   \n",
      "28  Single Family (1-4 Units):Site-Built   Not Hispanic or Latino  ...   \n",
      "29  Single Family (1-4 Units):Site-Built   Not Hispanic or Latino  ...   \n",
      "\n",
      "   denial_reason_2 denial_reason_3  denial_reason_4  tract_population  \\\n",
      "25             NaN             NaN              NaN              2742   \n",
      "26             NaN             NaN              NaN              7664   \n",
      "27             NaN             NaN              NaN              2852   \n",
      "28             NaN             NaN              NaN              5048   \n",
      "29             NaN             NaN              NaN              2792   \n",
      "\n",
      "    tract_minority_population_percent  ffiec_msa_md_median_family_income  \\\n",
      "25                              32.28                              65800   \n",
      "26                              26.85                              72600   \n",
      "27                              19.11                              69100   \n",
      "28                              75.08                              74400   \n",
      "29                              15.08                              69500   \n",
      "\n",
      "    tract_to_msa_income_percentage  tract_owner_occupied_units  \\\n",
      "25                              63                         685   \n",
      "26                              92                        1862   \n",
      "27                             114                         685   \n",
      "28                              79                        1061   \n",
      "29                             119                         991   \n",
      "\n",
      "    tract_one_to_four_family_homes  tract_median_age_of_housing_units  \n",
      "25                            2460                                 56  \n",
      "26                            2878                                 22  \n",
      "27                            1290                                 53  \n",
      "28                            1635                                 25  \n",
      "29                            1123                                 59  \n",
      "\n",
      "[5 rows x 99 columns]\n",
      "    activity_year                   lei  derived_msa_md state_code  \\\n",
      "30           2018  549300HW662MN1WU8550           22420         MI   \n",
      "31           2018  549300HW662MN1WU8550           23104         TX   \n",
      "32           2018  549300HW662MN1WU8550           45300         FL   \n",
      "33           2018  549300HW662MN1WU8550           23104         TX   \n",
      "34           2018  549300HW662MN1WU8550           38060         AZ   \n",
      "\n",
      "    county_code  census_tract conforming_loan_limit derived_loan_product_type  \\\n",
      "30        26049   26049011508                     C   Conventional:First Lien   \n",
      "31        48439   48439114003                     C            FHA:First Lien   \n",
      "32        12057   12057011414                     C            FHA:First Lien   \n",
      "33        48439   48439113403                     C   Conventional:First Lien   \n",
      "34         4013    4013115600                     C   Conventional:First Lien   \n",
      "\n",
      "               derived_dwelling_category        derived_ethnicity  ...  \\\n",
      "30  Single Family (1-4 Units):Site-Built  Ethnicity Not Available  ...   \n",
      "31  Single Family (1-4 Units):Site-Built   Not Hispanic or Latino  ...   \n",
      "32  Single Family (1-4 Units):Site-Built   Not Hispanic or Latino  ...   \n",
      "33  Single Family (1-4 Units):Site-Built       Hispanic or Latino  ...   \n",
      "34  Single Family (1-4 Units):Site-Built       Hispanic or Latino  ...   \n",
      "\n",
      "   denial_reason_2 denial_reason_3  denial_reason_4  tract_population  \\\n",
      "30             NaN             NaN              NaN              2857   \n",
      "31             NaN             NaN              NaN              8848   \n",
      "32             NaN             NaN              NaN              6873   \n",
      "33             NaN             NaN              NaN              2451   \n",
      "34             9.0             NaN              NaN              4674   \n",
      "\n",
      "    tract_minority_population_percent  ffiec_msa_md_median_family_income  \\\n",
      "30                              12.04                              57900   \n",
      "31                              47.74                              75000   \n",
      "32                              62.77                              63900   \n",
      "33                              16.85                              75000   \n",
      "34                              86.52                              69100   \n",
      "\n",
      "    tract_to_msa_income_percentage  tract_owner_occupied_units  \\\n",
      "30                             115                         812   \n",
      "31                             105                        2043   \n",
      "32                              99                        1523   \n",
      "33                             105                         768   \n",
      "34                              63                         701   \n",
      "\n",
      "    tract_one_to_four_family_homes  tract_median_age_of_housing_units  \n",
      "30                            1050                                 52  \n",
      "31                            2488                                 20  \n",
      "32                            1651                                 23  \n",
      "33                            1003                                 49  \n",
      "34                            1257                                 28  \n",
      "\n",
      "[5 rows x 99 columns]\n",
      "    activity_year                   lei  derived_msa_md state_code  \\\n",
      "35           2018  549300HW662MN1WU8550           19740         CO   \n",
      "36           2018  549300HW662MN1WU8550           33460         MN   \n",
      "37           2018  549300HW662MN1WU8550           36100         FL   \n",
      "38           2018  549300HW662MN1WU8550           17820         CO   \n",
      "39           2018  549300HW662MN1WU8550           45300         FL   \n",
      "\n",
      "    county_code  census_tract conforming_loan_limit derived_loan_product_type  \\\n",
      "35         8005    8005007704                     C   Conventional:First Lien   \n",
      "36        27053   27053024600                     C   Conventional:First Lien   \n",
      "37        12083   12083000901                     C            FHA:First Lien   \n",
      "38         8041    8041003709                    NC             VA:First Lien   \n",
      "39        12101   12101031010                     C   Conventional:First Lien   \n",
      "\n",
      "               derived_dwelling_category        derived_ethnicity  ...  \\\n",
      "35  Single Family (1-4 Units):Site-Built   Not Hispanic or Latino  ...   \n",
      "36  Single Family (1-4 Units):Site-Built   Not Hispanic or Latino  ...   \n",
      "37  Single Family (1-4 Units):Site-Built  Ethnicity Not Available  ...   \n",
      "38  Single Family (1-4 Units):Site-Built   Not Hispanic or Latino  ...   \n",
      "39  Single Family (1-4 Units):Site-Built  Ethnicity Not Available  ...   \n",
      "\n",
      "   denial_reason_2 denial_reason_3  denial_reason_4  tract_population  \\\n",
      "35             NaN             NaN              NaN              4670   \n",
      "36             NaN             NaN              NaN              3808   \n",
      "37             NaN             NaN              NaN              5458   \n",
      "38             NaN             NaN              NaN              6341   \n",
      "39             NaN             NaN              NaN              4678   \n",
      "\n",
      "    tract_minority_population_percent  ffiec_msa_md_median_family_income  \\\n",
      "35                              76.66                              89900   \n",
      "36                              26.73                              93600   \n",
      "37                              22.81                              53400   \n",
      "38                              18.67                              77900   \n",
      "39                              23.19                              63900   \n",
      "\n",
      "    tract_to_msa_income_percentage  tract_owner_occupied_units  \\\n",
      "35                              47                         676   \n",
      "36                             119                        1010   \n",
      "37                              86                        1741   \n",
      "38                             136                        1543   \n",
      "39                              52                         974   \n",
      "\n",
      "    tract_one_to_four_family_homes  tract_median_age_of_housing_units  \n",
      "35                            1015                                 38  \n",
      "36                            1106                                 55  \n",
      "37                            2986                                 29  \n",
      "38                            1883                                 26  \n",
      "39                            1798                                 36  \n",
      "\n",
      "[5 rows x 99 columns]\n"
     ]
    },
    {
     "name": "stdout",
     "output_type": "stream",
     "text": [
      "    activity_year                   lei  derived_msa_md state_code  \\\n",
      "40           2018  549300HW662MN1WU8550           29180         LA   \n",
      "41           2018  549300HW662MN1WU8550           48424         FL   \n",
      "42           2018  549300HW662MN1WU8550           27260         FL   \n",
      "43           2018  549300HW662MN1WU8550           29460         FL   \n",
      "44           2018  549300HW662MN1WU8550           31084         CA   \n",
      "\n",
      "    county_code  census_tract conforming_loan_limit derived_loan_product_type  \\\n",
      "40        22055   22055002103                     C            FHA:First Lien   \n",
      "41        12099   12099005814                     C            FHA:First Lien   \n",
      "42        12109   12109020804                     C   Conventional:First Lien   \n",
      "43        12105   12105011902                     C   Conventional:First Lien   \n",
      "44         6037    6037236100                     C   Conventional:First Lien   \n",
      "\n",
      "               derived_dwelling_category        derived_ethnicity  ...  \\\n",
      "40  Single Family (1-4 Units):Site-Built   Not Hispanic or Latino  ...   \n",
      "41  Single Family (1-4 Units):Site-Built       Hispanic or Latino  ...   \n",
      "42  Single Family (1-4 Units):Site-Built  Ethnicity Not Available  ...   \n",
      "43  Single Family (1-4 Units):Site-Built   Not Hispanic or Latino  ...   \n",
      "44  Single Family (1-4 Units):Site-Built   Not Hispanic or Latino  ...   \n",
      "\n",
      "   denial_reason_2 denial_reason_3  denial_reason_4  tract_population  \\\n",
      "40             NaN             NaN              NaN              4121   \n",
      "41             NaN             NaN              NaN              5170   \n",
      "42             NaN             NaN              NaN              3473   \n",
      "43             NaN             NaN              NaN              3170   \n",
      "44             NaN             NaN              NaN              5139   \n",
      "\n",
      "    tract_minority_population_percent  ffiec_msa_md_median_family_income  \\\n",
      "40                              42.25                              64800   \n",
      "41                              75.16                              74300   \n",
      "42                              14.45                              69900   \n",
      "43                              28.96                              53600   \n",
      "44                              96.79                              69300   \n",
      "\n",
      "    tract_to_msa_income_percentage  tract_owner_occupied_units  \\\n",
      "40                              85                        1212   \n",
      "41                              56                         798   \n",
      "42                             168                        1010   \n",
      "43                              99                         837   \n",
      "44                              57                         543   \n",
      "\n",
      "    tract_one_to_four_family_homes  tract_median_age_of_housing_units  \n",
      "40                            1601                                 27  \n",
      "41                            1294                                 39  \n",
      "42                            1110                                 18  \n",
      "43                            1397                                 27  \n",
      "44                            1226                                 57  \n",
      "\n",
      "[5 rows x 99 columns]\n",
      "    activity_year                   lei  derived_msa_md state_code  \\\n",
      "45           2018  549300HW662MN1WU8550           29460         FL   \n",
      "46           2018  549300HW662MN1WU8550           15804         NJ   \n",
      "47           2018  549300HW662MN1WU8550           47664         MI   \n",
      "48           2018  549300HW662MN1WU8550           38060         AZ   \n",
      "49           2018  549300HW662MN1WU8550           17820         CO   \n",
      "\n",
      "    county_code  census_tract conforming_loan_limit derived_loan_product_type  \\\n",
      "45        12105   12105015102                     C            FHA:First Lien   \n",
      "46        34007   34007608209                     C   Conventional:First Lien   \n",
      "47        26147   26147657200                     C   Conventional:First Lien   \n",
      "48         4013    4013111201                     C   Conventional:First Lien   \n",
      "49         8041    8041003305                     C             VA:First Lien   \n",
      "\n",
      "               derived_dwelling_category        derived_ethnicity  ...  \\\n",
      "45  Single Family (1-4 Units):Site-Built       Hispanic or Latino  ...   \n",
      "46  Single Family (1-4 Units):Site-Built   Not Hispanic or Latino  ...   \n",
      "47  Single Family (1-4 Units):Site-Built   Not Hispanic or Latino  ...   \n",
      "48  Single Family (1-4 Units):Site-Built  Ethnicity Not Available  ...   \n",
      "49  Single Family (1-4 Units):Site-Built       Hispanic or Latino  ...   \n",
      "\n",
      "   denial_reason_2 denial_reason_3  denial_reason_4  tract_population  \\\n",
      "45             NaN             NaN              NaN              2180   \n",
      "46             NaN             NaN              NaN              3366   \n",
      "47             NaN             NaN              NaN              5464   \n",
      "48             NaN             NaN              NaN              5971   \n",
      "49             NaN             NaN              NaN              7353   \n",
      "\n",
      "    tract_minority_population_percent  ffiec_msa_md_median_family_income  \\\n",
      "45                               5.83                              53600   \n",
      "46                              40.64                              92400   \n",
      "47                              10.89                              83200   \n",
      "48                              67.02                              69100   \n",
      "49                              19.12                              77900   \n",
      "\n",
      "    tract_to_msa_income_percentage  tract_owner_occupied_units  \\\n",
      "45                             142                         718   \n",
      "46                              96                         634   \n",
      "47                              95                        1836   \n",
      "48                              42                         775   \n",
      "49                             171                        2215   \n",
      "\n",
      "    tract_one_to_four_family_homes  tract_median_age_of_housing_units  \n",
      "45                            1083                                 53  \n",
      "46                            1060                                 39  \n",
      "47                            2169                                 33  \n",
      "48                            1646                                 42  \n",
      "49                            2544                                 24  \n",
      "\n",
      "[5 rows x 99 columns]\n",
      "    activity_year                   lei  derived_msa_md state_code  \\\n",
      "50           2018  549300HW662MN1WU8550           41620         UT   \n",
      "51           2018  549300HW662MN1WU8550           35614         NJ   \n",
      "52           2018  549300HW662MN1WU8550           29820         NV   \n",
      "53           2018  549300HW662MN1WU8550           26900         IN   \n",
      "54           2018  549300HW662MN1WU8550           38940         FL   \n",
      "\n",
      "    county_code  census_tract conforming_loan_limit derived_loan_product_type  \\\n",
      "50        49035   49035112002                     C   Conventional:First Lien   \n",
      "51        34017   34017006100                     C   Conventional:First Lien   \n",
      "52        32003   32003003607                     C            FHA:First Lien   \n",
      "53        18057   18057111102                     C   Conventional:First Lien   \n",
      "54        12085   12085001302                     C   Conventional:First Lien   \n",
      "\n",
      "               derived_dwelling_category       derived_ethnicity  ...  \\\n",
      "50  Single Family (1-4 Units):Site-Built  Not Hispanic or Latino  ...   \n",
      "51  Single Family (1-4 Units):Site-Built  Not Hispanic or Latino  ...   \n",
      "52  Single Family (1-4 Units):Site-Built      Hispanic or Latino  ...   \n",
      "53  Single Family (1-4 Units):Site-Built  Not Hispanic or Latino  ...   \n",
      "54  Single Family (1-4 Units):Site-Built  Not Hispanic or Latino  ...   \n",
      "\n",
      "   denial_reason_2 denial_reason_3  denial_reason_4  tract_population  \\\n",
      "50             NaN             NaN              NaN              4356   \n",
      "51             NaN             NaN              NaN              6510   \n",
      "52             NaN             NaN              NaN              7621   \n",
      "53             NaN             NaN              NaN              7993   \n",
      "54             NaN             NaN              NaN              4443   \n",
      "\n",
      "    tract_minority_population_percent  ffiec_msa_md_median_family_income  \\\n",
      "50                              13.04                              79700   \n",
      "51                              79.14                              78000   \n",
      "52                              59.14                              64800   \n",
      "53                              18.22                              75100   \n",
      "54                               7.86                              60500   \n",
      "\n",
      "    tract_to_msa_income_percentage  tract_owner_occupied_units  \\\n",
      "50                              82                         930   \n",
      "51                              71                         952   \n",
      "52                             118                        1519   \n",
      "53                             162                        2868   \n",
      "54                             128                        1625   \n",
      "\n",
      "    tract_one_to_four_family_homes  tract_median_age_of_housing_units  \n",
      "50                            1152                                 36  \n",
      "51                            2160                                 49  \n",
      "52                            2485                                 14  \n",
      "53                            3368                                 35  \n",
      "54                            1835                                 31  \n",
      "\n",
      "[5 rows x 99 columns]\n",
      "    activity_year                   lei  derived_msa_md state_code  \\\n",
      "55           2018  549300HW662MN1WU8550           44700         CA   \n",
      "56           2018  549300HW662MN1WU8550           40140         CA   \n",
      "57           2018  549300HW662MN1WU8550           29340         LA   \n",
      "58           2018  549300HW662MN1WU8550           47894         VA   \n",
      "59           2018  549300HW662MN1WU8550           26900         IN   \n",
      "\n",
      "    county_code  census_tract conforming_loan_limit derived_loan_product_type  \\\n",
      "55         6077    6077004002                     C   Conventional:First Lien   \n",
      "56         6065    6065042619                     C   Conventional:First Lien   \n",
      "57        22019   22019001700                     C   Conventional:First Lien   \n",
      "58        51059   51059450500                     C   Conventional:First Lien   \n",
      "59        18097   18097390200                     C   Conventional:First Lien   \n",
      "\n",
      "               derived_dwelling_category        derived_ethnicity  ...  \\\n",
      "55  Single Family (1-4 Units):Site-Built   Not Hispanic or Latino  ...   \n",
      "56  Single Family (1-4 Units):Site-Built  Ethnicity Not Available  ...   \n",
      "57  Single Family (1-4 Units):Site-Built   Not Hispanic or Latino  ...   \n",
      "58  Single Family (1-4 Units):Site-Built   Not Hispanic or Latino  ...   \n",
      "59  Single Family (1-4 Units):Site-Built   Not Hispanic or Latino  ...   \n",
      "\n",
      "   denial_reason_2 denial_reason_3  denial_reason_4  tract_population  \\\n",
      "55             NaN             NaN              NaN             11698   \n",
      "56             NaN             NaN              NaN             11626   \n",
      "57             NaN             NaN              NaN              8877   \n",
      "58             NaN             NaN              NaN              3300   \n",
      "59             NaN             NaN              NaN              3464   \n",
      "\n",
      "    tract_minority_population_percent  ffiec_msa_md_median_family_income  \\\n",
      "55                              73.71                              63700   \n",
      "56                              82.01                              65800   \n",
      "57                              34.65                              60000   \n",
      "58                              66.94                             114900   \n",
      "59                              14.26                              75100   \n",
      "\n",
      "    tract_to_msa_income_percentage  tract_owner_occupied_units  \\\n",
      "55                             152                        2532   \n",
      "56                             102                        1783   \n",
      "57                              81                        2908   \n",
      "58                              89                         682   \n",
      "59                             125                        1005   \n",
      "\n",
      "    tract_one_to_four_family_homes  tract_median_age_of_housing_units  \n",
      "55                            3221                                 11  \n",
      "56                            2877                                 11  \n",
      "57                            4109                                 21  \n",
      "58                             869                                 59  \n",
      "59                            1237                                 19  \n",
      "\n",
      "[5 rows x 99 columns]\n"
     ]
    },
    {
     "name": "stdout",
     "output_type": "stream",
     "text": [
      "    activity_year                   lei  derived_msa_md state_code  \\\n",
      "60           2018  549300HW662MN1WU8550           35614         NJ   \n",
      "61           2018  549300HW662MN1WU8550           11244         CA   \n",
      "62           2018  549300HW662MN1WU8550           36740         FL   \n",
      "63           2018  549300HW662MN1WU8550           38300         PA   \n",
      "64           2018  549300HW662MN1WU8550           36740         FL   \n",
      "\n",
      "    county_code  census_tract conforming_loan_limit derived_loan_product_type  \\\n",
      "60        34017   34017006100                     C   Conventional:First Lien   \n",
      "61         6059    6059063903                     C   Conventional:First Lien   \n",
      "62        12097   12097043204                     C             VA:First Lien   \n",
      "63        42003   42003413201                     C   Conventional:First Lien   \n",
      "64        12095   12095017804                     C            FHA:First Lien   \n",
      "\n",
      "               derived_dwelling_category       derived_ethnicity  ...  \\\n",
      "60  Single Family (1-4 Units):Site-Built  Not Hispanic or Latino  ...   \n",
      "61  Single Family (1-4 Units):Site-Built  Not Hispanic or Latino  ...   \n",
      "62  Single Family (1-4 Units):Site-Built  Not Hispanic or Latino  ...   \n",
      "63  Single Family (1-4 Units):Site-Built  Not Hispanic or Latino  ...   \n",
      "64  Single Family (1-4 Units):Site-Built      Hispanic or Latino  ...   \n",
      "\n",
      "   denial_reason_2 denial_reason_3  denial_reason_4  tract_population  \\\n",
      "60             NaN             NaN              NaN              6510   \n",
      "61             NaN             NaN              NaN              3883   \n",
      "62             NaN             NaN              NaN             16372   \n",
      "63             NaN             NaN              NaN              3682   \n",
      "64             NaN             NaN              NaN              9458   \n",
      "\n",
      "    tract_minority_population_percent  ffiec_msa_md_median_family_income  \\\n",
      "60                              79.14                              78000   \n",
      "61                              58.54                              92700   \n",
      "62                              53.75                              62900   \n",
      "63                               4.75                              75500   \n",
      "64                              36.04                              62900   \n",
      "\n",
      "    tract_to_msa_income_percentage  tract_owner_occupied_units  \\\n",
      "60                              71                         952   \n",
      "61                              82                         784   \n",
      "62                             107                        3292   \n",
      "63                             125                        1253   \n",
      "64                             139                        2695   \n",
      "\n",
      "    tract_one_to_four_family_homes  tract_median_age_of_housing_units  \n",
      "60                            2160                                 49  \n",
      "61                            1146                                 49  \n",
      "62                            5286                                 13  \n",
      "63                            1445                                 49  \n",
      "64                            3456                                 17  \n",
      "\n",
      "[5 rows x 99 columns]\n",
      "    activity_year                   lei  derived_msa_md state_code  \\\n",
      "65           2018  549300HW662MN1WU8550           14454         MA   \n",
      "66           2018  549300HW662MN1WU8550           26900         IN   \n",
      "67           2018  549300HW662MN1WU8550           38060         AZ   \n",
      "68           2018  549300HW662MN1WU8550           40900         CA   \n",
      "69           2018  549300HW662MN1WU8550           29540         PA   \n",
      "\n",
      "    county_code  census_tract conforming_loan_limit derived_loan_product_type  \\\n",
      "65        25021   25021422302                     C   Conventional:First Lien   \n",
      "66        18097   18097360900                     C   Conventional:First Lien   \n",
      "67         4013    4013114200                     C   Conventional:First Lien   \n",
      "68         6067    6067008905                     C   Conventional:First Lien   \n",
      "69        42071   42071000700                     C            FHA:First Lien   \n",
      "\n",
      "               derived_dwelling_category        derived_ethnicity  ...  \\\n",
      "65  Single Family (1-4 Units):Site-Built   Not Hispanic or Latino  ...   \n",
      "66  Single Family (1-4 Units):Site-Built                    Joint  ...   \n",
      "67  Single Family (1-4 Units):Site-Built       Hispanic or Latino  ...   \n",
      "68  Single Family (1-4 Units):Site-Built  Ethnicity Not Available  ...   \n",
      "69  Single Family (1-4 Units):Site-Built  Ethnicity Not Available  ...   \n",
      "\n",
      "   denial_reason_2 denial_reason_3  denial_reason_4  tract_population  \\\n",
      "65             NaN             NaN              NaN              6543   \n",
      "66             NaN             NaN              NaN              5367   \n",
      "67             NaN             NaN              NaN              1560   \n",
      "68             NaN             NaN              NaN              4626   \n",
      "69             NaN             NaN              NaN              4779   \n",
      "\n",
      "    tract_minority_population_percent  ffiec_msa_md_median_family_income  \\\n",
      "65                              19.18                              99300   \n",
      "66                              45.93                              75100   \n",
      "67                              85.77                              69100   \n",
      "68                              38.56                              80400   \n",
      "69                              55.74                              73800   \n",
      "\n",
      "    tract_to_msa_income_percentage  tract_owner_occupied_units  \\\n",
      "65                              96                        1587   \n",
      "66                              62                        1317   \n",
      "67                              30                         117   \n",
      "68                              74                         981   \n",
      "69                              40                         452   \n",
      "\n",
      "    tract_one_to_four_family_homes  tract_median_age_of_housing_units  \n",
      "65                            1310                                 41  \n",
      "66                            2133                                 60  \n",
      "67                             414                                 56  \n",
      "68                            1529                                 56  \n",
      "69                             980                                 76  \n",
      "\n",
      "[5 rows x 99 columns]\n",
      "    activity_year                   lei  derived_msa_md state_code  \\\n",
      "70           2018  549300HW662MN1WU8550           12580         MD   \n",
      "71           2018  549300HW662MN1WU8550           31140         IN   \n",
      "72           2018  549300HW662MN1WU8550           33460         MN   \n",
      "73           2018  549300HW662MN1WU8550           40060         VA   \n",
      "74           2018  549300HW662MN1WU8550           23060         IN   \n",
      "\n",
      "    county_code  census_tract conforming_loan_limit derived_loan_product_type  \\\n",
      "70        24005   24005401101                     C   Conventional:First Lien   \n",
      "71        18019   18019050404                     C   Conventional:First Lien   \n",
      "72        27037   27037060902                     C            FHA:First Lien   \n",
      "73        51760   51760050400                     C   Conventional:First Lien   \n",
      "74        18003   18003010803                     C            FHA:First Lien   \n",
      "\n",
      "               derived_dwelling_category        derived_ethnicity  ...  \\\n",
      "70  Single Family (1-4 Units):Site-Built   Not Hispanic or Latino  ...   \n",
      "71  Single Family (1-4 Units):Site-Built   Not Hispanic or Latino  ...   \n",
      "72  Single Family (1-4 Units):Site-Built  Ethnicity Not Available  ...   \n",
      "73  Single Family (1-4 Units):Site-Built  Ethnicity Not Available  ...   \n",
      "74  Single Family (1-4 Units):Site-Built   Not Hispanic or Latino  ...   \n",
      "\n",
      "   denial_reason_2 denial_reason_3  denial_reason_4  tract_population  \\\n",
      "70             NaN             NaN              NaN              6791   \n",
      "71             NaN             NaN              NaN              3787   \n",
      "72             NaN             NaN              NaN              4921   \n",
      "73             NaN             NaN              NaN              3075   \n",
      "74             NaN             NaN              NaN              5135   \n",
      "\n",
      "    tract_minority_population_percent  ffiec_msa_md_median_family_income  \\\n",
      "70                              85.20                              94900   \n",
      "71                              15.82                              70400   \n",
      "72                               8.15                              93600   \n",
      "73                              14.80                              83200   \n",
      "74                              14.04                              65600   \n",
      "\n",
      "    tract_to_msa_income_percentage  tract_owner_occupied_units  \\\n",
      "70                              82                        1808   \n",
      "71                              92                        1225   \n",
      "72                             108                        1583   \n",
      "73                             232                        1010   \n",
      "74                             109                        1716   \n",
      "\n",
      "    tract_one_to_four_family_homes  tract_median_age_of_housing_units  \n",
      "70                            2321                                 42  \n",
      "71                            1635                                 59  \n",
      "72                            1737                                  0  \n",
      "73                            1324                                 70  \n",
      "74                            2040                                 44  \n",
      "\n",
      "[5 rows x 99 columns]\n",
      "    activity_year                   lei  derived_msa_md state_code  \\\n",
      "75           2018  549300HW662MN1WU8550           47664         MI   \n",
      "76           2018  549300HW662MN1WU8550           19660         FL   \n",
      "77           2018  549300HW662MN1WU8550           19804         MI   \n",
      "78           2018  549300HW662MN1WU8550           42644         WA   \n",
      "79           2018  549300HW662MN1WU8550           35300         CT   \n",
      "\n",
      "    county_code  census_tract conforming_loan_limit derived_loan_product_type  \\\n",
      "75        26093   26093730101                     C   Conventional:First Lien   \n",
      "76        12127   12127082404                     C             VA:First Lien   \n",
      "77        26163   26163555100                     C            FHA:First Lien   \n",
      "78        53033   53033000402                     C   Conventional:First Lien   \n",
      "79         9009    9009142500                     C            FHA:First Lien   \n",
      "\n",
      "               derived_dwelling_category        derived_ethnicity  ...  \\\n",
      "75  Single Family (1-4 Units):Site-Built   Not Hispanic or Latino  ...   \n",
      "76  Single Family (1-4 Units):Site-Built   Not Hispanic or Latino  ...   \n",
      "77  Single Family (1-4 Units):Site-Built   Not Hispanic or Latino  ...   \n",
      "78  Single Family (1-4 Units):Site-Built   Not Hispanic or Latino  ...   \n",
      "79  Single Family (1-4 Units):Site-Built  Ethnicity Not Available  ...   \n",
      "\n",
      "   denial_reason_2 denial_reason_3  denial_reason_4  tract_population  \\\n",
      "75             NaN             NaN              NaN              2622   \n",
      "76             NaN             NaN              NaN              2395   \n",
      "77             NaN             NaN              NaN              4412   \n",
      "78             NaN             NaN              NaN              4906   \n",
      "79             NaN             NaN              NaN              6264   \n",
      "\n",
      "    tract_minority_population_percent  ffiec_msa_md_median_family_income  \\\n",
      "75                               6.98                              83200   \n",
      "76                              19.62                              55700   \n",
      "77                              36.26                              55500   \n",
      "78                              23.22                             103400   \n",
      "79                              84.45                              86200   \n",
      "\n",
      "    tract_to_msa_income_percentage  tract_owner_occupied_units  \\\n",
      "75                             120                         883   \n",
      "76                              64                         674   \n",
      "77                             113                        1345   \n",
      "78                             114                        1048   \n",
      "79                              45                         431   \n",
      "\n",
      "    tract_one_to_four_family_homes  tract_median_age_of_housing_units  \n",
      "75                             966                                 33  \n",
      "76                            1075                                 38  \n",
      "77                            1872                                 61  \n",
      "78                            1394                                 49  \n",
      "79                            1780                                 76  \n",
      "\n",
      "[5 rows x 99 columns]\n"
     ]
    },
    {
     "name": "stdout",
     "output_type": "stream",
     "text": [
      "    activity_year                   lei  derived_msa_md state_code  \\\n",
      "80           2018  549300HW662MN1WU8550           12580         MD   \n",
      "81           2018  549300HW662MN1WU8550           31140         KY   \n",
      "82           2018  549300HW662MN1WU8550           36260         UT   \n",
      "83           2018  549300HW662MN1WU8550           30860         UT   \n",
      "84           2018  549300HW662MN1WU8550           30860         UT   \n",
      "\n",
      "    county_code  census_tract conforming_loan_limit derived_loan_product_type  \\\n",
      "80        24005   24005400400                     C   Conventional:First Lien   \n",
      "81        21111   21111011110                     C   Conventional:First Lien   \n",
      "82        49011   49011126002                     C   Conventional:First Lien   \n",
      "83        49005   49005000202                     C   Conventional:First Lien   \n",
      "84        49005   49005000202                     C   Conventional:First Lien   \n",
      "\n",
      "               derived_dwelling_category        derived_ethnicity  ...  \\\n",
      "80  Single Family (1-4 Units):Site-Built   Not Hispanic or Latino  ...   \n",
      "81  Single Family (1-4 Units):Site-Built  Ethnicity Not Available  ...   \n",
      "82  Single Family (1-4 Units):Site-Built   Not Hispanic or Latino  ...   \n",
      "83  Single Family (1-4 Units):Site-Built  Ethnicity Not Available  ...   \n",
      "84  Single Family (1-4 Units):Site-Built   Not Hispanic or Latino  ...   \n",
      "\n",
      "   denial_reason_2 denial_reason_3  denial_reason_4  tract_population  \\\n",
      "80             NaN             NaN              NaN              5653   \n",
      "81             NaN             NaN              NaN              5829   \n",
      "82             NaN             NaN              NaN              6241   \n",
      "83             NaN             NaN              NaN              7323   \n",
      "84             NaN             NaN              NaN              7323   \n",
      "\n",
      "    tract_minority_population_percent  ffiec_msa_md_median_family_income  \\\n",
      "80                              15.32                              94900   \n",
      "81                              13.23                              70400   \n",
      "82                              11.83                              76800   \n",
      "83                               9.71                              64600   \n",
      "84                               9.71                              64600   \n",
      "\n",
      "    tract_to_msa_income_percentage  tract_owner_occupied_units  \\\n",
      "80                             132                        1798   \n",
      "81                             139                        1941   \n",
      "82                             126                        1461   \n",
      "83                             108                        1875   \n",
      "84                             108                        1875   \n",
      "\n",
      "    tract_one_to_four_family_homes  tract_median_age_of_housing_units  \n",
      "80                            2052                                 61  \n",
      "81                            2402                                 34  \n",
      "82                            1609                                 16  \n",
      "83                            2062                                 20  \n",
      "84                            2062                                 20  \n",
      "\n",
      "[5 rows x 99 columns]\n",
      "    activity_year                   lei  derived_msa_md state_code  \\\n",
      "85           2018  549300HW662MN1WU8550           12060         GA   \n",
      "86           2018  549300HW662MN1WU8550           46520         HI   \n",
      "87           2018  549300HW662MN1WU8550           24540         CO   \n",
      "88           2018  549300HW662MN1WU8550           35084         NJ   \n",
      "89           2018  549300HW662MN1WU8550           40140         CA   \n",
      "\n",
      "    county_code  census_tract conforming_loan_limit derived_loan_product_type  \\\n",
      "85        13135   13135050304                     C   Conventional:First Lien   \n",
      "86        15003   15003001700                     C   Conventional:First Lien   \n",
      "87         8123    8123001413                     C   Conventional:First Lien   \n",
      "88        34027   34027040102                     C   Conventional:First Lien   \n",
      "89         6071    6071002306                     C   Conventional:First Lien   \n",
      "\n",
      "               derived_dwelling_category        derived_ethnicity  ...  \\\n",
      "85  Single Family (1-4 Units):Site-Built   Not Hispanic or Latino  ...   \n",
      "86  Single Family (1-4 Units):Site-Built   Not Hispanic or Latino  ...   \n",
      "87  Single Family (1-4 Units):Site-Built  Ethnicity Not Available  ...   \n",
      "88  Single Family (1-4 Units):Site-Built  Ethnicity Not Available  ...   \n",
      "89  Single Family (1-4 Units):Site-Built       Hispanic or Latino  ...   \n",
      "\n",
      "   denial_reason_2 denial_reason_3  denial_reason_4  tract_population  \\\n",
      "85             NaN             NaN              NaN              5019   \n",
      "86             NaN             NaN              NaN              2084   \n",
      "87             NaN             NaN              NaN              2968   \n",
      "88             NaN             NaN              NaN              6241   \n",
      "89             NaN             NaN              NaN              4201   \n",
      "\n",
      "    tract_minority_population_percent  ffiec_msa_md_median_family_income  \\\n",
      "85                              76.19                              74400   \n",
      "86                              43.28                              96000   \n",
      "87                              43.30                              82400   \n",
      "88                              19.64                             100700   \n",
      "89                              89.93                              65800   \n",
      "\n",
      "    tract_to_msa_income_percentage  tract_owner_occupied_units  \\\n",
      "85                              52                         408   \n",
      "86                             119                         720   \n",
      "87                              86                         746   \n",
      "88                              93                        1960   \n",
      "89                             115                         831   \n",
      "\n",
      "    tract_one_to_four_family_homes  tract_median_age_of_housing_units  \n",
      "85                             947                                 31  \n",
      "86                             478                                 51  \n",
      "87                             886                                 40  \n",
      "88                            2050                                 34  \n",
      "89                            1003                                  0  \n",
      "\n",
      "[5 rows x 99 columns]\n",
      "    activity_year                   lei  derived_msa_md state_code  \\\n",
      "90           2018  549300HW662MN1WU8550           49340         MA   \n",
      "91           2018  549300HW662MN1WU8550           34940         FL   \n",
      "92           2018  549300HW662MN1WU8550           29820         NV   \n",
      "93           2018  549300HW662MN1WU8550           31084         CA   \n",
      "94           2018  549300HW662MN1WU8550           15804         NJ   \n",
      "\n",
      "    county_code  census_tract conforming_loan_limit derived_loan_product_type  \\\n",
      "90        25027   25027750200                     C   Conventional:First Lien   \n",
      "91        12021   12021010413                     C   Conventional:First Lien   \n",
      "92        32003   32003002811                     C   Conventional:First Lien   \n",
      "93         6037    6037920312                     C   Conventional:First Lien   \n",
      "94        34007   34007604300                     C   Conventional:First Lien   \n",
      "\n",
      "               derived_dwelling_category       derived_ethnicity  ...  \\\n",
      "90  Single Family (1-4 Units):Site-Built  Not Hispanic or Latino  ...   \n",
      "91  Single Family (1-4 Units):Site-Built  Not Hispanic or Latino  ...   \n",
      "92  Single Family (1-4 Units):Site-Built  Not Hispanic or Latino  ...   \n",
      "93  Single Family (1-4 Units):Site-Built  Not Hispanic or Latino  ...   \n",
      "94  Single Family (1-4 Units):Site-Built  Not Hispanic or Latino  ...   \n",
      "\n",
      "   denial_reason_2 denial_reason_3  denial_reason_4  tract_population  \\\n",
      "90             NaN             NaN              NaN              7411   \n",
      "91             NaN             NaN              NaN              7509   \n",
      "92             NaN             NaN              NaN              3953   \n",
      "93             NaN             NaN              NaN              5522   \n",
      "94             NaN             NaN              NaN              3854   \n",
      "\n",
      "    tract_minority_population_percent  ffiec_msa_md_median_family_income  \\\n",
      "90                               6.98                              86900   \n",
      "91                              45.55                              75000   \n",
      "92                              33.06                              64800   \n",
      "93                              49.13                              69300   \n",
      "94                              13.23                              92400   \n",
      "\n",
      "    tract_to_msa_income_percentage  tract_owner_occupied_units  \\\n",
      "90                             133                        2226   \n",
      "91                              87                        1530   \n",
      "92                             126                        1099   \n",
      "93                             148                         934   \n",
      "94                             116                        1139   \n",
      "\n",
      "    tract_one_to_four_family_homes  tract_median_age_of_housing_units  \n",
      "90                            2679                                 42  \n",
      "91                            2231                                 18  \n",
      "92                            1608                                 16  \n",
      "93                            1187                                 36  \n",
      "94                            1558                                 76  \n",
      "\n",
      "[5 rows x 99 columns]\n"
     ]
    },
    {
     "name": "stdout",
     "output_type": "stream",
     "text": [
      "    activity_year                   lei  derived_msa_md state_code  \\\n",
      "95           2018  549300HW662MN1WU8550           45300         FL   \n",
      "96           2018  549300HW662MN1WU8550           12060         GA   \n",
      "97           2018  549300HW662MN1WU8550           26420         TX   \n",
      "98           2018  549300HW662MN1WU8550           45300         FL   \n",
      "99           2018  549300HW662MN1WU8550           12060         GA   \n",
      "\n",
      "    county_code  census_tract conforming_loan_limit derived_loan_product_type  \\\n",
      "95        12103   12103022501                     C            FHA:First Lien   \n",
      "96        13067   13067030905                     C   Conventional:First Lien   \n",
      "97        48201   48201250701                     C   Conventional:First Lien   \n",
      "98        12057   12057012213                     C   Conventional:First Lien   \n",
      "99        13057   13057090702                     C   Conventional:First Lien   \n",
      "\n",
      "               derived_dwelling_category        derived_ethnicity  ...  \\\n",
      "95  Single Family (1-4 Units):Site-Built       Hispanic or Latino  ...   \n",
      "96  Single Family (1-4 Units):Site-Built   Not Hispanic or Latino  ...   \n",
      "97  Single Family (1-4 Units):Site-Built  Ethnicity Not Available  ...   \n",
      "98  Single Family (1-4 Units):Site-Built  Ethnicity Not Available  ...   \n",
      "99  Single Family (1-4 Units):Site-Built   Not Hispanic or Latino  ...   \n",
      "\n",
      "   denial_reason_2 denial_reason_3  denial_reason_4  tract_population  \\\n",
      "95             NaN             NaN              NaN              4887   \n",
      "96             NaN             NaN              NaN              8208   \n",
      "97             NaN             NaN              NaN              5870   \n",
      "98             NaN             NaN              NaN              4143   \n",
      "99             NaN             NaN              NaN              7688   \n",
      "\n",
      "    tract_minority_population_percent  ffiec_msa_md_median_family_income  \\\n",
      "95                              29.75                              63900   \n",
      "96                              73.67                              74400   \n",
      "97                              43.54                              75600   \n",
      "98                              35.60                              63900   \n",
      "99                              21.11                              74400   \n",
      "\n",
      "    tract_to_msa_income_percentage  tract_owner_occupied_units  \\\n",
      "95                              93                        1400   \n",
      "96                              85                        1399   \n",
      "97                             124                        1548   \n",
      "98                             111                        1307   \n",
      "99                              84                        2088   \n",
      "\n",
      "    tract_one_to_four_family_homes  tract_median_age_of_housing_units  \n",
      "95                            1554                                 48  \n",
      "96                            2074                                 24  \n",
      "97                            1933                                 30  \n",
      "98                            1521                                 33  \n",
      "99                            2682                                 24  \n",
      "\n",
      "[5 rows x 99 columns]\n",
      "     activity_year                   lei  derived_msa_md state_code  \\\n",
      "100           2018  549300HW662MN1WU8550           24540         CO   \n",
      "101           2018  549300HW662MN1WU8550           47664         MI   \n",
      "102           2018  549300HW662MN1WU8550           45300         FL   \n",
      "103           2018  549300HW662MN1WU8550           38940         FL   \n",
      "104           2018  549300HW662MN1WU8550           39580         NC   \n",
      "\n",
      "     county_code  census_tract conforming_loan_limit  \\\n",
      "100         8123    8123000402                     C   \n",
      "101        26099   26099230900                     C   \n",
      "102        12101   12101032200                     C   \n",
      "103        12085   12085001408                     C   \n",
      "104        37183   37183054205                     C   \n",
      "\n",
      "    derived_loan_product_type             derived_dwelling_category  \\\n",
      "100            FHA:First Lien  Single Family (1-4 Units):Site-Built   \n",
      "101             VA:First Lien  Single Family (1-4 Units):Site-Built   \n",
      "102   Conventional:First Lien  Single Family (1-4 Units):Site-Built   \n",
      "103   Conventional:First Lien  Single Family (1-4 Units):Site-Built   \n",
      "104   Conventional:First Lien  Single Family (1-4 Units):Site-Built   \n",
      "\n",
      "           derived_ethnicity  ... denial_reason_2 denial_reason_3  \\\n",
      "100   Not Hispanic or Latino  ...             NaN             NaN   \n",
      "101   Not Hispanic or Latino  ...             NaN             NaN   \n",
      "102  Ethnicity Not Available  ...             NaN             NaN   \n",
      "103   Not Hispanic or Latino  ...             NaN             NaN   \n",
      "104   Not Hispanic or Latino  ...             NaN             NaN   \n",
      "\n",
      "     denial_reason_4  tract_population  tract_minority_population_percent  \\\n",
      "100              NaN              3666                              51.50   \n",
      "101              NaN              7659                              13.84   \n",
      "102              NaN              4598                              15.77   \n",
      "103              NaN              3716                              37.24   \n",
      "104              NaN              4907                              32.57   \n",
      "\n",
      "     ffiec_msa_md_median_family_income  tract_to_msa_income_percentage  \\\n",
      "100                              82400                              69   \n",
      "101                              83200                              81   \n",
      "102                              63900                             162   \n",
      "103                              60500                              71   \n",
      "104                              84300                              78   \n",
      "\n",
      "     tract_owner_occupied_units  tract_one_to_four_family_homes  \\\n",
      "100                         573                            1208   \n",
      "101                        1897                            2425   \n",
      "102                        1210                            1782   \n",
      "103                         715                            1700   \n",
      "104                         995                            1520   \n",
      "\n",
      "     tract_median_age_of_housing_units  \n",
      "100                                 61  \n",
      "101                                 45  \n",
      "102                                 14  \n",
      "103                                 32  \n",
      "104                                 20  \n",
      "\n",
      "[5 rows x 99 columns]\n",
      "     activity_year                   lei  derived_msa_md state_code  \\\n",
      "105           2018  549300HW662MN1WU8550           16974         IL   \n",
      "106           2018  549300HW662MN1WU8550           12060         GA   \n",
      "107           2018  549300HW662MN1WU8550           19804         MI   \n",
      "108           2018  549300HW662MN1WU8550           48424         FL   \n",
      "109           2018  549300HW662MN1WU8550           38940         FL   \n",
      "\n",
      "     county_code  census_tract conforming_loan_limit  \\\n",
      "105        17031   17031809400                     C   \n",
      "106        13121   13121010119                     C   \n",
      "107        26163   26163551100                     C   \n",
      "108        12099   12099007744                     C   \n",
      "109        12085   12085001102                     C   \n",
      "\n",
      "    derived_loan_product_type             derived_dwelling_category  \\\n",
      "105   Conventional:First Lien  Single Family (1-4 Units):Site-Built   \n",
      "106   Conventional:First Lien  Single Family (1-4 Units):Site-Built   \n",
      "107   Conventional:First Lien  Single Family (1-4 Units):Site-Built   \n",
      "108   Conventional:First Lien  Single Family (1-4 Units):Site-Built   \n",
      "109   Conventional:First Lien  Single Family (1-4 Units):Site-Built   \n",
      "\n",
      "          derived_ethnicity  ... denial_reason_2 denial_reason_3  \\\n",
      "105  Not Hispanic or Latino  ...             NaN             NaN   \n",
      "106  Not Hispanic or Latino  ...             NaN             NaN   \n",
      "107  Not Hispanic or Latino  ...             NaN             NaN   \n",
      "108      Hispanic or Latino  ...             NaN             NaN   \n",
      "109      Hispanic or Latino  ...             NaN             NaN   \n",
      "\n",
      "     denial_reason_4  tract_population  tract_minority_population_percent  \\\n",
      "105              NaN              5276                              35.61   \n",
      "106              NaN              5084                              76.40   \n",
      "107              NaN              4605                               6.95   \n",
      "108              NaN              3010                              24.02   \n",
      "109              NaN              6804                               8.17   \n",
      "\n",
      "     ffiec_msa_md_median_family_income  tract_to_msa_income_percentage  \\\n",
      "105                              82400                             189   \n",
      "106                              74400                              64   \n",
      "107                              55500                             232   \n",
      "108                              74300                              67   \n",
      "109                              60500                             140   \n",
      "\n",
      "     tract_owner_occupied_units  tract_one_to_four_family_homes  \\\n",
      "105                        1164                             399   \n",
      "106                         306                             579   \n",
      "107                        1691                            1917   \n",
      "108                        1136                             632   \n",
      "109                        2654                            3621   \n",
      "\n",
      "     tract_median_age_of_housing_units  \n",
      "105                                 33  \n",
      "106                                 35  \n",
      "107                                 61  \n",
      "108                                 34  \n",
      "109                                 17  \n",
      "\n",
      "[5 rows x 99 columns]\n",
      "     activity_year                   lei  derived_msa_md state_code  \\\n",
      "110           2018  549300HW662MN1WU8550           12100         NJ   \n",
      "111           2018  549300HW662MN1WU8550           42644         WA   \n",
      "112           2018  549300HW662MN1WU8550           12060         GA   \n",
      "113           2018  549300HW662MN1WU8550           29460         FL   \n",
      "114           2018  549300HW662MN1WU8550           31140         KY   \n",
      "\n",
      "     county_code  census_tract conforming_loan_limit  \\\n",
      "110        34001   34001011802                     C   \n",
      "111        53033   53033030403                     C   \n",
      "112        13135   13135050209                     C   \n",
      "113        12105   12105014804                     C   \n",
      "114        21029   21029020201                     C   \n",
      "\n",
      "    derived_loan_product_type             derived_dwelling_category  \\\n",
      "110   Conventional:First Lien  Single Family (1-4 Units):Site-Built   \n",
      "111   Conventional:First Lien  Single Family (1-4 Units):Site-Built   \n",
      "112   Conventional:First Lien  Single Family (1-4 Units):Site-Built   \n",
      "113            FHA:First Lien  Single Family (1-4 Units):Site-Built   \n",
      "114   Conventional:First Lien  Single Family (1-4 Units):Site-Built   \n",
      "\n",
      "           derived_ethnicity  ... denial_reason_2 denial_reason_3  \\\n",
      "110   Not Hispanic or Latino  ...             NaN             NaN   \n",
      "111   Not Hispanic or Latino  ...             NaN             NaN   \n",
      "112  Ethnicity Not Available  ...             NaN             NaN   \n",
      "113       Hispanic or Latino  ...             NaN             NaN   \n",
      "114   Not Hispanic or Latino  ...             NaN             NaN   \n",
      "\n",
      "     denial_reason_4  tract_population  tract_minority_population_percent  \\\n",
      "110              NaN             16295                              36.43   \n",
      "111              NaN              4469                              38.42   \n",
      "112              NaN             10029                              70.27   \n",
      "113              NaN              7309                              24.23   \n",
      "114              NaN              6443                               3.06   \n",
      "\n",
      "     ffiec_msa_md_median_family_income  tract_to_msa_income_percentage  \\\n",
      "110                              71600                             155   \n",
      "111                             103400                              90   \n",
      "112                              74400                              80   \n",
      "113                              53600                             151   \n",
      "114                              70400                             130   \n",
      "\n",
      "     tract_owner_occupied_units  tract_one_to_four_family_homes  \\\n",
      "110                        4968                            5323   \n",
      "111                        1529                            1717   \n",
      "112                        1552                            2371   \n",
      "113                        2372                            3506   \n",
      "114                        2121                            2173   \n",
      "\n",
      "     tract_median_age_of_housing_units  \n",
      "110                                 14  \n",
      "111                                 27  \n",
      "112                                 19  \n",
      "113                                 19  \n",
      "114                                 15  \n",
      "\n",
      "[5 rows x 99 columns]\n"
     ]
    },
    {
     "name": "stdout",
     "output_type": "stream",
     "text": [
      "     activity_year                   lei  derived_msa_md state_code  \\\n",
      "115           2018  549300HW662MN1WU8550           99999         MS   \n",
      "116           2018  549300HW662MN1WU8550           15764         MA   \n",
      "117           2018  549300HW662MN1WU8550           45300         FL   \n",
      "118           2018  549300HW662MN1WU8550           23420         CA   \n",
      "119           2018  549300HW662MN1WU8550           29460         FL   \n",
      "\n",
      "     county_code  census_tract conforming_loan_limit  \\\n",
      "115        28087   28087000101                     C   \n",
      "116        25017   25017310200                     C   \n",
      "117        12101   12101032902                     C   \n",
      "118         6019    6019006700                     C   \n",
      "119        12105   12105012506                     C   \n",
      "\n",
      "    derived_loan_product_type             derived_dwelling_category  \\\n",
      "115             VA:First Lien  Single Family (1-4 Units):Site-Built   \n",
      "116   Conventional:First Lien  Single Family (1-4 Units):Site-Built   \n",
      "117             VA:First Lien  Single Family (1-4 Units):Site-Built   \n",
      "118   Conventional:First Lien  Single Family (1-4 Units):Site-Built   \n",
      "119   Conventional:First Lien  Single Family (1-4 Units):Site-Built   \n",
      "\n",
      "           derived_ethnicity  ... denial_reason_2 denial_reason_3  \\\n",
      "115  Ethnicity Not Available  ...             NaN             NaN   \n",
      "116   Not Hispanic or Latino  ...             NaN             NaN   \n",
      "117   Not Hispanic or Latino  ...             NaN             NaN   \n",
      "118   Not Hispanic or Latino  ...             NaN             NaN   \n",
      "119   Not Hispanic or Latino  ...             NaN             NaN   \n",
      "\n",
      "     denial_reason_4  tract_population  tract_minority_population_percent  \\\n",
      "115              NaN              6631                              10.53   \n",
      "116              NaN              7003                              38.75   \n",
      "117              NaN              1854                               8.31   \n",
      "118              NaN              6498                              62.59   \n",
      "119              NaN              5760                              40.17   \n",
      "\n",
      "     ffiec_msa_md_median_family_income  tract_to_msa_income_percentage  \\\n",
      "115                              47000                             162   \n",
      "116                             110300                              61   \n",
      "117                              63900                              77   \n",
      "118                              55500                             103   \n",
      "119                              53600                              96   \n",
      "\n",
      "     tract_owner_occupied_units  tract_one_to_four_family_homes  \\\n",
      "115                        1902                            2556   \n",
      "116                        1317                            1905   \n",
      "117                         833                            1228   \n",
      "118                        1560                            2186   \n",
      "119                        1067                            2919   \n",
      "\n",
      "     tract_median_age_of_housing_units  \n",
      "115                                 24  \n",
      "116                                 76  \n",
      "117                                 21  \n",
      "118                                 38  \n",
      "119                                 14  \n",
      "\n",
      "[5 rows x 99 columns]\n",
      "     activity_year                   lei  derived_msa_md state_code  \\\n",
      "120           2018  549300HW662MN1WU8550           12060         GA   \n",
      "121           2018  549300HW662MN1WU8550           40220         VA   \n",
      "122           2018  549300HW662MN1WU8550           35614         NJ   \n",
      "123           2018  549300HW662MN1WU8550           39580         NC   \n",
      "124           2018  549300HW662MN1WU8550           39300         RI   \n",
      "\n",
      "     county_code  census_tract conforming_loan_limit  \\\n",
      "120        13121   13121010205                     C   \n",
      "121        51770   51770001800                     C   \n",
      "122        34029   34029732103                     C   \n",
      "123        37183   37183054207                     C   \n",
      "124        44003   44003020500                     C   \n",
      "\n",
      "    derived_loan_product_type             derived_dwelling_category  \\\n",
      "120   Conventional:First Lien  Single Family (1-4 Units):Site-Built   \n",
      "121             VA:First Lien  Single Family (1-4 Units):Site-Built   \n",
      "122   Conventional:First Lien  Single Family (1-4 Units):Site-Built   \n",
      "123   Conventional:First Lien  Single Family (1-4 Units):Site-Built   \n",
      "124            FHA:First Lien  Single Family (1-4 Units):Site-Built   \n",
      "\n",
      "          derived_ethnicity  ... denial_reason_2 denial_reason_3  \\\n",
      "120  Not Hispanic or Latino  ...             NaN             NaN   \n",
      "121  Not Hispanic or Latino  ...             NaN             NaN   \n",
      "122  Not Hispanic or Latino  ...             NaN             NaN   \n",
      "123  Not Hispanic or Latino  ...             NaN             NaN   \n",
      "124  Not Hispanic or Latino  ...             NaN             NaN   \n",
      "\n",
      "     denial_reason_4  tract_population  tract_minority_population_percent  \\\n",
      "120              NaN              4978                               7.51   \n",
      "121              NaN              4274                              15.70   \n",
      "122              NaN              2506                              11.13   \n",
      "123              NaN              8766                              33.55   \n",
      "124              NaN              4337                              11.00   \n",
      "\n",
      "     ffiec_msa_md_median_family_income  tract_to_msa_income_percentage  \\\n",
      "120                              74400                             222   \n",
      "121                              65300                             124   \n",
      "122                              78000                             133   \n",
      "123                              84300                             166   \n",
      "124                              80600                             105   \n",
      "\n",
      "     tract_owner_occupied_units  tract_one_to_four_family_homes  \\\n",
      "120                        1652                            1909   \n",
      "121                        1031                            1831   \n",
      "122                         934                            1409   \n",
      "123                        2003                            2396   \n",
      "124                        1063                            1631   \n",
      "\n",
      "     tract_median_age_of_housing_units  \n",
      "120                                 44  \n",
      "121                                 76  \n",
      "122                                 31  \n",
      "123                                 11  \n",
      "124                                 47  \n",
      "\n",
      "[5 rows x 99 columns]\n",
      "     activity_year                   lei  derived_msa_md state_code  \\\n",
      "125           2018  549300HW662MN1WU8550           17900         SC   \n",
      "126           2018  549300HW662MN1WU8550           19740         CO   \n",
      "127           2018  549300HW662MN1WU8550           45300         FL   \n",
      "128           2018  549300HW662MN1WU8550           36260         UT   \n",
      "129           2018  549300HW662MN1WU8550           47664         MI   \n",
      "\n",
      "     county_code  census_tract conforming_loan_limit  \\\n",
      "125        45063   45063021031                     C   \n",
      "126         8031    8031003702                     C   \n",
      "127        12057   12057013412                     C   \n",
      "128        49057   49057200700                     C   \n",
      "129        26099   26099241800                     C   \n",
      "\n",
      "    derived_loan_product_type             derived_dwelling_category  \\\n",
      "125   Conventional:First Lien  Single Family (1-4 Units):Site-Built   \n",
      "126   Conventional:First Lien  Single Family (1-4 Units):Site-Built   \n",
      "127   Conventional:First Lien  Single Family (1-4 Units):Site-Built   \n",
      "128   Conventional:First Lien  Single Family (1-4 Units):Site-Built   \n",
      "129   Conventional:First Lien  Single Family (1-4 Units):Site-Built   \n",
      "\n",
      "           derived_ethnicity  ... denial_reason_2 denial_reason_3  \\\n",
      "125   Not Hispanic or Latino  ...             NaN             NaN   \n",
      "126   Not Hispanic or Latino  ...             NaN             NaN   \n",
      "127   Not Hispanic or Latino  ...             NaN             NaN   \n",
      "128  Ethnicity Not Available  ...             NaN             NaN   \n",
      "129   Not Hispanic or Latino  ...             NaN             NaN   \n",
      "\n",
      "     denial_reason_4  tract_population  tract_minority_population_percent  \\\n",
      "125              NaN              3908                              25.46   \n",
      "126              NaN              4734                              17.87   \n",
      "127              NaN              3791                              30.94   \n",
      "128              NaN              2989                              13.72   \n",
      "129              NaN              5740                              44.90   \n",
      "\n",
      "     ffiec_msa_md_median_family_income  tract_to_msa_income_percentage  \\\n",
      "125                              68800                             137   \n",
      "126                              89900                             144   \n",
      "127                              63900                             122   \n",
      "128                              76800                              69   \n",
      "129                              83200                              73   \n",
      "\n",
      "     tract_owner_occupied_units  tract_one_to_four_family_homes  \\\n",
      "125                        1225                            1381   \n",
      "126                         799                            1058   \n",
      "127                         994                            1472   \n",
      "128                         797                            1198   \n",
      "129                        1332                            1877   \n",
      "\n",
      "     tract_median_age_of_housing_units  \n",
      "125                                 21  \n",
      "126                                 69  \n",
      "127                                 22  \n",
      "128                                 60  \n",
      "129                                 32  \n",
      "\n",
      "[5 rows x 99 columns]\n",
      "     activity_year                   lei  derived_msa_md state_code  \\\n",
      "130           2018  549300HW662MN1WU8550           37964         PA   \n",
      "131           2018  549300HW662MN1WU8550           45300         FL   \n",
      "132           2018  549300HW662MN1WU8550           44060         WA   \n",
      "133           2018  549300HW662MN1WU8550           27260         FL   \n",
      "134           2018  549300HW662MN1WU8550           47664         MI   \n",
      "\n",
      "     county_code  census_tract conforming_loan_limit  \\\n",
      "130        42045   42045407501                     C   \n",
      "131        12103   12103020700                     C   \n",
      "132        53063   53063000200                     C   \n",
      "133        12031   12031014330                     C   \n",
      "134        26099   26099225800                     C   \n",
      "\n",
      "    derived_loan_product_type             derived_dwelling_category  \\\n",
      "130   Conventional:First Lien  Single Family (1-4 Units):Site-Built   \n",
      "131            FHA:First Lien  Single Family (1-4 Units):Site-Built   \n",
      "132   Conventional:First Lien  Single Family (1-4 Units):Site-Built   \n",
      "133   Conventional:First Lien  Single Family (1-4 Units):Site-Built   \n",
      "134   Conventional:First Lien  Single Family (1-4 Units):Site-Built   \n",
      "\n",
      "           derived_ethnicity  ... denial_reason_2 denial_reason_3  \\\n",
      "130                    Joint  ...             NaN             NaN   \n",
      "131   Not Hispanic or Latino  ...             NaN             NaN   \n",
      "132   Not Hispanic or Latino  ...             NaN             NaN   \n",
      "133  Ethnicity Not Available  ...             NaN             NaN   \n",
      "134   Not Hispanic or Latino  ...             NaN             NaN   \n",
      "\n",
      "     denial_reason_4  tract_population  tract_minority_population_percent  \\\n",
      "130              NaN              2407                              13.00   \n",
      "131              NaN              3461                              96.94   \n",
      "132              NaN              4703                              10.53   \n",
      "133              NaN              4566                              15.99   \n",
      "134              NaN              6431                              14.23   \n",
      "\n",
      "     ffiec_msa_md_median_family_income  tract_to_msa_income_percentage  \\\n",
      "130                              61700                             142   \n",
      "131                              63900                              62   \n",
      "132                              64000                              70   \n",
      "133                              69900                             190   \n",
      "134                              83200                              97   \n",
      "\n",
      "     tract_owner_occupied_units  tract_one_to_four_family_homes  \\\n",
      "130                         650                             844   \n",
      "131                         797                            1368   \n",
      "132                         931                            1622   \n",
      "133                        1653                            1845   \n",
      "134                        1896                            2169   \n",
      "\n",
      "     tract_median_age_of_housing_units  \n",
      "130                                 53  \n",
      "131                                 52  \n",
      "132                                 76  \n",
      "133                                 25  \n",
      "134                                 44  \n",
      "\n",
      "[5 rows x 99 columns]\n"
     ]
    },
    {
     "name": "stdout",
     "output_type": "stream",
     "text": [
      "     activity_year                   lei  derived_msa_md state_code  \\\n",
      "135           2018  549300HW662MN1WU8550           21660         OR   \n",
      "136           2018  549300HW662MN1WU8550           39740         PA   \n",
      "137           2018  549300HW662MN1WU8550           35614         NY   \n",
      "138           2018  549300HW662MN1WU8550           47664         MI   \n",
      "139           2018  549300HW662MN1WU8550           47664         MI   \n",
      "\n",
      "     county_code  census_tract conforming_loan_limit  \\\n",
      "135        41039   41039005100                     C   \n",
      "136        42011   42011011902                     C   \n",
      "137        36087   36087011102                     C   \n",
      "138        26099   26099225800                     C   \n",
      "139        26125   26125194400                     C   \n",
      "\n",
      "    derived_loan_product_type             derived_dwelling_category  \\\n",
      "135   Conventional:First Lien  Single Family (1-4 Units):Site-Built   \n",
      "136   Conventional:First Lien  Single Family (1-4 Units):Site-Built   \n",
      "137   Conventional:First Lien  Single Family (1-4 Units):Site-Built   \n",
      "138   Conventional:First Lien  Single Family (1-4 Units):Site-Built   \n",
      "139   Conventional:First Lien  Single Family (1-4 Units):Site-Built   \n",
      "\n",
      "           derived_ethnicity  ... denial_reason_2 denial_reason_3  \\\n",
      "135  Ethnicity Not Available  ...             NaN             NaN   \n",
      "136   Not Hispanic or Latino  ...             NaN             NaN   \n",
      "137   Not Hispanic or Latino  ...             NaN             NaN   \n",
      "138   Not Hispanic or Latino  ...             NaN             NaN   \n",
      "139   Not Hispanic or Latino  ...             NaN             NaN   \n",
      "\n",
      "     denial_reason_4  tract_population  tract_minority_population_percent  \\\n",
      "135              NaN              3236                              20.95   \n",
      "136              NaN              3527                               8.45   \n",
      "137              NaN              6120                              49.93   \n",
      "138              NaN              6431                              14.23   \n",
      "139              NaN              3299                              21.25   \n",
      "\n",
      "     ffiec_msa_md_median_family_income  tract_to_msa_income_percentage  \\\n",
      "135                              64100                             100   \n",
      "136                              71900                             120   \n",
      "137                              78000                             158   \n",
      "138                              83200                              97   \n",
      "139                              83200                             133   \n",
      "\n",
      "     tract_owner_occupied_units  tract_one_to_four_family_homes  \\\n",
      "135                         749                            1234   \n",
      "136                        1350                            1511   \n",
      "137                        1612                            1643   \n",
      "138                        1896                            2169   \n",
      "139                         994                            1256   \n",
      "\n",
      "     tract_median_age_of_housing_units  \n",
      "135                                 58  \n",
      "136                                 46  \n",
      "137                                 44  \n",
      "138                                 44  \n",
      "139                                 30  \n",
      "\n",
      "[5 rows x 99 columns]\n",
      "     activity_year                   lei  derived_msa_md state_code  \\\n",
      "140           2018  549300HW662MN1WU8550           31140         KY   \n",
      "141           2018  549300HW662MN1WU8550           15764         MA   \n",
      "142           2018  549300HW662MN1WU8550           12940         LA   \n",
      "143           2018  549300HW662MN1WU8550           35300         CT   \n",
      "144           2018  549300HW662MN1WU8550           10580         NY   \n",
      "\n",
      "     county_code  census_tract conforming_loan_limit  \\\n",
      "140        21111   21111010800                     C   \n",
      "141        25017   25017315401                     C   \n",
      "142        22033   22033004011                     C   \n",
      "143         9009    9009180100                     C   \n",
      "144        36001   36001013300                     C   \n",
      "\n",
      "    derived_loan_product_type             derived_dwelling_category  \\\n",
      "140   Conventional:First Lien  Single Family (1-4 Units):Site-Built   \n",
      "141   Conventional:First Lien  Single Family (1-4 Units):Site-Built   \n",
      "142            FHA:First Lien  Single Family (1-4 Units):Site-Built   \n",
      "143   Conventional:First Lien  Single Family (1-4 Units):Site-Built   \n",
      "144   Conventional:First Lien  Single Family (1-4 Units):Site-Built   \n",
      "\n",
      "           derived_ethnicity  ... denial_reason_2 denial_reason_3  \\\n",
      "140   Not Hispanic or Latino  ...             NaN             NaN   \n",
      "141  Ethnicity Not Available  ...             NaN             NaN   \n",
      "142  Ethnicity Not Available  ...             NaN             NaN   \n",
      "143  Ethnicity Not Available  ...             NaN             NaN   \n",
      "144   Not Hispanic or Latino  ...             NaN             NaN   \n",
      "\n",
      "     denial_reason_4  tract_population  tract_minority_population_percent  \\\n",
      "140              NaN              3858                              20.55   \n",
      "141              NaN              3794                              10.86   \n",
      "142              NaN              6711                              64.06   \n",
      "143              NaN              6729                              18.87   \n",
      "144              NaN              4845                              24.21   \n",
      "\n",
      "     ffiec_msa_md_median_family_income  tract_to_msa_income_percentage  \\\n",
      "140                              70400                             113   \n",
      "141                             110300                             117   \n",
      "142                              74500                              61   \n",
      "143                              86200                              91   \n",
      "144                              86400                              79   \n",
      "\n",
      "     tract_owner_occupied_units  tract_one_to_four_family_homes  \\\n",
      "140                        1009                            1229   \n",
      "141                        1171                            1169   \n",
      "142                         413                            2325   \n",
      "143                        1826                            2581   \n",
      "144                         944                            1812   \n",
      "\n",
      "     tract_median_age_of_housing_units  \n",
      "140                                 50  \n",
      "141                                 31  \n",
      "142                                 25  \n",
      "143                                 42  \n",
      "144                                 76  \n",
      "\n",
      "[5 rows x 99 columns]\n",
      "     activity_year                   lei  derived_msa_md state_code  \\\n",
      "145           2018  549300HW662MN1WU8550           35084         NJ   \n",
      "146           2018  549300HW662MN1WU8550           26420         TX   \n",
      "147           2018  549300HW662MN1WU8550           24340         MI   \n",
      "148           2018  549300HW662MN1WU8550           11700         NC   \n",
      "149           2018  549300HW662MN1WU8550           45104         WA   \n",
      "\n",
      "     county_code  census_tract conforming_loan_limit  \\\n",
      "145        34035   34035053105                     C   \n",
      "146        48157   48157672900                     C   \n",
      "147        26081   26081000600                     C   \n",
      "148        37021   37021001700                     C   \n",
      "149        53053   53053070404                     C   \n",
      "\n",
      "    derived_loan_product_type             derived_dwelling_category  \\\n",
      "145             VA:First Lien  Single Family (1-4 Units):Site-Built   \n",
      "146   Conventional:First Lien  Single Family (1-4 Units):Site-Built   \n",
      "147   Conventional:First Lien  Single Family (1-4 Units):Site-Built   \n",
      "148   Conventional:First Lien  Single Family (1-4 Units):Site-Built   \n",
      "149   Conventional:First Lien  Single Family (1-4 Units):Site-Built   \n",
      "\n",
      "           derived_ethnicity  ... denial_reason_2 denial_reason_3  \\\n",
      "145   Not Hispanic or Latino  ...             NaN             NaN   \n",
      "146   Not Hispanic or Latino  ...             NaN             NaN   \n",
      "147  Ethnicity Not Available  ...             NaN             NaN   \n",
      "148   Not Hispanic or Latino  ...             NaN             NaN   \n",
      "149   Not Hispanic or Latino  ...             NaN             NaN   \n",
      "\n",
      "     denial_reason_4  tract_population  tract_minority_population_percent  \\\n",
      "145              NaN              7873                              54.66   \n",
      "146              NaN             38137                              77.77   \n",
      "147              NaN              3742                               7.24   \n",
      "148              NaN              2379                               5.17   \n",
      "149              NaN              4870                              16.32   \n",
      "\n",
      "     ffiec_msa_md_median_family_income  tract_to_msa_income_percentage  \\\n",
      "145                             100700                             111   \n",
      "146                              75600                             129   \n",
      "147                              70300                             106   \n",
      "148                              62500                             172   \n",
      "149                              74600                             111   \n",
      "\n",
      "     tract_owner_occupied_units  tract_one_to_four_family_homes  \\\n",
      "145                        2123                            2765   \n",
      "146                        9771                           11372   \n",
      "147                        1550                            1532   \n",
      "148                         964                            1313   \n",
      "149                        1284                            1582   \n",
      "\n",
      "     tract_median_age_of_housing_units  \n",
      "145                                 33  \n",
      "146                                  9  \n",
      "147                                 54  \n",
      "148                                 39  \n",
      "149                                 12  \n",
      "\n",
      "[5 rows x 99 columns]\n",
      "     activity_year                   lei  derived_msa_md state_code  \\\n",
      "150           2018  549300HW662MN1WU8550           12580         MD   \n",
      "151           2018  549300HW662MN1WU8550           26580         KY   \n",
      "152           2018  549300HW662MN1WU8550           12940         LA   \n",
      "153           2018  549300HW662MN1WU8550           47664         MI   \n",
      "154           2018  549300HW662MN1WU8550           28140         MO   \n",
      "\n",
      "     county_code  census_tract conforming_loan_limit  \\\n",
      "150        24025   24025306400                     C   \n",
      "151        21019   21019030800                     C   \n",
      "152        22033   22033003804                     C   \n",
      "153        26099   26099255500                     C   \n",
      "154        29165   29165030600                     C   \n",
      "\n",
      "    derived_loan_product_type             derived_dwelling_category  \\\n",
      "150            FHA:First Lien  Single Family (1-4 Units):Site-Built   \n",
      "151            FHA:First Lien  Single Family (1-4 Units):Site-Built   \n",
      "152            FHA:First Lien  Single Family (1-4 Units):Site-Built   \n",
      "153   Conventional:First Lien  Single Family (1-4 Units):Site-Built   \n",
      "154            FHA:First Lien  Single Family (1-4 Units):Site-Built   \n",
      "\n",
      "          derived_ethnicity  ... denial_reason_2 denial_reason_3  \\\n",
      "150  Not Hispanic or Latino  ...             NaN             NaN   \n",
      "151  Not Hispanic or Latino  ...             NaN             NaN   \n",
      "152  Not Hispanic or Latino  ...             NaN             NaN   \n",
      "153  Not Hispanic or Latino  ...             NaN             NaN   \n",
      "154  Not Hispanic or Latino  ...             NaN             NaN   \n",
      "\n",
      "     denial_reason_4  tract_population  tract_minority_population_percent  \\\n",
      "150              NaN              6629                              27.62   \n",
      "151              NaN              4006                               4.87   \n",
      "152              NaN              4629                              19.40   \n",
      "153              NaN              1664                              17.19   \n",
      "154              NaN              7130                               5.82   \n",
      "\n",
      "     ffiec_msa_md_median_family_income  tract_to_msa_income_percentage  \\\n",
      "150                              94900                             114   \n",
      "151                              56900                              46   \n",
      "152                              74500                             142   \n",
      "153                              83200                              79   \n",
      "154                              79900                             114   \n",
      "\n",
      "     tract_owner_occupied_units  tract_one_to_four_family_homes  \\\n",
      "150                        2141                            2315   \n",
      "151                         679                            1183   \n",
      "152                        1106                            1391   \n",
      "153                         541                             671   \n",
      "154                        2248                            2963   \n",
      "\n",
      "     tract_median_age_of_housing_units  \n",
      "150                                 20  \n",
      "151                                 50  \n",
      "152                                 33  \n",
      "153                                 57  \n",
      "154                                 33  \n",
      "\n",
      "[5 rows x 99 columns]\n"
     ]
    },
    {
     "name": "stdout",
     "output_type": "stream",
     "text": [
      "     activity_year                   lei  derived_msa_md state_code  \\\n",
      "155           2018  549300HW662MN1WU8550           22744         FL   \n",
      "156           2018  549300HW662MN1WU8550           36260         UT   \n",
      "157           2018  549300HW662MN1WU8550           16974         IL   \n",
      "158           2018  549300HW662MN1WU8550           19740         CO   \n",
      "159           2018  549300HW662MN1WU8550           12060         GA   \n",
      "\n",
      "     county_code  census_tract conforming_loan_limit  \\\n",
      "155        12011   12011043100                     C   \n",
      "156        49011   49011126801                     C   \n",
      "157        17031   17031081403                     C   \n",
      "158         8005    8005007302                     C   \n",
      "159        13067   13067030310                     C   \n",
      "\n",
      "    derived_loan_product_type             derived_dwelling_category  \\\n",
      "155   Conventional:First Lien  Single Family (1-4 Units):Site-Built   \n",
      "156   Conventional:First Lien  Single Family (1-4 Units):Site-Built   \n",
      "157   Conventional:First Lien  Single Family (1-4 Units):Site-Built   \n",
      "158   Conventional:First Lien  Single Family (1-4 Units):Site-Built   \n",
      "159   Conventional:First Lien  Single Family (1-4 Units):Site-Built   \n",
      "\n",
      "          derived_ethnicity  ... denial_reason_2 denial_reason_3  \\\n",
      "155  Not Hispanic or Latino  ...             NaN             NaN   \n",
      "156  Not Hispanic or Latino  ...             NaN             NaN   \n",
      "157  Not Hispanic or Latino  ...             NaN             NaN   \n",
      "158      Hispanic or Latino  ...             NaN             NaN   \n",
      "159  Not Hispanic or Latino  ...             NaN             NaN   \n",
      "\n",
      "     denial_reason_4  tract_population  tract_minority_population_percent  \\\n",
      "155              NaN              5359                              43.55   \n",
      "156              NaN              3224                               5.49   \n",
      "157              NaN              7443                              34.58   \n",
      "158              NaN              5737                              89.84   \n",
      "159              NaN              8127                              23.44   \n",
      "\n",
      "     ffiec_msa_md_median_family_income  tract_to_msa_income_percentage  \\\n",
      "155                              65700                             100   \n",
      "156                              76800                             126   \n",
      "157                              82400                             189   \n",
      "158                              89900                              41   \n",
      "159                              74400                             101   \n",
      "\n",
      "     tract_owner_occupied_units  tract_one_to_four_family_homes  \\\n",
      "155                        1290                            1996   \n",
      "156                         966                            1030   \n",
      "157                        1483                             352   \n",
      "158                         269                             808   \n",
      "159                        2071                            3024   \n",
      "\n",
      "     tract_median_age_of_housing_units  \n",
      "155                                 53  \n",
      "156                                 47  \n",
      "157                                 19  \n",
      "158                                 54  \n",
      "159                                 32  \n",
      "\n",
      "[5 rows x 99 columns]\n",
      "     activity_year                   lei  derived_msa_md state_code  \\\n",
      "160           2018  549300HW662MN1WU8550           15764         MA   \n",
      "161           2018  549300HW662MN1WU8550           19124         TX   \n",
      "162           2018  549300HW662MN1WU8550           16974         IL   \n",
      "163           2018  549300HW662MN1WU8550           41100         UT   \n",
      "164           2018  549300HW662MN1WU8550           16974         IL   \n",
      "\n",
      "     county_code  census_tract conforming_loan_limit  \\\n",
      "160        25017   25017311600                     C   \n",
      "161        48113   48113000404                     C   \n",
      "162        17031   17031803605                     C   \n",
      "163        49053   49053270500                     C   \n",
      "164        17031   17031280100                     C   \n",
      "\n",
      "    derived_loan_product_type             derived_dwelling_category  \\\n",
      "160   Conventional:First Lien  Single Family (1-4 Units):Site-Built   \n",
      "161   Conventional:First Lien  Single Family (1-4 Units):Site-Built   \n",
      "162   Conventional:First Lien  Single Family (1-4 Units):Site-Built   \n",
      "163   Conventional:First Lien  Single Family (1-4 Units):Site-Built   \n",
      "164   Conventional:First Lien  Single Family (1-4 Units):Site-Built   \n",
      "\n",
      "          derived_ethnicity  ... denial_reason_2 denial_reason_3  \\\n",
      "160  Not Hispanic or Latino  ...             9.0             NaN   \n",
      "161  Not Hispanic or Latino  ...             NaN             NaN   \n",
      "162  Not Hispanic or Latino  ...             NaN             NaN   \n",
      "163  Not Hispanic or Latino  ...             NaN             NaN   \n",
      "164  Not Hispanic or Latino  ...             NaN             NaN   \n",
      "\n",
      "     denial_reason_4  tract_population  tract_minority_population_percent  \\\n",
      "160              NaN              5608                              42.89   \n",
      "161              NaN              3698                              63.03   \n",
      "162              NaN              7488                              34.78   \n",
      "163              NaN              7684                               8.41   \n",
      "164              NaN              6811                              23.34   \n",
      "\n",
      "     ffiec_msa_md_median_family_income  tract_to_msa_income_percentage  \\\n",
      "160                             110300                              75   \n",
      "161                              77200                               0   \n",
      "162                              82400                             133   \n",
      "163                              64600                             120   \n",
      "164                              82400                             198   \n",
      "\n",
      "     tract_owner_occupied_units  tract_one_to_four_family_homes  \\\n",
      "160                        1227                            1670   \n",
      "161                         792                             784   \n",
      "162                        2042                            1902   \n",
      "163                        1833                            2375   \n",
      "164                        1657                             144   \n",
      "\n",
      "     tract_median_age_of_housing_units  \n",
      "160                                 66  \n",
      "161                                 52  \n",
      "162                                 40  \n",
      "163                                 16  \n",
      "164                                 11  \n",
      "\n",
      "[5 rows x 99 columns]\n",
      "     activity_year                   lei  derived_msa_md state_code  \\\n",
      "165           2018  549300HW662MN1WU8550           36084         CA   \n",
      "166           2018  549300HW662MN1WU8550           31084         CA   \n",
      "167           2018  549300HW662MN1WU8550           44060         WA   \n",
      "168           2018  549300HW662MN1WU8550           12060         GA   \n",
      "169           2018  549300HW662MN1WU8550           15804         NJ   \n",
      "\n",
      "     county_code  census_tract conforming_loan_limit  \\\n",
      "165         6001    6001451602                     C   \n",
      "166         6037    6037600912                     C   \n",
      "167        53063   53063000500                     C   \n",
      "168        13135   13135050718                     C   \n",
      "169        34007   34007603902                     C   \n",
      "\n",
      "    derived_loan_product_type             derived_dwelling_category  \\\n",
      "165   Conventional:First Lien  Single Family (1-4 Units):Site-Built   \n",
      "166   Conventional:First Lien  Single Family (1-4 Units):Site-Built   \n",
      "167   Conventional:First Lien  Single Family (1-4 Units):Site-Built   \n",
      "168   Conventional:First Lien  Single Family (1-4 Units):Site-Built   \n",
      "169   Conventional:First Lien  Single Family (1-4 Units):Site-Built   \n",
      "\n",
      "           derived_ethnicity  ... denial_reason_2 denial_reason_3  \\\n",
      "165   Not Hispanic or Latino  ...             NaN             NaN   \n",
      "166       Hispanic or Latino  ...             NaN             NaN   \n",
      "167  Ethnicity Not Available  ...             NaN             NaN   \n",
      "168   Not Hispanic or Latino  ...             NaN             NaN   \n",
      "169   Not Hispanic or Latino  ...             NaN             NaN   \n",
      "\n",
      "     denial_reason_4  tract_population  tract_minority_population_percent  \\\n",
      "165              NaN              6921                              27.61   \n",
      "166              NaN              5593                              95.89   \n",
      "167              NaN              3279                              13.45   \n",
      "168              NaN              8381                              36.39   \n",
      "169              NaN              2864                              14.39   \n",
      "\n",
      "     ffiec_msa_md_median_family_income  tract_to_msa_income_percentage  \\\n",
      "165                             104400                             109   \n",
      "166                              69300                              64   \n",
      "167                              64000                              77   \n",
      "168                              74400                             129   \n",
      "169                              92400                              96   \n",
      "\n",
      "     tract_owner_occupied_units  tract_one_to_four_family_homes  \\\n",
      "165                        1704                            1986   \n",
      "166                         725                            1391   \n",
      "167                         847                            1473   \n",
      "168                        2199                            2798   \n",
      "169                         663                             783   \n",
      "\n",
      "     tract_median_age_of_housing_units  \n",
      "165                                 42  \n",
      "166                                 70  \n",
      "167                                 67  \n",
      "168                                 26  \n",
      "169                                 56  \n",
      "\n",
      "[5 rows x 99 columns]\n"
     ]
    },
    {
     "name": "stdout",
     "output_type": "stream",
     "text": [
      "     activity_year                   lei  derived_msa_md state_code  \\\n",
      "170           2018  549300HW662MN1WU8550           10580         NY   \n",
      "171           2018  549300HW662MN1WU8550           37964         PA   \n",
      "172           2018  549300HW662MN1WU8550           24540         CO   \n",
      "173           2018  549300HW662MN1WU8550           33124         FL   \n",
      "174           2018  549300HW662MN1WU8550           11460         MI   \n",
      "\n",
      "     county_code  census_tract conforming_loan_limit  \\\n",
      "170        36083   36083051600                     C   \n",
      "171        42101   42101003702                     C   \n",
      "172         8123    8123001005                     C   \n",
      "173        12086   12086016900                     C   \n",
      "174        26161   26161407600                     C   \n",
      "\n",
      "    derived_loan_product_type             derived_dwelling_category  \\\n",
      "170            FHA:First Lien  Single Family (1-4 Units):Site-Built   \n",
      "171            FHA:First Lien  Single Family (1-4 Units):Site-Built   \n",
      "172   Conventional:First Lien  Single Family (1-4 Units):Site-Built   \n",
      "173            FHA:First Lien  Single Family (1-4 Units):Site-Built   \n",
      "174   Conventional:First Lien  Single Family (1-4 Units):Site-Built   \n",
      "\n",
      "          derived_ethnicity  ... denial_reason_2 denial_reason_3  \\\n",
      "170  Not Hispanic or Latino  ...             NaN             NaN   \n",
      "171      Hispanic or Latino  ...             NaN             NaN   \n",
      "172      Hispanic or Latino  ...             NaN             NaN   \n",
      "173      Hispanic or Latino  ...             NaN             NaN   \n",
      "174  Not Hispanic or Latino  ...             NaN             NaN   \n",
      "\n",
      "     denial_reason_4  tract_population  tract_minority_population_percent  \\\n",
      "170              NaN              6811                              17.52   \n",
      "171              NaN              3945                              71.84   \n",
      "172              NaN              7097                              46.22   \n",
      "173              NaN              5059                              94.49   \n",
      "174              NaN              3060                              47.48   \n",
      "\n",
      "     ffiec_msa_md_median_family_income  tract_to_msa_income_percentage  \\\n",
      "170                              86400                              84   \n",
      "171                              61700                              83   \n",
      "172                              82400                              73   \n",
      "173                              52300                              91   \n",
      "174                              92900                             114   \n",
      "\n",
      "     tract_owner_occupied_units  tract_one_to_four_family_homes  \\\n",
      "170                        1460                            2537   \n",
      "171                         971                            1532   \n",
      "172                        1350                            2102   \n",
      "173                         969                             536   \n",
      "174                         923                            1173   \n",
      "\n",
      "     tract_median_age_of_housing_units  \n",
      "170                                 71  \n",
      "171                                 76  \n",
      "172                                 13  \n",
      "173                                 36  \n",
      "174                                 21  \n",
      "\n",
      "[5 rows x 99 columns]\n",
      "     activity_year                   lei  derived_msa_md state_code  \\\n",
      "175           2018  549300HW662MN1WU8550           19740         CO   \n",
      "176           2018  549300HW662MN1WU8550           12260         GA   \n",
      "177           2018  549300HW662MN1WU8550           35380         LA   \n",
      "178           2018  549300HW662MN1WU8550           41940         CA   \n",
      "179           2018  549300HW662MN1WU8550           45300         FL   \n",
      "\n",
      "     county_code  census_tract conforming_loan_limit  \\\n",
      "175         8059    8059009833                     C   \n",
      "176        13245   13245010201                     C   \n",
      "177        22087   22087030207                     C   \n",
      "178         6085    6085503712                     C   \n",
      "179        12057   12057007200                     C   \n",
      "\n",
      "    derived_loan_product_type             derived_dwelling_category  \\\n",
      "175   Conventional:First Lien  Single Family (1-4 Units):Site-Built   \n",
      "176             VA:First Lien  Single Family (1-4 Units):Site-Built   \n",
      "177            FHA:First Lien  Single Family (1-4 Units):Site-Built   \n",
      "178   Conventional:First Lien  Single Family (1-4 Units):Site-Built   \n",
      "179   Conventional:First Lien  Single Family (1-4 Units):Site-Built   \n",
      "\n",
      "          derived_ethnicity  ... denial_reason_2 denial_reason_3  \\\n",
      "175  Not Hispanic or Latino  ...             NaN             NaN   \n",
      "176  Not Hispanic or Latino  ...             NaN             NaN   \n",
      "177  Not Hispanic or Latino  ...             NaN             NaN   \n",
      "178  Not Hispanic or Latino  ...             NaN             NaN   \n",
      "179  Not Hispanic or Latino  ...             9.0             NaN   \n",
      "\n",
      "     denial_reason_4  tract_population  tract_minority_population_percent  \\\n",
      "175              NaN              5937                              24.09   \n",
      "176              NaN              4495                              15.46   \n",
      "177              NaN              3960                              24.55   \n",
      "178              NaN              4093                              92.96   \n",
      "179              NaN              4270                              30.82   \n",
      "\n",
      "     ffiec_msa_md_median_family_income  tract_to_msa_income_percentage  \\\n",
      "175                              89900                             110   \n",
      "176                              62300                             169   \n",
      "177                              65700                             106   \n",
      "178                             123400                              39   \n",
      "179                              63900                             106   \n",
      "\n",
      "     tract_owner_occupied_units  tract_one_to_four_family_homes  \\\n",
      "175                        1795                            1930   \n",
      "176                        1360                            1760   \n",
      "177                         917                            1325   \n",
      "178                         361                             445   \n",
      "179                         873                            1626   \n",
      "\n",
      "     tract_median_age_of_housing_units  \n",
      "175                                 39  \n",
      "176                                 39  \n",
      "177                                 38  \n",
      "178                                 29  \n",
      "179                                 27  \n",
      "\n",
      "[5 rows x 99 columns]\n",
      "     activity_year                   lei  derived_msa_md state_code  \\\n",
      "180           2018  549300HW662MN1WU8550           10740         NM   \n",
      "181           2018  549300HW662MN1WU8550           29180         LA   \n",
      "182           2018  549300HW662MN1WU8550           41740         CA   \n",
      "183           2018  549300HW662MN1WU8550           29820         NV   \n",
      "184           2018  549300HW662MN1WU8550           22660         CO   \n",
      "\n",
      "     county_code  census_tract conforming_loan_limit  \\\n",
      "180        35001   35001000300                     C   \n",
      "181        22113   22113951002                     C   \n",
      "182         6073    6073020105                     C   \n",
      "183        32003   32003005851                     C   \n",
      "184         8069    8069001901                     C   \n",
      "\n",
      "    derived_loan_product_type             derived_dwelling_category  \\\n",
      "180   Conventional:First Lien  Single Family (1-4 Units):Site-Built   \n",
      "181            FHA:First Lien  Single Family (1-4 Units):Site-Built   \n",
      "182   Conventional:First Lien  Single Family (1-4 Units):Site-Built   \n",
      "183            FHA:First Lien  Single Family (1-4 Units):Site-Built   \n",
      "184   Conventional:First Lien  Single Family (1-4 Units):Site-Built   \n",
      "\n",
      "           derived_ethnicity  ... denial_reason_2 denial_reason_3  \\\n",
      "180   Not Hispanic or Latino  ...             NaN             NaN   \n",
      "181   Not Hispanic or Latino  ...             NaN             NaN   \n",
      "182  Ethnicity Not Available  ...             NaN             NaN   \n",
      "183   Not Hispanic or Latino  ...             NaN             NaN   \n",
      "184   Not Hispanic or Latino  ...             NaN             NaN   \n",
      "\n",
      "     denial_reason_4  tract_population  tract_minority_population_percent  \\\n",
      "180              NaN              5574                              35.13   \n",
      "181              NaN              3745                              14.39   \n",
      "182              NaN              4437                              45.32   \n",
      "183              NaN              6057                              59.06   \n",
      "184              NaN              4208                              11.83   \n",
      "\n",
      "     ffiec_msa_md_median_family_income  tract_to_msa_income_percentage  \\\n",
      "180                              65000                             160   \n",
      "181                              64800                              95   \n",
      "182                              81800                              81   \n",
      "183                              64800                              99   \n",
      "184                              85100                              66   \n",
      "\n",
      "     tract_owner_occupied_units  tract_one_to_four_family_homes  \\\n",
      "180                        1518                            2300   \n",
      "181                        1068                            1645   \n",
      "182                         734                            1072   \n",
      "183                         897                            1577   \n",
      "184                         875                            1392   \n",
      "\n",
      "     tract_median_age_of_housing_units  \n",
      "180                                 56  \n",
      "181                                 36  \n",
      "182                                 34  \n",
      "183                                 10  \n",
      "184                                 46  \n",
      "\n",
      "[5 rows x 99 columns]\n",
      "     activity_year                   lei  derived_msa_md state_code  \\\n",
      "185           2018  549300HW662MN1WU8550           36740         FL   \n",
      "186           2018  549300HW662MN1WU8550           47664         MI   \n",
      "187           2018  549300HW662MN1WU8550           15764         MA   \n",
      "188           2018  549300HW662MN1WU8550           19780         IA   \n",
      "189           2018  549300HW662MN1WU8550           19804         MI   \n",
      "\n",
      "     county_code  census_tract conforming_loan_limit  \\\n",
      "185        12095   12095017103                     C   \n",
      "186        26099   26099268000                     C   \n",
      "187        25017   25017385201                     C   \n",
      "188        19153   19153003200                     C   \n",
      "189        26163   26163550300                     C   \n",
      "\n",
      "    derived_loan_product_type             derived_dwelling_category  \\\n",
      "185   Conventional:First Lien  Single Family (1-4 Units):Site-Built   \n",
      "186   Conventional:First Lien  Single Family (1-4 Units):Site-Built   \n",
      "187   Conventional:First Lien  Single Family (1-4 Units):Site-Built   \n",
      "188   Conventional:First Lien  Single Family (1-4 Units):Site-Built   \n",
      "189   Conventional:First Lien  Single Family (1-4 Units):Site-Built   \n",
      "\n",
      "          derived_ethnicity  ... denial_reason_2 denial_reason_3  \\\n",
      "185      Hispanic or Latino  ...             NaN             NaN   \n",
      "186  Not Hispanic or Latino  ...             NaN             NaN   \n",
      "187  Not Hispanic or Latino  ...             NaN             NaN   \n",
      "188  Not Hispanic or Latino  ...             NaN             NaN   \n",
      "189  Not Hispanic or Latino  ...             NaN             NaN   \n",
      "\n",
      "     denial_reason_4  tract_population  tract_minority_population_percent  \\\n",
      "185              NaN             16880                              44.91   \n",
      "186              NaN              5521                              19.18   \n",
      "187              NaN              2417                               9.06   \n",
      "188              NaN              2633                               7.29   \n",
      "189              NaN              3216                               4.66   \n",
      "\n",
      "     ffiec_msa_md_median_family_income  tract_to_msa_income_percentage  \\\n",
      "185                              62900                             114   \n",
      "186                              83200                              70   \n",
      "187                             110300                              66   \n",
      "188                              79600                             158   \n",
      "189                              55500                             257   \n",
      "\n",
      "     tract_owner_occupied_units  tract_one_to_four_family_homes  \\\n",
      "185                        3115                            4773   \n",
      "186                        1280                            2048   \n",
      "187                         681                             806   \n",
      "188                         770                             649   \n",
      "189                        1103                            1209   \n",
      "\n",
      "     tract_median_age_of_housing_units  \n",
      "185                                 11  \n",
      "186                                 60  \n",
      "187                                 52  \n",
      "188                                 52  \n",
      "189                                 76  \n",
      "\n",
      "[5 rows x 99 columns]\n"
     ]
    },
    {
     "name": "stdout",
     "output_type": "stream",
     "text": [
      "     activity_year                   lei  derived_msa_md state_code  \\\n",
      "190           2018  549300HW662MN1WU8550           38060         AZ   \n",
      "191           2018  549300HW662MN1WU8550           38940         FL   \n",
      "192           2018  549300HW662MN1WU8550           48300         WA   \n",
      "193           2018  549300HW662MN1WU8550           38060         AZ   \n",
      "194           2018  549300HW662MN1WU8550           35614         NY   \n",
      "\n",
      "     county_code  census_tract conforming_loan_limit  \\\n",
      "190         4013    4013420214                     C   \n",
      "191        12111   12111380400                     C   \n",
      "192        53017   53017950700                     C   \n",
      "193         4013    4013420210                     C   \n",
      "194        36081   36081137700                     C   \n",
      "\n",
      "    derived_loan_product_type             derived_dwelling_category  \\\n",
      "190            FHA:First Lien  Single Family (1-4 Units):Site-Built   \n",
      "191   Conventional:First Lien  Single Family (1-4 Units):Site-Built   \n",
      "192            FHA:First Lien  Single Family (1-4 Units):Site-Built   \n",
      "193   Conventional:First Lien  Single Family (1-4 Units):Site-Built   \n",
      "194   Conventional:First Lien  Single Family (1-4 Units):Site-Built   \n",
      "\n",
      "          derived_ethnicity  ... denial_reason_2 denial_reason_3  \\\n",
      "190  Not Hispanic or Latino  ...             NaN             NaN   \n",
      "191  Not Hispanic or Latino  ...             NaN             NaN   \n",
      "192      Hispanic or Latino  ...             NaN             NaN   \n",
      "193  Not Hispanic or Latino  ...             NaN             NaN   \n",
      "194  Not Hispanic or Latino  ...             NaN             NaN   \n",
      "\n",
      "     denial_reason_4  tract_population  tract_minority_population_percent  \\\n",
      "190              NaN              3559                              16.52   \n",
      "191              NaN              5827                              72.18   \n",
      "192              NaN              4791                              36.86   \n",
      "193              NaN              5036                              25.02   \n",
      "194              NaN              6270                              68.92   \n",
      "\n",
      "     ffiec_msa_md_median_family_income  tract_to_msa_income_percentage  \\\n",
      "190                              69100                              62   \n",
      "191                              60500                              63   \n",
      "192                              67100                              78   \n",
      "193                              69100                              97   \n",
      "194                              78000                             101   \n",
      "\n",
      "     tract_owner_occupied_units  tract_one_to_four_family_homes  \\\n",
      "190                         983                            2046   \n",
      "191                         742                            1955   \n",
      "192                         825                            1281   \n",
      "193                        1510                            1922   \n",
      "194                        1112                            2172   \n",
      "\n",
      "     tract_median_age_of_housing_units  \n",
      "190                                 41  \n",
      "191                                 39  \n",
      "192                                 36  \n",
      "193                                 30  \n",
      "194                                 63  \n",
      "\n",
      "[5 rows x 99 columns]\n",
      "     activity_year                   lei  derived_msa_md state_code  \\\n",
      "195           2018  549300HW662MN1WU8550           22744         FL   \n",
      "196           2018  549300HW662MN1WU8550           33124         FL   \n",
      "197           2018  549300HW662MN1WU8550           41180         MO   \n",
      "198           2018  549300HW662MN1WU8550           41620         UT   \n",
      "199           2018  549300HW662MN1WU8550           37964         PA   \n",
      "\n",
      "     county_code  census_tract conforming_loan_limit  \\\n",
      "195        12011   12011010402                     C   \n",
      "196        12086   12086020100                     C   \n",
      "197        29189   29189220501                     C   \n",
      "198        49045   49045130703                     C   \n",
      "199        42101   42101021300                     C   \n",
      "\n",
      "    derived_loan_product_type             derived_dwelling_category  \\\n",
      "195            FHA:First Lien  Single Family (1-4 Units):Site-Built   \n",
      "196            FHA:First Lien  Single Family (1-4 Units):Site-Built   \n",
      "197   Conventional:First Lien  Single Family (1-4 Units):Site-Built   \n",
      "198   Conventional:First Lien  Single Family (1-4 Units):Site-Built   \n",
      "199   Conventional:First Lien  Single Family (1-4 Units):Site-Built   \n",
      "\n",
      "          derived_ethnicity  ... denial_reason_2 denial_reason_3  \\\n",
      "195      Hispanic or Latino  ...             NaN             NaN   \n",
      "196      Hispanic or Latino  ...             NaN             NaN   \n",
      "197  Not Hispanic or Latino  ...             NaN             NaN   \n",
      "198  Not Hispanic or Latino  ...             NaN             NaN   \n",
      "199  Not Hispanic or Latino  ...             NaN             NaN   \n",
      "\n",
      "     denial_reason_4  tract_population  tract_minority_population_percent  \\\n",
      "195              NaN              3573                              30.42   \n",
      "196              NaN              5179                              85.38   \n",
      "197              NaN              6704                               9.23   \n",
      "198              NaN              7899                               6.98   \n",
      "199              NaN              3753                              12.71   \n",
      "\n",
      "     ffiec_msa_md_median_family_income  tract_to_msa_income_percentage  \\\n",
      "195                              65700                              65   \n",
      "196                              52300                             134   \n",
      "197                              76600                              77   \n",
      "198                              79700                             108   \n",
      "199                              61700                             114   \n",
      "\n",
      "     tract_owner_occupied_units  tract_one_to_four_family_homes  \\\n",
      "195                        1518                             494   \n",
      "196                         999                            1247   \n",
      "197                        2252                            2386   \n",
      "198                        1941                            2385   \n",
      "199                         837                            1440   \n",
      "\n",
      "     tract_median_age_of_housing_units  \n",
      "195                                  0  \n",
      "196                                 23  \n",
      "197                                 53  \n",
      "198                                 14  \n",
      "199                                 76  \n",
      "\n",
      "[5 rows x 99 columns]\n",
      "     activity_year                   lei  derived_msa_md state_code  \\\n",
      "200           2018  549300HW662MN1WU8550           12060         GA   \n",
      "201           2018  549300HW662MN1WU8550           36260         UT   \n",
      "202           2018  549300HW662MN1WU8550           42644         WA   \n",
      "203           2018  549300HW662MN1WU8550           41740         CA   \n",
      "204           2018  549300HW662MN1WU8550           39300         RI   \n",
      "\n",
      "     county_code  census_tract conforming_loan_limit  \\\n",
      "200        13121   13121001202                     C   \n",
      "201        49057   49057210201                     C   \n",
      "202        53033   53033030202                     C   \n",
      "203         6073    6073009603                     C   \n",
      "204        44003   44003020500                     C   \n",
      "\n",
      "    derived_loan_product_type             derived_dwelling_category  \\\n",
      "200   Conventional:First Lien  Single Family (1-4 Units):Site-Built   \n",
      "201   Conventional:First Lien  Single Family (1-4 Units):Site-Built   \n",
      "202   Conventional:First Lien  Single Family (1-4 Units):Site-Built   \n",
      "203   Conventional:First Lien  Single Family (1-4 Units):Site-Built   \n",
      "204   Conventional:First Lien  Single Family (1-4 Units):Site-Built   \n",
      "\n",
      "          derived_ethnicity  ... denial_reason_2 denial_reason_3  \\\n",
      "200  Not Hispanic or Latino  ...             NaN             NaN   \n",
      "201  Not Hispanic or Latino  ...             NaN             NaN   \n",
      "202  Not Hispanic or Latino  ...             NaN             NaN   \n",
      "203  Not Hispanic or Latino  ...             NaN             NaN   \n",
      "204  Not Hispanic or Latino  ...             NaN             NaN   \n",
      "\n",
      "     denial_reason_4  tract_population  tract_minority_population_percent  \\\n",
      "200              NaN              3898                              41.66   \n",
      "201              NaN              4719                              14.05   \n",
      "202              NaN              6219                              51.36   \n",
      "203              NaN              5158                              50.87   \n",
      "204              NaN              4337                              11.00   \n",
      "\n",
      "     ffiec_msa_md_median_family_income  tract_to_msa_income_percentage  \\\n",
      "200                              74400                             168   \n",
      "201                              76800                             124   \n",
      "202                             103400                              60   \n",
      "203                              81800                              76   \n",
      "204                              80600                             105   \n",
      "\n",
      "     tract_owner_occupied_units  tract_one_to_four_family_homes  \\\n",
      "200                        1237                             177   \n",
      "201                        1187                            1379   \n",
      "202                        1353                            1939   \n",
      "203                        1002                             516   \n",
      "204                        1063                            1631   \n",
      "\n",
      "     tract_median_age_of_housing_units  \n",
      "200                                 30  \n",
      "201                                 35  \n",
      "202                                 44  \n",
      "203                                 37  \n",
      "204                                 47  \n",
      "\n",
      "[5 rows x 99 columns]\n",
      "     activity_year                   lei  derived_msa_md state_code  \\\n",
      "205           2018  549300HW662MN1WU8550           24340         MI   \n",
      "206           2018  549300HW662MN1WU8550           41740         CA   \n",
      "207           2018  549300HW662MN1WU8550           13740         MT   \n",
      "208           2018  549300HW662MN1WU8550           41620         UT   \n",
      "209           2018  549300HW662MN1WU8550           14454         MA   \n",
      "\n",
      "     county_code  census_tract conforming_loan_limit  \\\n",
      "205        26081   26081014300                     C   \n",
      "206         6073    6073009603                     C   \n",
      "207        30111   30111000901                     C   \n",
      "208        49035   49035100600                     C   \n",
      "209        25021   25021420100                     C   \n",
      "\n",
      "    derived_loan_product_type             derived_dwelling_category  \\\n",
      "205             VA:First Lien  Single Family (1-4 Units):Site-Built   \n",
      "206   Conventional:First Lien  Single Family (1-4 Units):Site-Built   \n",
      "207   Conventional:First Lien  Single Family (1-4 Units):Site-Built   \n",
      "208   Conventional:First Lien  Single Family (1-4 Units):Site-Built   \n",
      "209   Conventional:First Lien  Single Family (1-4 Units):Site-Built   \n",
      "\n",
      "          derived_ethnicity  ... denial_reason_2 denial_reason_3  \\\n",
      "205  Not Hispanic or Latino  ...             NaN             NaN   \n",
      "206  Not Hispanic or Latino  ...             NaN             NaN   \n",
      "207  Not Hispanic or Latino  ...             NaN             NaN   \n",
      "208  Not Hispanic or Latino  ...             NaN             NaN   \n",
      "209  Not Hispanic or Latino  ...             NaN             NaN   \n",
      "\n",
      "     denial_reason_4  tract_population  tract_minority_population_percent  \\\n",
      "205              NaN              3243                              35.34   \n",
      "206              NaN              5158                              50.87   \n",
      "207              NaN              3359                              16.43   \n",
      "208              NaN              8181                              63.86   \n",
      "209              NaN              7942                              56.96   \n",
      "\n",
      "     ffiec_msa_md_median_family_income  tract_to_msa_income_percentage  \\\n",
      "205                              70300                              77   \n",
      "206                              81800                              76   \n",
      "207                              71000                              88   \n",
      "208                              79700                              62   \n",
      "209                              99300                              76   \n",
      "\n",
      "     tract_owner_occupied_units  tract_one_to_four_family_homes  \\\n",
      "205                         879                            1084   \n",
      "206                        1002                             516   \n",
      "207                        1034                            1610   \n",
      "208                        1439                            2086   \n",
      "209                        2047                            2609   \n",
      "\n",
      "     tract_median_age_of_housing_units  \n",
      "205                                 62  \n",
      "206                                 37  \n",
      "207                                 46  \n",
      "208                                 65  \n",
      "209                                 54  \n",
      "\n",
      "[5 rows x 99 columns]\n"
     ]
    },
    {
     "name": "stdout",
     "output_type": "stream",
     "text": [
      "     activity_year                   lei  derived_msa_md state_code  \\\n",
      "210           2018  549300HW662MN1WU8550           44140         MA   \n",
      "211           2018  549300HW662MN1WU8550           99999         NE   \n",
      "212           2018  549300HW662MN1WU8550           29340         LA   \n",
      "213           2018  549300HW662MN1WU8550           15380         NY   \n",
      "214           2018  549300HW662MN1WU8550           45540         FL   \n",
      "\n",
      "     county_code  census_tract conforming_loan_limit  \\\n",
      "210        25013   25013811000                     C   \n",
      "211        31053   31053963800                     C   \n",
      "212        22019   22019001000                     C   \n",
      "213        36029   36029000800                     C   \n",
      "214        12119   12119911200                     C   \n",
      "\n",
      "    derived_loan_product_type             derived_dwelling_category  \\\n",
      "210   Conventional:First Lien  Single Family (1-4 Units):Site-Built   \n",
      "211            FHA:First Lien  Single Family (1-4 Units):Site-Built   \n",
      "212   Conventional:First Lien  Single Family (1-4 Units):Site-Built   \n",
      "213   Conventional:First Lien  Single Family (1-4 Units):Site-Built   \n",
      "214   Conventional:First Lien  Single Family (1-4 Units):Site-Built   \n",
      "\n",
      "           derived_ethnicity  ... denial_reason_2 denial_reason_3  \\\n",
      "210   Not Hispanic or Latino  ...             NaN             NaN   \n",
      "211  Ethnicity Not Available  ...             NaN             NaN   \n",
      "212   Not Hispanic or Latino  ...             NaN             NaN   \n",
      "213   Not Hispanic or Latino  ...             NaN             NaN   \n",
      "214                    Joint  ...             NaN             NaN   \n",
      "\n",
      "     denial_reason_4  tract_population  tract_minority_population_percent  \\\n",
      "210              NaN              4480                              15.07   \n",
      "211              NaN              5012                              10.81   \n",
      "212              NaN              3733                              10.45   \n",
      "213              NaN              4729                               7.59   \n",
      "214              NaN             38169                               3.98   \n",
      "\n",
      "     ffiec_msa_md_median_family_income  tract_to_msa_income_percentage  \\\n",
      "210                              73900                              93   \n",
      "211                              68000                              85   \n",
      "212                              60000                             123   \n",
      "213                              74700                              93   \n",
      "214                              68200                             118   \n",
      "\n",
      "     tract_owner_occupied_units  tract_one_to_four_family_homes  \\\n",
      "210                        1201                            1748   \n",
      "211                        1272                            1787   \n",
      "212                        1191                            1567   \n",
      "213                        1279                            2066   \n",
      "214                       19529                           25391   \n",
      "\n",
      "     tract_median_age_of_housing_units  \n",
      "210                                 59  \n",
      "211                                 38  \n",
      "212                                 49  \n",
      "213                                 76  \n",
      "214                                 10  \n",
      "\n",
      "[5 rows x 99 columns]\n",
      "     activity_year                   lei  derived_msa_md state_code  \\\n",
      "215           2018  549300HW662MN1WU8550           35840         FL   \n",
      "216           2018  549300HW662MN1WU8550           29540         PA   \n",
      "217           2018  549300HW662MN1WU8550           39340         UT   \n",
      "218           2018  549300HW662MN1WU8550           48424         FL   \n",
      "219           2018  549300HW662MN1WU8550           39340         UT   \n",
      "\n",
      "     county_code  census_tract conforming_loan_limit  \\\n",
      "215        12115   12115001505                     C   \n",
      "216        42071   42071014300                     C   \n",
      "217        49049   49049000509                     C   \n",
      "218        12099   12099006909                     C   \n",
      "219        49049   49049010406                     C   \n",
      "\n",
      "    derived_loan_product_type             derived_dwelling_category  \\\n",
      "215   Conventional:First Lien  Single Family (1-4 Units):Site-Built   \n",
      "216             VA:First Lien  Single Family (1-4 Units):Site-Built   \n",
      "217   Conventional:First Lien  Single Family (1-4 Units):Site-Built   \n",
      "218   Conventional:First Lien  Single Family (1-4 Units):Site-Built   \n",
      "219            FHA:First Lien  Single Family (1-4 Units):Site-Built   \n",
      "\n",
      "           derived_ethnicity  ... denial_reason_2 denial_reason_3  \\\n",
      "215   Not Hispanic or Latino  ...             NaN             NaN   \n",
      "216   Not Hispanic or Latino  ...             NaN             NaN   \n",
      "217  Ethnicity Not Available  ...             9.0             NaN   \n",
      "218   Not Hispanic or Latino  ...             NaN             NaN   \n",
      "219   Not Hispanic or Latino  ...             NaN             NaN   \n",
      "\n",
      "     denial_reason_4  tract_population  tract_minority_population_percent  \\\n",
      "215              NaN              4533                              22.55   \n",
      "216              NaN              7624                               6.39   \n",
      "217              NaN              6530                              21.87   \n",
      "218              NaN              2480                              23.87   \n",
      "219              NaN              2161                               2.17   \n",
      "\n",
      "     ffiec_msa_md_median_family_income  tract_to_msa_income_percentage  \\\n",
      "215                              70300                             112   \n",
      "216                              73800                              92   \n",
      "217                              74700                              73   \n",
      "218                              74300                              87   \n",
      "219                              74700                             132   \n",
      "\n",
      "     tract_owner_occupied_units  tract_one_to_four_family_homes  \\\n",
      "215                        1051                            1634   \n",
      "216                        1636                            2244   \n",
      "217                         939                            1160   \n",
      "218                         914                            1643   \n",
      "219                         514                             628   \n",
      "\n",
      "     tract_median_age_of_housing_units  \n",
      "215                                 40  \n",
      "216                                 43  \n",
      "217                                 11  \n",
      "218                                 37  \n",
      "219                                 22  \n",
      "\n",
      "[5 rows x 99 columns]\n"
     ]
    },
    {
     "ename": "KeyboardInterrupt",
     "evalue": "",
     "output_type": "error",
     "traceback": [
      "\u001b[0;31m---------------------------------------------------------------------------\u001b[0m",
      "\u001b[0;31mKeyboardInterrupt\u001b[0m                         Traceback (most recent call last)",
      "\u001b[0;32m<ipython-input-24-027344b31034>\u001b[0m in \u001b[0;36m<module>\u001b[0;34m()\u001b[0m\n\u001b[1;32m      1\u001b[0m \u001b[0mrow_count\u001b[0m \u001b[0;34m=\u001b[0m \u001b[0;36m5\u001b[0m\u001b[0;34m\u001b[0m\u001b[0m\n\u001b[1;32m      2\u001b[0m \u001b[0mchunks\u001b[0m \u001b[0;34m=\u001b[0m \u001b[0;34m[\u001b[0m\u001b[0;34m]\u001b[0m\u001b[0;34m\u001b[0m\u001b[0m\n\u001b[0;32m----> 3\u001b[0;31m \u001b[0;32mfor\u001b[0m \u001b[0mchunk\u001b[0m \u001b[0;32min\u001b[0m \u001b[0mpd\u001b[0m\u001b[0;34m.\u001b[0m\u001b[0mread_csv\u001b[0m\u001b[0;34m(\u001b[0m\u001b[0;34m\"./data/2018_public_lar_csv.csv\"\u001b[0m\u001b[0;34m,\u001b[0m \u001b[0mchunksize\u001b[0m\u001b[0;34m=\u001b[0m\u001b[0mrow_count\u001b[0m\u001b[0;34m)\u001b[0m\u001b[0;34m:\u001b[0m\u001b[0;34m\u001b[0m\u001b[0m\n\u001b[0m\u001b[1;32m      4\u001b[0m     \u001b[0;32mprint\u001b[0m \u001b[0mchunk\u001b[0m\u001b[0;34m.\u001b[0m\u001b[0mhead\u001b[0m\u001b[0;34m(\u001b[0m\u001b[0;34m)\u001b[0m\u001b[0;34m\u001b[0m\u001b[0m\n\u001b[1;32m      5\u001b[0m     \u001b[0;31m# yeschunk = ['derived_msa_md']=='41180'\u001b[0m\u001b[0;34m\u001b[0m\u001b[0;34m\u001b[0m\u001b[0m\n",
      "\u001b[0;32m/Users/jayohday/.virtualenvs/hmda2019/lib/python2.7/site-packages/pandas/io/common.pyc\u001b[0m in \u001b[0;36m<lambda>\u001b[0;34m(self)\u001b[0m\n\u001b[1;32m     71\u001b[0m \u001b[0;34m\u001b[0m\u001b[0m\n\u001b[1;32m     72\u001b[0m \u001b[0;32mif\u001b[0m \u001b[0;32mnot\u001b[0m \u001b[0mcompat\u001b[0m\u001b[0;34m.\u001b[0m\u001b[0mPY3\u001b[0m\u001b[0;34m:\u001b[0m\u001b[0;34m\u001b[0m\u001b[0m\n\u001b[0;32m---> 73\u001b[0;31m     \u001b[0mBaseIterator\u001b[0m\u001b[0;34m.\u001b[0m\u001b[0mnext\u001b[0m \u001b[0;34m=\u001b[0m \u001b[0;32mlambda\u001b[0m \u001b[0mself\u001b[0m\u001b[0;34m:\u001b[0m \u001b[0mself\u001b[0m\u001b[0;34m.\u001b[0m\u001b[0m__next__\u001b[0m\u001b[0;34m(\u001b[0m\u001b[0;34m)\u001b[0m\u001b[0;34m\u001b[0m\u001b[0m\n\u001b[0m\u001b[1;32m     74\u001b[0m \u001b[0;34m\u001b[0m\u001b[0m\n\u001b[1;32m     75\u001b[0m \u001b[0;34m\u001b[0m\u001b[0m\n",
      "\u001b[0;32m/Users/jayohday/.virtualenvs/hmda2019/lib/python2.7/site-packages/pandas/io/parsers.pyc\u001b[0m in \u001b[0;36m__next__\u001b[0;34m(self)\u001b[0m\n\u001b[1;32m   1113\u001b[0m     \u001b[0;32mdef\u001b[0m \u001b[0m__next__\u001b[0m\u001b[0;34m(\u001b[0m\u001b[0mself\u001b[0m\u001b[0;34m)\u001b[0m\u001b[0;34m:\u001b[0m\u001b[0;34m\u001b[0m\u001b[0m\n\u001b[1;32m   1114\u001b[0m         \u001b[0;32mtry\u001b[0m\u001b[0;34m:\u001b[0m\u001b[0;34m\u001b[0m\u001b[0m\n\u001b[0;32m-> 1115\u001b[0;31m             \u001b[0;32mreturn\u001b[0m \u001b[0mself\u001b[0m\u001b[0;34m.\u001b[0m\u001b[0mget_chunk\u001b[0m\u001b[0;34m(\u001b[0m\u001b[0;34m)\u001b[0m\u001b[0;34m\u001b[0m\u001b[0m\n\u001b[0m\u001b[1;32m   1116\u001b[0m         \u001b[0;32mexcept\u001b[0m \u001b[0mStopIteration\u001b[0m\u001b[0;34m:\u001b[0m\u001b[0;34m\u001b[0m\u001b[0m\n\u001b[1;32m   1117\u001b[0m             \u001b[0mself\u001b[0m\u001b[0;34m.\u001b[0m\u001b[0mclose\u001b[0m\u001b[0;34m(\u001b[0m\u001b[0;34m)\u001b[0m\u001b[0;34m\u001b[0m\u001b[0m\n",
      "\u001b[0;32m/Users/jayohday/.virtualenvs/hmda2019/lib/python2.7/site-packages/pandas/io/parsers.pyc\u001b[0m in \u001b[0;36mget_chunk\u001b[0;34m(self, size)\u001b[0m\n\u001b[1;32m   1171\u001b[0m                 \u001b[0;32mraise\u001b[0m \u001b[0mStopIteration\u001b[0m\u001b[0;34m\u001b[0m\u001b[0m\n\u001b[1;32m   1172\u001b[0m             \u001b[0msize\u001b[0m \u001b[0;34m=\u001b[0m \u001b[0mmin\u001b[0m\u001b[0;34m(\u001b[0m\u001b[0msize\u001b[0m\u001b[0;34m,\u001b[0m \u001b[0mself\u001b[0m\u001b[0;34m.\u001b[0m\u001b[0mnrows\u001b[0m \u001b[0;34m-\u001b[0m \u001b[0mself\u001b[0m\u001b[0;34m.\u001b[0m\u001b[0m_currow\u001b[0m\u001b[0;34m)\u001b[0m\u001b[0;34m\u001b[0m\u001b[0m\n\u001b[0;32m-> 1173\u001b[0;31m         \u001b[0;32mreturn\u001b[0m \u001b[0mself\u001b[0m\u001b[0;34m.\u001b[0m\u001b[0mread\u001b[0m\u001b[0;34m(\u001b[0m\u001b[0mnrows\u001b[0m\u001b[0;34m=\u001b[0m\u001b[0msize\u001b[0m\u001b[0;34m)\u001b[0m\u001b[0;34m\u001b[0m\u001b[0m\n\u001b[0m\u001b[1;32m   1174\u001b[0m \u001b[0;34m\u001b[0m\u001b[0m\n\u001b[1;32m   1175\u001b[0m \u001b[0;34m\u001b[0m\u001b[0m\n",
      "\u001b[0;32m/Users/jayohday/.virtualenvs/hmda2019/lib/python2.7/site-packages/pandas/io/parsers.pyc\u001b[0m in \u001b[0;36mread\u001b[0;34m(self, nrows)\u001b[0m\n\u001b[1;32m   1137\u001b[0m     \u001b[0;32mdef\u001b[0m \u001b[0mread\u001b[0m\u001b[0;34m(\u001b[0m\u001b[0mself\u001b[0m\u001b[0;34m,\u001b[0m \u001b[0mnrows\u001b[0m\u001b[0;34m=\u001b[0m\u001b[0mNone\u001b[0m\u001b[0;34m)\u001b[0m\u001b[0;34m:\u001b[0m\u001b[0;34m\u001b[0m\u001b[0m\n\u001b[1;32m   1138\u001b[0m         \u001b[0mnrows\u001b[0m \u001b[0;34m=\u001b[0m \u001b[0m_validate_integer\u001b[0m\u001b[0;34m(\u001b[0m\u001b[0;34m'nrows'\u001b[0m\u001b[0;34m,\u001b[0m \u001b[0mnrows\u001b[0m\u001b[0;34m)\u001b[0m\u001b[0;34m\u001b[0m\u001b[0m\n\u001b[0;32m-> 1139\u001b[0;31m         \u001b[0mret\u001b[0m \u001b[0;34m=\u001b[0m \u001b[0mself\u001b[0m\u001b[0;34m.\u001b[0m\u001b[0m_engine\u001b[0m\u001b[0;34m.\u001b[0m\u001b[0mread\u001b[0m\u001b[0;34m(\u001b[0m\u001b[0mnrows\u001b[0m\u001b[0;34m)\u001b[0m\u001b[0;34m\u001b[0m\u001b[0m\n\u001b[0m\u001b[1;32m   1140\u001b[0m \u001b[0;34m\u001b[0m\u001b[0m\n\u001b[1;32m   1141\u001b[0m         \u001b[0;31m# May alter columns / col_dict\u001b[0m\u001b[0;34m\u001b[0m\u001b[0;34m\u001b[0m\u001b[0m\n",
      "\u001b[0;32m/Users/jayohday/.virtualenvs/hmda2019/lib/python2.7/site-packages/pandas/io/parsers.pyc\u001b[0m in \u001b[0;36mread\u001b[0;34m(self, nrows)\u001b[0m\n\u001b[1;32m   1993\u001b[0m     \u001b[0;32mdef\u001b[0m \u001b[0mread\u001b[0m\u001b[0;34m(\u001b[0m\u001b[0mself\u001b[0m\u001b[0;34m,\u001b[0m \u001b[0mnrows\u001b[0m\u001b[0;34m=\u001b[0m\u001b[0mNone\u001b[0m\u001b[0;34m)\u001b[0m\u001b[0;34m:\u001b[0m\u001b[0;34m\u001b[0m\u001b[0m\n\u001b[1;32m   1994\u001b[0m         \u001b[0;32mtry\u001b[0m\u001b[0;34m:\u001b[0m\u001b[0;34m\u001b[0m\u001b[0m\n\u001b[0;32m-> 1995\u001b[0;31m             \u001b[0mdata\u001b[0m \u001b[0;34m=\u001b[0m \u001b[0mself\u001b[0m\u001b[0;34m.\u001b[0m\u001b[0m_reader\u001b[0m\u001b[0;34m.\u001b[0m\u001b[0mread\u001b[0m\u001b[0;34m(\u001b[0m\u001b[0mnrows\u001b[0m\u001b[0;34m)\u001b[0m\u001b[0;34m\u001b[0m\u001b[0m\n\u001b[0m\u001b[1;32m   1996\u001b[0m         \u001b[0;32mexcept\u001b[0m \u001b[0mStopIteration\u001b[0m\u001b[0;34m:\u001b[0m\u001b[0;34m\u001b[0m\u001b[0m\n\u001b[1;32m   1997\u001b[0m             \u001b[0;32mif\u001b[0m \u001b[0mself\u001b[0m\u001b[0;34m.\u001b[0m\u001b[0m_first_chunk\u001b[0m\u001b[0;34m:\u001b[0m\u001b[0;34m\u001b[0m\u001b[0m\n",
      "\u001b[0;32mpandas/_libs/parsers.pyx\u001b[0m in \u001b[0;36mpandas._libs.parsers.TextReader.read\u001b[0;34m()\u001b[0m\n",
      "\u001b[0;32mpandas/_libs/parsers.pyx\u001b[0m in \u001b[0;36mpandas._libs.parsers.TextReader._read_low_memory\u001b[0;34m()\u001b[0m\n",
      "\u001b[0;32mpandas/_libs/parsers.pyx\u001b[0m in \u001b[0;36mpandas._libs.parsers.TextReader._read_rows\u001b[0;34m()\u001b[0m\n",
      "\u001b[0;32mpandas/_libs/parsers.pyx\u001b[0m in \u001b[0;36mpandas._libs.parsers.TextReader._convert_column_data\u001b[0;34m()\u001b[0m\n",
      "\u001b[0;32mpandas/_libs/parsers.pyx\u001b[0m in \u001b[0;36mpandas._libs.parsers.TextReader._convert_tokens\u001b[0;34m()\u001b[0m\n",
      "\u001b[0;32mpandas/_libs/parsers.pyx\u001b[0m in \u001b[0;36mpandas._libs.parsers.TextReader._convert_with_dtype\u001b[0;34m()\u001b[0m\n",
      "\u001b[0;32m/Users/jayohday/.virtualenvs/hmda2019/lib/python2.7/site-packages/pandas/core/dtypes/common.pyc\u001b[0m in \u001b[0;36mis_categorical_dtype\u001b[0;34m(arr_or_dtype)\u001b[0m\n\u001b[1;32m    570\u001b[0m \u001b[0;34m\u001b[0m\u001b[0m\n\u001b[1;32m    571\u001b[0m \u001b[0;34m\u001b[0m\u001b[0m\n\u001b[0;32m--> 572\u001b[0;31m \u001b[0;32mdef\u001b[0m \u001b[0mis_categorical_dtype\u001b[0m\u001b[0;34m(\u001b[0m\u001b[0marr_or_dtype\u001b[0m\u001b[0;34m)\u001b[0m\u001b[0;34m:\u001b[0m\u001b[0;34m\u001b[0m\u001b[0m\n\u001b[0m\u001b[1;32m    573\u001b[0m     \"\"\"\n\u001b[1;32m    574\u001b[0m     \u001b[0mCheck\u001b[0m \u001b[0mwhether\u001b[0m \u001b[0man\u001b[0m \u001b[0marray\u001b[0m\u001b[0;34m-\u001b[0m\u001b[0mlike\u001b[0m \u001b[0;32mor\u001b[0m \u001b[0mdtype\u001b[0m \u001b[0;32mis\u001b[0m \u001b[0mof\u001b[0m \u001b[0mthe\u001b[0m \u001b[0mCategorical\u001b[0m \u001b[0mdtype\u001b[0m\u001b[0;34m.\u001b[0m\u001b[0;34m\u001b[0m\u001b[0m\n",
      "\u001b[0;31mKeyboardInterrupt\u001b[0m: "
     ]
    }
   ],
   "source": [
    "# To preview data \n",
    "\n",
    "row_count = 5\n",
    "chunks = []\n",
    "for chunk in pd.read_csv('./data/2018_public_lar_csv.csv', chunksize=row_count): \n",
    "    print chunk.head()\n",
    "    # yeschunk = ['derived_msa_md']=='41180'"
   ]
  },
  {
   "cell_type": "code",
   "execution_count": 2,
   "metadata": {},
   "outputs": [],
   "source": [
    "# To split into smaller csvs of 500,000\n",
    "\n",
    "divisor = 500000\n",
    "\n",
    "outfileno = 1\n",
    "outfile = None\n",
    "\n",
    "with open('./data/2018_public_lar_csv.csv', 'r') as infile:\n",
    "    for index, row in enumerate(csv.reader(infile)):\n",
    "        if index % divisor == 0:\n",
    "            if outfile is not None:\n",
    "                outfile.close()\n",
    "            outfilename = './data/public_lar_2018-{}.csv'.format(outfileno)\n",
    "            outfile = open(outfilename, 'w')\n",
    "            outfileno += 1\n",
    "            writer = csv.writer(outfile)\n",
    "        writer.writerow(row)"
   ]
  },
  {
   "cell_type": "code",
   "execution_count": 4,
   "metadata": {},
   "outputs": [],
   "source": [
    "### Reading in public_lar csv files one at a time and filtering to get only Missouri/Illinois data\n",
    "\n",
    "# df31 = pd.read_csv('./data/public_lar/public_lar_2018-31.csv', names=names, low_memory=False)\n",
    "\n",
    "\n",
    "### Combines all public_lar files nationwide and loads into a huge df. Takes forever. \n",
    "\n",
    "# path = './data/public_lar/'\n",
    "# all_files = glob.glob(path + \"/*.csv\")\n",
    "\n",
    "# li = []\n",
    "\n",
    "# for filename in all_files:\n",
    "    # df = pd.read_csv(filename, index_col=None, header=0, low_memory=False)\n",
    "    # li.append(df)\n",
    "\n",
    "# frame = pd.concat(li, axis=0, ignore_index=True)\n",
    "\n",
    "### Combines separate Missouri/Illinois loan app files generated from prev processing\n",
    "### Combines into a large dataframe for each state.\n",
    "### Takes a little less time. \n",
    "\n",
    "# test_path = './data/public_lar/test/'\n",
    "mo_path = './data/public_lar/mo/'\n",
    "il_path = './data/public_lar/il/'\n",
    "# mo_files = glob.glob(mo_path + \"/*.csv\")\n",
    "# il_files = glob.glob(il_path + \"/*.csv\")\n",
    "\n",
    "# for filename in mo_files:\n",
    "    # df = pd.read_csv(filename, index_col=None, low_memory=False)\n",
    "    # mo_list.append(df)\n",
    "\n",
    "# for filename in il_files:\n",
    "    # df = pd.read_csv(filename, index_col=None, low_memory=False)\n",
    "    # il_list.append(df)\n",
    "\n",
    "# mo_frame = pd.concat(mo_list, axis=0, ignore_index=True)\n",
    "# il_frame = pd.concat(il_list, axis=0, ignore_index=True)"
   ]
  },
  {
   "cell_type": "code",
   "execution_count": 5,
   "metadata": {},
   "outputs": [],
   "source": [
    "### Exporting each state's loan application data into its own file\n",
    "\n",
    "# mo_frame.to_csv('./data/public_lar/missouri.csv')\n",
    "# il_frame.to_csv('./data/public_lar/illinois.csv')\n",
    "\n",
    "### Loading the public_lar files for Missouri and Illinois, adding each df to a list, and concatenating all frames \n",
    "### So there is one df for each state\n",
    "\n",
    "mo_filepath = ('./data/public_lar/mo/*.csv')\n",
    "il_filepath = ('./data/public_lar/il/*.csv')\n",
    "\n",
    "my_list_mo = []\n",
    "my_list_il = []\n",
    "\n",
    "final_mo = []\n",
    "final_il = []\n",
    "\n",
    "# for name in glob.glob(mo_filepath):\n",
    "    # my_list_mo.append(name)\n",
    "    \n",
    "# for name in glob.glob(il_filepath):\n",
    "    # my_list_il.append(name)\n",
    "\n",
    "# for file in my_list_mo:\n",
    "   # temp = pd.read_csv(file, engine='python')\n",
    "# final_mo.append(temp)\n",
    "\n",
    "# for file in my_list_il:\n",
    "    # temp = pd.read_csv(file, engine='python')\n",
    "# final_il.append(temp)\n",
    "\n",
    "# mo_frame = pd.read_csv('./data/public_lar/mo/missouri.csv', low_memory = False)\n",
    "# il_frame = pd.read_csv('./data/public_lar/il/illinois.csv', low_memory = False)"
   ]
  }
 ],
 "metadata": {
  "kernelspec": {
   "display_name": "Python 2",
   "language": "python",
   "name": "python2"
  },
  "language_info": {
   "codemirror_mode": {
    "name": "ipython",
    "version": 2
   },
   "file_extension": ".py",
   "mimetype": "text/x-python",
   "name": "python",
   "nbconvert_exporter": "python",
   "pygments_lexer": "ipython2",
   "version": "2.7.15"
  }
 },
 "nbformat": 4,
 "nbformat_minor": 2
}
