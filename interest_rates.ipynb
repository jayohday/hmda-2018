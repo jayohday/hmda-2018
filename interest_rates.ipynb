{
 "cells": [
  {
   "cell_type": "code",
   "execution_count": 1,
   "metadata": {},
   "outputs": [],
   "source": [
    "import pandas as pd\n",
    "import csv\n",
    "import glob\n",
    "import plotly.graph_objects as go\n",
    "import plotly_express as px\n",
    "import matplotlib as plt\n",
    "import warnings\n",
    "warnings.simplefilter(action='ignore', category=FutureWarning)"
   ]
  },
  {
   "cell_type": "code",
   "execution_count": 2,
   "metadata": {},
   "outputs": [],
   "source": [
    "df = pd.read_csv('metro_applications_2018.csv', low_memory=False)"
   ]
  },
  {
   "cell_type": "code",
   "execution_count": 3,
   "metadata": {},
   "outputs": [
    {
     "data": {
      "text/html": [
       "<div>\n",
       "<style scoped>\n",
       "    .dataframe tbody tr th:only-of-type {\n",
       "        vertical-align: middle;\n",
       "    }\n",
       "\n",
       "    .dataframe tbody tr th {\n",
       "        vertical-align: top;\n",
       "    }\n",
       "\n",
       "    .dataframe thead th {\n",
       "        text-align: right;\n",
       "    }\n",
       "</style>\n",
       "<table border=\"1\" class=\"dataframe\">\n",
       "  <thead>\n",
       "    <tr style=\"text-align: right;\">\n",
       "      <th></th>\n",
       "      <th>Unnamed: 0</th>\n",
       "      <th>Unnamed: 0.1</th>\n",
       "      <th>Unnamed: 0.1.1</th>\n",
       "      <th>activity_year</th>\n",
       "      <th>lei</th>\n",
       "      <th>derived_msa_md</th>\n",
       "      <th>state_code</th>\n",
       "      <th>county_code</th>\n",
       "      <th>census_tract</th>\n",
       "      <th>conforming_loan_limit</th>\n",
       "      <th>...</th>\n",
       "      <th>denial_reason_3</th>\n",
       "      <th>denial_reason_4</th>\n",
       "      <th>tract_population</th>\n",
       "      <th>tract_minority_population_percent</th>\n",
       "      <th>ffiec_msa_md_median_family_income</th>\n",
       "      <th>tract_to_msa_income_percentage</th>\n",
       "      <th>tract_owner_occupied_units</th>\n",
       "      <th>tract_one_to_four_family_homes</th>\n",
       "      <th>tract_median_age_of_housing_units</th>\n",
       "      <th>bank_name</th>\n",
       "    </tr>\n",
       "  </thead>\n",
       "  <tbody>\n",
       "    <tr>\n",
       "      <th>0</th>\n",
       "      <td>0</td>\n",
       "      <td>0</td>\n",
       "      <td>46</td>\n",
       "      <td>2018</td>\n",
       "      <td>549300X5Q6MWPDMY7065</td>\n",
       "      <td>41180</td>\n",
       "      <td>MO</td>\n",
       "      <td>29099.0</td>\n",
       "      <td>2.909970e+10</td>\n",
       "      <td>C</td>\n",
       "      <td>...</td>\n",
       "      <td>NaN</td>\n",
       "      <td>NaN</td>\n",
       "      <td>4395</td>\n",
       "      <td>3.55</td>\n",
       "      <td>76600</td>\n",
       "      <td>81</td>\n",
       "      <td>1343</td>\n",
       "      <td>1785</td>\n",
       "      <td>31</td>\n",
       "      <td>NaN</td>\n",
       "    </tr>\n",
       "    <tr>\n",
       "      <th>1</th>\n",
       "      <td>2</td>\n",
       "      <td>2</td>\n",
       "      <td>127</td>\n",
       "      <td>2018</td>\n",
       "      <td>549300X5Q6MWPDMY7065</td>\n",
       "      <td>41180</td>\n",
       "      <td>MO</td>\n",
       "      <td>29189.0</td>\n",
       "      <td>2.918921e+10</td>\n",
       "      <td>C</td>\n",
       "      <td>...</td>\n",
       "      <td>NaN</td>\n",
       "      <td>NaN</td>\n",
       "      <td>9786</td>\n",
       "      <td>87.36</td>\n",
       "      <td>76600</td>\n",
       "      <td>101</td>\n",
       "      <td>2517</td>\n",
       "      <td>3325</td>\n",
       "      <td>36</td>\n",
       "      <td>NaN</td>\n",
       "    </tr>\n",
       "    <tr>\n",
       "      <th>2</th>\n",
       "      <td>4</td>\n",
       "      <td>4</td>\n",
       "      <td>223</td>\n",
       "      <td>2018</td>\n",
       "      <td>549300X5Q6MWPDMY7065</td>\n",
       "      <td>41180</td>\n",
       "      <td>MO</td>\n",
       "      <td>29183.0</td>\n",
       "      <td>2.918331e+10</td>\n",
       "      <td>C</td>\n",
       "      <td>...</td>\n",
       "      <td>NaN</td>\n",
       "      <td>NaN</td>\n",
       "      <td>7818</td>\n",
       "      <td>5.96</td>\n",
       "      <td>76600</td>\n",
       "      <td>119</td>\n",
       "      <td>2410</td>\n",
       "      <td>2688</td>\n",
       "      <td>12</td>\n",
       "      <td>NaN</td>\n",
       "    </tr>\n",
       "    <tr>\n",
       "      <th>3</th>\n",
       "      <td>5</td>\n",
       "      <td>5</td>\n",
       "      <td>271</td>\n",
       "      <td>2018</td>\n",
       "      <td>549300X5Q6MWPDMY7065</td>\n",
       "      <td>41180</td>\n",
       "      <td>MO</td>\n",
       "      <td>29099.0</td>\n",
       "      <td>2.909970e+10</td>\n",
       "      <td>C</td>\n",
       "      <td>...</td>\n",
       "      <td>NaN</td>\n",
       "      <td>NaN</td>\n",
       "      <td>5968</td>\n",
       "      <td>6.90</td>\n",
       "      <td>76600</td>\n",
       "      <td>77</td>\n",
       "      <td>1604</td>\n",
       "      <td>2294</td>\n",
       "      <td>37</td>\n",
       "      <td>NaN</td>\n",
       "    </tr>\n",
       "    <tr>\n",
       "      <th>4</th>\n",
       "      <td>8</td>\n",
       "      <td>8</td>\n",
       "      <td>369</td>\n",
       "      <td>2018</td>\n",
       "      <td>549300X5Q6MWPDMY7065</td>\n",
       "      <td>41180</td>\n",
       "      <td>MO</td>\n",
       "      <td>29189.0</td>\n",
       "      <td>2.918921e+10</td>\n",
       "      <td>C</td>\n",
       "      <td>...</td>\n",
       "      <td>NaN</td>\n",
       "      <td>NaN</td>\n",
       "      <td>7784</td>\n",
       "      <td>93.41</td>\n",
       "      <td>76600</td>\n",
       "      <td>43</td>\n",
       "      <td>1733</td>\n",
       "      <td>3394</td>\n",
       "      <td>60</td>\n",
       "      <td>NaN</td>\n",
       "    </tr>\n",
       "  </tbody>\n",
       "</table>\n",
       "<p>5 rows × 103 columns</p>\n",
       "</div>"
      ],
      "text/plain": [
       "   Unnamed: 0  Unnamed: 0.1  Unnamed: 0.1.1  activity_year  \\\n",
       "0           0             0              46           2018   \n",
       "1           2             2             127           2018   \n",
       "2           4             4             223           2018   \n",
       "3           5             5             271           2018   \n",
       "4           8             8             369           2018   \n",
       "\n",
       "                    lei  derived_msa_md state_code  county_code  census_tract  \\\n",
       "0  549300X5Q6MWPDMY7065           41180         MO      29099.0  2.909970e+10   \n",
       "1  549300X5Q6MWPDMY7065           41180         MO      29189.0  2.918921e+10   \n",
       "2  549300X5Q6MWPDMY7065           41180         MO      29183.0  2.918331e+10   \n",
       "3  549300X5Q6MWPDMY7065           41180         MO      29099.0  2.909970e+10   \n",
       "4  549300X5Q6MWPDMY7065           41180         MO      29189.0  2.918921e+10   \n",
       "\n",
       "  conforming_loan_limit  ... denial_reason_3 denial_reason_4 tract_population  \\\n",
       "0                     C  ...             NaN             NaN             4395   \n",
       "1                     C  ...             NaN             NaN             9786   \n",
       "2                     C  ...             NaN             NaN             7818   \n",
       "3                     C  ...             NaN             NaN             5968   \n",
       "4                     C  ...             NaN             NaN             7784   \n",
       "\n",
       "  tract_minority_population_percent ffiec_msa_md_median_family_income  \\\n",
       "0                              3.55                             76600   \n",
       "1                             87.36                             76600   \n",
       "2                              5.96                             76600   \n",
       "3                              6.90                             76600   \n",
       "4                             93.41                             76600   \n",
       "\n",
       "   tract_to_msa_income_percentage  tract_owner_occupied_units  \\\n",
       "0                              81                        1343   \n",
       "1                             101                        2517   \n",
       "2                             119                        2410   \n",
       "3                              77                        1604   \n",
       "4                              43                        1733   \n",
       "\n",
       "   tract_one_to_four_family_homes  tract_median_age_of_housing_units  \\\n",
       "0                            1785                                 31   \n",
       "1                            3325                                 36   \n",
       "2                            2688                                 12   \n",
       "3                            2294                                 37   \n",
       "4                            3394                                 60   \n",
       "\n",
       "   bank_name  \n",
       "0        NaN  \n",
       "1        NaN  \n",
       "2        NaN  \n",
       "3        NaN  \n",
       "4        NaN  \n",
       "\n",
       "[5 rows x 103 columns]"
      ]
     },
     "execution_count": 3,
     "metadata": {},
     "output_type": "execute_result"
    }
   ],
   "source": [
    "df.head()"
   ]
  },
  {
   "cell_type": "code",
   "execution_count": 4,
   "metadata": {},
   "outputs": [
    {
     "data": {
      "text/plain": [
       "0         5.375\n",
       "1           NaN\n",
       "2           NaN\n",
       "3           NaN\n",
       "4           NaN\n",
       "5           NaN\n",
       "6           NaN\n",
       "7           NaN\n",
       "8           NaN\n",
       "9           NaN\n",
       "10          NaN\n",
       "11          NaN\n",
       "12          NaN\n",
       "13          NaN\n",
       "14          NaN\n",
       "15          NaN\n",
       "16          NaN\n",
       "17          NaN\n",
       "18        5.125\n",
       "19          NaN\n",
       "20          NaN\n",
       "21          NaN\n",
       "22          NaN\n",
       "23          NaN\n",
       "24          NaN\n",
       "25          NaN\n",
       "26          NaN\n",
       "27          NaN\n",
       "28          NaN\n",
       "29          NaN\n",
       "          ...  \n",
       "136846    5.125\n",
       "136847      NaN\n",
       "136848      NaN\n",
       "136849      NaN\n",
       "136850      NaN\n",
       "136851      NaN\n",
       "136852      NaN\n",
       "136853      NaN\n",
       "136854      NaN\n",
       "136855      NaN\n",
       "136856      NaN\n",
       "136857      NaN\n",
       "136858    5.625\n",
       "136859      NaN\n",
       "136860      NaN\n",
       "136861    5.875\n",
       "136862      NaN\n",
       "136863      NaN\n",
       "136864      NaN\n",
       "136865      NaN\n",
       "136866    4.500\n",
       "136867      NaN\n",
       "136868    4.625\n",
       "136869    4.625\n",
       "136870    4.750\n",
       "136871    4.375\n",
       "136872    4.750\n",
       "136873      NaN\n",
       "136874    4.625\n",
       "136875    4.000\n",
       "Name: interest_rate, Length: 136876, dtype: float64"
      ]
     },
     "execution_count": 4,
     "metadata": {},
     "output_type": "execute_result"
    }
   ],
   "source": [
    "pd.to_numeric(df['interest_rate'], errors='coerce')"
   ]
  },
  {
   "cell_type": "code",
   "execution_count": 5,
   "metadata": {},
   "outputs": [
    {
     "name": "stdout",
     "output_type": "stream",
     "text": [
      "<class 'pandas.core.frame.DataFrame'>\n",
      "RangeIndex: 136876 entries, 0 to 136875\n",
      "Columns: 103 entries, Unnamed: 0 to bank_name\n",
      "dtypes: float64(31), int64(44), object(28)\n",
      "memory usage: 107.6+ MB\n"
     ]
    }
   ],
   "source": [
    "df.info()"
   ]
  },
  {
   "cell_type": "code",
   "execution_count": 6,
   "metadata": {},
   "outputs": [],
   "source": [
    "df.dropna(subset = ['interest_rate'], inplace = True)"
   ]
  },
  {
   "cell_type": "code",
   "execution_count": 7,
   "metadata": {},
   "outputs": [],
   "source": [
    "df = df[df.interest_rate != 'Exempt']"
   ]
  },
  {
   "cell_type": "code",
   "execution_count": 8,
   "metadata": {},
   "outputs": [
    {
     "name": "stdout",
     "output_type": "stream",
     "text": [
      "0         5.375\n",
      "18        5.125\n",
      "41        4.875\n",
      "42        5.375\n",
      "43         5.75\n",
      "44          5.0\n",
      "56        4.875\n",
      "66        4.375\n",
      "67          4.5\n",
      "68        4.875\n",
      "70        5.625\n",
      "71        4.375\n",
      "72         4.25\n",
      "73        4.625\n",
      "76        4.875\n",
      "78         4.75\n",
      "79         3.75\n",
      "119        9.99\n",
      "127         6.0\n",
      "151         4.0\n",
      "152         4.0\n",
      "153         4.5\n",
      "154         5.5\n",
      "156        3.75\n",
      "157        3.75\n",
      "159        3.75\n",
      "161       4.125\n",
      "163       4.375\n",
      "164       3.875\n",
      "165       4.375\n",
      "          ...  \n",
      "136649    4.875\n",
      "136650    4.625\n",
      "136651     4.25\n",
      "136652    4.625\n",
      "136653    4.625\n",
      "136654    4.625\n",
      "136655    4.875\n",
      "136656    5.125\n",
      "136657    4.625\n",
      "136659    4.375\n",
      "136663    4.875\n",
      "136679      5.5\n",
      "136701      5.0\n",
      "136750    5.875\n",
      "136780     5.25\n",
      "136794      5.5\n",
      "136804    4.875\n",
      "136823     4.75\n",
      "136832    4.875\n",
      "136846    5.125\n",
      "136858    5.625\n",
      "136861    5.875\n",
      "136866      4.5\n",
      "136868    4.625\n",
      "136869    4.625\n",
      "136870     4.75\n",
      "136871    4.375\n",
      "136872     4.75\n",
      "136874    4.625\n",
      "136875      4.0\n",
      "Name: interest_rate, Length: 94033, dtype: object\n"
     ]
    }
   ],
   "source": [
    "print df['interest_rate']"
   ]
  },
  {
   "cell_type": "code",
   "execution_count": 9,
   "metadata": {},
   "outputs": [],
   "source": [
    "df['interest_rate'] = pd.to_numeric(df['interest_rate'], errors='coerce')"
   ]
  },
  {
   "cell_type": "code",
   "execution_count": 10,
   "metadata": {},
   "outputs": [
    {
     "data": {
      "text/plain": [
       "(-40.375, 8075.001]      94031\n",
       "(32300.0, 40375.0]           2\n",
       "(24225.0, 32300.0]           0\n",
       "(16150.001, 24225.0]         0\n",
       "(8075.001, 16150.001]        0\n",
       "Name: interest_rate, dtype: int64"
      ]
     },
     "execution_count": 10,
     "metadata": {},
     "output_type": "execute_result"
    }
   ],
   "source": [
    "df['interest_rate'].value_counts(bins=5)"
   ]
  },
  {
   "cell_type": "code",
   "execution_count": 11,
   "metadata": {},
   "outputs": [],
   "source": [
    "df = df[df.interest_rate <= 16]"
   ]
  },
  {
   "cell_type": "code",
   "execution_count": 12,
   "metadata": {},
   "outputs": [
    {
     "data": {
      "text/plain": [
       "(3.201, 6.401]     89378\n",
       "(6.401, 9.6]        2237\n",
       "(-0.016, 3.201]     2140\n",
       "(9.6, 12.8]          248\n",
       "(12.8, 16.0]          11\n",
       "Name: interest_rate, dtype: int64"
      ]
     },
     "execution_count": 12,
     "metadata": {},
     "output_type": "execute_result"
    }
   ],
   "source": [
    "df['interest_rate'].value_counts(bins=5)"
   ]
  },
  {
   "cell_type": "code",
   "execution_count": 13,
   "metadata": {},
   "outputs": [],
   "source": [
    "bins = [-.016, 3.201, 6.401, 9.6, 12.8, 16]\n",
    "labels = [\"-.016 to 3.201\", \"3.201 to 6.401\", \"6.401 to 9.6\", \"9.6 to 12.18\", \"12.8 to 16\"]"
   ]
  },
  {
   "cell_type": "code",
   "execution_count": 14,
   "metadata": {},
   "outputs": [],
   "source": [
    "df['binned'] = pd.cut(df['interest_rate'], bins=bins, labels=labels)"
   ]
  },
  {
   "cell_type": "code",
   "execution_count": 19,
   "metadata": {},
   "outputs": [],
   "source": [
    "x = df.groupby(['census_tract', pd.cut(df.interest_rate, 5)]).size().unstack()"
   ]
  },
  {
   "cell_type": "code",
   "execution_count": 21,
   "metadata": {},
   "outputs": [],
   "source": [
    "x.to_csv('ctracts.csv')"
   ]
  },
  {
   "cell_type": "code",
   "execution_count": null,
   "metadata": {},
   "outputs": [],
   "source": []
  }
 ],
 "metadata": {
  "kernelspec": {
   "display_name": "Python 2",
   "language": "python",
   "name": "python2"
  },
  "language_info": {
   "codemirror_mode": {
    "name": "ipython",
    "version": 2
   },
   "file_extension": ".py",
   "mimetype": "text/x-python",
   "name": "python",
   "nbconvert_exporter": "python",
   "pygments_lexer": "ipython2",
   "version": "2.7.15"
  }
 },
 "nbformat": 4,
 "nbformat_minor": 2
}
